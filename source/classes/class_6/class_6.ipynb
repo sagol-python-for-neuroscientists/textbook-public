{
 "cells": [
  {
   "cell_type": "markdown",
   "metadata": {},
   "source": [
    "# Class 6: Advanced `pandas`"
   ]
  },
  {
   "cell_type": "markdown",
   "metadata": {},
   "source": [
    "Currently, `pandas`' `Series` and `DataFrame` might seem to us as no more than tables with complicated indexing methods. In this lesson, we will learn more about what makes `pandas` so powerful and how we can use it to write efficient and readable code."
   ]
  },
  {
   "cell_type": "markdown",
   "metadata": {},
   "source": [
    "````{note}\n",
    "Some of the features described below only work with pandas >= 1.0.0. Make sure you have the latest pandas installation when running this notebook. To check the version of your pandas (or any other package), import it and print its `__version__` attribute:\n",
    "```python\n",
    ">>> import pandas as pd\n",
    ">>> print(pd.__version__)\n",
    "'2.2.3'\n",
    "```\n",
    "````"
   ]
  },
  {
   "cell_type": "markdown",
   "metadata": {},
   "source": [
    "## Missing Data"
   ]
  },
  {
   "cell_type": "markdown",
   "metadata": {},
   "source": [
    "<div style=\"text-align:center\"><img src=\"https://static.wikia.nocookie.net/lostpedia/images/1/16/Lost-season1.jpg/revision/latest/scale-to-width-down/300?cb=20070303221754\" /></div>"
   ]
  },
  {
   "cell_type": "markdown",
   "metadata": {},
   "source": [
    "The last question in the previous class pointed us to [working with missing data](https://pandas.pydata.org/pandas-docs/stable/user_guide/missing_data.html). But how and why do missing data occur?\n",
    "\n",
    "One option is pandas' index alignment, the property that makes sure that each value will have the same index throughout the entire computation process."
   ]
  },
  {
   "cell_type": "code",
   "execution_count": 1,
   "metadata": {},
   "outputs": [
    {
     "data": {
      "text/plain": [
       "0    NaN\n",
       "1    5.0\n",
       "2    9.0\n",
       "3    NaN\n",
       "dtype: float64"
      ]
     },
     "execution_count": 1,
     "metadata": {},
     "output_type": "execute_result"
    }
   ],
   "source": [
    "import pandas as pd\n",
    "import numpy as np\n",
    "\n",
    "\n",
    "A = pd.Series([2, 4, 6], index=[0, 1, 2])\n",
    "B = pd.Series([1, 3, 5], index=[1, 2, 3])\n",
    "A + B"
   ]
  },
  {
   "cell_type": "markdown",
   "metadata": {},
   "source": [
    "The NaNs we have are what we call missing data, and this is how they are represented in pandas. We'll discuss that in more detail in a few moments.\n",
    "\n",
    "The same thing occurs with DataFrames:"
   ]
  },
  {
   "cell_type": "code",
   "execution_count": 2,
   "metadata": {},
   "outputs": [
    {
     "data": {
      "application/vnd.microsoft.datawrangler.viewer.v0+json": {
       "columns": [
        {
         "name": "index",
         "rawType": "int64",
         "type": "integer"
        },
        {
         "name": "A",
         "rawType": "int64",
         "type": "integer"
        },
        {
         "name": "B",
         "rawType": "int64",
         "type": "integer"
        }
       ],
       "conversionMethod": "pd.DataFrame",
       "ref": "2b964849-e648-4681-9642-7a560fca1836",
       "rows": [
        [
         "0",
         "9",
         "11"
        ],
        [
         "1",
         "11",
         "9"
        ]
       ],
       "shape": {
        "columns": 2,
        "rows": 2
       }
      },
      "text/html": [
       "<div>\n",
       "<style scoped>\n",
       "    .dataframe tbody tr th:only-of-type {\n",
       "        vertical-align: middle;\n",
       "    }\n",
       "\n",
       "    .dataframe tbody tr th {\n",
       "        vertical-align: top;\n",
       "    }\n",
       "\n",
       "    .dataframe thead th {\n",
       "        text-align: right;\n",
       "    }\n",
       "</style>\n",
       "<table border=\"1\" class=\"dataframe\">\n",
       "  <thead>\n",
       "    <tr style=\"text-align: right;\">\n",
       "      <th></th>\n",
       "      <th>A</th>\n",
       "      <th>B</th>\n",
       "    </tr>\n",
       "  </thead>\n",
       "  <tbody>\n",
       "    <tr>\n",
       "      <th>0</th>\n",
       "      <td>9</td>\n",
       "      <td>11</td>\n",
       "    </tr>\n",
       "    <tr>\n",
       "      <th>1</th>\n",
       "      <td>11</td>\n",
       "      <td>9</td>\n",
       "    </tr>\n",
       "  </tbody>\n",
       "</table>\n",
       "</div>"
      ],
      "text/plain": [
       "    A   B\n",
       "0   9  11\n",
       "1  11   9"
      ]
     },
     "execution_count": 2,
     "metadata": {},
     "output_type": "execute_result"
    }
   ],
   "source": [
    "A = pd.DataFrame(np.random.randint(0, 20, (2, 2)),\n",
    "                 columns=list('AB'))\n",
    "A"
   ]
  },
  {
   "cell_type": "code",
   "execution_count": 3,
   "metadata": {},
   "outputs": [
    {
     "data": {
      "application/vnd.microsoft.datawrangler.viewer.v0+json": {
       "columns": [
        {
         "name": "index",
         "rawType": "int64",
         "type": "integer"
        },
        {
         "name": "B",
         "rawType": "int64",
         "type": "integer"
        },
        {
         "name": "A",
         "rawType": "int64",
         "type": "integer"
        },
        {
         "name": "C",
         "rawType": "int64",
         "type": "integer"
        }
       ],
       "conversionMethod": "pd.DataFrame",
       "ref": "5e464d72-2c88-473f-a955-d8b87df50adf",
       "rows": [
        [
         "0",
         "7",
         "8",
         "7"
        ],
        [
         "1",
         "6",
         "1",
         "5"
        ],
        [
         "2",
         "3",
         "1",
         "1"
        ]
       ],
       "shape": {
        "columns": 3,
        "rows": 3
       }
      },
      "text/html": [
       "<div>\n",
       "<style scoped>\n",
       "    .dataframe tbody tr th:only-of-type {\n",
       "        vertical-align: middle;\n",
       "    }\n",
       "\n",
       "    .dataframe tbody tr th {\n",
       "        vertical-align: top;\n",
       "    }\n",
       "\n",
       "    .dataframe thead th {\n",
       "        text-align: right;\n",
       "    }\n",
       "</style>\n",
       "<table border=\"1\" class=\"dataframe\">\n",
       "  <thead>\n",
       "    <tr style=\"text-align: right;\">\n",
       "      <th></th>\n",
       "      <th>B</th>\n",
       "      <th>A</th>\n",
       "      <th>C</th>\n",
       "    </tr>\n",
       "  </thead>\n",
       "  <tbody>\n",
       "    <tr>\n",
       "      <th>0</th>\n",
       "      <td>7</td>\n",
       "      <td>8</td>\n",
       "      <td>7</td>\n",
       "    </tr>\n",
       "    <tr>\n",
       "      <th>1</th>\n",
       "      <td>6</td>\n",
       "      <td>1</td>\n",
       "      <td>5</td>\n",
       "    </tr>\n",
       "    <tr>\n",
       "      <th>2</th>\n",
       "      <td>3</td>\n",
       "      <td>1</td>\n",
       "      <td>1</td>\n",
       "    </tr>\n",
       "  </tbody>\n",
       "</table>\n",
       "</div>"
      ],
      "text/plain": [
       "   B  A  C\n",
       "0  7  8  7\n",
       "1  6  1  5\n",
       "2  3  1  1"
      ]
     },
     "execution_count": 3,
     "metadata": {},
     "output_type": "execute_result"
    }
   ],
   "source": [
    "B = pd.DataFrame(np.random.randint(0, 10, (3, 3)),\n",
    "                 columns=list('BAC'))\n",
    "B"
   ]
  },
  {
   "cell_type": "code",
   "execution_count": 4,
   "metadata": {},
   "outputs": [
    {
     "name": "stdout",
     "output_type": "stream",
     "text": [
      "      A     B   C\n",
      "0  17.0  18.0 NaN\n",
      "1  12.0  15.0 NaN\n",
      "2   NaN   NaN NaN\n",
      "\n",
      "Returned dtypes:\n",
      "A    float64\n",
      "B    float64\n",
      "C    float64\n",
      "dtype: object\n"
     ]
    }
   ],
   "source": [
    "new = A + B\n",
    "print(new)\n",
    "print(f\"\\nReturned dtypes:\\n{new.dtypes}\")"
   ]
  },
  {
   "cell_type": "markdown",
   "metadata": {},
   "source": [
    "```{note}\n",
    "Note how `new.dtypes` itself returns a `Series` of dtypes, with it's own `object` dtype.\n",
    "```"
   ]
  },
  {
   "cell_type": "markdown",
   "metadata": {},
   "source": [
    "The dataframe's shape is the shape of the larger dataframe, and the \"extra\" row (index 2) was filled with NaNs. Since we have NaNs, the data type of the column is implicitly converted to a floating point type. To have integer dataframes with NaNs, we have to explicitly say we want them available. More on that later."
   ]
  },
  {
   "cell_type": "markdown",
   "metadata": {},
   "source": [
    "Another way to introduce missing data is through reindexing. If we \"resample\" our data we can achieve the following:"
   ]
  },
  {
   "cell_type": "code",
   "execution_count": 5,
   "metadata": {},
   "outputs": [
    {
     "data": {
      "application/vnd.microsoft.datawrangler.viewer.v0+json": {
       "columns": [
        {
         "name": "index",
         "rawType": "object",
         "type": "string"
        },
        {
         "name": "one",
         "rawType": "float64",
         "type": "float"
        },
        {
         "name": "two",
         "rawType": "float64",
         "type": "float"
        },
        {
         "name": "three",
         "rawType": "float64",
         "type": "float"
        }
       ],
       "conversionMethod": "pd.DataFrame",
       "ref": "27c3a574-0665-4f26-95ed-7ac874d25273",
       "rows": [
        [
         "a",
         "-0.7387394806296975",
         "1.6393436278189273",
         "0.6336904970352104"
        ],
        [
         "c",
         "-1.4512432705333271",
         "-1.1266930074267223",
         "-1.093035942853303"
        ],
        [
         "e",
         "-0.3435533583189768",
         "-0.5303442635328413",
         "1.0385956997585883"
        ],
        [
         "f",
         "0.13508750459066904",
         "0.3938021906997388",
         "0.36875899688461194"
        ],
        [
         "h",
         "0.7927371632428868",
         "1.2089976498967299",
         "1.494569879193284"
        ]
       ],
       "shape": {
        "columns": 3,
        "rows": 5
       }
      },
      "text/html": [
       "<div>\n",
       "<style scoped>\n",
       "    .dataframe tbody tr th:only-of-type {\n",
       "        vertical-align: middle;\n",
       "    }\n",
       "\n",
       "    .dataframe tbody tr th {\n",
       "        vertical-align: top;\n",
       "    }\n",
       "\n",
       "    .dataframe thead th {\n",
       "        text-align: right;\n",
       "    }\n",
       "</style>\n",
       "<table border=\"1\" class=\"dataframe\">\n",
       "  <thead>\n",
       "    <tr style=\"text-align: right;\">\n",
       "      <th></th>\n",
       "      <th>one</th>\n",
       "      <th>two</th>\n",
       "      <th>three</th>\n",
       "    </tr>\n",
       "  </thead>\n",
       "  <tbody>\n",
       "    <tr>\n",
       "      <th>a</th>\n",
       "      <td>-0.738739</td>\n",
       "      <td>1.639344</td>\n",
       "      <td>0.633690</td>\n",
       "    </tr>\n",
       "    <tr>\n",
       "      <th>c</th>\n",
       "      <td>-1.451243</td>\n",
       "      <td>-1.126693</td>\n",
       "      <td>-1.093036</td>\n",
       "    </tr>\n",
       "    <tr>\n",
       "      <th>e</th>\n",
       "      <td>-0.343553</td>\n",
       "      <td>-0.530344</td>\n",
       "      <td>1.038596</td>\n",
       "    </tr>\n",
       "    <tr>\n",
       "      <th>f</th>\n",
       "      <td>0.135088</td>\n",
       "      <td>0.393802</td>\n",
       "      <td>0.368759</td>\n",
       "    </tr>\n",
       "    <tr>\n",
       "      <th>h</th>\n",
       "      <td>0.792737</td>\n",
       "      <td>1.208998</td>\n",
       "      <td>1.494570</td>\n",
       "    </tr>\n",
       "  </tbody>\n",
       "</table>\n",
       "</div>"
      ],
      "text/plain": [
       "        one       two     three\n",
       "a -0.738739  1.639344  0.633690\n",
       "c -1.451243 -1.126693 -1.093036\n",
       "e -0.343553 -0.530344  1.038596\n",
       "f  0.135088  0.393802  0.368759\n",
       "h  0.792737  1.208998  1.494570"
      ]
     },
     "execution_count": 5,
     "metadata": {},
     "output_type": "execute_result"
    }
   ],
   "source": [
    "df = pd.DataFrame(np.random.randn(5, 3), index=['a', 'c', 'e', 'f', 'h'],\n",
    "                  columns=['one', 'two', 'three'])\n",
    "df"
   ]
  },
  {
   "cell_type": "code",
   "execution_count": 6,
   "metadata": {},
   "outputs": [
    {
     "data": {
      "application/vnd.microsoft.datawrangler.viewer.v0+json": {
       "columns": [
        {
         "name": "index",
         "rawType": "object",
         "type": "string"
        },
        {
         "name": "one",
         "rawType": "float64",
         "type": "float"
        },
        {
         "name": "two",
         "rawType": "float64",
         "type": "float"
        },
        {
         "name": "three",
         "rawType": "float64",
         "type": "float"
        }
       ],
       "conversionMethod": "pd.DataFrame",
       "ref": "c5a88c38-d323-418a-b8c6-966beaa559dc",
       "rows": [
        [
         "a",
         "-0.7387394806296975",
         "1.6393436278189273",
         "0.6336904970352104"
        ],
        [
         "b",
         null,
         null,
         null
        ],
        [
         "c",
         "-1.4512432705333271",
         "-1.1266930074267223",
         "-1.093035942853303"
        ],
        [
         "d",
         null,
         null,
         null
        ],
        [
         "e",
         "-0.3435533583189768",
         "-0.5303442635328413",
         "1.0385956997585883"
        ],
        [
         "f",
         "0.13508750459066904",
         "0.3938021906997388",
         "0.36875899688461194"
        ],
        [
         "g",
         null,
         null,
         null
        ],
        [
         "h",
         "0.7927371632428868",
         "1.2089976498967299",
         "1.494569879193284"
        ]
       ],
       "shape": {
        "columns": 3,
        "rows": 8
       }
      },
      "text/html": [
       "<div>\n",
       "<style scoped>\n",
       "    .dataframe tbody tr th:only-of-type {\n",
       "        vertical-align: middle;\n",
       "    }\n",
       "\n",
       "    .dataframe tbody tr th {\n",
       "        vertical-align: top;\n",
       "    }\n",
       "\n",
       "    .dataframe thead th {\n",
       "        text-align: right;\n",
       "    }\n",
       "</style>\n",
       "<table border=\"1\" class=\"dataframe\">\n",
       "  <thead>\n",
       "    <tr style=\"text-align: right;\">\n",
       "      <th></th>\n",
       "      <th>one</th>\n",
       "      <th>two</th>\n",
       "      <th>three</th>\n",
       "    </tr>\n",
       "  </thead>\n",
       "  <tbody>\n",
       "    <tr>\n",
       "      <th>a</th>\n",
       "      <td>-0.738739</td>\n",
       "      <td>1.639344</td>\n",
       "      <td>0.633690</td>\n",
       "    </tr>\n",
       "    <tr>\n",
       "      <th>b</th>\n",
       "      <td>NaN</td>\n",
       "      <td>NaN</td>\n",
       "      <td>NaN</td>\n",
       "    </tr>\n",
       "    <tr>\n",
       "      <th>c</th>\n",
       "      <td>-1.451243</td>\n",
       "      <td>-1.126693</td>\n",
       "      <td>-1.093036</td>\n",
       "    </tr>\n",
       "    <tr>\n",
       "      <th>d</th>\n",
       "      <td>NaN</td>\n",
       "      <td>NaN</td>\n",
       "      <td>NaN</td>\n",
       "    </tr>\n",
       "    <tr>\n",
       "      <th>e</th>\n",
       "      <td>-0.343553</td>\n",
       "      <td>-0.530344</td>\n",
       "      <td>1.038596</td>\n",
       "    </tr>\n",
       "    <tr>\n",
       "      <th>f</th>\n",
       "      <td>0.135088</td>\n",
       "      <td>0.393802</td>\n",
       "      <td>0.368759</td>\n",
       "    </tr>\n",
       "    <tr>\n",
       "      <th>g</th>\n",
       "      <td>NaN</td>\n",
       "      <td>NaN</td>\n",
       "      <td>NaN</td>\n",
       "    </tr>\n",
       "    <tr>\n",
       "      <th>h</th>\n",
       "      <td>0.792737</td>\n",
       "      <td>1.208998</td>\n",
       "      <td>1.494570</td>\n",
       "    </tr>\n",
       "  </tbody>\n",
       "</table>\n",
       "</div>"
      ],
      "text/plain": [
       "        one       two     three\n",
       "a -0.738739  1.639344  0.633690\n",
       "b       NaN       NaN       NaN\n",
       "c -1.451243 -1.126693 -1.093036\n",
       "d       NaN       NaN       NaN\n",
       "e -0.343553 -0.530344  1.038596\n",
       "f  0.135088  0.393802  0.368759\n",
       "g       NaN       NaN       NaN\n",
       "h  0.792737  1.208998  1.494570"
      ]
     },
     "execution_count": 6,
     "metadata": {},
     "output_type": "execute_result"
    }
   ],
   "source": [
    "df2 = df.reindex(['a', 'b', 'c', 'd', 'e', 'f', 'g', 'h'])\n",
    "df2"
   ]
  },
  {
   "cell_type": "markdown",
   "metadata": {},
   "source": [
    "But what is `NaN`? Is it the same as `None`? To better answer the former, let's first have a closer look at the latter."
   ]
  },
  {
   "cell_type": "markdown",
   "metadata": {},
   "source": [
    "### The `None` object"
   ]
  },
  {
   "cell_type": "markdown",
   "metadata": {},
   "source": [
    "`None` is the standard null value in Python, and is used extensively in normal usage of the language. For example, functions that don't have a `return` statement, implicitly return `None`. While `None` can be used as a missing data type, it's probably not the best choice."
   ]
  },
  {
   "cell_type": "code",
   "execution_count": 7,
   "metadata": {},
   "outputs": [
    {
     "data": {
      "text/plain": [
       "array([1, None, 3, 4], dtype=object)"
      ]
     },
     "execution_count": 7,
     "metadata": {},
     "output_type": "execute_result"
    }
   ],
   "source": [
    "vals1 = np.array([1, None, 3, 4])\n",
    "vals1"
   ]
  },
  {
   "cell_type": "markdown",
   "metadata": {},
   "source": [
    "The `dtype` is `object`, because the best common type of `int`s and a `None` is a Python `object`. This slows down computation time on these arrays:"
   ]
  },
  {
   "cell_type": "code",
   "execution_count": 8,
   "metadata": {
    "scrolled": false
   },
   "outputs": [
    {
     "name": "stdout",
     "output_type": "stream",
     "text": [
      "dtype = object\n",
      "40.6 ms ± 1.76 ms per loop (mean ± std. dev. of 7 runs, 10 loops each)\n",
      "\n",
      "dtype = int\n",
      "343 μs ± 10.7 μs per loop (mean ± std. dev. of 7 runs, 1,000 loops each)\n",
      "\n"
     ]
    }
   ],
   "source": [
    "for dtype in ['object', 'int']:\n",
    "    print(\"dtype =\", dtype)\n",
    "    %timeit np.arange(1E6, dtype=dtype).sum()\n",
    "    print()"
   ]
  },
  {
   "cell_type": "markdown",
   "metadata": {},
   "source": [
    "If you recall from a couple of lessons ago, the performance of `object` arrays is very similar to that of standard lists (generally speaking, the two data structures are effectively identical)."
   ]
  },
  {
   "cell_type": "markdown",
   "metadata": {},
   "source": [
    "Another thing we can't do is aggregation:"
   ]
  },
  {
   "cell_type": "code",
   "execution_count": 9,
   "metadata": {},
   "outputs": [
    {
     "ename": "TypeError",
     "evalue": "unsupported operand type(s) for +: 'int' and 'NoneType'",
     "output_type": "error",
     "traceback": [
      "\u001b[31m---------------------------------------------------------------------------\u001b[39m",
      "\u001b[31mTypeError\u001b[39m                                 Traceback (most recent call last)",
      "\u001b[36mCell\u001b[39m\u001b[36m \u001b[39m\u001b[32mIn[9]\u001b[39m\u001b[32m, line 1\u001b[39m\n\u001b[32m----> \u001b[39m\u001b[32m1\u001b[39m \u001b[43mvals1\u001b[49m\u001b[43m.\u001b[49m\u001b[43msum\u001b[49m\u001b[43m(\u001b[49m\u001b[43m)\u001b[49m\n",
      "\u001b[36mFile \u001b[39m\u001b[32m~/Projects/courses/python_for_neuroscientists/textbook-public/venv/lib/python3.11/site-packages/numpy/_core/_methods.py:53\u001b[39m, in \u001b[36m_sum\u001b[39m\u001b[34m(a, axis, dtype, out, keepdims, initial, where)\u001b[39m\n\u001b[32m     51\u001b[39m \u001b[38;5;28;01mdef\u001b[39;00m\u001b[38;5;250m \u001b[39m\u001b[34m_sum\u001b[39m(a, axis=\u001b[38;5;28;01mNone\u001b[39;00m, dtype=\u001b[38;5;28;01mNone\u001b[39;00m, out=\u001b[38;5;28;01mNone\u001b[39;00m, keepdims=\u001b[38;5;28;01mFalse\u001b[39;00m,\n\u001b[32m     52\u001b[39m          initial=_NoValue, where=\u001b[38;5;28;01mTrue\u001b[39;00m):\n\u001b[32m---> \u001b[39m\u001b[32m53\u001b[39m     \u001b[38;5;28;01mreturn\u001b[39;00m umr_sum(a, axis, dtype, out, keepdims, initial, where)\n",
      "\u001b[31mTypeError\u001b[39m: unsupported operand type(s) for +: 'int' and 'NoneType'"
     ]
    }
   ],
   "source": [
    "vals1.sum()"
   ]
  },
  {
   "cell_type": "markdown",
   "metadata": {},
   "source": [
    "### The `NaN` value"
   ]
  },
  {
   "cell_type": "markdown",
   "metadata": {},
   "source": [
    "`NaN` is a special floating-point value recognized by all programming languages that conform to the IEEE standard (which means most of them). As we mentioned before, it forces the entire array to have a floating point type:"
   ]
  },
  {
   "cell_type": "code",
   "execution_count": 10,
   "metadata": {},
   "outputs": [
    {
     "data": {
      "text/plain": [
       "dtype('float64')"
      ]
     },
     "execution_count": 10,
     "metadata": {},
     "output_type": "execute_result"
    }
   ],
   "source": [
    "vals2 = np.array([1, np.nan, 3, 4])\n",
    "vals2.dtype"
   ]
  },
  {
   "cell_type": "markdown",
   "metadata": {},
   "source": [
    "Creating floating point arrays is very fast, so performance isn't hindered. NaN is sometimes described as a \"data virus\", since it infects objects it touches:"
   ]
  },
  {
   "cell_type": "code",
   "execution_count": 11,
   "metadata": {},
   "outputs": [
    {
     "data": {
      "text/plain": [
       "nan"
      ]
     },
     "execution_count": 11,
     "metadata": {},
     "output_type": "execute_result"
    }
   ],
   "source": [
    "1 + np.nan"
   ]
  },
  {
   "cell_type": "code",
   "execution_count": 12,
   "metadata": {},
   "outputs": [
    {
     "data": {
      "text/plain": [
       "nan"
      ]
     },
     "execution_count": 12,
     "metadata": {},
     "output_type": "execute_result"
    }
   ],
   "source": [
    "0 * np.nan"
   ]
  },
  {
   "cell_type": "code",
   "execution_count": 13,
   "metadata": {},
   "outputs": [
    {
     "data": {
      "text/plain": [
       "(np.float64(nan), np.float64(nan), np.float64(nan))"
      ]
     },
     "execution_count": 13,
     "metadata": {},
     "output_type": "execute_result"
    }
   ],
   "source": [
    "vals2.sum(), vals2.min(), vals2.max()"
   ]
  },
  {
   "cell_type": "code",
   "execution_count": 14,
   "metadata": {},
   "outputs": [
    {
     "data": {
      "text/plain": [
       "False"
      ]
     },
     "execution_count": 14,
     "metadata": {},
     "output_type": "execute_result"
    }
   ],
   "source": [
    "np.nan == np.nan"
   ]
  },
  {
   "cell_type": "markdown",
   "metadata": {},
   "source": [
    "Numpy has `nan`-aware counterparts to many of its aggregation functions, which can work with NaNs correctly. They usually have the same name as their non-NaN sibling, but with the \"nan\" prefix:"
   ]
  },
  {
   "cell_type": "code",
   "execution_count": 15,
   "metadata": {},
   "outputs": [
    {
     "name": "stdout",
     "output_type": "stream",
     "text": [
      "8.0\n",
      "2.6666666666666665\n"
     ]
    }
   ],
   "source": [
    "print(np.nansum(vals2))\n",
    "print(np.nanmean(vals2))"
   ]
  },
  {
   "cell_type": "markdown",
   "metadata": {},
   "source": [
    "However, pandas objects account for NaNs in their calculations, as we'll soon see.\n",
    "\n",
    "Pandas can handle both `NaN` and `None` interchangeably:"
   ]
  },
  {
   "cell_type": "code",
   "execution_count": 16,
   "metadata": {},
   "outputs": [
    {
     "data": {
      "text/plain": [
       "0    1.0\n",
       "1    NaN\n",
       "2    2.0\n",
       "3    NaN\n",
       "dtype: float64"
      ]
     },
     "execution_count": 16,
     "metadata": {},
     "output_type": "execute_result"
    }
   ],
   "source": [
    "ser = pd.Series([1, np.nan, 2, None])\n",
    "ser"
   ]
  },
  {
   "cell_type": "markdown",
   "metadata": {},
   "source": [
    "### The `NaT` value\n"
   ]
  },
  {
   "cell_type": "markdown",
   "metadata": {},
   "source": [
    "When dealing with datetime values or indices, the missing value is represented as `NaT`, or not-a-time:\n",
    "<div style=\"text-align:center\"><img src=\"https://149366099.v2.pressablecdn.com/wp-content/uploads/2014/10/What-is-time.png\" /></div>"
   ]
  },
  {
   "cell_type": "code",
   "execution_count": 17,
   "metadata": {},
   "outputs": [
    {
     "data": {
      "application/vnd.microsoft.datawrangler.viewer.v0+json": {
       "columns": [
        {
         "name": "index",
         "rawType": "object",
         "type": "string"
        },
        {
         "name": "one",
         "rawType": "float64",
         "type": "float"
        },
        {
         "name": "two",
         "rawType": "float64",
         "type": "float"
        },
        {
         "name": "three",
         "rawType": "float64",
         "type": "float"
        },
        {
         "name": "timestamp",
         "rawType": "datetime64[s]",
         "type": "unknown"
        }
       ],
       "conversionMethod": "pd.DataFrame",
       "ref": "cb99ebf0-3222-4da4-a1db-fef8ecc558d3",
       "rows": [
        [
         "a",
         "-0.7387394806296975",
         "1.6393436278189273",
         "0.6336904970352104",
         "2018-01-01 00:00:00"
        ],
        [
         "c",
         "-1.4512432705333271",
         "-1.1266930074267223",
         "-1.093035942853303",
         "2018-01-01 00:00:00"
        ],
        [
         "e",
         "-0.3435533583189768",
         "-0.5303442635328413",
         "1.0385956997585883",
         "2018-01-01 00:00:00"
        ],
        [
         "f",
         "0.13508750459066904",
         "0.3938021906997388",
         "0.36875899688461194",
         "2018-01-01 00:00:00"
        ],
        [
         "h",
         "0.7927371632428868",
         "1.2089976498967299",
         "1.494569879193284",
         "2018-01-01 00:00:00"
        ]
       ],
       "shape": {
        "columns": 4,
        "rows": 5
       }
      },
      "text/html": [
       "<div>\n",
       "<style scoped>\n",
       "    .dataframe tbody tr th:only-of-type {\n",
       "        vertical-align: middle;\n",
       "    }\n",
       "\n",
       "    .dataframe tbody tr th {\n",
       "        vertical-align: top;\n",
       "    }\n",
       "\n",
       "    .dataframe thead th {\n",
       "        text-align: right;\n",
       "    }\n",
       "</style>\n",
       "<table border=\"1\" class=\"dataframe\">\n",
       "  <thead>\n",
       "    <tr style=\"text-align: right;\">\n",
       "      <th></th>\n",
       "      <th>one</th>\n",
       "      <th>two</th>\n",
       "      <th>three</th>\n",
       "      <th>timestamp</th>\n",
       "    </tr>\n",
       "  </thead>\n",
       "  <tbody>\n",
       "    <tr>\n",
       "      <th>a</th>\n",
       "      <td>-0.738739</td>\n",
       "      <td>1.639344</td>\n",
       "      <td>0.633690</td>\n",
       "      <td>2018-01-01</td>\n",
       "    </tr>\n",
       "    <tr>\n",
       "      <th>c</th>\n",
       "      <td>-1.451243</td>\n",
       "      <td>-1.126693</td>\n",
       "      <td>-1.093036</td>\n",
       "      <td>2018-01-01</td>\n",
       "    </tr>\n",
       "    <tr>\n",
       "      <th>e</th>\n",
       "      <td>-0.343553</td>\n",
       "      <td>-0.530344</td>\n",
       "      <td>1.038596</td>\n",
       "      <td>2018-01-01</td>\n",
       "    </tr>\n",
       "    <tr>\n",
       "      <th>f</th>\n",
       "      <td>0.135088</td>\n",
       "      <td>0.393802</td>\n",
       "      <td>0.368759</td>\n",
       "      <td>2018-01-01</td>\n",
       "    </tr>\n",
       "    <tr>\n",
       "      <th>h</th>\n",
       "      <td>0.792737</td>\n",
       "      <td>1.208998</td>\n",
       "      <td>1.494570</td>\n",
       "      <td>2018-01-01</td>\n",
       "    </tr>\n",
       "  </tbody>\n",
       "</table>\n",
       "</div>"
      ],
      "text/plain": [
       "        one       two     three  timestamp\n",
       "a -0.738739  1.639344  0.633690 2018-01-01\n",
       "c -1.451243 -1.126693 -1.093036 2018-01-01\n",
       "e -0.343553 -0.530344  1.038596 2018-01-01\n",
       "f  0.135088  0.393802  0.368759 2018-01-01\n",
       "h  0.792737  1.208998  1.494570 2018-01-01"
      ]
     },
     "execution_count": 17,
     "metadata": {},
     "output_type": "execute_result"
    }
   ],
   "source": [
    "df['timestamp'] = pd.Timestamp('20180101')\n",
    "df"
   ]
  },
  {
   "cell_type": "code",
   "execution_count": 18,
   "metadata": {},
   "outputs": [
    {
     "data": {
      "application/vnd.microsoft.datawrangler.viewer.v0+json": {
       "columns": [
        {
         "name": "index",
         "rawType": "object",
         "type": "string"
        },
        {
         "name": "one",
         "rawType": "float64",
         "type": "float"
        },
        {
         "name": "two",
         "rawType": "float64",
         "type": "float"
        },
        {
         "name": "three",
         "rawType": "float64",
         "type": "float"
        },
        {
         "name": "timestamp",
         "rawType": "datetime64[s]",
         "type": "unknown"
        }
       ],
       "conversionMethod": "pd.DataFrame",
       "ref": "e673a6ce-b262-4fbb-92c5-0c8448bc9097",
       "rows": [
        [
         "a",
         "-0.7387394806296975",
         "1.6393436278189273",
         "0.6336904970352104",
         "2018-01-01 00:00:00"
        ],
        [
         "b",
         null,
         null,
         null,
         null
        ],
        [
         "c",
         "-1.4512432705333271",
         "-1.1266930074267223",
         "-1.093035942853303",
         "2018-01-01 00:00:00"
        ],
        [
         "d",
         null,
         null,
         null,
         null
        ],
        [
         "e",
         "-0.3435533583189768",
         "-0.5303442635328413",
         "1.0385956997585883",
         "2018-01-01 00:00:00"
        ],
        [
         "f",
         "0.13508750459066904",
         "0.3938021906997388",
         "0.36875899688461194",
         "2018-01-01 00:00:00"
        ],
        [
         "g",
         null,
         null,
         null,
         null
        ],
        [
         "h",
         "0.7927371632428868",
         "1.2089976498967299",
         "1.494569879193284",
         "2018-01-01 00:00:00"
        ]
       ],
       "shape": {
        "columns": 4,
        "rows": 8
       }
      },
      "text/html": [
       "<div>\n",
       "<style scoped>\n",
       "    .dataframe tbody tr th:only-of-type {\n",
       "        vertical-align: middle;\n",
       "    }\n",
       "\n",
       "    .dataframe tbody tr th {\n",
       "        vertical-align: top;\n",
       "    }\n",
       "\n",
       "    .dataframe thead th {\n",
       "        text-align: right;\n",
       "    }\n",
       "</style>\n",
       "<table border=\"1\" class=\"dataframe\">\n",
       "  <thead>\n",
       "    <tr style=\"text-align: right;\">\n",
       "      <th></th>\n",
       "      <th>one</th>\n",
       "      <th>two</th>\n",
       "      <th>three</th>\n",
       "      <th>timestamp</th>\n",
       "    </tr>\n",
       "  </thead>\n",
       "  <tbody>\n",
       "    <tr>\n",
       "      <th>a</th>\n",
       "      <td>-0.738739</td>\n",
       "      <td>1.639344</td>\n",
       "      <td>0.633690</td>\n",
       "      <td>2018-01-01</td>\n",
       "    </tr>\n",
       "    <tr>\n",
       "      <th>b</th>\n",
       "      <td>NaN</td>\n",
       "      <td>NaN</td>\n",
       "      <td>NaN</td>\n",
       "      <td>NaT</td>\n",
       "    </tr>\n",
       "    <tr>\n",
       "      <th>c</th>\n",
       "      <td>-1.451243</td>\n",
       "      <td>-1.126693</td>\n",
       "      <td>-1.093036</td>\n",
       "      <td>2018-01-01</td>\n",
       "    </tr>\n",
       "    <tr>\n",
       "      <th>d</th>\n",
       "      <td>NaN</td>\n",
       "      <td>NaN</td>\n",
       "      <td>NaN</td>\n",
       "      <td>NaT</td>\n",
       "    </tr>\n",
       "    <tr>\n",
       "      <th>e</th>\n",
       "      <td>-0.343553</td>\n",
       "      <td>-0.530344</td>\n",
       "      <td>1.038596</td>\n",
       "      <td>2018-01-01</td>\n",
       "    </tr>\n",
       "    <tr>\n",
       "      <th>f</th>\n",
       "      <td>0.135088</td>\n",
       "      <td>0.393802</td>\n",
       "      <td>0.368759</td>\n",
       "      <td>2018-01-01</td>\n",
       "    </tr>\n",
       "    <tr>\n",
       "      <th>g</th>\n",
       "      <td>NaN</td>\n",
       "      <td>NaN</td>\n",
       "      <td>NaN</td>\n",
       "      <td>NaT</td>\n",
       "    </tr>\n",
       "    <tr>\n",
       "      <th>h</th>\n",
       "      <td>0.792737</td>\n",
       "      <td>1.208998</td>\n",
       "      <td>1.494570</td>\n",
       "      <td>2018-01-01</td>\n",
       "    </tr>\n",
       "  </tbody>\n",
       "</table>\n",
       "</div>"
      ],
      "text/plain": [
       "        one       two     three  timestamp\n",
       "a -0.738739  1.639344  0.633690 2018-01-01\n",
       "b       NaN       NaN       NaN        NaT\n",
       "c -1.451243 -1.126693 -1.093036 2018-01-01\n",
       "d       NaN       NaN       NaN        NaT\n",
       "e -0.343553 -0.530344  1.038596 2018-01-01\n",
       "f  0.135088  0.393802  0.368759 2018-01-01\n",
       "g       NaN       NaN       NaN        NaT\n",
       "h  0.792737  1.208998  1.494570 2018-01-01"
      ]
     },
     "execution_count": 18,
     "metadata": {},
     "output_type": "execute_result"
    }
   ],
   "source": [
    "df2 = df.reindex(['a', 'b', 'c', 'd', 'e', 'f', 'g', 'h'])\n",
    "df2"
   ]
  },
  {
   "cell_type": "markdown",
   "metadata": {},
   "source": [
    "### Operations and calculations with missing data"
   ]
  },
  {
   "cell_type": "code",
   "execution_count": 19,
   "metadata": {},
   "outputs": [
    {
     "data": {
      "application/vnd.microsoft.datawrangler.viewer.v0+json": {
       "columns": [
        {
         "name": "index",
         "rawType": "int64",
         "type": "integer"
        },
        {
         "name": "one",
         "rawType": "float64",
         "type": "float"
        },
        {
         "name": "two",
         "rawType": "float64",
         "type": "float"
        }
       ],
       "conversionMethod": "pd.DataFrame",
       "ref": "a1ea3620-1a69-41f1-8b13-47119fa12b6d",
       "rows": [
        [
         "0",
         "0.381413371961136",
         "0.9945597752076728"
        ],
        [
         "1",
         "0.8310896731969621",
         null
        ],
        [
         "2",
         "0.42295918504627483",
         "0.22673732189638152"
        ],
        [
         "3",
         "0.335572694162832",
         "0.20897109879799292"
        ],
        [
         "4",
         "0.05152332539273452",
         "0.611757253507412"
        ]
       ],
       "shape": {
        "columns": 2,
        "rows": 5
       }
      },
      "text/html": [
       "<div>\n",
       "<style scoped>\n",
       "    .dataframe tbody tr th:only-of-type {\n",
       "        vertical-align: middle;\n",
       "    }\n",
       "\n",
       "    .dataframe tbody tr th {\n",
       "        vertical-align: top;\n",
       "    }\n",
       "\n",
       "    .dataframe thead th {\n",
       "        text-align: right;\n",
       "    }\n",
       "</style>\n",
       "<table border=\"1\" class=\"dataframe\">\n",
       "  <thead>\n",
       "    <tr style=\"text-align: right;\">\n",
       "      <th></th>\n",
       "      <th>one</th>\n",
       "      <th>two</th>\n",
       "    </tr>\n",
       "  </thead>\n",
       "  <tbody>\n",
       "    <tr>\n",
       "      <th>0</th>\n",
       "      <td>0.381413</td>\n",
       "      <td>0.994560</td>\n",
       "    </tr>\n",
       "    <tr>\n",
       "      <th>1</th>\n",
       "      <td>0.831090</td>\n",
       "      <td>NaN</td>\n",
       "    </tr>\n",
       "    <tr>\n",
       "      <th>2</th>\n",
       "      <td>0.422959</td>\n",
       "      <td>0.226737</td>\n",
       "    </tr>\n",
       "    <tr>\n",
       "      <th>3</th>\n",
       "      <td>0.335573</td>\n",
       "      <td>0.208971</td>\n",
       "    </tr>\n",
       "    <tr>\n",
       "      <th>4</th>\n",
       "      <td>0.051523</td>\n",
       "      <td>0.611757</td>\n",
       "    </tr>\n",
       "  </tbody>\n",
       "</table>\n",
       "</div>"
      ],
      "text/plain": [
       "        one       two\n",
       "0  0.381413  0.994560\n",
       "1  0.831090       NaN\n",
       "2  0.422959  0.226737\n",
       "3  0.335573  0.208971\n",
       "4  0.051523  0.611757"
      ]
     },
     "execution_count": 19,
     "metadata": {},
     "output_type": "execute_result"
    }
   ],
   "source": [
    "a = pd.DataFrame(np.random.random((5, 2)), columns=['one', 'two'])\n",
    "a.iloc[1, 1] = np.nan\n",
    "a"
   ]
  },
  {
   "cell_type": "code",
   "execution_count": 20,
   "metadata": {},
   "outputs": [
    {
     "data": {
      "application/vnd.microsoft.datawrangler.viewer.v0+json": {
       "columns": [
        {
         "name": "index",
         "rawType": "int64",
         "type": "integer"
        },
        {
         "name": "one",
         "rawType": "float64",
         "type": "float"
        },
        {
         "name": "two",
         "rawType": "float64",
         "type": "float"
        },
        {
         "name": "three",
         "rawType": "float64",
         "type": "float"
        }
       ],
       "conversionMethod": "pd.DataFrame",
       "ref": "c71a6cfc-284b-4d50-81fe-1aa1a5a2df53",
       "rows": [
        [
         "0",
         "0.14563090182739702",
         "0.04313089423166483",
         "0.7243041231212578"
        ],
        [
         "1",
         "0.8431062926576322",
         "0.7056215771286504",
         "0.07746942872561935"
        ],
        [
         "2",
         "0.4225588059538148",
         "0.3016399346311124",
         null
        ],
        [
         "3",
         "0.018374153945733496",
         "0.6227433633868745",
         "0.3329407812426768"
        ],
        [
         "4",
         "0.504732134433287",
         "0.970573803624408",
         "0.04528313627729996"
        ],
        [
         "5",
         "0.502858625107081",
         "0.9404736256929835",
         "0.6289923363023546"
        ]
       ],
       "shape": {
        "columns": 3,
        "rows": 6
       }
      },
      "text/html": [
       "<div>\n",
       "<style scoped>\n",
       "    .dataframe tbody tr th:only-of-type {\n",
       "        vertical-align: middle;\n",
       "    }\n",
       "\n",
       "    .dataframe tbody tr th {\n",
       "        vertical-align: top;\n",
       "    }\n",
       "\n",
       "    .dataframe thead th {\n",
       "        text-align: right;\n",
       "    }\n",
       "</style>\n",
       "<table border=\"1\" class=\"dataframe\">\n",
       "  <thead>\n",
       "    <tr style=\"text-align: right;\">\n",
       "      <th></th>\n",
       "      <th>one</th>\n",
       "      <th>two</th>\n",
       "      <th>three</th>\n",
       "    </tr>\n",
       "  </thead>\n",
       "  <tbody>\n",
       "    <tr>\n",
       "      <th>0</th>\n",
       "      <td>0.145631</td>\n",
       "      <td>0.043131</td>\n",
       "      <td>0.724304</td>\n",
       "    </tr>\n",
       "    <tr>\n",
       "      <th>1</th>\n",
       "      <td>0.843106</td>\n",
       "      <td>0.705622</td>\n",
       "      <td>0.077469</td>\n",
       "    </tr>\n",
       "    <tr>\n",
       "      <th>2</th>\n",
       "      <td>0.422559</td>\n",
       "      <td>0.301640</td>\n",
       "      <td>NaN</td>\n",
       "    </tr>\n",
       "    <tr>\n",
       "      <th>3</th>\n",
       "      <td>0.018374</td>\n",
       "      <td>0.622743</td>\n",
       "      <td>0.332941</td>\n",
       "    </tr>\n",
       "    <tr>\n",
       "      <th>4</th>\n",
       "      <td>0.504732</td>\n",
       "      <td>0.970574</td>\n",
       "      <td>0.045283</td>\n",
       "    </tr>\n",
       "    <tr>\n",
       "      <th>5</th>\n",
       "      <td>0.502859</td>\n",
       "      <td>0.940474</td>\n",
       "      <td>0.628992</td>\n",
       "    </tr>\n",
       "  </tbody>\n",
       "</table>\n",
       "</div>"
      ],
      "text/plain": [
       "        one       two     three\n",
       "0  0.145631  0.043131  0.724304\n",
       "1  0.843106  0.705622  0.077469\n",
       "2  0.422559  0.301640       NaN\n",
       "3  0.018374  0.622743  0.332941\n",
       "4  0.504732  0.970574  0.045283\n",
       "5  0.502859  0.940474  0.628992"
      ]
     },
     "execution_count": 20,
     "metadata": {},
     "output_type": "execute_result"
    }
   ],
   "source": [
    "b = pd.DataFrame(np.random.random((6, 3)), columns=['one', 'two', 'three'])\n",
    "b.iloc[2, 2] = np.nan\n",
    "b"
   ]
  },
  {
   "cell_type": "code",
   "execution_count": 21,
   "metadata": {},
   "outputs": [
    {
     "data": {
      "application/vnd.microsoft.datawrangler.viewer.v0+json": {
       "columns": [
        {
         "name": "index",
         "rawType": "int64",
         "type": "integer"
        },
        {
         "name": "one",
         "rawType": "float64",
         "type": "float"
        },
        {
         "name": "three",
         "rawType": "float64",
         "type": "float"
        },
        {
         "name": "two",
         "rawType": "float64",
         "type": "float"
        }
       ],
       "conversionMethod": "pd.DataFrame",
       "ref": "95f7d5ab-98ac-4216-943a-8ef80fd65288",
       "rows": [
        [
         "0",
         "0.527044273788533",
         null,
         "1.0376906694393377"
        ],
        [
         "1",
         "1.6741959658545942",
         null,
         null
        ],
        [
         "2",
         "0.8455179910000896",
         null,
         "0.5283772565274939"
        ],
        [
         "3",
         "0.35394684810856547",
         null,
         "0.8317144621848674"
        ],
        [
         "4",
         "0.5562554598260215",
         null,
         "1.58233105713182"
        ],
        [
         "5",
         null,
         null,
         null
        ]
       ],
       "shape": {
        "columns": 3,
        "rows": 6
       }
      },
      "text/html": [
       "<div>\n",
       "<style scoped>\n",
       "    .dataframe tbody tr th:only-of-type {\n",
       "        vertical-align: middle;\n",
       "    }\n",
       "\n",
       "    .dataframe tbody tr th {\n",
       "        vertical-align: top;\n",
       "    }\n",
       "\n",
       "    .dataframe thead th {\n",
       "        text-align: right;\n",
       "    }\n",
       "</style>\n",
       "<table border=\"1\" class=\"dataframe\">\n",
       "  <thead>\n",
       "    <tr style=\"text-align: right;\">\n",
       "      <th></th>\n",
       "      <th>one</th>\n",
       "      <th>three</th>\n",
       "      <th>two</th>\n",
       "    </tr>\n",
       "  </thead>\n",
       "  <tbody>\n",
       "    <tr>\n",
       "      <th>0</th>\n",
       "      <td>0.527044</td>\n",
       "      <td>NaN</td>\n",
       "      <td>1.037691</td>\n",
       "    </tr>\n",
       "    <tr>\n",
       "      <th>1</th>\n",
       "      <td>1.674196</td>\n",
       "      <td>NaN</td>\n",
       "      <td>NaN</td>\n",
       "    </tr>\n",
       "    <tr>\n",
       "      <th>2</th>\n",
       "      <td>0.845518</td>\n",
       "      <td>NaN</td>\n",
       "      <td>0.528377</td>\n",
       "    </tr>\n",
       "    <tr>\n",
       "      <th>3</th>\n",
       "      <td>0.353947</td>\n",
       "      <td>NaN</td>\n",
       "      <td>0.831714</td>\n",
       "    </tr>\n",
       "    <tr>\n",
       "      <th>4</th>\n",
       "      <td>0.556255</td>\n",
       "      <td>NaN</td>\n",
       "      <td>1.582331</td>\n",
       "    </tr>\n",
       "    <tr>\n",
       "      <th>5</th>\n",
       "      <td>NaN</td>\n",
       "      <td>NaN</td>\n",
       "      <td>NaN</td>\n",
       "    </tr>\n",
       "  </tbody>\n",
       "</table>\n",
       "</div>"
      ],
      "text/plain": [
       "        one  three       two\n",
       "0  0.527044    NaN  1.037691\n",
       "1  1.674196    NaN       NaN\n",
       "2  0.845518    NaN  0.528377\n",
       "3  0.353947    NaN  0.831714\n",
       "4  0.556255    NaN  1.582331\n",
       "5       NaN    NaN       NaN"
      ]
     },
     "execution_count": 21,
     "metadata": {},
     "output_type": "execute_result"
    }
   ],
   "source": [
    "a + b"
   ]
  },
  {
   "cell_type": "markdown",
   "metadata": {},
   "source": [
    "As we see, missing values propagate naturally through these arithmetic operations. Statistics also works:"
   ]
  },
  {
   "cell_type": "code",
   "execution_count": 22,
   "metadata": {},
   "outputs": [
    {
     "data": {
      "application/vnd.microsoft.datawrangler.viewer.v0+json": {
       "columns": [
        {
         "name": "index",
         "rawType": "object",
         "type": "string"
        },
        {
         "name": "one",
         "rawType": "float64",
         "type": "float"
        },
        {
         "name": "three",
         "rawType": "float64",
         "type": "float"
        },
        {
         "name": "two",
         "rawType": "float64",
         "type": "float"
        }
       ],
       "conversionMethod": "pd.DataFrame",
       "ref": "bf58f2e7-6853-4370-a09c-c29aa0e08e86",
       "rows": [
        [
         "count",
         "5.0",
         "0.0",
         "4.0"
        ],
        [
         "mean",
         "0.7913921077155608",
         null,
         "0.9950283613208798"
        ],
        [
         "std",
         "0.5241182211156575",
         null,
         "0.44391411042253337"
        ],
        [
         "min",
         "0.35394684810856547",
         null,
         "0.5283772565274939"
        ],
        [
         "25%",
         "0.527044273788533",
         null,
         "0.7558801607705241"
        ],
        [
         "50%",
         "0.5562554598260215",
         null,
         "0.9347025658121026"
        ],
        [
         "75%",
         "0.8455179910000896",
         null,
         "1.1738507663624582"
        ],
        [
         "max",
         "1.6741959658545942",
         null,
         "1.58233105713182"
        ]
       ],
       "shape": {
        "columns": 3,
        "rows": 8
       }
      },
      "text/html": [
       "<div>\n",
       "<style scoped>\n",
       "    .dataframe tbody tr th:only-of-type {\n",
       "        vertical-align: middle;\n",
       "    }\n",
       "\n",
       "    .dataframe tbody tr th {\n",
       "        vertical-align: top;\n",
       "    }\n",
       "\n",
       "    .dataframe thead th {\n",
       "        text-align: right;\n",
       "    }\n",
       "</style>\n",
       "<table border=\"1\" class=\"dataframe\">\n",
       "  <thead>\n",
       "    <tr style=\"text-align: right;\">\n",
       "      <th></th>\n",
       "      <th>one</th>\n",
       "      <th>three</th>\n",
       "      <th>two</th>\n",
       "    </tr>\n",
       "  </thead>\n",
       "  <tbody>\n",
       "    <tr>\n",
       "      <th>count</th>\n",
       "      <td>5.000000</td>\n",
       "      <td>0.0</td>\n",
       "      <td>4.000000</td>\n",
       "    </tr>\n",
       "    <tr>\n",
       "      <th>mean</th>\n",
       "      <td>0.791392</td>\n",
       "      <td>NaN</td>\n",
       "      <td>0.995028</td>\n",
       "    </tr>\n",
       "    <tr>\n",
       "      <th>std</th>\n",
       "      <td>0.524118</td>\n",
       "      <td>NaN</td>\n",
       "      <td>0.443914</td>\n",
       "    </tr>\n",
       "    <tr>\n",
       "      <th>min</th>\n",
       "      <td>0.353947</td>\n",
       "      <td>NaN</td>\n",
       "      <td>0.528377</td>\n",
       "    </tr>\n",
       "    <tr>\n",
       "      <th>25%</th>\n",
       "      <td>0.527044</td>\n",
       "      <td>NaN</td>\n",
       "      <td>0.755880</td>\n",
       "    </tr>\n",
       "    <tr>\n",
       "      <th>50%</th>\n",
       "      <td>0.556255</td>\n",
       "      <td>NaN</td>\n",
       "      <td>0.934703</td>\n",
       "    </tr>\n",
       "    <tr>\n",
       "      <th>75%</th>\n",
       "      <td>0.845518</td>\n",
       "      <td>NaN</td>\n",
       "      <td>1.173851</td>\n",
       "    </tr>\n",
       "    <tr>\n",
       "      <th>max</th>\n",
       "      <td>1.674196</td>\n",
       "      <td>NaN</td>\n",
       "      <td>1.582331</td>\n",
       "    </tr>\n",
       "  </tbody>\n",
       "</table>\n",
       "</div>"
      ],
      "text/plain": [
       "            one  three       two\n",
       "count  5.000000    0.0  4.000000\n",
       "mean   0.791392    NaN  0.995028\n",
       "std    0.524118    NaN  0.443914\n",
       "min    0.353947    NaN  0.528377\n",
       "25%    0.527044    NaN  0.755880\n",
       "50%    0.556255    NaN  0.934703\n",
       "75%    0.845518    NaN  1.173851\n",
       "max    1.674196    NaN  1.582331"
      ]
     },
     "execution_count": 22,
     "metadata": {},
     "output_type": "execute_result"
    }
   ],
   "source": [
    "(a + b).describe()\n",
    "# Summation - NaNs are zero.\n",
    "# If everything is NaN - the result is NaN as well.\n",
    "# pandas' cumsum and cumprod ignore NaNs but preserve them in the resulting arrays."
   ]
  },
  {
   "cell_type": "markdown",
   "metadata": {},
   "source": [
    "We can also receive a boolean mask of the NaNs in a dataframe:"
   ]
  },
  {
   "cell_type": "code",
   "execution_count": 23,
   "metadata": {},
   "outputs": [
    {
     "data": {
      "application/vnd.microsoft.datawrangler.viewer.v0+json": {
       "columns": [
        {
         "name": "index",
         "rawType": "int64",
         "type": "integer"
        },
        {
         "name": "one",
         "rawType": "bool",
         "type": "boolean"
        },
        {
         "name": "three",
         "rawType": "bool",
         "type": "boolean"
        },
        {
         "name": "two",
         "rawType": "bool",
         "type": "boolean"
        }
       ],
       "conversionMethod": "pd.DataFrame",
       "ref": "1396d4d3-71d8-4b44-ba15-fd34297c3734",
       "rows": [
        [
         "0",
         "False",
         "True",
         "False"
        ],
        [
         "1",
         "False",
         "True",
         "True"
        ],
        [
         "2",
         "False",
         "True",
         "False"
        ],
        [
         "3",
         "False",
         "True",
         "False"
        ],
        [
         "4",
         "False",
         "True",
         "False"
        ],
        [
         "5",
         "True",
         "True",
         "True"
        ]
       ],
       "shape": {
        "columns": 3,
        "rows": 6
       }
      },
      "text/html": [
       "<div>\n",
       "<style scoped>\n",
       "    .dataframe tbody tr th:only-of-type {\n",
       "        vertical-align: middle;\n",
       "    }\n",
       "\n",
       "    .dataframe tbody tr th {\n",
       "        vertical-align: top;\n",
       "    }\n",
       "\n",
       "    .dataframe thead th {\n",
       "        text-align: right;\n",
       "    }\n",
       "</style>\n",
       "<table border=\"1\" class=\"dataframe\">\n",
       "  <thead>\n",
       "    <tr style=\"text-align: right;\">\n",
       "      <th></th>\n",
       "      <th>one</th>\n",
       "      <th>three</th>\n",
       "      <th>two</th>\n",
       "    </tr>\n",
       "  </thead>\n",
       "  <tbody>\n",
       "    <tr>\n",
       "      <th>0</th>\n",
       "      <td>False</td>\n",
       "      <td>True</td>\n",
       "      <td>False</td>\n",
       "    </tr>\n",
       "    <tr>\n",
       "      <th>1</th>\n",
       "      <td>False</td>\n",
       "      <td>True</td>\n",
       "      <td>True</td>\n",
       "    </tr>\n",
       "    <tr>\n",
       "      <th>2</th>\n",
       "      <td>False</td>\n",
       "      <td>True</td>\n",
       "      <td>False</td>\n",
       "    </tr>\n",
       "    <tr>\n",
       "      <th>3</th>\n",
       "      <td>False</td>\n",
       "      <td>True</td>\n",
       "      <td>False</td>\n",
       "    </tr>\n",
       "    <tr>\n",
       "      <th>4</th>\n",
       "      <td>False</td>\n",
       "      <td>True</td>\n",
       "      <td>False</td>\n",
       "    </tr>\n",
       "    <tr>\n",
       "      <th>5</th>\n",
       "      <td>True</td>\n",
       "      <td>True</td>\n",
       "      <td>True</td>\n",
       "    </tr>\n",
       "  </tbody>\n",
       "</table>\n",
       "</div>"
      ],
      "text/plain": [
       "     one  three    two\n",
       "0  False   True  False\n",
       "1  False   True   True\n",
       "2  False   True  False\n",
       "3  False   True  False\n",
       "4  False   True  False\n",
       "5   True   True   True"
      ]
     },
     "execution_count": 23,
     "metadata": {},
     "output_type": "execute_result"
    }
   ],
   "source": [
    "mask = (a + b).isnull()  # also isna(), and the opposite .notnull()\n",
    "mask"
   ]
  },
  {
   "cell_type": "markdown",
   "metadata": {},
   "source": [
    "#### Filling missing values"
   ]
  },
  {
   "cell_type": "markdown",
   "metadata": {},
   "source": [
    "The simplest option is to use the `fillna` method:"
   ]
  },
  {
   "cell_type": "code",
   "execution_count": 24,
   "metadata": {},
   "outputs": [
    {
     "data": {
      "application/vnd.microsoft.datawrangler.viewer.v0+json": {
       "columns": [
        {
         "name": "index",
         "rawType": "int64",
         "type": "integer"
        },
        {
         "name": "one",
         "rawType": "float64",
         "type": "float"
        },
        {
         "name": "three",
         "rawType": "float64",
         "type": "float"
        },
        {
         "name": "two",
         "rawType": "float64",
         "type": "float"
        }
       ],
       "conversionMethod": "pd.DataFrame",
       "ref": "92cb003f-56c7-4df3-b2b3-5bbeefcb235f",
       "rows": [
        [
         "0",
         "0.527044273788533",
         null,
         "1.0376906694393377"
        ],
        [
         "1",
         "1.6741959658545942",
         null,
         null
        ],
        [
         "2",
         "0.8455179910000896",
         null,
         "0.5283772565274939"
        ],
        [
         "3",
         "0.35394684810856547",
         null,
         "0.8317144621848674"
        ],
        [
         "4",
         null,
         null,
         "1.58233105713182"
        ],
        [
         "5",
         null,
         null,
         null
        ]
       ],
       "shape": {
        "columns": 3,
        "rows": 6
       }
      },
      "text/html": [
       "<div>\n",
       "<style scoped>\n",
       "    .dataframe tbody tr th:only-of-type {\n",
       "        vertical-align: middle;\n",
       "    }\n",
       "\n",
       "    .dataframe tbody tr th {\n",
       "        vertical-align: top;\n",
       "    }\n",
       "\n",
       "    .dataframe thead th {\n",
       "        text-align: right;\n",
       "    }\n",
       "</style>\n",
       "<table border=\"1\" class=\"dataframe\">\n",
       "  <thead>\n",
       "    <tr style=\"text-align: right;\">\n",
       "      <th></th>\n",
       "      <th>one</th>\n",
       "      <th>three</th>\n",
       "      <th>two</th>\n",
       "    </tr>\n",
       "  </thead>\n",
       "  <tbody>\n",
       "    <tr>\n",
       "      <th>0</th>\n",
       "      <td>0.527044</td>\n",
       "      <td>NaN</td>\n",
       "      <td>1.037691</td>\n",
       "    </tr>\n",
       "    <tr>\n",
       "      <th>1</th>\n",
       "      <td>1.674196</td>\n",
       "      <td>NaN</td>\n",
       "      <td>NaN</td>\n",
       "    </tr>\n",
       "    <tr>\n",
       "      <th>2</th>\n",
       "      <td>0.845518</td>\n",
       "      <td>NaN</td>\n",
       "      <td>0.528377</td>\n",
       "    </tr>\n",
       "    <tr>\n",
       "      <th>3</th>\n",
       "      <td>0.353947</td>\n",
       "      <td>NaN</td>\n",
       "      <td>0.831714</td>\n",
       "    </tr>\n",
       "    <tr>\n",
       "      <th>4</th>\n",
       "      <td>NaN</td>\n",
       "      <td>NaN</td>\n",
       "      <td>1.582331</td>\n",
       "    </tr>\n",
       "    <tr>\n",
       "      <th>5</th>\n",
       "      <td>NaN</td>\n",
       "      <td>NaN</td>\n",
       "      <td>NaN</td>\n",
       "    </tr>\n",
       "  </tbody>\n",
       "</table>\n",
       "</div>"
      ],
      "text/plain": [
       "        one  three       two\n",
       "0  0.527044    NaN  1.037691\n",
       "1  1.674196    NaN       NaN\n",
       "2  0.845518    NaN  0.528377\n",
       "3  0.353947    NaN  0.831714\n",
       "4       NaN    NaN  1.582331\n",
       "5       NaN    NaN       NaN"
      ]
     },
     "execution_count": 24,
     "metadata": {},
     "output_type": "execute_result"
    }
   ],
   "source": [
    "summed = a + b\n",
    "summed.iloc[4, 0] = np.nan\n",
    "summed"
   ]
  },
  {
   "cell_type": "code",
   "execution_count": 25,
   "metadata": {},
   "outputs": [
    {
     "data": {
      "application/vnd.microsoft.datawrangler.viewer.v0+json": {
       "columns": [
        {
         "name": "index",
         "rawType": "int64",
         "type": "integer"
        },
        {
         "name": "one",
         "rawType": "float64",
         "type": "float"
        },
        {
         "name": "three",
         "rawType": "float64",
         "type": "float"
        },
        {
         "name": "two",
         "rawType": "float64",
         "type": "float"
        }
       ],
       "conversionMethod": "pd.DataFrame",
       "ref": "3a090711-7b77-4c00-aa4e-2b707adb8d1a",
       "rows": [
        [
         "0",
         "0.527044273788533",
         "0.0",
         "1.0376906694393377"
        ],
        [
         "1",
         "1.6741959658545942",
         "0.0",
         "0.0"
        ],
        [
         "2",
         "0.8455179910000896",
         "0.0",
         "0.5283772565274939"
        ],
        [
         "3",
         "0.35394684810856547",
         "0.0",
         "0.8317144621848674"
        ],
        [
         "4",
         "0.0",
         "0.0",
         "1.58233105713182"
        ],
        [
         "5",
         "0.0",
         "0.0",
         "0.0"
        ]
       ],
       "shape": {
        "columns": 3,
        "rows": 6
       }
      },
      "text/html": [
       "<div>\n",
       "<style scoped>\n",
       "    .dataframe tbody tr th:only-of-type {\n",
       "        vertical-align: middle;\n",
       "    }\n",
       "\n",
       "    .dataframe tbody tr th {\n",
       "        vertical-align: top;\n",
       "    }\n",
       "\n",
       "    .dataframe thead th {\n",
       "        text-align: right;\n",
       "    }\n",
       "</style>\n",
       "<table border=\"1\" class=\"dataframe\">\n",
       "  <thead>\n",
       "    <tr style=\"text-align: right;\">\n",
       "      <th></th>\n",
       "      <th>one</th>\n",
       "      <th>three</th>\n",
       "      <th>two</th>\n",
       "    </tr>\n",
       "  </thead>\n",
       "  <tbody>\n",
       "    <tr>\n",
       "      <th>0</th>\n",
       "      <td>0.527044</td>\n",
       "      <td>0.0</td>\n",
       "      <td>1.037691</td>\n",
       "    </tr>\n",
       "    <tr>\n",
       "      <th>1</th>\n",
       "      <td>1.674196</td>\n",
       "      <td>0.0</td>\n",
       "      <td>0.000000</td>\n",
       "    </tr>\n",
       "    <tr>\n",
       "      <th>2</th>\n",
       "      <td>0.845518</td>\n",
       "      <td>0.0</td>\n",
       "      <td>0.528377</td>\n",
       "    </tr>\n",
       "    <tr>\n",
       "      <th>3</th>\n",
       "      <td>0.353947</td>\n",
       "      <td>0.0</td>\n",
       "      <td>0.831714</td>\n",
       "    </tr>\n",
       "    <tr>\n",
       "      <th>4</th>\n",
       "      <td>0.000000</td>\n",
       "      <td>0.0</td>\n",
       "      <td>1.582331</td>\n",
       "    </tr>\n",
       "    <tr>\n",
       "      <th>5</th>\n",
       "      <td>0.000000</td>\n",
       "      <td>0.0</td>\n",
       "      <td>0.000000</td>\n",
       "    </tr>\n",
       "  </tbody>\n",
       "</table>\n",
       "</div>"
      ],
      "text/plain": [
       "        one  three       two\n",
       "0  0.527044    0.0  1.037691\n",
       "1  1.674196    0.0  0.000000\n",
       "2  0.845518    0.0  0.528377\n",
       "3  0.353947    0.0  0.831714\n",
       "4  0.000000    0.0  1.582331\n",
       "5  0.000000    0.0  0.000000"
      ]
     },
     "execution_count": 25,
     "metadata": {},
     "output_type": "execute_result"
    }
   ],
   "source": [
    "summed.fillna(0)"
   ]
  },
  {
   "cell_type": "code",
   "execution_count": 26,
   "metadata": {},
   "outputs": [
    {
     "data": {
      "application/vnd.microsoft.datawrangler.viewer.v0+json": {
       "columns": [
        {
         "name": "index",
         "rawType": "int64",
         "type": "integer"
        },
        {
         "name": "one",
         "rawType": "object",
         "type": "unknown"
        },
        {
         "name": "three",
         "rawType": "object",
         "type": "string"
        },
        {
         "name": "two",
         "rawType": "object",
         "type": "unknown"
        }
       ],
       "conversionMethod": "pd.DataFrame",
       "ref": "7e2f61f1-0477-416b-a1fe-88f8501c7709",
       "rows": [
        [
         "0",
         "0.527044273788533",
         "missing",
         "1.0376906694393377"
        ],
        [
         "1",
         "1.6741959658545942",
         "missing",
         "missing"
        ],
        [
         "2",
         "0.8455179910000896",
         "missing",
         "0.5283772565274939"
        ],
        [
         "3",
         "0.35394684810856547",
         "missing",
         "0.8317144621848674"
        ],
        [
         "4",
         "missing",
         "missing",
         "1.58233105713182"
        ],
        [
         "5",
         "missing",
         "missing",
         "missing"
        ]
       ],
       "shape": {
        "columns": 3,
        "rows": 6
       }
      },
      "text/html": [
       "<div>\n",
       "<style scoped>\n",
       "    .dataframe tbody tr th:only-of-type {\n",
       "        vertical-align: middle;\n",
       "    }\n",
       "\n",
       "    .dataframe tbody tr th {\n",
       "        vertical-align: top;\n",
       "    }\n",
       "\n",
       "    .dataframe thead th {\n",
       "        text-align: right;\n",
       "    }\n",
       "</style>\n",
       "<table border=\"1\" class=\"dataframe\">\n",
       "  <thead>\n",
       "    <tr style=\"text-align: right;\">\n",
       "      <th></th>\n",
       "      <th>one</th>\n",
       "      <th>three</th>\n",
       "      <th>two</th>\n",
       "    </tr>\n",
       "  </thead>\n",
       "  <tbody>\n",
       "    <tr>\n",
       "      <th>0</th>\n",
       "      <td>0.527044</td>\n",
       "      <td>missing</td>\n",
       "      <td>1.037691</td>\n",
       "    </tr>\n",
       "    <tr>\n",
       "      <th>1</th>\n",
       "      <td>1.674196</td>\n",
       "      <td>missing</td>\n",
       "      <td>missing</td>\n",
       "    </tr>\n",
       "    <tr>\n",
       "      <th>2</th>\n",
       "      <td>0.845518</td>\n",
       "      <td>missing</td>\n",
       "      <td>0.528377</td>\n",
       "    </tr>\n",
       "    <tr>\n",
       "      <th>3</th>\n",
       "      <td>0.353947</td>\n",
       "      <td>missing</td>\n",
       "      <td>0.831714</td>\n",
       "    </tr>\n",
       "    <tr>\n",
       "      <th>4</th>\n",
       "      <td>missing</td>\n",
       "      <td>missing</td>\n",
       "      <td>1.582331</td>\n",
       "    </tr>\n",
       "    <tr>\n",
       "      <th>5</th>\n",
       "      <td>missing</td>\n",
       "      <td>missing</td>\n",
       "      <td>missing</td>\n",
       "    </tr>\n",
       "  </tbody>\n",
       "</table>\n",
       "</div>"
      ],
      "text/plain": [
       "        one    three       two\n",
       "0  0.527044  missing  1.037691\n",
       "1  1.674196  missing   missing\n",
       "2  0.845518  missing  0.528377\n",
       "3  0.353947  missing  0.831714\n",
       "4   missing  missing  1.582331\n",
       "5   missing  missing   missing"
      ]
     },
     "execution_count": 26,
     "metadata": {},
     "output_type": "execute_result"
    }
   ],
   "source": [
    "summed.fillna('missing')  # changed dtype to \"object\""
   ]
  },
  {
   "cell_type": "code",
   "execution_count": 31,
   "metadata": {},
   "outputs": [
    {
     "data": {
      "application/vnd.microsoft.datawrangler.viewer.v0+json": {
       "columns": [
        {
         "name": "index",
         "rawType": "int64",
         "type": "integer"
        },
        {
         "name": "one",
         "rawType": "float64",
         "type": "float"
        },
        {
         "name": "three",
         "rawType": "float64",
         "type": "float"
        },
        {
         "name": "two",
         "rawType": "float64",
         "type": "float"
        }
       ],
       "conversionMethod": "pd.DataFrame",
       "ref": "af234af6-ad3d-4d18-8b2b-4304ee8ef6a9",
       "rows": [
        [
         "0",
         "0.527044273788533",
         null,
         "1.0376906694393377"
        ],
        [
         "1",
         "1.6741959658545942",
         null,
         "1.0376906694393377"
        ],
        [
         "2",
         "0.8455179910000896",
         null,
         "0.5283772565274939"
        ],
        [
         "3",
         "0.35394684810856547",
         null,
         "0.8317144621848674"
        ],
        [
         "4",
         "0.35394684810856547",
         null,
         "1.58233105713182"
        ],
        [
         "5",
         "0.35394684810856547",
         null,
         "1.58233105713182"
        ]
       ],
       "shape": {
        "columns": 3,
        "rows": 6
       }
      },
      "text/html": [
       "<div>\n",
       "<style scoped>\n",
       "    .dataframe tbody tr th:only-of-type {\n",
       "        vertical-align: middle;\n",
       "    }\n",
       "\n",
       "    .dataframe tbody tr th {\n",
       "        vertical-align: top;\n",
       "    }\n",
       "\n",
       "    .dataframe thead th {\n",
       "        text-align: right;\n",
       "    }\n",
       "</style>\n",
       "<table border=\"1\" class=\"dataframe\">\n",
       "  <thead>\n",
       "    <tr style=\"text-align: right;\">\n",
       "      <th></th>\n",
       "      <th>one</th>\n",
       "      <th>three</th>\n",
       "      <th>two</th>\n",
       "    </tr>\n",
       "  </thead>\n",
       "  <tbody>\n",
       "    <tr>\n",
       "      <th>0</th>\n",
       "      <td>0.527044</td>\n",
       "      <td>NaN</td>\n",
       "      <td>1.037691</td>\n",
       "    </tr>\n",
       "    <tr>\n",
       "      <th>1</th>\n",
       "      <td>1.674196</td>\n",
       "      <td>NaN</td>\n",
       "      <td>1.037691</td>\n",
       "    </tr>\n",
       "    <tr>\n",
       "      <th>2</th>\n",
       "      <td>0.845518</td>\n",
       "      <td>NaN</td>\n",
       "      <td>0.528377</td>\n",
       "    </tr>\n",
       "    <tr>\n",
       "      <th>3</th>\n",
       "      <td>0.353947</td>\n",
       "      <td>NaN</td>\n",
       "      <td>0.831714</td>\n",
       "    </tr>\n",
       "    <tr>\n",
       "      <th>4</th>\n",
       "      <td>0.353947</td>\n",
       "      <td>NaN</td>\n",
       "      <td>1.582331</td>\n",
       "    </tr>\n",
       "    <tr>\n",
       "      <th>5</th>\n",
       "      <td>0.353947</td>\n",
       "      <td>NaN</td>\n",
       "      <td>1.582331</td>\n",
       "    </tr>\n",
       "  </tbody>\n",
       "</table>\n",
       "</div>"
      ],
      "text/plain": [
       "        one  three       two\n",
       "0  0.527044    NaN  1.037691\n",
       "1  1.674196    NaN  1.037691\n",
       "2  0.845518    NaN  0.528377\n",
       "3  0.353947    NaN  0.831714\n",
       "4  0.353947    NaN  1.582331\n",
       "5  0.353947    NaN  1.582331"
      ]
     },
     "execution_count": 31,
     "metadata": {},
     "output_type": "execute_result"
    }
   ],
   "source": [
    "summed.ffill()  # The NaN column remained the same, but values were propagated forward\n",
    "# We can also use the \"backfill\" method to fill in values to the back"
   ]
  },
  {
   "cell_type": "code",
   "execution_count": 32,
   "metadata": {},
   "outputs": [
    {
     "data": {
      "application/vnd.microsoft.datawrangler.viewer.v0+json": {
       "columns": [
        {
         "name": "index",
         "rawType": "int64",
         "type": "integer"
        },
        {
         "name": "one",
         "rawType": "float64",
         "type": "float"
        },
        {
         "name": "three",
         "rawType": "float64",
         "type": "float"
        },
        {
         "name": "two",
         "rawType": "float64",
         "type": "float"
        }
       ],
       "conversionMethod": "pd.DataFrame",
       "ref": "c34fa7e2-eeee-4f4b-96c1-30b05ec62246",
       "rows": [
        [
         "0",
         "0.527044273788533",
         null,
         "1.0376906694393377"
        ],
        [
         "1",
         "1.6741959658545942",
         null,
         "1.0376906694393377"
        ],
        [
         "2",
         "0.8455179910000896",
         null,
         "0.5283772565274939"
        ],
        [
         "3",
         "0.35394684810856547",
         null,
         "0.8317144621848674"
        ],
        [
         "4",
         "0.35394684810856547",
         null,
         "1.58233105713182"
        ],
        [
         "5",
         null,
         null,
         "1.58233105713182"
        ]
       ],
       "shape": {
        "columns": 3,
        "rows": 6
       }
      },
      "text/html": [
       "<div>\n",
       "<style scoped>\n",
       "    .dataframe tbody tr th:only-of-type {\n",
       "        vertical-align: middle;\n",
       "    }\n",
       "\n",
       "    .dataframe tbody tr th {\n",
       "        vertical-align: top;\n",
       "    }\n",
       "\n",
       "    .dataframe thead th {\n",
       "        text-align: right;\n",
       "    }\n",
       "</style>\n",
       "<table border=\"1\" class=\"dataframe\">\n",
       "  <thead>\n",
       "    <tr style=\"text-align: right;\">\n",
       "      <th></th>\n",
       "      <th>one</th>\n",
       "      <th>three</th>\n",
       "      <th>two</th>\n",
       "    </tr>\n",
       "  </thead>\n",
       "  <tbody>\n",
       "    <tr>\n",
       "      <th>0</th>\n",
       "      <td>0.527044</td>\n",
       "      <td>NaN</td>\n",
       "      <td>1.037691</td>\n",
       "    </tr>\n",
       "    <tr>\n",
       "      <th>1</th>\n",
       "      <td>1.674196</td>\n",
       "      <td>NaN</td>\n",
       "      <td>1.037691</td>\n",
       "    </tr>\n",
       "    <tr>\n",
       "      <th>2</th>\n",
       "      <td>0.845518</td>\n",
       "      <td>NaN</td>\n",
       "      <td>0.528377</td>\n",
       "    </tr>\n",
       "    <tr>\n",
       "      <th>3</th>\n",
       "      <td>0.353947</td>\n",
       "      <td>NaN</td>\n",
       "      <td>0.831714</td>\n",
       "    </tr>\n",
       "    <tr>\n",
       "      <th>4</th>\n",
       "      <td>0.353947</td>\n",
       "      <td>NaN</td>\n",
       "      <td>1.582331</td>\n",
       "    </tr>\n",
       "    <tr>\n",
       "      <th>5</th>\n",
       "      <td>NaN</td>\n",
       "      <td>NaN</td>\n",
       "      <td>1.582331</td>\n",
       "    </tr>\n",
       "  </tbody>\n",
       "</table>\n",
       "</div>"
      ],
      "text/plain": [
       "        one  three       two\n",
       "0  0.527044    NaN  1.037691\n",
       "1  1.674196    NaN  1.037691\n",
       "2  0.845518    NaN  0.528377\n",
       "3  0.353947    NaN  0.831714\n",
       "4  0.353947    NaN  1.582331\n",
       "5       NaN    NaN  1.582331"
      ]
     },
     "execution_count": 32,
     "metadata": {},
     "output_type": "execute_result"
    }
   ],
   "source": [
    "summed.ffill(limit=1)  # No more than one padded NaN in a row"
   ]
  },
  {
   "cell_type": "code",
   "execution_count": 33,
   "metadata": {},
   "outputs": [
    {
     "data": {
      "application/vnd.microsoft.datawrangler.viewer.v0+json": {
       "columns": [
        {
         "name": "index",
         "rawType": "int64",
         "type": "integer"
        },
        {
         "name": "one",
         "rawType": "float64",
         "type": "float"
        },
        {
         "name": "three",
         "rawType": "float64",
         "type": "float"
        },
        {
         "name": "two",
         "rawType": "float64",
         "type": "float"
        }
       ],
       "conversionMethod": "pd.DataFrame",
       "ref": "a6c5fca2-811c-4520-b88d-be9892094b17",
       "rows": [
        [
         "0",
         "0.527044273788533",
         null,
         "1.0376906694393377"
        ],
        [
         "1",
         "1.6741959658545942",
         null,
         "0.9950283613208798"
        ],
        [
         "2",
         "0.8455179910000896",
         null,
         "0.5283772565274939"
        ],
        [
         "3",
         "0.35394684810856547",
         null,
         "0.8317144621848674"
        ],
        [
         "4",
         "0.8501762696879456",
         null,
         "1.58233105713182"
        ],
        [
         "5",
         "0.8501762696879456",
         null,
         "0.9950283613208798"
        ]
       ],
       "shape": {
        "columns": 3,
        "rows": 6
       }
      },
      "text/html": [
       "<div>\n",
       "<style scoped>\n",
       "    .dataframe tbody tr th:only-of-type {\n",
       "        vertical-align: middle;\n",
       "    }\n",
       "\n",
       "    .dataframe tbody tr th {\n",
       "        vertical-align: top;\n",
       "    }\n",
       "\n",
       "    .dataframe thead th {\n",
       "        text-align: right;\n",
       "    }\n",
       "</style>\n",
       "<table border=\"1\" class=\"dataframe\">\n",
       "  <thead>\n",
       "    <tr style=\"text-align: right;\">\n",
       "      <th></th>\n",
       "      <th>one</th>\n",
       "      <th>three</th>\n",
       "      <th>two</th>\n",
       "    </tr>\n",
       "  </thead>\n",
       "  <tbody>\n",
       "    <tr>\n",
       "      <th>0</th>\n",
       "      <td>0.527044</td>\n",
       "      <td>NaN</td>\n",
       "      <td>1.037691</td>\n",
       "    </tr>\n",
       "    <tr>\n",
       "      <th>1</th>\n",
       "      <td>1.674196</td>\n",
       "      <td>NaN</td>\n",
       "      <td>0.995028</td>\n",
       "    </tr>\n",
       "    <tr>\n",
       "      <th>2</th>\n",
       "      <td>0.845518</td>\n",
       "      <td>NaN</td>\n",
       "      <td>0.528377</td>\n",
       "    </tr>\n",
       "    <tr>\n",
       "      <th>3</th>\n",
       "      <td>0.353947</td>\n",
       "      <td>NaN</td>\n",
       "      <td>0.831714</td>\n",
       "    </tr>\n",
       "    <tr>\n",
       "      <th>4</th>\n",
       "      <td>0.850176</td>\n",
       "      <td>NaN</td>\n",
       "      <td>1.582331</td>\n",
       "    </tr>\n",
       "    <tr>\n",
       "      <th>5</th>\n",
       "      <td>0.850176</td>\n",
       "      <td>NaN</td>\n",
       "      <td>0.995028</td>\n",
       "    </tr>\n",
       "  </tbody>\n",
       "</table>\n",
       "</div>"
      ],
      "text/plain": [
       "        one  three       two\n",
       "0  0.527044    NaN  1.037691\n",
       "1  1.674196    NaN  0.995028\n",
       "2  0.845518    NaN  0.528377\n",
       "3  0.353947    NaN  0.831714\n",
       "4  0.850176    NaN  1.582331\n",
       "5  0.850176    NaN  0.995028"
      ]
     },
     "execution_count": 33,
     "metadata": {},
     "output_type": "execute_result"
    }
   ],
   "source": [
    "summed.fillna(summed.mean())  # each column received its respective mean. The NaN column is untouched."
   ]
  },
  {
   "cell_type": "markdown",
   "metadata": {},
   "source": [
    "#### Dropping missing values"
   ]
  },
  {
   "cell_type": "markdown",
   "metadata": {},
   "source": [
    "We've already seen in the short exercise the `dropna` method, that allows us to drop missing values:"
   ]
  },
  {
   "cell_type": "code",
   "execution_count": 34,
   "metadata": {},
   "outputs": [
    {
     "data": {
      "application/vnd.microsoft.datawrangler.viewer.v0+json": {
       "columns": [
        {
         "name": "index",
         "rawType": "int64",
         "type": "integer"
        },
        {
         "name": "one",
         "rawType": "float64",
         "type": "float"
        },
        {
         "name": "three",
         "rawType": "float64",
         "type": "float"
        },
        {
         "name": "two",
         "rawType": "float64",
         "type": "float"
        }
       ],
       "conversionMethod": "pd.DataFrame",
       "ref": "9e0964ce-f2af-4b7f-88f0-8b80e1dd8b5a",
       "rows": [
        [
         "0",
         "0.527044273788533",
         null,
         "1.0376906694393377"
        ],
        [
         "1",
         "1.6741959658545942",
         null,
         null
        ],
        [
         "2",
         "0.8455179910000896",
         null,
         "0.5283772565274939"
        ],
        [
         "3",
         "0.35394684810856547",
         null,
         "0.8317144621848674"
        ],
        [
         "4",
         null,
         null,
         "1.58233105713182"
        ],
        [
         "5",
         null,
         null,
         null
        ]
       ],
       "shape": {
        "columns": 3,
        "rows": 6
       }
      },
      "text/html": [
       "<div>\n",
       "<style scoped>\n",
       "    .dataframe tbody tr th:only-of-type {\n",
       "        vertical-align: middle;\n",
       "    }\n",
       "\n",
       "    .dataframe tbody tr th {\n",
       "        vertical-align: top;\n",
       "    }\n",
       "\n",
       "    .dataframe thead th {\n",
       "        text-align: right;\n",
       "    }\n",
       "</style>\n",
       "<table border=\"1\" class=\"dataframe\">\n",
       "  <thead>\n",
       "    <tr style=\"text-align: right;\">\n",
       "      <th></th>\n",
       "      <th>one</th>\n",
       "      <th>three</th>\n",
       "      <th>two</th>\n",
       "    </tr>\n",
       "  </thead>\n",
       "  <tbody>\n",
       "    <tr>\n",
       "      <th>0</th>\n",
       "      <td>0.527044</td>\n",
       "      <td>NaN</td>\n",
       "      <td>1.037691</td>\n",
       "    </tr>\n",
       "    <tr>\n",
       "      <th>1</th>\n",
       "      <td>1.674196</td>\n",
       "      <td>NaN</td>\n",
       "      <td>NaN</td>\n",
       "    </tr>\n",
       "    <tr>\n",
       "      <th>2</th>\n",
       "      <td>0.845518</td>\n",
       "      <td>NaN</td>\n",
       "      <td>0.528377</td>\n",
       "    </tr>\n",
       "    <tr>\n",
       "      <th>3</th>\n",
       "      <td>0.353947</td>\n",
       "      <td>NaN</td>\n",
       "      <td>0.831714</td>\n",
       "    </tr>\n",
       "    <tr>\n",
       "      <th>4</th>\n",
       "      <td>NaN</td>\n",
       "      <td>NaN</td>\n",
       "      <td>1.582331</td>\n",
       "    </tr>\n",
       "    <tr>\n",
       "      <th>5</th>\n",
       "      <td>NaN</td>\n",
       "      <td>NaN</td>\n",
       "      <td>NaN</td>\n",
       "    </tr>\n",
       "  </tbody>\n",
       "</table>\n",
       "</div>"
      ],
      "text/plain": [
       "        one  three       two\n",
       "0  0.527044    NaN  1.037691\n",
       "1  1.674196    NaN       NaN\n",
       "2  0.845518    NaN  0.528377\n",
       "3  0.353947    NaN  0.831714\n",
       "4       NaN    NaN  1.582331\n",
       "5       NaN    NaN       NaN"
      ]
     },
     "execution_count": 34,
     "metadata": {},
     "output_type": "execute_result"
    }
   ],
   "source": [
    "summed"
   ]
  },
  {
   "cell_type": "code",
   "execution_count": 35,
   "metadata": {},
   "outputs": [
    {
     "data": {
      "application/vnd.microsoft.datawrangler.viewer.v0+json": {
       "columns": [
        {
         "name": "index",
         "rawType": "int64",
         "type": "integer"
        },
        {
         "name": "one",
         "rawType": "float64",
         "type": "float"
        },
        {
         "name": "three",
         "rawType": "float64",
         "type": "float"
        },
        {
         "name": "two",
         "rawType": "float64",
         "type": "float"
        }
       ],
       "conversionMethod": "pd.DataFrame",
       "ref": "9fdc9591-1f43-4b1a-98c2-c777430e9c68",
       "rows": [
        [
         "0",
         "0.527044273788533",
         null,
         "1.0376906694393377"
        ],
        [
         "1",
         "1.6741959658545942",
         null,
         "0.9950283613208798"
        ],
        [
         "2",
         "0.8455179910000896",
         null,
         "0.5283772565274939"
        ],
        [
         "3",
         "0.35394684810856547",
         null,
         "0.8317144621848674"
        ],
        [
         "4",
         "0.8501762696879456",
         null,
         "1.58233105713182"
        ],
        [
         "5",
         "0.8501762696879456",
         null,
         "0.9950283613208798"
        ]
       ],
       "shape": {
        "columns": 3,
        "rows": 6
       }
      },
      "text/html": [
       "<div>\n",
       "<style scoped>\n",
       "    .dataframe tbody tr th:only-of-type {\n",
       "        vertical-align: middle;\n",
       "    }\n",
       "\n",
       "    .dataframe tbody tr th {\n",
       "        vertical-align: top;\n",
       "    }\n",
       "\n",
       "    .dataframe thead th {\n",
       "        text-align: right;\n",
       "    }\n",
       "</style>\n",
       "<table border=\"1\" class=\"dataframe\">\n",
       "  <thead>\n",
       "    <tr style=\"text-align: right;\">\n",
       "      <th></th>\n",
       "      <th>one</th>\n",
       "      <th>three</th>\n",
       "      <th>two</th>\n",
       "    </tr>\n",
       "  </thead>\n",
       "  <tbody>\n",
       "    <tr>\n",
       "      <th>0</th>\n",
       "      <td>0.527044</td>\n",
       "      <td>NaN</td>\n",
       "      <td>1.037691</td>\n",
       "    </tr>\n",
       "    <tr>\n",
       "      <th>1</th>\n",
       "      <td>1.674196</td>\n",
       "      <td>NaN</td>\n",
       "      <td>0.995028</td>\n",
       "    </tr>\n",
       "    <tr>\n",
       "      <th>2</th>\n",
       "      <td>0.845518</td>\n",
       "      <td>NaN</td>\n",
       "      <td>0.528377</td>\n",
       "    </tr>\n",
       "    <tr>\n",
       "      <th>3</th>\n",
       "      <td>0.353947</td>\n",
       "      <td>NaN</td>\n",
       "      <td>0.831714</td>\n",
       "    </tr>\n",
       "    <tr>\n",
       "      <th>4</th>\n",
       "      <td>0.850176</td>\n",
       "      <td>NaN</td>\n",
       "      <td>1.582331</td>\n",
       "    </tr>\n",
       "    <tr>\n",
       "      <th>5</th>\n",
       "      <td>0.850176</td>\n",
       "      <td>NaN</td>\n",
       "      <td>0.995028</td>\n",
       "    </tr>\n",
       "  </tbody>\n",
       "</table>\n",
       "</div>"
      ],
      "text/plain": [
       "        one  three       two\n",
       "0  0.527044    NaN  1.037691\n",
       "1  1.674196    NaN  0.995028\n",
       "2  0.845518    NaN  0.528377\n",
       "3  0.353947    NaN  0.831714\n",
       "4  0.850176    NaN  1.582331\n",
       "5  0.850176    NaN  0.995028"
      ]
     },
     "execution_count": 35,
     "metadata": {},
     "output_type": "execute_result"
    }
   ],
   "source": [
    "filled = summed.fillna(summed.mean())\n",
    "filled"
   ]
  },
  {
   "cell_type": "code",
   "execution_count": 36,
   "metadata": {},
   "outputs": [
    {
     "data": {
      "application/vnd.microsoft.datawrangler.viewer.v0+json": {
       "columns": [
        {
         "name": "index",
         "rawType": "int64",
         "type": "integer"
        },
        {
         "name": "one",
         "rawType": "float64",
         "type": "float"
        },
        {
         "name": "two",
         "rawType": "float64",
         "type": "float"
        }
       ],
       "conversionMethod": "pd.DataFrame",
       "ref": "8c159e81-1f52-484e-af74-1ab5bb94d267",
       "rows": [
        [
         "0",
         "0.527044273788533",
         "1.0376906694393377"
        ],
        [
         "1",
         "1.6741959658545942",
         "0.9950283613208798"
        ],
        [
         "2",
         "0.8455179910000896",
         "0.5283772565274939"
        ],
        [
         "3",
         "0.35394684810856547",
         "0.8317144621848674"
        ],
        [
         "4",
         "0.8501762696879456",
         "1.58233105713182"
        ],
        [
         "5",
         "0.8501762696879456",
         "0.9950283613208798"
        ]
       ],
       "shape": {
        "columns": 2,
        "rows": 6
       }
      },
      "text/html": [
       "<div>\n",
       "<style scoped>\n",
       "    .dataframe tbody tr th:only-of-type {\n",
       "        vertical-align: middle;\n",
       "    }\n",
       "\n",
       "    .dataframe tbody tr th {\n",
       "        vertical-align: top;\n",
       "    }\n",
       "\n",
       "    .dataframe thead th {\n",
       "        text-align: right;\n",
       "    }\n",
       "</style>\n",
       "<table border=\"1\" class=\"dataframe\">\n",
       "  <thead>\n",
       "    <tr style=\"text-align: right;\">\n",
       "      <th></th>\n",
       "      <th>one</th>\n",
       "      <th>two</th>\n",
       "    </tr>\n",
       "  </thead>\n",
       "  <tbody>\n",
       "    <tr>\n",
       "      <th>0</th>\n",
       "      <td>0.527044</td>\n",
       "      <td>1.037691</td>\n",
       "    </tr>\n",
       "    <tr>\n",
       "      <th>1</th>\n",
       "      <td>1.674196</td>\n",
       "      <td>0.995028</td>\n",
       "    </tr>\n",
       "    <tr>\n",
       "      <th>2</th>\n",
       "      <td>0.845518</td>\n",
       "      <td>0.528377</td>\n",
       "    </tr>\n",
       "    <tr>\n",
       "      <th>3</th>\n",
       "      <td>0.353947</td>\n",
       "      <td>0.831714</td>\n",
       "    </tr>\n",
       "    <tr>\n",
       "      <th>4</th>\n",
       "      <td>0.850176</td>\n",
       "      <td>1.582331</td>\n",
       "    </tr>\n",
       "    <tr>\n",
       "      <th>5</th>\n",
       "      <td>0.850176</td>\n",
       "      <td>0.995028</td>\n",
       "    </tr>\n",
       "  </tbody>\n",
       "</table>\n",
       "</div>"
      ],
      "text/plain": [
       "        one       two\n",
       "0  0.527044  1.037691\n",
       "1  1.674196  0.995028\n",
       "2  0.845518  0.528377\n",
       "3  0.353947  0.831714\n",
       "4  0.850176  1.582331\n",
       "5  0.850176  0.995028"
      ]
     },
     "execution_count": 36,
     "metadata": {},
     "output_type": "execute_result"
    }
   ],
   "source": [
    "filled.dropna(axis=1)  # each column containing NaN is dropped"
   ]
  },
  {
   "cell_type": "code",
   "execution_count": 37,
   "metadata": {},
   "outputs": [
    {
     "data": {
      "application/vnd.microsoft.datawrangler.viewer.v0+json": {
       "columns": [
        {
         "name": "index",
         "rawType": "int64",
         "type": "integer"
        },
        {
         "name": "one",
         "rawType": "float64",
         "type": "float"
        },
        {
         "name": "three",
         "rawType": "float64",
         "type": "float"
        },
        {
         "name": "two",
         "rawType": "float64",
         "type": "float"
        }
       ],
       "conversionMethod": "pd.DataFrame",
       "ref": "48966f39-a571-4caf-8ab0-28a100aa2d57",
       "rows": [],
       "shape": {
        "columns": 3,
        "rows": 0
       }
      },
      "text/html": [
       "<div>\n",
       "<style scoped>\n",
       "    .dataframe tbody tr th:only-of-type {\n",
       "        vertical-align: middle;\n",
       "    }\n",
       "\n",
       "    .dataframe tbody tr th {\n",
       "        vertical-align: top;\n",
       "    }\n",
       "\n",
       "    .dataframe thead th {\n",
       "        text-align: right;\n",
       "    }\n",
       "</style>\n",
       "<table border=\"1\" class=\"dataframe\">\n",
       "  <thead>\n",
       "    <tr style=\"text-align: right;\">\n",
       "      <th></th>\n",
       "      <th>one</th>\n",
       "      <th>three</th>\n",
       "      <th>two</th>\n",
       "    </tr>\n",
       "  </thead>\n",
       "  <tbody>\n",
       "  </tbody>\n",
       "</table>\n",
       "</div>"
      ],
      "text/plain": [
       "Empty DataFrame\n",
       "Columns: [one, three, two]\n",
       "Index: []"
      ]
     },
     "execution_count": 37,
     "metadata": {},
     "output_type": "execute_result"
    }
   ],
   "source": [
    "filled.dropna(axis=0)  # each row containing a NaN is dropped"
   ]
  },
  {
   "cell_type": "markdown",
   "metadata": {},
   "source": [
    "#### Interpolation"
   ]
  },
  {
   "cell_type": "markdown",
   "metadata": {},
   "source": [
    "The last way to to fill in missing values is through [interpolation](https://pandas.pydata.org/pandas-docs/stable/reference/api/pandas.DataFrame.interpolate.html).\n",
    "\n",
    "The default interpolation methods perform linear interpolation on the data, based on its ordinal index:"
   ]
  },
  {
   "cell_type": "code",
   "execution_count": 38,
   "metadata": {},
   "outputs": [
    {
     "data": {
      "application/vnd.microsoft.datawrangler.viewer.v0+json": {
       "columns": [
        {
         "name": "index",
         "rawType": "int64",
         "type": "integer"
        },
        {
         "name": "one",
         "rawType": "float64",
         "type": "float"
        },
        {
         "name": "three",
         "rawType": "float64",
         "type": "float"
        },
        {
         "name": "two",
         "rawType": "float64",
         "type": "float"
        }
       ],
       "conversionMethod": "pd.DataFrame",
       "ref": "2367e093-8876-45ff-a7bd-0505cb5382ef",
       "rows": [
        [
         "0",
         "0.527044273788533",
         null,
         "1.0376906694393377"
        ],
        [
         "1",
         "1.6741959658545942",
         null,
         null
        ],
        [
         "2",
         "0.8455179910000896",
         null,
         "0.5283772565274939"
        ],
        [
         "3",
         "0.35394684810856547",
         null,
         "0.8317144621848674"
        ],
        [
         "4",
         null,
         null,
         "1.58233105713182"
        ],
        [
         "5",
         null,
         null,
         null
        ]
       ],
       "shape": {
        "columns": 3,
        "rows": 6
       }
      },
      "text/html": [
       "<div>\n",
       "<style scoped>\n",
       "    .dataframe tbody tr th:only-of-type {\n",
       "        vertical-align: middle;\n",
       "    }\n",
       "\n",
       "    .dataframe tbody tr th {\n",
       "        vertical-align: top;\n",
       "    }\n",
       "\n",
       "    .dataframe thead th {\n",
       "        text-align: right;\n",
       "    }\n",
       "</style>\n",
       "<table border=\"1\" class=\"dataframe\">\n",
       "  <thead>\n",
       "    <tr style=\"text-align: right;\">\n",
       "      <th></th>\n",
       "      <th>one</th>\n",
       "      <th>three</th>\n",
       "      <th>two</th>\n",
       "    </tr>\n",
       "  </thead>\n",
       "  <tbody>\n",
       "    <tr>\n",
       "      <th>0</th>\n",
       "      <td>0.527044</td>\n",
       "      <td>NaN</td>\n",
       "      <td>1.037691</td>\n",
       "    </tr>\n",
       "    <tr>\n",
       "      <th>1</th>\n",
       "      <td>1.674196</td>\n",
       "      <td>NaN</td>\n",
       "      <td>NaN</td>\n",
       "    </tr>\n",
       "    <tr>\n",
       "      <th>2</th>\n",
       "      <td>0.845518</td>\n",
       "      <td>NaN</td>\n",
       "      <td>0.528377</td>\n",
       "    </tr>\n",
       "    <tr>\n",
       "      <th>3</th>\n",
       "      <td>0.353947</td>\n",
       "      <td>NaN</td>\n",
       "      <td>0.831714</td>\n",
       "    </tr>\n",
       "    <tr>\n",
       "      <th>4</th>\n",
       "      <td>NaN</td>\n",
       "      <td>NaN</td>\n",
       "      <td>1.582331</td>\n",
       "    </tr>\n",
       "    <tr>\n",
       "      <th>5</th>\n",
       "      <td>NaN</td>\n",
       "      <td>NaN</td>\n",
       "      <td>NaN</td>\n",
       "    </tr>\n",
       "  </tbody>\n",
       "</table>\n",
       "</div>"
      ],
      "text/plain": [
       "        one  three       two\n",
       "0  0.527044    NaN  1.037691\n",
       "1  1.674196    NaN       NaN\n",
       "2  0.845518    NaN  0.528377\n",
       "3  0.353947    NaN  0.831714\n",
       "4       NaN    NaN  1.582331\n",
       "5       NaN    NaN       NaN"
      ]
     },
     "execution_count": 38,
     "metadata": {},
     "output_type": "execute_result"
    }
   ],
   "source": [
    "summed"
   ]
  },
  {
   "cell_type": "code",
   "execution_count": 39,
   "metadata": {},
   "outputs": [
    {
     "data": {
      "application/vnd.microsoft.datawrangler.viewer.v0+json": {
       "columns": [
        {
         "name": "index",
         "rawType": "int64",
         "type": "integer"
        },
        {
         "name": "one",
         "rawType": "float64",
         "type": "float"
        },
        {
         "name": "three",
         "rawType": "float64",
         "type": "float"
        },
        {
         "name": "two",
         "rawType": "float64",
         "type": "float"
        }
       ],
       "conversionMethod": "pd.DataFrame",
       "ref": "cf9efd7b-4d05-49c5-889b-e2db5b8c0354",
       "rows": [
        [
         "0",
         "0.527044273788533",
         null,
         "1.0376906694393377"
        ],
        [
         "1",
         "1.6741959658545942",
         null,
         "0.7830339629834158"
        ],
        [
         "2",
         "0.8455179910000896",
         null,
         "0.5283772565274939"
        ],
        [
         "3",
         "0.35394684810856547",
         null,
         "0.8317144621848674"
        ],
        [
         "4",
         "0.35394684810856547",
         null,
         "1.58233105713182"
        ],
        [
         "5",
         "0.35394684810856547",
         null,
         "1.58233105713182"
        ]
       ],
       "shape": {
        "columns": 3,
        "rows": 6
       }
      },
      "text/html": [
       "<div>\n",
       "<style scoped>\n",
       "    .dataframe tbody tr th:only-of-type {\n",
       "        vertical-align: middle;\n",
       "    }\n",
       "\n",
       "    .dataframe tbody tr th {\n",
       "        vertical-align: top;\n",
       "    }\n",
       "\n",
       "    .dataframe thead th {\n",
       "        text-align: right;\n",
       "    }\n",
       "</style>\n",
       "<table border=\"1\" class=\"dataframe\">\n",
       "  <thead>\n",
       "    <tr style=\"text-align: right;\">\n",
       "      <th></th>\n",
       "      <th>one</th>\n",
       "      <th>three</th>\n",
       "      <th>two</th>\n",
       "    </tr>\n",
       "  </thead>\n",
       "  <tbody>\n",
       "    <tr>\n",
       "      <th>0</th>\n",
       "      <td>0.527044</td>\n",
       "      <td>NaN</td>\n",
       "      <td>1.037691</td>\n",
       "    </tr>\n",
       "    <tr>\n",
       "      <th>1</th>\n",
       "      <td>1.674196</td>\n",
       "      <td>NaN</td>\n",
       "      <td>0.783034</td>\n",
       "    </tr>\n",
       "    <tr>\n",
       "      <th>2</th>\n",
       "      <td>0.845518</td>\n",
       "      <td>NaN</td>\n",
       "      <td>0.528377</td>\n",
       "    </tr>\n",
       "    <tr>\n",
       "      <th>3</th>\n",
       "      <td>0.353947</td>\n",
       "      <td>NaN</td>\n",
       "      <td>0.831714</td>\n",
       "    </tr>\n",
       "    <tr>\n",
       "      <th>4</th>\n",
       "      <td>0.353947</td>\n",
       "      <td>NaN</td>\n",
       "      <td>1.582331</td>\n",
       "    </tr>\n",
       "    <tr>\n",
       "      <th>5</th>\n",
       "      <td>0.353947</td>\n",
       "      <td>NaN</td>\n",
       "      <td>1.582331</td>\n",
       "    </tr>\n",
       "  </tbody>\n",
       "</table>\n",
       "</div>"
      ],
      "text/plain": [
       "        one  three       two\n",
       "0  0.527044    NaN  1.037691\n",
       "1  1.674196    NaN  0.783034\n",
       "2  0.845518    NaN  0.528377\n",
       "3  0.353947    NaN  0.831714\n",
       "4  0.353947    NaN  1.582331\n",
       "5  0.353947    NaN  1.582331"
      ]
     },
     "execution_count": 39,
     "metadata": {},
     "output_type": "execute_result"
    }
   ],
   "source": [
    "summed.interpolate()  # notice all the details in the interpolation of the three columns"
   ]
  },
  {
   "cell_type": "markdown",
   "metadata": {},
   "source": [
    "We can also interpolate with the actual index values in mind:"
   ]
  },
  {
   "cell_type": "code",
   "execution_count": 40,
   "metadata": {},
   "outputs": [
    {
     "data": {
      "application/vnd.microsoft.datawrangler.viewer.v0+json": {
       "columns": [
        {
         "name": "index",
         "rawType": "datetime64[ns]",
         "type": "datetime"
        },
        {
         "name": "0",
         "rawType": "float64",
         "type": "float"
        }
       ],
       "conversionMethod": "pd.DataFrame",
       "ref": "f4fac2f3-e6ed-42a2-bcfd-5c99963674f3",
       "rows": [
        [
         "2018-01-01 00:00:00",
         "1.0"
        ],
        [
         "2018-01-04 00:00:00",
         null
        ],
        [
         "2018-01-05 00:00:00",
         "5.0"
        ],
        [
         "2018-01-07 00:00:00",
         null
        ],
        [
         "2018-01-08 00:00:00",
         "8.0"
        ]
       ],
       "shape": {
        "columns": 1,
        "rows": 5
       }
      },
      "text/html": [
       "<div>\n",
       "<style scoped>\n",
       "    .dataframe tbody tr th:only-of-type {\n",
       "        vertical-align: middle;\n",
       "    }\n",
       "\n",
       "    .dataframe tbody tr th {\n",
       "        vertical-align: top;\n",
       "    }\n",
       "\n",
       "    .dataframe thead th {\n",
       "        text-align: right;\n",
       "    }\n",
       "</style>\n",
       "<table border=\"1\" class=\"dataframe\">\n",
       "  <thead>\n",
       "    <tr style=\"text-align: right;\">\n",
       "      <th></th>\n",
       "      <th>0</th>\n",
       "    </tr>\n",
       "  </thead>\n",
       "  <tbody>\n",
       "    <tr>\n",
       "      <th>2018-01-01</th>\n",
       "      <td>1.0</td>\n",
       "    </tr>\n",
       "    <tr>\n",
       "      <th>2018-01-04</th>\n",
       "      <td>NaN</td>\n",
       "    </tr>\n",
       "    <tr>\n",
       "      <th>2018-01-05</th>\n",
       "      <td>5.0</td>\n",
       "    </tr>\n",
       "    <tr>\n",
       "      <th>2018-01-07</th>\n",
       "      <td>NaN</td>\n",
       "    </tr>\n",
       "    <tr>\n",
       "      <th>2018-01-08</th>\n",
       "      <td>8.0</td>\n",
       "    </tr>\n",
       "  </tbody>\n",
       "</table>\n",
       "</div>"
      ],
      "text/plain": [
       "              0\n",
       "2018-01-01  1.0\n",
       "2018-01-04  NaN\n",
       "2018-01-05  5.0\n",
       "2018-01-07  NaN\n",
       "2018-01-08  8.0"
      ]
     },
     "execution_count": 40,
     "metadata": {},
     "output_type": "execute_result"
    }
   ],
   "source": [
    "# Create \"missing\" index\n",
    "timeindex = pd.Series(['1/1/2018', '1/4/2018', '1/5/2018', '1/7/2018', '1/8/2018'])\n",
    "timeindex = pd.to_datetime(timeindex)\n",
    "data_to_interp = [1, np.nan, 5, np.nan, 8]\n",
    "df_to_interp = pd.DataFrame(data_to_interp, index=timeindex)\n",
    "df_to_interp"
   ]
  },
  {
   "cell_type": "code",
   "execution_count": 41,
   "metadata": {},
   "outputs": [
    {
     "data": {
      "application/vnd.microsoft.datawrangler.viewer.v0+json": {
       "columns": [
        {
         "name": "index",
         "rawType": "datetime64[ns]",
         "type": "datetime"
        },
        {
         "name": "0",
         "rawType": "float64",
         "type": "float"
        }
       ],
       "conversionMethod": "pd.DataFrame",
       "ref": "fa69c5e1-4cfd-4246-89cd-6a72fdb3cf80",
       "rows": [
        [
         "2018-01-01 00:00:00",
         "1.0"
        ],
        [
         "2018-01-04 00:00:00",
         "3.0"
        ],
        [
         "2018-01-05 00:00:00",
         "5.0"
        ],
        [
         "2018-01-07 00:00:00",
         "6.5"
        ],
        [
         "2018-01-08 00:00:00",
         "8.0"
        ]
       ],
       "shape": {
        "columns": 1,
        "rows": 5
       }
      },
      "text/html": [
       "<div>\n",
       "<style scoped>\n",
       "    .dataframe tbody tr th:only-of-type {\n",
       "        vertical-align: middle;\n",
       "    }\n",
       "\n",
       "    .dataframe tbody tr th {\n",
       "        vertical-align: top;\n",
       "    }\n",
       "\n",
       "    .dataframe thead th {\n",
       "        text-align: right;\n",
       "    }\n",
       "</style>\n",
       "<table border=\"1\" class=\"dataframe\">\n",
       "  <thead>\n",
       "    <tr style=\"text-align: right;\">\n",
       "      <th></th>\n",
       "      <th>0</th>\n",
       "    </tr>\n",
       "  </thead>\n",
       "  <tbody>\n",
       "    <tr>\n",
       "      <th>2018-01-01</th>\n",
       "      <td>1.0</td>\n",
       "    </tr>\n",
       "    <tr>\n",
       "      <th>2018-01-04</th>\n",
       "      <td>3.0</td>\n",
       "    </tr>\n",
       "    <tr>\n",
       "      <th>2018-01-05</th>\n",
       "      <td>5.0</td>\n",
       "    </tr>\n",
       "    <tr>\n",
       "      <th>2018-01-07</th>\n",
       "      <td>6.5</td>\n",
       "    </tr>\n",
       "    <tr>\n",
       "      <th>2018-01-08</th>\n",
       "      <td>8.0</td>\n",
       "    </tr>\n",
       "  </tbody>\n",
       "</table>\n",
       "</div>"
      ],
      "text/plain": [
       "              0\n",
       "2018-01-01  1.0\n",
       "2018-01-04  3.0\n",
       "2018-01-05  5.0\n",
       "2018-01-07  6.5\n",
       "2018-01-08  8.0"
      ]
     },
     "execution_count": 41,
     "metadata": {},
     "output_type": "execute_result"
    }
   ],
   "source": [
    "df_to_interp.interpolate()  # the index values aren't taken into account"
   ]
  },
  {
   "cell_type": "code",
   "execution_count": 42,
   "metadata": {},
   "outputs": [
    {
     "data": {
      "application/vnd.microsoft.datawrangler.viewer.v0+json": {
       "columns": [
        {
         "name": "index",
         "rawType": "datetime64[ns]",
         "type": "datetime"
        },
        {
         "name": "0",
         "rawType": "float64",
         "type": "float"
        }
       ],
       "conversionMethod": "pd.DataFrame",
       "ref": "17702aa4-e721-4dad-ab82-3518bb3b18ba",
       "rows": [
        [
         "2018-01-01 00:00:00",
         "1.0"
        ],
        [
         "2018-01-04 00:00:00",
         "4.0"
        ],
        [
         "2018-01-05 00:00:00",
         "5.0"
        ],
        [
         "2018-01-07 00:00:00",
         "7.0"
        ],
        [
         "2018-01-08 00:00:00",
         "8.0"
        ]
       ],
       "shape": {
        "columns": 1,
        "rows": 5
       }
      },
      "text/html": [
       "<div>\n",
       "<style scoped>\n",
       "    .dataframe tbody tr th:only-of-type {\n",
       "        vertical-align: middle;\n",
       "    }\n",
       "\n",
       "    .dataframe tbody tr th {\n",
       "        vertical-align: top;\n",
       "    }\n",
       "\n",
       "    .dataframe thead th {\n",
       "        text-align: right;\n",
       "    }\n",
       "</style>\n",
       "<table border=\"1\" class=\"dataframe\">\n",
       "  <thead>\n",
       "    <tr style=\"text-align: right;\">\n",
       "      <th></th>\n",
       "      <th>0</th>\n",
       "    </tr>\n",
       "  </thead>\n",
       "  <tbody>\n",
       "    <tr>\n",
       "      <th>2018-01-01</th>\n",
       "      <td>1.0</td>\n",
       "    </tr>\n",
       "    <tr>\n",
       "      <th>2018-01-04</th>\n",
       "      <td>4.0</td>\n",
       "    </tr>\n",
       "    <tr>\n",
       "      <th>2018-01-05</th>\n",
       "      <td>5.0</td>\n",
       "    </tr>\n",
       "    <tr>\n",
       "      <th>2018-01-07</th>\n",
       "      <td>7.0</td>\n",
       "    </tr>\n",
       "    <tr>\n",
       "      <th>2018-01-08</th>\n",
       "      <td>8.0</td>\n",
       "    </tr>\n",
       "  </tbody>\n",
       "</table>\n",
       "</div>"
      ],
      "text/plain": [
       "              0\n",
       "2018-01-01  1.0\n",
       "2018-01-04  4.0\n",
       "2018-01-05  5.0\n",
       "2018-01-07  7.0\n",
       "2018-01-08  8.0"
      ]
     },
     "execution_count": 42,
     "metadata": {},
     "output_type": "execute_result"
    }
   ],
   "source": [
    "df_to_interp.interpolate(method='index')  # notice how the data obtains the \"right\" values"
   ]
  },
  {
   "cell_type": "markdown",
   "metadata": {},
   "source": [
    "Pandas has many other interpolation methods, based on SciPy's. "
   ]
  },
  {
   "cell_type": "code",
   "execution_count": 43,
   "metadata": {},
   "outputs": [
    {
     "data": {
      "application/vnd.microsoft.datawrangler.viewer.v0+json": {
       "columns": [
        {
         "name": "index",
         "rawType": "int64",
         "type": "integer"
        },
        {
         "name": "A",
         "rawType": "float64",
         "type": "float"
        },
        {
         "name": "B",
         "rawType": "float64",
         "type": "float"
        }
       ],
       "conversionMethod": "pd.DataFrame",
       "ref": "4644d742-a4a6-4f65-8a0b-3c062fd36cfa",
       "rows": [
        [
         "0",
         "1.0",
         "0.25"
        ],
        [
         "1",
         "2.1",
         null
        ],
        [
         "2",
         null,
         null
        ],
        [
         "3",
         "4.7",
         "4.0"
        ],
        [
         "4",
         "5.6",
         "12.2"
        ],
        [
         "5",
         "6.8",
         "14.4"
        ]
       ],
       "shape": {
        "columns": 2,
        "rows": 6
       }
      },
      "text/html": [
       "<div>\n",
       "<style scoped>\n",
       "    .dataframe tbody tr th:only-of-type {\n",
       "        vertical-align: middle;\n",
       "    }\n",
       "\n",
       "    .dataframe tbody tr th {\n",
       "        vertical-align: top;\n",
       "    }\n",
       "\n",
       "    .dataframe thead th {\n",
       "        text-align: right;\n",
       "    }\n",
       "</style>\n",
       "<table border=\"1\" class=\"dataframe\">\n",
       "  <thead>\n",
       "    <tr style=\"text-align: right;\">\n",
       "      <th></th>\n",
       "      <th>A</th>\n",
       "      <th>B</th>\n",
       "    </tr>\n",
       "  </thead>\n",
       "  <tbody>\n",
       "    <tr>\n",
       "      <th>0</th>\n",
       "      <td>1.0</td>\n",
       "      <td>0.25</td>\n",
       "    </tr>\n",
       "    <tr>\n",
       "      <th>1</th>\n",
       "      <td>2.1</td>\n",
       "      <td>NaN</td>\n",
       "    </tr>\n",
       "    <tr>\n",
       "      <th>2</th>\n",
       "      <td>NaN</td>\n",
       "      <td>NaN</td>\n",
       "    </tr>\n",
       "    <tr>\n",
       "      <th>3</th>\n",
       "      <td>4.7</td>\n",
       "      <td>4.00</td>\n",
       "    </tr>\n",
       "    <tr>\n",
       "      <th>4</th>\n",
       "      <td>5.6</td>\n",
       "      <td>12.20</td>\n",
       "    </tr>\n",
       "    <tr>\n",
       "      <th>5</th>\n",
       "      <td>6.8</td>\n",
       "      <td>14.40</td>\n",
       "    </tr>\n",
       "  </tbody>\n",
       "</table>\n",
       "</div>"
      ],
      "text/plain": [
       "     A      B\n",
       "0  1.0   0.25\n",
       "1  2.1    NaN\n",
       "2  NaN    NaN\n",
       "3  4.7   4.00\n",
       "4  5.6  12.20\n",
       "5  6.8  14.40"
      ]
     },
     "execution_count": 43,
     "metadata": {},
     "output_type": "execute_result"
    }
   ],
   "source": [
    "df_inter_2 = pd.DataFrame({'A': [1, 2.1, np.nan, 4.7, 5.6, 6.8],\n",
    "                           'B': [.25, np.nan, np.nan, 4, 12.2, 14.4]})\n",
    "df_inter_2"
   ]
  },
  {
   "cell_type": "code",
   "execution_count": 44,
   "metadata": {
    "scrolled": true
   },
   "outputs": [
    {
     "data": {
      "application/vnd.microsoft.datawrangler.viewer.v0+json": {
       "columns": [
        {
         "name": "index",
         "rawType": "int64",
         "type": "integer"
        },
        {
         "name": "A",
         "rawType": "float64",
         "type": "float"
        },
        {
         "name": "B",
         "rawType": "float64",
         "type": "float"
        }
       ],
       "conversionMethod": "pd.DataFrame",
       "ref": "6410e16c-86c6-4a4b-97b7-66706682877d",
       "rows": [
        [
         "0",
         "1.0",
         "0.25"
        ],
        [
         "1",
         "2.1",
         "-2.7038461538461527"
        ],
        [
         "2",
         "3.451351351351351",
         "-1.4538461538461518"
        ],
        [
         "3",
         "4.7",
         "4.0"
        ],
        [
         "4",
         "5.6",
         "12.2"
        ],
        [
         "5",
         "6.8",
         "14.4"
        ]
       ],
       "shape": {
        "columns": 2,
        "rows": 6
       }
      },
      "text/html": [
       "<div>\n",
       "<style scoped>\n",
       "    .dataframe tbody tr th:only-of-type {\n",
       "        vertical-align: middle;\n",
       "    }\n",
       "\n",
       "    .dataframe tbody tr th {\n",
       "        vertical-align: top;\n",
       "    }\n",
       "\n",
       "    .dataframe thead th {\n",
       "        text-align: right;\n",
       "    }\n",
       "</style>\n",
       "<table border=\"1\" class=\"dataframe\">\n",
       "  <thead>\n",
       "    <tr style=\"text-align: right;\">\n",
       "      <th></th>\n",
       "      <th>A</th>\n",
       "      <th>B</th>\n",
       "    </tr>\n",
       "  </thead>\n",
       "  <tbody>\n",
       "    <tr>\n",
       "      <th>0</th>\n",
       "      <td>1.000000</td>\n",
       "      <td>0.250000</td>\n",
       "    </tr>\n",
       "    <tr>\n",
       "      <th>1</th>\n",
       "      <td>2.100000</td>\n",
       "      <td>-2.703846</td>\n",
       "    </tr>\n",
       "    <tr>\n",
       "      <th>2</th>\n",
       "      <td>3.451351</td>\n",
       "      <td>-1.453846</td>\n",
       "    </tr>\n",
       "    <tr>\n",
       "      <th>3</th>\n",
       "      <td>4.700000</td>\n",
       "      <td>4.000000</td>\n",
       "    </tr>\n",
       "    <tr>\n",
       "      <th>4</th>\n",
       "      <td>5.600000</td>\n",
       "      <td>12.200000</td>\n",
       "    </tr>\n",
       "    <tr>\n",
       "      <th>5</th>\n",
       "      <td>6.800000</td>\n",
       "      <td>14.400000</td>\n",
       "    </tr>\n",
       "  </tbody>\n",
       "</table>\n",
       "</div>"
      ],
      "text/plain": [
       "          A          B\n",
       "0  1.000000   0.250000\n",
       "1  2.100000  -2.703846\n",
       "2  3.451351  -1.453846\n",
       "3  4.700000   4.000000\n",
       "4  5.600000  12.200000\n",
       "5  6.800000  14.400000"
      ]
     },
     "execution_count": 44,
     "metadata": {},
     "output_type": "execute_result"
    }
   ],
   "source": [
    "df_inter_2.interpolate(method='polynomial', order=2)"
   ]
  },
  {
   "cell_type": "markdown",
   "metadata": {},
   "source": [
    "### Missing Values in Non-Float Columns"
   ]
  },
  {
   "cell_type": "markdown",
   "metadata": {},
   "source": [
    "Starting from pandas v1.0.0 pandas gained support for NaN values in non-float columns. This feature is a bit experimental currently, so the default behavior still converts integers to floats for example, but the support is there if you know where to look. By default:"
   ]
  },
  {
   "cell_type": "code",
   "execution_count": 45,
   "metadata": {
    "scrolled": true
   },
   "outputs": [
    {
     "data": {
      "text/plain": [
       "0    1.0\n",
       "1    2.0\n",
       "2    NaN\n",
       "3    4.0\n",
       "dtype: float64"
      ]
     },
     "execution_count": 45,
     "metadata": {},
     "output_type": "execute_result"
    }
   ],
   "source": [
    "nanint = pd.Series([1, 2, np.nan, 4])\n",
    "nanint  # the result has a dtype of float64 even though all numbers are integers."
   ]
  },
  {
   "cell_type": "markdown",
   "metadata": {},
   "source": [
    "We can try to force pandas' hand here, but it won't work:"
   ]
  },
  {
   "cell_type": "code",
   "execution_count": 46,
   "metadata": {
    "scrolled": true
   },
   "outputs": [
    {
     "ename": "ValueError",
     "evalue": "cannot convert float NaN to integer",
     "output_type": "error",
     "traceback": [
      "\u001b[31m---------------------------------------------------------------------------\u001b[39m",
      "\u001b[31mValueError\u001b[39m                                Traceback (most recent call last)",
      "\u001b[36mCell\u001b[39m\u001b[36m \u001b[39m\u001b[32mIn[46]\u001b[39m\u001b[32m, line 1\u001b[39m\n\u001b[32m----> \u001b[39m\u001b[32m1\u001b[39m nanint = \u001b[43mpd\u001b[49m\u001b[43m.\u001b[49m\u001b[43mSeries\u001b[49m\u001b[43m(\u001b[49m\u001b[43m[\u001b[49m\u001b[32;43m1\u001b[39;49m\u001b[43m,\u001b[49m\u001b[43m \u001b[49m\u001b[32;43m2\u001b[39;49m\u001b[43m,\u001b[49m\u001b[43m \u001b[49m\u001b[43mnp\u001b[49m\u001b[43m.\u001b[49m\u001b[43mnan\u001b[49m\u001b[43m,\u001b[49m\u001b[43m \u001b[49m\u001b[32;43m4\u001b[39;49m\u001b[43m]\u001b[49m\u001b[43m,\u001b[49m\u001b[43m \u001b[49m\u001b[43mdtype\u001b[49m\u001b[43m=\u001b[49m\u001b[33;43m\"\u001b[39;49m\u001b[33;43mint32\u001b[39;49m\u001b[33;43m\"\u001b[39;49m\u001b[43m)\u001b[49m\n",
      "\u001b[36mFile \u001b[39m\u001b[32m~/Projects/courses/python_for_neuroscientists/textbook-public/venv/lib/python3.11/site-packages/pandas/core/series.py:584\u001b[39m, in \u001b[36mSeries.__init__\u001b[39m\u001b[34m(self, data, index, dtype, name, copy, fastpath)\u001b[39m\n\u001b[32m    582\u001b[39m         data = data.copy()\n\u001b[32m    583\u001b[39m \u001b[38;5;28;01melse\u001b[39;00m:\n\u001b[32m--> \u001b[39m\u001b[32m584\u001b[39m     data = \u001b[43msanitize_array\u001b[49m\u001b[43m(\u001b[49m\u001b[43mdata\u001b[49m\u001b[43m,\u001b[49m\u001b[43m \u001b[49m\u001b[43mindex\u001b[49m\u001b[43m,\u001b[49m\u001b[43m \u001b[49m\u001b[43mdtype\u001b[49m\u001b[43m,\u001b[49m\u001b[43m \u001b[49m\u001b[43mcopy\u001b[49m\u001b[43m)\u001b[49m\n\u001b[32m    586\u001b[39m     manager = _get_option(\u001b[33m\"\u001b[39m\u001b[33mmode.data_manager\u001b[39m\u001b[33m\"\u001b[39m, silent=\u001b[38;5;28;01mTrue\u001b[39;00m)\n\u001b[32m    587\u001b[39m     \u001b[38;5;28;01mif\u001b[39;00m manager == \u001b[33m\"\u001b[39m\u001b[33mblock\u001b[39m\u001b[33m\"\u001b[39m:\n",
      "\u001b[36mFile \u001b[39m\u001b[32m~/Projects/courses/python_for_neuroscientists/textbook-public/venv/lib/python3.11/site-packages/pandas/core/construction.py:651\u001b[39m, in \u001b[36msanitize_array\u001b[39m\u001b[34m(data, index, dtype, copy, allow_2d)\u001b[39m\n\u001b[32m    648\u001b[39m     subarr = np.array([], dtype=np.float64)\n\u001b[32m    650\u001b[39m \u001b[38;5;28;01melif\u001b[39;00m dtype \u001b[38;5;129;01mis\u001b[39;00m \u001b[38;5;129;01mnot\u001b[39;00m \u001b[38;5;28;01mNone\u001b[39;00m:\n\u001b[32m--> \u001b[39m\u001b[32m651\u001b[39m     subarr = \u001b[43m_try_cast\u001b[49m\u001b[43m(\u001b[49m\u001b[43mdata\u001b[49m\u001b[43m,\u001b[49m\u001b[43m \u001b[49m\u001b[43mdtype\u001b[49m\u001b[43m,\u001b[49m\u001b[43m \u001b[49m\u001b[43mcopy\u001b[49m\u001b[43m)\u001b[49m\n\u001b[32m    653\u001b[39m \u001b[38;5;28;01melse\u001b[39;00m:\n\u001b[32m    654\u001b[39m     subarr = maybe_convert_platform(data)\n",
      "\u001b[36mFile \u001b[39m\u001b[32m~/Projects/courses/python_for_neuroscientists/textbook-public/venv/lib/python3.11/site-packages/pandas/core/construction.py:818\u001b[39m, in \u001b[36m_try_cast\u001b[39m\u001b[34m(arr, dtype, copy)\u001b[39m\n\u001b[32m    813\u001b[39m \u001b[38;5;66;03m# GH#15832: Check if we are requesting a numeric dtype and\u001b[39;00m\n\u001b[32m    814\u001b[39m \u001b[38;5;66;03m# that we can convert the data to the requested dtype.\u001b[39;00m\n\u001b[32m    815\u001b[39m \u001b[38;5;28;01melif\u001b[39;00m dtype.kind \u001b[38;5;129;01min\u001b[39;00m \u001b[33m\"\u001b[39m\u001b[33miu\u001b[39m\u001b[33m\"\u001b[39m:\n\u001b[32m    816\u001b[39m     \u001b[38;5;66;03m# this will raise if we have e.g. floats\u001b[39;00m\n\u001b[32m--> \u001b[39m\u001b[32m818\u001b[39m     subarr = \u001b[43mmaybe_cast_to_integer_array\u001b[49m\u001b[43m(\u001b[49m\u001b[43marr\u001b[49m\u001b[43m,\u001b[49m\u001b[43m \u001b[49m\u001b[43mdtype\u001b[49m\u001b[43m)\u001b[49m\n\u001b[32m    819\u001b[39m \u001b[38;5;28;01melif\u001b[39;00m \u001b[38;5;129;01mnot\u001b[39;00m copy:\n\u001b[32m    820\u001b[39m     subarr = np.asarray(arr, dtype=dtype)\n",
      "\u001b[36mFile \u001b[39m\u001b[32m~/Projects/courses/python_for_neuroscientists/textbook-public/venv/lib/python3.11/site-packages/pandas/core/dtypes/cast.py:1654\u001b[39m, in \u001b[36mmaybe_cast_to_integer_array\u001b[39m\u001b[34m(arr, dtype)\u001b[39m\n\u001b[32m   1646\u001b[39m     \u001b[38;5;28;01mwith\u001b[39;00m warnings.catch_warnings():\n\u001b[32m   1647\u001b[39m         \u001b[38;5;66;03m# We already disallow dtype=uint w/ negative numbers\u001b[39;00m\n\u001b[32m   1648\u001b[39m         \u001b[38;5;66;03m# (test_constructor_coercion_signed_to_unsigned) so safe to ignore.\u001b[39;00m\n\u001b[32m   1649\u001b[39m         warnings.filterwarnings(\n\u001b[32m   1650\u001b[39m             \u001b[33m\"\u001b[39m\u001b[33mignore\u001b[39m\u001b[33m\"\u001b[39m,\n\u001b[32m   1651\u001b[39m             \u001b[33m\"\u001b[39m\u001b[33mNumPy will stop allowing conversion of out-of-bound Python int\u001b[39m\u001b[33m\"\u001b[39m,\n\u001b[32m   1652\u001b[39m             \u001b[38;5;167;01mDeprecationWarning\u001b[39;00m,\n\u001b[32m   1653\u001b[39m         )\n\u001b[32m-> \u001b[39m\u001b[32m1654\u001b[39m         casted = \u001b[43mnp\u001b[49m\u001b[43m.\u001b[49m\u001b[43masarray\u001b[49m\u001b[43m(\u001b[49m\u001b[43marr\u001b[49m\u001b[43m,\u001b[49m\u001b[43m \u001b[49m\u001b[43mdtype\u001b[49m\u001b[43m=\u001b[49m\u001b[43mdtype\u001b[49m\u001b[43m)\u001b[49m\n\u001b[32m   1655\u001b[39m \u001b[38;5;28;01melse\u001b[39;00m:\n\u001b[32m   1656\u001b[39m     \u001b[38;5;28;01mwith\u001b[39;00m warnings.catch_warnings():\n",
      "\u001b[31mValueError\u001b[39m: cannot convert float NaN to integer"
     ]
    }
   ],
   "source": [
    "nanint = pd.Series([1, 2, np.nan, 4], dtype=\"int32\")"
   ]
  },
  {
   "cell_type": "markdown",
   "metadata": {},
   "source": [
    "To our rescue comes the new `pd.Int32Dtype`:"
   ]
  },
  {
   "cell_type": "code",
   "execution_count": 47,
   "metadata": {
    "scrolled": true
   },
   "outputs": [
    {
     "data": {
      "text/plain": [
       "0       1\n",
       "1       2\n",
       "2    <NA>\n",
       "3       4\n",
       "dtype: Int32"
      ]
     },
     "execution_count": 47,
     "metadata": {},
     "output_type": "execute_result"
    }
   ],
   "source": [
    "nanint = pd.Series([1, 2, np.nan, 4], dtype=\"Int32\")\n",
    "nanint"
   ]
  },
  {
   "cell_type": "markdown",
   "metadata": {},
   "source": [
    "It worked! We have a series with integers and a missing value! Notice the changes we had to made:\n",
    "1. The `NaN` is `<NA>` now. It's actually a new type of `NaN` called `pd.NA`.\n",
    "2. The data type had to be mentioned explictly, meaning that the conversion will work only if we know in advance that we'll have NA values.\n",
    "3. The data type is `Int32`. It's CamelCase and it's actually a class underneath. Standard datatypes are lowercase.\n",
    "\n",
    "Caveats aside, this is definitely useful for scientists who sometimes have integer values and do not want to convert them to float to supports NAs."
   ]
  },
  {
   "cell_type": "code",
   "execution_count": 48,
   "metadata": {
    "scrolled": false,
    "tags": [
     "remove-input",
     "remove-output"
    ]
   },
   "outputs": [
    {
     "data": {
      "application/papermill.record/image/png": "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",
      "application/papermill.record/text/plain": "<Figure size 640x480 with 1 Axes>"
     },
     "metadata": {
      "scrapbook": {
       "mime_prefix": "application/papermill.record/",
       "name": "fig1"
      }
     },
     "output_type": "display_data"
    },
    {
     "data": {
      "application/papermill.record/image/png": "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",
      "application/papermill.record/text/plain": "<Figure size 640x480 with 1 Axes>"
     },
     "metadata": {
      "scrapbook": {
       "mime_prefix": "application/papermill.record/",
       "name": "fig2"
      }
     },
     "output_type": "display_data"
    },
    {
     "data": {
      "application/papermill.record/image/png": "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",
      "application/papermill.record/text/plain": "<Figure size 640x480 with 1 Axes>"
     },
     "metadata": {
      "scrapbook": {
       "mime_prefix": "application/papermill.record/",
       "name": "fig3"
      }
     },
     "output_type": "display_data"
    },
    {
     "data": {
      "image/png": "[encoded data removed]",
      "text/plain": [
       "<Figure size 640x480 with 1 Axes>"
      ]
     },
     "metadata": {},
     "output_type": "display_data"
    },
    {
     "data": {
      "image/png": "[encoded data removed]",
      "text/plain": [
       "<Figure size 640x480 with 1 Axes>"
      ]
     },
     "metadata": {},
     "output_type": "display_data"
    },
    {
     "data": {
      "image/png": "[encoded data removed]",
      "text/plain": [
       "<Figure size 640x480 with 1 Axes>"
      ]
     },
     "metadata": {},
     "output_type": "display_data"
    }
   ],
   "source": [
    "import matplotlib.pyplot as plt\n",
    "from myst_nb import glue\n",
    "\n",
    "n_cycles = 10\n",
    "n_samples = 10000\n",
    "amplitude = 3\n",
    "phase = np.pi / 4\n",
    "end = 2 * np.pi * n_cycles\n",
    "x = np.linspace(0, end, num=n_samples)\n",
    "y = amplitude * np.sin(x + phase)\n",
    "\n",
    "chosen_idx = np.random.choice(n_samples, size=100, replace=False)\n",
    "data = pd.DataFrame(np.nan, index=x, columns=['raw'])\n",
    "data.iloc[chosen_idx, 0] = y[chosen_idx]\n",
    "\n",
    "# plotting\n",
    "fig1, ax1 = plt.subplots()\n",
    "ax1.set_title('Raw Data')\n",
    "data.raw.plot(marker='o', ax=ax1)\n",
    "data['lin_inter'] = data.raw.interpolate(method='index')\n",
    "fig2, ax2 = plt.subplots()\n",
    "ax2.set_title('Linear Interpolation')\n",
    "data.lin_inter.plot(marker='o', ax=ax2)\n",
    "data['quad_inter'] = data.raw.interpolate(method='quadratic')\n",
    "fig3, ax3 = plt.subplots()\n",
    "ax3.set_title('Quadratic Interpolation')\n",
    "data.quad_inter.plot(marker='o', ax=ax3)\n",
    "\n",
    "glue(\"fig1\", fig1, display=False)\n",
    "glue(\"fig2\", fig2, display=False)\n",
    "glue(\"fig3\", fig3, display=False)"
   ]
  },
  {
   "cell_type": "markdown",
   "metadata": {},
   "source": [
    "`````{admonition} Exercise: Missing Data\n",
    "* Create a vector of 10000 measurements from a 10-cycle sinus wave. Remember that a single period of sine starts at 0 and ends at 2$\\pi$, so 10 periods span between 0 and 20$\\pi$.\n",
    "````{dropdown} Solution\n",
    "```python\n",
    "n_cycles = 10\n",
    "n_samples = 10000\n",
    "amplitude = 3\n",
    "phase = np.pi / 4\n",
    "end = 2 * np.pi * n_cycles\n",
    "x = np.linspace(0, end, num=n_samples)\n",
    "y = amplitude * np.sin(x + phase)\n",
    "```\n",
    "````\n",
    "* Using `np.random.choice(replace=False)` sample 100 points from the wave and place them in a Series.\n",
    "````{dropdown} Solution\n",
    "```python\n",
    "chosen_idx = np.random.choice(n_samples, size=100, replace=False)\n",
    "data = pd.DataFrame(np.nan, index=x, columns=['raw'])\n",
    "data.iloc[chosen_idx, 0] = y[chosen_idx]\n",
    "```\n",
    "````\n",
    "* Plot the chosen points.\n",
    "````{dropdown} Solution\n",
    "```python\n",
    "fig1, ax1 = plt.subplots()\n",
    "ax1.set_title('Raw data pre-interpolation')\n",
    "data.raw.plot(marker='o', ax=ax1)\n",
    "```\n",
    "```{glue:figure} fig1\n",
    "    :figwidth: 500px\n",
    "```\n",
    "````\n",
    "* Interpolate the points using linear interpolation and plot them on a different graph.\n",
    "````{dropdown} Solution\n",
    "```python\n",
    "data['lin_inter'] = data.raw.interpolate(method='index')\n",
    "fig2, ax2 = plt.subplots()\n",
    "ax2.set_title('Linear interpolation')\n",
    "data.lin_inter.plot(marker='o', ax=ax2)\n",
    "```\n",
    "```{glue:figure} fig2\n",
    "    :figwidth: 500px\n",
    "```\n",
    "````\n",
    "* Interpolate the points using quadratic interpolation and plot them on a different graph. \n",
    "````{dropdown} Solution\n",
    "```python\n",
    "data['quad_inter'] = data.raw.interpolate(method='quadratic')\n",
    "fig3, ax3 = plt.subplots()\n",
    "ax3.set_title('Quadratic interpolation')\n",
    "data.quad_inter.plot(marker='o', ax=ax3)\n",
    "```\n",
    "```{glue:figure} fig3\n",
    "    :figwidth: 500px\n",
    "```\n",
    "````\n",
    "`````"
   ]
  },
  {
   "cell_type": "markdown",
   "metadata": {},
   "source": [
    "## Categorical Data"
   ]
  },
  {
   "cell_type": "markdown",
   "metadata": {},
   "source": [
    "So far, we've used examples with quantitative data. Let's now have a look at [categorical data](https://pandas.pydata.org/pandas-docs/stable/user_guide/categorical.html), i.e. data can only have one of a specific set, or categories, of values. For example, if we have a column which marks the weekday, then it can obviously only be one of seven options. Same for boolean data, colors, and other examples. These data columns should be marked as \"categorical\" to reduce memory consumption and improve performance. It also tells the code readers more about the nature of that data column."
   ]
  },
  {
   "cell_type": "markdown",
   "metadata": {},
   "source": [
    "The easiest way to create a categorical variable is to declare it as such, or to convert as existing column to a categorical data type:"
   ]
  },
  {
   "cell_type": "code",
   "execution_count": 49,
   "metadata": {},
   "outputs": [
    {
     "data": {
      "text/plain": [
       "0    a\n",
       "1    b\n",
       "2    c\n",
       "3    a\n",
       "dtype: category\n",
       "Categories (3, object): ['a', 'b', 'c']"
      ]
     },
     "execution_count": 49,
     "metadata": {},
     "output_type": "execute_result"
    }
   ],
   "source": [
    "s = pd.Series([\"a\", \"b\", \"c\", \"a\"], dtype=\"category\")\n",
    "s"
   ]
  },
  {
   "cell_type": "code",
   "execution_count": 50,
   "metadata": {},
   "outputs": [
    {
     "name": "stdout",
     "output_type": "stream",
     "text": [
      "DataFrame:\n",
      "   A  B\n",
      "0  a  a\n",
      "1  b  b\n",
      "2  c  c\n",
      "3  a  a\n",
      "\n",
      "Data types:\n",
      "A      object\n",
      "B    category\n",
      "dtype: object\n"
     ]
    }
   ],
   "source": [
    "df = pd.DataFrame({\"A\": [\"a\", \"b\", \"c\", \"a\"]})\n",
    "df[\"B\"] = df[\"A\"].astype(\"category\")\n",
    "print(f\"DataFrame:\\n{df}\")\n",
    "print(f\"\\nData types:\\n{df.dtypes}\")"
   ]
  },
  {
   "cell_type": "markdown",
   "metadata": {},
   "source": [
    "We can also force order between our categories, or force specific categories on our data, using the special CategoricalDtype (which we won't show).\n",
    "\n",
    "As we said, memory usage is reduced when working with categorical data:"
   ]
  },
  {
   "cell_type": "code",
   "execution_count": 51,
   "metadata": {
    "scrolled": true
   },
   "outputs": [
    {
     "data": {
      "application/vnd.microsoft.datawrangler.viewer.v0+json": {
       "columns": [
        {
         "name": "index",
         "rawType": "int64",
         "type": "integer"
        },
        {
         "name": "a",
         "rawType": "float64",
         "type": "float"
        },
        {
         "name": "b",
         "rawType": "object",
         "type": "string"
        }
       ],
       "conversionMethod": "pd.DataFrame",
       "ref": "e2d5dba6-f017-4566-84b9-9e3f0a552143",
       "rows": [
        [
         "0",
         "0.9556716584469214",
         "a"
        ],
        [
         "1",
         "0.971780634175652",
         "a"
        ],
        [
         "2",
         "0.7724529976583638",
         "a"
        ],
        [
         "3",
         "0.43672673739677415",
         "a"
        ],
        [
         "4",
         "0.5156441651067973",
         "a"
        ],
        [
         "5",
         "0.4565623927114715",
         "a"
        ],
        [
         "6",
         "0.4208716183463972",
         "a"
        ],
        [
         "7",
         "0.8334165686546069",
         "a"
        ],
        [
         "8",
         "0.9932385951544497",
         "a"
        ],
        [
         "9",
         "0.5309444266956633",
         "a"
        ],
        [
         "10",
         "0.962903169150969",
         "a"
        ],
        [
         "11",
         "0.8134282640048249",
         "a"
        ],
        [
         "12",
         "0.061465144412307327",
         "a"
        ],
        [
         "13",
         "0.9866541099069384",
         "a"
        ],
        [
         "14",
         "0.0743750913054928",
         "a"
        ],
        [
         "15",
         "0.6374196820658611",
         "a"
        ],
        [
         "16",
         "0.6680097648236444",
         "a"
        ],
        [
         "17",
         "0.1696861439770887",
         "a"
        ],
        [
         "18",
         "0.770328827929949",
         "a"
        ],
        [
         "19",
         "0.19100118177679104",
         "a"
        ],
        [
         "20",
         "0.48628344685608993",
         "a"
        ],
        [
         "21",
         "0.9151412507060367",
         "a"
        ],
        [
         "22",
         "0.7744871605430663",
         "a"
        ],
        [
         "23",
         "0.18218785075534527",
         "a"
        ],
        [
         "24",
         "0.2542493514205264",
         "a"
        ],
        [
         "25",
         "0.5122041850804019",
         "a"
        ],
        [
         "26",
         "0.35888632738305526",
         "a"
        ],
        [
         "27",
         "0.4806101654561681",
         "a"
        ],
        [
         "28",
         "0.09285939494105178",
         "a"
        ],
        [
         "29",
         "0.9425971210066408",
         "a"
        ],
        [
         "30",
         "0.2685603160278297",
         "a"
        ],
        [
         "31",
         "0.7008407281920663",
         "a"
        ],
        [
         "32",
         "0.012679881098550672",
         "a"
        ],
        [
         "33",
         "0.4141487233903105",
         "a"
        ],
        [
         "34",
         "0.8918492488010585",
         "a"
        ],
        [
         "35",
         "0.6386593459462442",
         "a"
        ],
        [
         "36",
         "0.5557240171960026",
         "a"
        ],
        [
         "37",
         "0.8568117655432195",
         "a"
        ],
        [
         "38",
         "0.2315529592203993",
         "a"
        ],
        [
         "39",
         "0.9356493525459789",
         "a"
        ],
        [
         "40",
         "0.19543338125096232",
         "a"
        ],
        [
         "41",
         "0.4597136561033932",
         "a"
        ],
        [
         "42",
         "0.5951449555416367",
         "a"
        ],
        [
         "43",
         "0.5907178468505613",
         "a"
        ],
        [
         "44",
         "0.3434970781255835",
         "a"
        ],
        [
         "45",
         "0.6772026952782082",
         "a"
        ],
        [
         "46",
         "0.875390560917174",
         "a"
        ],
        [
         "47",
         "0.692704642379061",
         "a"
        ],
        [
         "48",
         "0.8735642068271696",
         "a"
        ],
        [
         "49",
         "0.3489847848956491",
         "a"
        ]
       ],
       "shape": {
        "columns": 2,
        "rows": 10000
       }
      },
      "text/html": [
       "<div>\n",
       "<style scoped>\n",
       "    .dataframe tbody tr th:only-of-type {\n",
       "        vertical-align: middle;\n",
       "    }\n",
       "\n",
       "    .dataframe tbody tr th {\n",
       "        vertical-align: top;\n",
       "    }\n",
       "\n",
       "    .dataframe thead th {\n",
       "        text-align: right;\n",
       "    }\n",
       "</style>\n",
       "<table border=\"1\" class=\"dataframe\">\n",
       "  <thead>\n",
       "    <tr style=\"text-align: right;\">\n",
       "      <th></th>\n",
       "      <th>a</th>\n",
       "      <th>b</th>\n",
       "    </tr>\n",
       "  </thead>\n",
       "  <tbody>\n",
       "    <tr>\n",
       "      <th>0</th>\n",
       "      <td>0.955672</td>\n",
       "      <td>a</td>\n",
       "    </tr>\n",
       "    <tr>\n",
       "      <th>1</th>\n",
       "      <td>0.971781</td>\n",
       "      <td>a</td>\n",
       "    </tr>\n",
       "    <tr>\n",
       "      <th>2</th>\n",
       "      <td>0.772453</td>\n",
       "      <td>a</td>\n",
       "    </tr>\n",
       "    <tr>\n",
       "      <th>3</th>\n",
       "      <td>0.436727</td>\n",
       "      <td>a</td>\n",
       "    </tr>\n",
       "    <tr>\n",
       "      <th>4</th>\n",
       "      <td>0.515644</td>\n",
       "      <td>a</td>\n",
       "    </tr>\n",
       "    <tr>\n",
       "      <th>...</th>\n",
       "      <td>...</td>\n",
       "      <td>...</td>\n",
       "    </tr>\n",
       "    <tr>\n",
       "      <th>9995</th>\n",
       "      <td>0.958149</td>\n",
       "      <td>a</td>\n",
       "    </tr>\n",
       "    <tr>\n",
       "      <th>9996</th>\n",
       "      <td>0.494567</td>\n",
       "      <td>a</td>\n",
       "    </tr>\n",
       "    <tr>\n",
       "      <th>9997</th>\n",
       "      <td>0.022768</td>\n",
       "      <td>a</td>\n",
       "    </tr>\n",
       "    <tr>\n",
       "      <th>9998</th>\n",
       "      <td>0.091958</td>\n",
       "      <td>a</td>\n",
       "    </tr>\n",
       "    <tr>\n",
       "      <th>9999</th>\n",
       "      <td>0.552508</td>\n",
       "      <td>a</td>\n",
       "    </tr>\n",
       "  </tbody>\n",
       "</table>\n",
       "<p>10000 rows × 2 columns</p>\n",
       "</div>"
      ],
      "text/plain": [
       "             a  b\n",
       "0     0.955672  a\n",
       "1     0.971781  a\n",
       "2     0.772453  a\n",
       "3     0.436727  a\n",
       "4     0.515644  a\n",
       "...        ... ..\n",
       "9995  0.958149  a\n",
       "9996  0.494567  a\n",
       "9997  0.022768  a\n",
       "9998  0.091958  a\n",
       "9999  0.552508  a\n",
       "\n",
       "[10000 rows x 2 columns]"
      ]
     },
     "execution_count": 51,
     "metadata": {},
     "output_type": "execute_result"
    }
   ],
   "source": [
    "df_obj = pd.DataFrame({'a': np.random.random(10_000), 'b': ['a'] * 10_000})\n",
    "df_obj"
   ]
  },
  {
   "cell_type": "code",
   "execution_count": 52,
   "metadata": {
    "scrolled": true
   },
   "outputs": [
    {
     "data": {
      "application/vnd.microsoft.datawrangler.viewer.v0+json": {
       "columns": [
        {
         "name": "index",
         "rawType": "int64",
         "type": "integer"
        },
        {
         "name": "a",
         "rawType": "float64",
         "type": "float"
        },
        {
         "name": "b",
         "rawType": "category",
         "type": "unknown"
        }
       ],
       "conversionMethod": "pd.DataFrame",
       "ref": "8c40787d-9715-47f8-b209-a6059b2f3ec2",
       "rows": [
        [
         "0",
         "0.9556716584469214",
         "a"
        ],
        [
         "1",
         "0.971780634175652",
         "a"
        ],
        [
         "2",
         "0.7724529976583638",
         "a"
        ],
        [
         "3",
         "0.43672673739677415",
         "a"
        ],
        [
         "4",
         "0.5156441651067973",
         "a"
        ],
        [
         "5",
         "0.4565623927114715",
         "a"
        ],
        [
         "6",
         "0.4208716183463972",
         "a"
        ],
        [
         "7",
         "0.8334165686546069",
         "a"
        ],
        [
         "8",
         "0.9932385951544497",
         "a"
        ],
        [
         "9",
         "0.5309444266956633",
         "a"
        ],
        [
         "10",
         "0.962903169150969",
         "a"
        ],
        [
         "11",
         "0.8134282640048249",
         "a"
        ],
        [
         "12",
         "0.061465144412307327",
         "a"
        ],
        [
         "13",
         "0.9866541099069384",
         "a"
        ],
        [
         "14",
         "0.0743750913054928",
         "a"
        ],
        [
         "15",
         "0.6374196820658611",
         "a"
        ],
        [
         "16",
         "0.6680097648236444",
         "a"
        ],
        [
         "17",
         "0.1696861439770887",
         "a"
        ],
        [
         "18",
         "0.770328827929949",
         "a"
        ],
        [
         "19",
         "0.19100118177679104",
         "a"
        ],
        [
         "20",
         "0.48628344685608993",
         "a"
        ],
        [
         "21",
         "0.9151412507060367",
         "a"
        ],
        [
         "22",
         "0.7744871605430663",
         "a"
        ],
        [
         "23",
         "0.18218785075534527",
         "a"
        ],
        [
         "24",
         "0.2542493514205264",
         "a"
        ],
        [
         "25",
         "0.5122041850804019",
         "a"
        ],
        [
         "26",
         "0.35888632738305526",
         "a"
        ],
        [
         "27",
         "0.4806101654561681",
         "a"
        ],
        [
         "28",
         "0.09285939494105178",
         "a"
        ],
        [
         "29",
         "0.9425971210066408",
         "a"
        ],
        [
         "30",
         "0.2685603160278297",
         "a"
        ],
        [
         "31",
         "0.7008407281920663",
         "a"
        ],
        [
         "32",
         "0.012679881098550672",
         "a"
        ],
        [
         "33",
         "0.4141487233903105",
         "a"
        ],
        [
         "34",
         "0.8918492488010585",
         "a"
        ],
        [
         "35",
         "0.6386593459462442",
         "a"
        ],
        [
         "36",
         "0.5557240171960026",
         "a"
        ],
        [
         "37",
         "0.8568117655432195",
         "a"
        ],
        [
         "38",
         "0.2315529592203993",
         "a"
        ],
        [
         "39",
         "0.9356493525459789",
         "a"
        ],
        [
         "40",
         "0.19543338125096232",
         "a"
        ],
        [
         "41",
         "0.4597136561033932",
         "a"
        ],
        [
         "42",
         "0.5951449555416367",
         "a"
        ],
        [
         "43",
         "0.5907178468505613",
         "a"
        ],
        [
         "44",
         "0.3434970781255835",
         "a"
        ],
        [
         "45",
         "0.6772026952782082",
         "a"
        ],
        [
         "46",
         "0.875390560917174",
         "a"
        ],
        [
         "47",
         "0.692704642379061",
         "a"
        ],
        [
         "48",
         "0.8735642068271696",
         "a"
        ],
        [
         "49",
         "0.3489847848956491",
         "a"
        ]
       ],
       "shape": {
        "columns": 2,
        "rows": 10000
       }
      },
      "text/html": [
       "<div>\n",
       "<style scoped>\n",
       "    .dataframe tbody tr th:only-of-type {\n",
       "        vertical-align: middle;\n",
       "    }\n",
       "\n",
       "    .dataframe tbody tr th {\n",
       "        vertical-align: top;\n",
       "    }\n",
       "\n",
       "    .dataframe thead th {\n",
       "        text-align: right;\n",
       "    }\n",
       "</style>\n",
       "<table border=\"1\" class=\"dataframe\">\n",
       "  <thead>\n",
       "    <tr style=\"text-align: right;\">\n",
       "      <th></th>\n",
       "      <th>a</th>\n",
       "      <th>b</th>\n",
       "    </tr>\n",
       "  </thead>\n",
       "  <tbody>\n",
       "    <tr>\n",
       "      <th>0</th>\n",
       "      <td>0.955672</td>\n",
       "      <td>a</td>\n",
       "    </tr>\n",
       "    <tr>\n",
       "      <th>1</th>\n",
       "      <td>0.971781</td>\n",
       "      <td>a</td>\n",
       "    </tr>\n",
       "    <tr>\n",
       "      <th>2</th>\n",
       "      <td>0.772453</td>\n",
       "      <td>a</td>\n",
       "    </tr>\n",
       "    <tr>\n",
       "      <th>3</th>\n",
       "      <td>0.436727</td>\n",
       "      <td>a</td>\n",
       "    </tr>\n",
       "    <tr>\n",
       "      <th>4</th>\n",
       "      <td>0.515644</td>\n",
       "      <td>a</td>\n",
       "    </tr>\n",
       "    <tr>\n",
       "      <th>...</th>\n",
       "      <td>...</td>\n",
       "      <td>...</td>\n",
       "    </tr>\n",
       "    <tr>\n",
       "      <th>9995</th>\n",
       "      <td>0.958149</td>\n",
       "      <td>a</td>\n",
       "    </tr>\n",
       "    <tr>\n",
       "      <th>9996</th>\n",
       "      <td>0.494567</td>\n",
       "      <td>a</td>\n",
       "    </tr>\n",
       "    <tr>\n",
       "      <th>9997</th>\n",
       "      <td>0.022768</td>\n",
       "      <td>a</td>\n",
       "    </tr>\n",
       "    <tr>\n",
       "      <th>9998</th>\n",
       "      <td>0.091958</td>\n",
       "      <td>a</td>\n",
       "    </tr>\n",
       "    <tr>\n",
       "      <th>9999</th>\n",
       "      <td>0.552508</td>\n",
       "      <td>a</td>\n",
       "    </tr>\n",
       "  </tbody>\n",
       "</table>\n",
       "<p>10000 rows × 2 columns</p>\n",
       "</div>"
      ],
      "text/plain": [
       "             a  b\n",
       "0     0.955672  a\n",
       "1     0.971781  a\n",
       "2     0.772453  a\n",
       "3     0.436727  a\n",
       "4     0.515644  a\n",
       "...        ... ..\n",
       "9995  0.958149  a\n",
       "9996  0.494567  a\n",
       "9997  0.022768  a\n",
       "9998  0.091958  a\n",
       "9999  0.552508  a\n",
       "\n",
       "[10000 rows x 2 columns]"
      ]
     },
     "execution_count": 52,
     "metadata": {},
     "output_type": "execute_result"
    }
   ],
   "source": [
    "df_cat = pd.DataFrame({'a': df_obj['a'], 'b': df_obj['b'].astype('category')})\n",
    "df_cat"
   ]
  },
  {
   "cell_type": "code",
   "execution_count": 53,
   "metadata": {},
   "outputs": [
    {
     "data": {
      "text/plain": [
       "Index      132\n",
       "a        80000\n",
       "b        80000\n",
       "dtype: int64"
      ]
     },
     "execution_count": 53,
     "metadata": {},
     "output_type": "execute_result"
    }
   ],
   "source": [
    "df_obj.memory_usage()"
   ]
  },
  {
   "cell_type": "code",
   "execution_count": 54,
   "metadata": {
    "scrolled": true
   },
   "outputs": [
    {
     "data": {
      "text/plain": [
       "Index      132\n",
       "a        80000\n",
       "b        10116\n",
       "dtype: int64"
      ]
     },
     "execution_count": 54,
     "metadata": {},
     "output_type": "execute_result"
    }
   ],
   "source": [
    "df_cat.memory_usage()"
   ]
  },
  {
   "cell_type": "markdown",
   "metadata": {},
   "source": [
    "A factor of 8 in memory reduction."
   ]
  },
  {
   "cell_type": "markdown",
   "metadata": {},
   "source": [
    "## Hierarchical Indexing"
   ]
  },
  {
   "cell_type": "markdown",
   "metadata": {},
   "source": [
    "Last time we mentioned that while a DataFrame is inherently a 2D object, it can contain multi-dimensional data. The way a DataFrame (and a Series) does that is with [hierarchical indexing](https://pandas.pydata.org/pandas-docs/stable/user_guide/advanced.html), or sometimes Multi-Indexing."
   ]
  },
  {
   "cell_type": "markdown",
   "metadata": {},
   "source": [
    "### Simple Example: Temperature in a Grid"
   ]
  },
  {
   "cell_type": "markdown",
   "metadata": {},
   "source": [
    "In this example, our data is the temperature sampled across a 2-dimensional grid. First, we need to generate the required set of indices, $(x, y)$, which point to a specific location inside the square. These coordinates can then be assigned the designated temperature values. A list of such coordinates can be a simple `Series`:"
   ]
  },
  {
   "cell_type": "code",
   "execution_count": 55,
   "metadata": {},
   "outputs": [
    {
     "data": {
      "text/plain": [
       "(r0, c0)    1.20\n",
       "(r0, c1)    0.80\n",
       "(r0, c2)    3.10\n",
       "(r1, c0)    0.10\n",
       "(r1, c1)    0.05\n",
       "(r1, c2)    1.00\n",
       "(r2, c0)    1.40\n",
       "(r2, c1)    2.10\n",
       "(r2, c2)    2.90\n",
       "Name: temperature, dtype: float64"
      ]
     },
     "execution_count": 55,
     "metadata": {},
     "output_type": "execute_result"
    }
   ],
   "source": [
    "values = np.array([1.2, 0.8, 3.1, 0.1, 0.05, 1, 1.4, 2.1, 2.9])\n",
    "coords = [('r0', 'c0'), ('r0', 'c1'), ('r0', 'c2'), \n",
    "          ('r1', 'c0'), ('r1', 'c1'), ('r1', 'c2'), \n",
    "          ('r2', 'c0'), ('r2', 'c1'), ('r2', 'c2')]  # r is row, c is column\n",
    "points = pd.Series(values, index=coords, name='temperature')\n",
    "points"
   ]
  },
  {
   "cell_type": "markdown",
   "metadata": {},
   "source": [
    "It is important we understand that this is a series because _the data is one-dimensional_. The actual data is contained in that rightmost column, a one-dimensional array. We do have two coordinates for each point, but the data itself, the temperature, is one-dimensional.\n",
    "\n",
    "Currently, the index is a simple tuple of coordinates. It's a single column, containing tuples. Pandas can help us to index this data in a more intuitive manner, using a MultiIndex object."
   ]
  },
  {
   "cell_type": "code",
   "execution_count": 56,
   "metadata": {},
   "outputs": [
    {
     "data": {
      "text/plain": [
       "MultiIndex([('r0', 'c0'),\n",
       "            ('r0', 'c1'),\n",
       "            ('r0', 'c2'),\n",
       "            ('r1', 'c0'),\n",
       "            ('r1', 'c1'),\n",
       "            ('r1', 'c2'),\n",
       "            ('r2', 'c0'),\n",
       "            ('r2', 'c1'),\n",
       "            ('r2', 'c2')],\n",
       "           )"
      ]
     },
     "execution_count": 56,
     "metadata": {},
     "output_type": "execute_result"
    }
   ],
   "source": [
    "mindex = pd.MultiIndex.from_tuples(coords)\n",
    "mindex"
   ]
  },
  {
   "cell_type": "markdown",
   "metadata": {},
   "source": [
    "We received something which looks quite similar to the list of tuples we had before, but it's a [`MultiIndex`](https://pandas.pydata.org/pandas-docs/stable/reference/api/pandas.MultiIndex.html) instance. Let's see how it helps us by `reindex`ing our data with it:"
   ]
  },
  {
   "cell_type": "code",
   "execution_count": 57,
   "metadata": {},
   "outputs": [
    {
     "data": {
      "text/plain": [
       "r0  c0    1.20\n",
       "    c1    0.80\n",
       "    c2    3.10\n",
       "r1  c0    0.10\n",
       "    c1    0.05\n",
       "    c2    1.00\n",
       "r2  c0    1.40\n",
       "    c1    2.10\n",
       "    c2    2.90\n",
       "Name: temperature, dtype: float64"
      ]
     },
     "execution_count": 57,
     "metadata": {},
     "output_type": "execute_result"
    }
   ],
   "source": [
    "points = points.reindex(mindex)\n",
    "points"
   ]
  },
  {
   "cell_type": "markdown",
   "metadata": {},
   "source": [
    "This looks good. Each index level is represented by a column, with the data being the last one. The \"missing\" values indicate that the value in that cell is the same as the value above it.\n",
    "\n",
    "You might have assumed that accessing the data now is much more intuitive. Let's look at the values of all the points in the first row, `r0`:"
   ]
  },
  {
   "cell_type": "code",
   "execution_count": 58,
   "metadata": {},
   "outputs": [
    {
     "data": {
      "text/plain": [
       "c0    1.2\n",
       "c1    0.8\n",
       "c2    3.1\n",
       "Name: temperature, dtype: float64"
      ]
     },
     "execution_count": 58,
     "metadata": {},
     "output_type": "execute_result"
    }
   ],
   "source": [
    "points.loc['r0', :]  # .loc() is label-based indexing"
   ]
  },
  {
   "cell_type": "markdown",
   "metadata": {},
   "source": [
    "Or the values of points in the second column:"
   ]
  },
  {
   "cell_type": "code",
   "execution_count": 59,
   "metadata": {
    "scrolled": true
   },
   "outputs": [
    {
     "data": {
      "text/plain": [
       "r0    0.80\n",
       "r1    0.05\n",
       "r2    2.10\n",
       "Name: temperature, dtype: float64"
      ]
     },
     "execution_count": 59,
     "metadata": {},
     "output_type": "execute_result"
    }
   ],
   "source": [
    "points.loc[:, 'c1']"
   ]
  },
  {
   "cell_type": "code",
   "execution_count": 60,
   "metadata": {},
   "outputs": [
    {
     "data": {
      "text/plain": [
       "r0  c0    1.20\n",
       "    c1    0.80\n",
       "    c2    3.10\n",
       "r1  c0    0.10\n",
       "    c1    0.05\n",
       "    c2    1.00\n",
       "r2  c0    1.40\n",
       "    c1    2.10\n",
       "    c2    2.90\n",
       "Name: temperature, dtype: float64"
      ]
     },
     "execution_count": 60,
     "metadata": {},
     "output_type": "execute_result"
    }
   ],
   "source": [
    "points.loc[:, :]  # all values - each level of the index has its own colon (:)"
   ]
  },
  {
   "cell_type": "markdown",
   "metadata": {},
   "source": [
    "Note that `.iloc` disregards the MultiIndex, treating our data as a simple one-dimensional vector (as it actually is):"
   ]
  },
  {
   "cell_type": "code",
   "execution_count": 61,
   "metadata": {},
   "outputs": [
    {
     "data": {
      "text/plain": [
       "np.float64(1.4)"
      ]
     },
     "execution_count": 61,
     "metadata": {},
     "output_type": "execute_result"
    }
   ],
   "source": [
    "points.iloc[6]\n",
    "# points.iloc[0, 1]  # ERRORS"
   ]
  },
  {
   "cell_type": "markdown",
   "metadata": {},
   "source": [
    "Besides making the syntax cleaner, these slicing operations are as efficient as their single-dimension counterparts."
   ]
  },
  {
   "cell_type": "markdown",
   "metadata": {},
   "source": [
    "It should be clear that a MultiIndex can have more than two levels. Modelling a 3D cube (with the temperatures inside it) is as easy as:"
   ]
  },
  {
   "cell_type": "code",
   "execution_count": 62,
   "metadata": {},
   "outputs": [
    {
     "data": {
      "text/plain": [
       "r0  c0  z0    1.20\n",
       "        z1    0.80\n",
       "    c1  z0    3.10\n",
       "        z1    0.10\n",
       "r1  c0  z0    0.05\n",
       "        z1    1.00\n",
       "    c1  z0    1.40\n",
       "        z1    2.10\n",
       "r2  c0  z0    2.90\n",
       "        z1    0.30\n",
       "    c1  z0    2.40\n",
       "        z1    1.90\n",
       "Name: temp_cube, dtype: float64"
      ]
     },
     "execution_count": 62,
     "metadata": {},
     "output_type": "execute_result"
    }
   ],
   "source": [
    "values3d = np.array([1.2, 0.8, \n",
    "                     3.1, 0.1, \n",
    "                     0.05, 1, \n",
    "                     1.4, 2.1, \n",
    "                     2.9, 0.3,\n",
    "                     2.4, 1.9])\n",
    "# 3D coordinates with a shape of (r, c, z) = (3, 2, 2)\n",
    "coords3d = [('r0', 'c0', 'z0'), ('r0', 'c0', 'z1'), \n",
    "            ('r0', 'c1', 'z0'), ('r0', 'c1', 'z1'),\n",
    "            ('r1', 'c0', 'z0'), ('r1', 'c0', 'z1'),\n",
    "            ('r1', 'c1', 'z0'), ('r1', 'c1', 'z1'), \n",
    "            ('r2', 'c0', 'z0'), ('r2', 'c0', 'z1'),\n",
    "            ('r2', 'c1', 'z0'), ('r2', 'c1', 'z1')]  # we'll soon see an easier way to create this index\n",
    "cube = pd.Series(values3d, index=pd.MultiIndex.from_tuples(coords3d), name='temp_cube')\n",
    "cube"
   ]
  },
  {
   "cell_type": "markdown",
   "metadata": {},
   "source": [
    "We can even name the individual levels, which helps with some slicing operations we'll see below:"
   ]
  },
  {
   "cell_type": "code",
   "execution_count": 63,
   "metadata": {},
   "outputs": [
    {
     "data": {
      "text/plain": [
       "x   y   z \n",
       "r0  c0  z0    1.20\n",
       "        z1    0.80\n",
       "    c1  z0    3.10\n",
       "        z1    0.10\n",
       "r1  c0  z0    0.05\n",
       "        z1    1.00\n",
       "    c1  z0    1.40\n",
       "        z1    2.10\n",
       "r2  c0  z0    2.90\n",
       "        z1    0.30\n",
       "    c1  z0    2.40\n",
       "        z1    1.90\n",
       "Name: temp_cube, dtype: float64"
      ]
     },
     "execution_count": 63,
     "metadata": {},
     "output_type": "execute_result"
    }
   ],
   "source": [
    "cube.index.names = ['x', 'y', 'z']\n",
    "cube"
   ]
  },
  {
   "cell_type": "markdown",
   "metadata": {},
   "source": [
    "Again, you have to remember that this is one-dimensional data, with a three-dimensional index. In statistical term, we might term the indices a fixed, independent categorical variable, while the values are the dependent variable. Pandas actually has a [`CategoricalIndex`](https://pandas.pydata.org/docs/reference/api/pandas.CategoricalIndex.html) object which you'll meet in one of your future homework assignments (but don't be afraid to hit the link and check it out on your own if you just can't wait)."
   ]
  },
  {
   "cell_type": "markdown",
   "metadata": {},
   "source": [
    "### More on extra dimensions"
   ]
  },
  {
   "cell_type": "markdown",
   "metadata": {},
   "source": [
    "In the previous square example, it's very appealing to ditch the MultiIndex altogether and just work with a dataframe, or even a simple NumPy array. This is because the two indices represented rows and columns. A quick way to turn one representation into the other is the [`stack()`\\\\`unstack()`](https://pandas.pydata.org/docs/user_guide/reshaping.html) method:"
   ]
  },
  {
   "cell_type": "code",
   "execution_count": 64,
   "metadata": {},
   "outputs": [
    {
     "data": {
      "text/plain": [
       "rows  columns\n",
       "r0    c0         1.20\n",
       "      c1         0.80\n",
       "      c2         3.10\n",
       "r1    c0         0.10\n",
       "      c1         0.05\n",
       "      c2         1.00\n",
       "r2    c0         1.40\n",
       "      c1         2.10\n",
       "      c2         2.90\n",
       "Name: temperature, dtype: float64"
      ]
     },
     "execution_count": 64,
     "metadata": {},
     "output_type": "execute_result"
    }
   ],
   "source": [
    "points.index.names = ['rows', 'columns']\n",
    "points"
   ]
  },
  {
   "cell_type": "code",
   "execution_count": 65,
   "metadata": {},
   "outputs": [
    {
     "data": {
      "application/vnd.microsoft.datawrangler.viewer.v0+json": {
       "columns": [
        {
         "name": "rows",
         "rawType": "object",
         "type": "string"
        },
        {
         "name": "c0",
         "rawType": "float64",
         "type": "float"
        },
        {
         "name": "c1",
         "rawType": "float64",
         "type": "float"
        },
        {
         "name": "c2",
         "rawType": "float64",
         "type": "float"
        }
       ],
       "conversionMethod": "pd.DataFrame",
       "ref": "ce51e3a2-4c30-4147-9912-06f0329f0e0c",
       "rows": [
        [
         "r0",
         "1.2",
         "0.8",
         "3.1"
        ],
        [
         "r1",
         "0.1",
         "0.05",
         "1.0"
        ],
        [
         "r2",
         "1.4",
         "2.1",
         "2.9"
        ]
       ],
       "shape": {
        "columns": 3,
        "rows": 3
       }
      },
      "text/html": [
       "<div>\n",
       "<style scoped>\n",
       "    .dataframe tbody tr th:only-of-type {\n",
       "        vertical-align: middle;\n",
       "    }\n",
       "\n",
       "    .dataframe tbody tr th {\n",
       "        vertical-align: top;\n",
       "    }\n",
       "\n",
       "    .dataframe thead th {\n",
       "        text-align: right;\n",
       "    }\n",
       "</style>\n",
       "<table border=\"1\" class=\"dataframe\">\n",
       "  <thead>\n",
       "    <tr style=\"text-align: right;\">\n",
       "      <th>columns</th>\n",
       "      <th>c0</th>\n",
       "      <th>c1</th>\n",
       "      <th>c2</th>\n",
       "    </tr>\n",
       "    <tr>\n",
       "      <th>rows</th>\n",
       "      <th></th>\n",
       "      <th></th>\n",
       "      <th></th>\n",
       "    </tr>\n",
       "  </thead>\n",
       "  <tbody>\n",
       "    <tr>\n",
       "      <th>r0</th>\n",
       "      <td>1.2</td>\n",
       "      <td>0.80</td>\n",
       "      <td>3.1</td>\n",
       "    </tr>\n",
       "    <tr>\n",
       "      <th>r1</th>\n",
       "      <td>0.1</td>\n",
       "      <td>0.05</td>\n",
       "      <td>1.0</td>\n",
       "    </tr>\n",
       "    <tr>\n",
       "      <th>r2</th>\n",
       "      <td>1.4</td>\n",
       "      <td>2.10</td>\n",
       "      <td>2.9</td>\n",
       "    </tr>\n",
       "  </tbody>\n",
       "</table>\n",
       "</div>"
      ],
      "text/plain": [
       "columns   c0    c1   c2\n",
       "rows                   \n",
       "r0       1.2  0.80  3.1\n",
       "r1       0.1  0.05  1.0\n",
       "r2       1.4  2.10  2.9"
      ]
     },
     "execution_count": 65,
     "metadata": {},
     "output_type": "execute_result"
    }
   ],
   "source": [
    "pts_df = points.unstack()\n",
    "pts_df"
   ]
  },
  {
   "cell_type": "code",
   "execution_count": 66,
   "metadata": {},
   "outputs": [
    {
     "data": {
      "text/plain": [
       "rows  columns\n",
       "r0    c0         1.20\n",
       "      c1         0.80\n",
       "      c2         3.10\n",
       "r1    c0         0.10\n",
       "      c1         0.05\n",
       "      c2         1.00\n",
       "r2    c0         1.40\n",
       "      c1         2.10\n",
       "      c2         2.90\n",
       "dtype: float64"
      ]
     },
     "execution_count": 66,
     "metadata": {},
     "output_type": "execute_result"
    }
   ],
   "source": [
    "pts_df.stack()  # back to a series"
   ]
  },
  {
   "cell_type": "markdown",
   "metadata": {},
   "source": [
    "If we want to turn the indices into \"real\" columns, we can use the `reset_index()` method:"
   ]
  },
  {
   "cell_type": "code",
   "execution_count": 67,
   "metadata": {},
   "outputs": [
    {
     "data": {
      "application/vnd.microsoft.datawrangler.viewer.v0+json": {
       "columns": [
        {
         "name": "index",
         "rawType": "int64",
         "type": "integer"
        },
        {
         "name": "rows",
         "rawType": "object",
         "type": "string"
        },
        {
         "name": "columns",
         "rawType": "object",
         "type": "string"
        },
        {
         "name": "temperature",
         "rawType": "float64",
         "type": "float"
        }
       ],
       "conversionMethod": "pd.DataFrame",
       "ref": "b205254a-b2fc-4a82-ab31-903f0f93a35e",
       "rows": [
        [
         "0",
         "r0",
         "c0",
         "1.2"
        ],
        [
         "1",
         "r0",
         "c1",
         "0.8"
        ],
        [
         "2",
         "r0",
         "c2",
         "3.1"
        ],
        [
         "3",
         "r1",
         "c0",
         "0.1"
        ],
        [
         "4",
         "r1",
         "c1",
         "0.05"
        ],
        [
         "5",
         "r1",
         "c2",
         "1.0"
        ],
        [
         "6",
         "r2",
         "c0",
         "1.4"
        ],
        [
         "7",
         "r2",
         "c1",
         "2.1"
        ],
        [
         "8",
         "r2",
         "c2",
         "2.9"
        ]
       ],
       "shape": {
        "columns": 3,
        "rows": 9
       }
      },
      "text/html": [
       "<div>\n",
       "<style scoped>\n",
       "    .dataframe tbody tr th:only-of-type {\n",
       "        vertical-align: middle;\n",
       "    }\n",
       "\n",
       "    .dataframe tbody tr th {\n",
       "        vertical-align: top;\n",
       "    }\n",
       "\n",
       "    .dataframe thead th {\n",
       "        text-align: right;\n",
       "    }\n",
       "</style>\n",
       "<table border=\"1\" class=\"dataframe\">\n",
       "  <thead>\n",
       "    <tr style=\"text-align: right;\">\n",
       "      <th></th>\n",
       "      <th>rows</th>\n",
       "      <th>columns</th>\n",
       "      <th>temperature</th>\n",
       "    </tr>\n",
       "  </thead>\n",
       "  <tbody>\n",
       "    <tr>\n",
       "      <th>0</th>\n",
       "      <td>r0</td>\n",
       "      <td>c0</td>\n",
       "      <td>1.20</td>\n",
       "    </tr>\n",
       "    <tr>\n",
       "      <th>1</th>\n",
       "      <td>r0</td>\n",
       "      <td>c1</td>\n",
       "      <td>0.80</td>\n",
       "    </tr>\n",
       "    <tr>\n",
       "      <th>2</th>\n",
       "      <td>r0</td>\n",
       "      <td>c2</td>\n",
       "      <td>3.10</td>\n",
       "    </tr>\n",
       "    <tr>\n",
       "      <th>3</th>\n",
       "      <td>r1</td>\n",
       "      <td>c0</td>\n",
       "      <td>0.10</td>\n",
       "    </tr>\n",
       "    <tr>\n",
       "      <th>4</th>\n",
       "      <td>r1</td>\n",
       "      <td>c1</td>\n",
       "      <td>0.05</td>\n",
       "    </tr>\n",
       "    <tr>\n",
       "      <th>5</th>\n",
       "      <td>r1</td>\n",
       "      <td>c2</td>\n",
       "      <td>1.00</td>\n",
       "    </tr>\n",
       "    <tr>\n",
       "      <th>6</th>\n",
       "      <td>r2</td>\n",
       "      <td>c0</td>\n",
       "      <td>1.40</td>\n",
       "    </tr>\n",
       "    <tr>\n",
       "      <th>7</th>\n",
       "      <td>r2</td>\n",
       "      <td>c1</td>\n",
       "      <td>2.10</td>\n",
       "    </tr>\n",
       "    <tr>\n",
       "      <th>8</th>\n",
       "      <td>r2</td>\n",
       "      <td>c2</td>\n",
       "      <td>2.90</td>\n",
       "    </tr>\n",
       "  </tbody>\n",
       "</table>\n",
       "</div>"
      ],
      "text/plain": [
       "  rows columns  temperature\n",
       "0   r0      c0         1.20\n",
       "1   r0      c1         0.80\n",
       "2   r0      c2         3.10\n",
       "3   r1      c0         0.10\n",
       "4   r1      c1         0.05\n",
       "5   r1      c2         1.00\n",
       "6   r2      c0         1.40\n",
       "7   r2      c1         2.10\n",
       "8   r2      c2         2.90"
      ]
     },
     "execution_count": 67,
     "metadata": {},
     "output_type": "execute_result"
    }
   ],
   "source": [
    "pts_df_reset = points.reset_index()\n",
    "pts_df_reset"
   ]
  },
  {
   "cell_type": "markdown",
   "metadata": {},
   "source": [
    "So why bother with these (you haven't seen nothing yet) complicated multi-indices?\n",
    "\n",
    "As you might have guessed, adding data points, i.e. increasing the dimensionality of the data, is very easy and intuitive. Data remains aligned through addition and deletion of data. Moreover, treating these categorical variables as an index can help the mental modeling of the problem, especially when you wish to perform statistical modeling with your analysis."
   ]
  },
  {
   "cell_type": "markdown",
   "metadata": {},
   "source": [
    "### Constructing a MultiIndex"
   ]
  },
  {
   "cell_type": "markdown",
   "metadata": {},
   "source": [
    "Creating a hierarchical index can be done in several ways:"
   ]
  },
  {
   "cell_type": "code",
   "execution_count": 68,
   "metadata": {},
   "outputs": [
    {
     "data": {
      "text/plain": [
       "MultiIndex([('a', 1),\n",
       "            ('a', 2),\n",
       "            ('b', 1),\n",
       "            ('b', 2)],\n",
       "           )"
      ]
     },
     "execution_count": 68,
     "metadata": {},
     "output_type": "execute_result"
    }
   ],
   "source": [
    "pd.MultiIndex.from_arrays([['a', 'a', 'b', 'b'], [1, 2, 1, 2]])"
   ]
  },
  {
   "cell_type": "code",
   "execution_count": 69,
   "metadata": {},
   "outputs": [
    {
     "data": {
      "text/plain": [
       "MultiIndex([('a', 1),\n",
       "            ('a', 2),\n",
       "            ('b', 1),\n",
       "            ('b', 2)],\n",
       "           )"
      ]
     },
     "execution_count": 69,
     "metadata": {},
     "output_type": "execute_result"
    }
   ],
   "source": [
    "pd.MultiIndex.from_tuples([('a', 1), ('a', 2), ('b', 1), ('b', 2)])"
   ]
  },
  {
   "cell_type": "code",
   "execution_count": 70,
   "metadata": {},
   "outputs": [
    {
     "data": {
      "text/plain": [
       "MultiIndex([('a', 1),\n",
       "            ('a', 2),\n",
       "            ('b', 1),\n",
       "            ('b', 2)],\n",
       "           )"
      ]
     },
     "execution_count": 70,
     "metadata": {},
     "output_type": "execute_result"
    }
   ],
   "source": [
    "pd.MultiIndex.from_product([['a', 'b'], [1, 2]])  # Cartesian product"
   ]
  },
  {
   "cell_type": "markdown",
   "metadata": {},
   "source": [
    "The most common way to construct a MultiIndex, though, is to add to the existing index one of the columns of the dataframe. We'll see how it's done below."
   ]
  },
  {
   "cell_type": "markdown",
   "metadata": {},
   "source": [
    "Another important note is that with dataframes, the column and row index is symmetric. In effect this means that  the columns could also contain a MultiIndex:"
   ]
  },
  {
   "cell_type": "code",
   "execution_count": 71,
   "metadata": {},
   "outputs": [
    {
     "data": {
      "application/vnd.microsoft.datawrangler.viewer.v0+json": {
       "columns": [
        {
         "name": "('year', 'visit')",
         "rawType": "object",
         "type": "unknown"
        },
        {
         "name": "('Bob', 'HR')",
         "rawType": "float64",
         "type": "float"
        },
        {
         "name": "('Bob', 'Temp')",
         "rawType": "float64",
         "type": "float"
        },
        {
         "name": "('Guido', 'HR')",
         "rawType": "float64",
         "type": "float"
        },
        {
         "name": "('Guido', 'Temp')",
         "rawType": "float64",
         "type": "float"
        },
        {
         "name": "('Sue', 'HR')",
         "rawType": "float64",
         "type": "float"
        },
        {
         "name": "('Sue', 'Temp')",
         "rawType": "float64",
         "type": "float"
        }
       ],
       "conversionMethod": "pd.DataFrame",
       "ref": "8a3b8a5b-3169-41b5-9d22-5970f3ebb53d",
       "rows": [
        [
         "(np.int64(2013), np.int64(1))",
         "38.0",
         "36.2",
         "25.0",
         "36.2",
         "29.0",
         "37.4"
        ],
        [
         "(np.int64(2013), np.int64(2))",
         "28.0",
         "36.6",
         "32.0",
         "37.3",
         "40.0",
         "38.1"
        ],
        [
         "(np.int64(2014), np.int64(1))",
         "31.0",
         "38.6",
         "38.0",
         "38.3",
         "33.0",
         "36.1"
        ],
        [
         "(np.int64(2014), np.int64(2))",
         "35.0",
         "35.5",
         "37.0",
         "37.5",
         "34.0",
         "36.5"
        ]
       ],
       "shape": {
        "columns": 6,
        "rows": 4
       }
      },
      "text/html": [
       "<div>\n",
       "<style scoped>\n",
       "    .dataframe tbody tr th:only-of-type {\n",
       "        vertical-align: middle;\n",
       "    }\n",
       "\n",
       "    .dataframe tbody tr th {\n",
       "        vertical-align: top;\n",
       "    }\n",
       "\n",
       "    .dataframe thead tr th {\n",
       "        text-align: left;\n",
       "    }\n",
       "\n",
       "    .dataframe thead tr:last-of-type th {\n",
       "        text-align: right;\n",
       "    }\n",
       "</style>\n",
       "<table border=\"1\" class=\"dataframe\">\n",
       "  <thead>\n",
       "    <tr>\n",
       "      <th></th>\n",
       "      <th>subject</th>\n",
       "      <th colspan=\"2\" halign=\"left\">Bob</th>\n",
       "      <th colspan=\"2\" halign=\"left\">Guido</th>\n",
       "      <th colspan=\"2\" halign=\"left\">Sue</th>\n",
       "    </tr>\n",
       "    <tr>\n",
       "      <th></th>\n",
       "      <th>type</th>\n",
       "      <th>HR</th>\n",
       "      <th>Temp</th>\n",
       "      <th>HR</th>\n",
       "      <th>Temp</th>\n",
       "      <th>HR</th>\n",
       "      <th>Temp</th>\n",
       "    </tr>\n",
       "    <tr>\n",
       "      <th>year</th>\n",
       "      <th>visit</th>\n",
       "      <th></th>\n",
       "      <th></th>\n",
       "      <th></th>\n",
       "      <th></th>\n",
       "      <th></th>\n",
       "      <th></th>\n",
       "    </tr>\n",
       "  </thead>\n",
       "  <tbody>\n",
       "    <tr>\n",
       "      <th rowspan=\"2\" valign=\"top\">2013</th>\n",
       "      <th>1</th>\n",
       "      <td>38.0</td>\n",
       "      <td>36.2</td>\n",
       "      <td>25.0</td>\n",
       "      <td>36.2</td>\n",
       "      <td>29.0</td>\n",
       "      <td>37.4</td>\n",
       "    </tr>\n",
       "    <tr>\n",
       "      <th>2</th>\n",
       "      <td>28.0</td>\n",
       "      <td>36.6</td>\n",
       "      <td>32.0</td>\n",
       "      <td>37.3</td>\n",
       "      <td>40.0</td>\n",
       "      <td>38.1</td>\n",
       "    </tr>\n",
       "    <tr>\n",
       "      <th rowspan=\"2\" valign=\"top\">2014</th>\n",
       "      <th>1</th>\n",
       "      <td>31.0</td>\n",
       "      <td>38.6</td>\n",
       "      <td>38.0</td>\n",
       "      <td>38.3</td>\n",
       "      <td>33.0</td>\n",
       "      <td>36.1</td>\n",
       "    </tr>\n",
       "    <tr>\n",
       "      <th>2</th>\n",
       "      <td>35.0</td>\n",
       "      <td>35.5</td>\n",
       "      <td>37.0</td>\n",
       "      <td>37.5</td>\n",
       "      <td>34.0</td>\n",
       "      <td>36.5</td>\n",
       "    </tr>\n",
       "  </tbody>\n",
       "</table>\n",
       "</div>"
      ],
      "text/plain": [
       "subject      Bob       Guido         Sue      \n",
       "type          HR  Temp    HR  Temp    HR  Temp\n",
       "year visit                                    \n",
       "2013 1      38.0  36.2  25.0  36.2  29.0  37.4\n",
       "     2      28.0  36.6  32.0  37.3  40.0  38.1\n",
       "2014 1      31.0  38.6  38.0  38.3  33.0  36.1\n",
       "     2      35.0  35.5  37.0  37.5  34.0  36.5"
      ]
     },
     "execution_count": 71,
     "metadata": {},
     "output_type": "execute_result"
    }
   ],
   "source": [
    "index = pd.MultiIndex.from_product([[2013, 2014], [1, 2]],\n",
    "                                   names=['year', 'visit'])\n",
    "columns = pd.MultiIndex.from_product([['Bob', 'Guido', 'Sue'], ['HR', 'Temp']],\n",
    "                                     names=['subject', 'type'])\n",
    "\n",
    "# mock some data\n",
    "data = np.round(np.random.randn(4, 6), 1)\n",
    "data[:, ::2] *= 10\n",
    "data += 37\n",
    "\n",
    "# create the DataFrame\n",
    "health_data = pd.DataFrame(data, index=index, columns=columns)\n",
    "health_data"
   ]
  },
  {
   "cell_type": "markdown",
   "metadata": {},
   "source": [
    "This sometimes might seem too much, and so usually people prefer to keep the column index as a simple list of names, moving any nestedness to the row index. This is due to the fact that usually columns represent the measured dependent variable."
   ]
  },
  {
   "cell_type": "code",
   "execution_count": 72,
   "metadata": {},
   "outputs": [
    {
     "data": {
      "application/vnd.microsoft.datawrangler.viewer.v0+json": {
       "columns": [
        {
         "name": "('year', 'visit', 'subject')",
         "rawType": "object",
         "type": "unknown"
        },
        {
         "name": "HR",
         "rawType": "float64",
         "type": "float"
        },
        {
         "name": "Temp",
         "rawType": "float64",
         "type": "float"
        }
       ],
       "conversionMethod": "pd.DataFrame",
       "ref": "20a7803a-7c3e-4925-a8c3-c23445204dad",
       "rows": [
        [
         "(np.int64(2013), np.int64(1), 'Bob')",
         "46.0",
         "36.2"
        ],
        [
         "(np.int64(2013), np.int64(1), 'Guido')",
         "48.0",
         "38.2"
        ],
        [
         "(np.int64(2013), np.int64(1), 'Sue')",
         "35.0",
         "35.0"
        ],
        [
         "(np.int64(2013), np.int64(2), 'Bob')",
         "26.0",
         "35.9"
        ],
        [
         "(np.int64(2013), np.int64(2), 'Guido')",
         "19.0",
         "37.2"
        ],
        [
         "(np.int64(2013), np.int64(2), 'Sue')",
         "34.0",
         "36.7"
        ],
        [
         "(np.int64(2014), np.int64(1), 'Bob')",
         "60.0",
         "37.0"
        ],
        [
         "(np.int64(2014), np.int64(1), 'Guido')",
         "40.0",
         "37.7"
        ],
        [
         "(np.int64(2014), np.int64(1), 'Sue')",
         "19.0",
         "35.5"
        ],
        [
         "(np.int64(2014), np.int64(2), 'Bob')",
         "25.0",
         "36.5"
        ],
        [
         "(np.int64(2014), np.int64(2), 'Guido')",
         "38.0",
         "36.1"
        ],
        [
         "(np.int64(2014), np.int64(2), 'Sue')",
         "29.0",
         "35.8"
        ]
       ],
       "shape": {
        "columns": 2,
        "rows": 12
       }
      },
      "text/html": [
       "<div>\n",
       "<style scoped>\n",
       "    .dataframe tbody tr th:only-of-type {\n",
       "        vertical-align: middle;\n",
       "    }\n",
       "\n",
       "    .dataframe tbody tr th {\n",
       "        vertical-align: top;\n",
       "    }\n",
       "\n",
       "    .dataframe thead th {\n",
       "        text-align: right;\n",
       "    }\n",
       "</style>\n",
       "<table border=\"1\" class=\"dataframe\">\n",
       "  <thead>\n",
       "    <tr style=\"text-align: right;\">\n",
       "      <th></th>\n",
       "      <th></th>\n",
       "      <th></th>\n",
       "      <th>HR</th>\n",
       "      <th>Temp</th>\n",
       "    </tr>\n",
       "    <tr>\n",
       "      <th>year</th>\n",
       "      <th>visit</th>\n",
       "      <th>subject</th>\n",
       "      <th></th>\n",
       "      <th></th>\n",
       "    </tr>\n",
       "  </thead>\n",
       "  <tbody>\n",
       "    <tr>\n",
       "      <th rowspan=\"6\" valign=\"top\">2013</th>\n",
       "      <th rowspan=\"3\" valign=\"top\">1</th>\n",
       "      <th>Bob</th>\n",
       "      <td>46.0</td>\n",
       "      <td>36.2</td>\n",
       "    </tr>\n",
       "    <tr>\n",
       "      <th>Guido</th>\n",
       "      <td>48.0</td>\n",
       "      <td>38.2</td>\n",
       "    </tr>\n",
       "    <tr>\n",
       "      <th>Sue</th>\n",
       "      <td>35.0</td>\n",
       "      <td>35.0</td>\n",
       "    </tr>\n",
       "    <tr>\n",
       "      <th rowspan=\"3\" valign=\"top\">2</th>\n",
       "      <th>Bob</th>\n",
       "      <td>26.0</td>\n",
       "      <td>35.9</td>\n",
       "    </tr>\n",
       "    <tr>\n",
       "      <th>Guido</th>\n",
       "      <td>19.0</td>\n",
       "      <td>37.2</td>\n",
       "    </tr>\n",
       "    <tr>\n",
       "      <th>Sue</th>\n",
       "      <td>34.0</td>\n",
       "      <td>36.7</td>\n",
       "    </tr>\n",
       "    <tr>\n",
       "      <th rowspan=\"6\" valign=\"top\">2014</th>\n",
       "      <th rowspan=\"3\" valign=\"top\">1</th>\n",
       "      <th>Bob</th>\n",
       "      <td>60.0</td>\n",
       "      <td>37.0</td>\n",
       "    </tr>\n",
       "    <tr>\n",
       "      <th>Guido</th>\n",
       "      <td>40.0</td>\n",
       "      <td>37.7</td>\n",
       "    </tr>\n",
       "    <tr>\n",
       "      <th>Sue</th>\n",
       "      <td>19.0</td>\n",
       "      <td>35.5</td>\n",
       "    </tr>\n",
       "    <tr>\n",
       "      <th rowspan=\"3\" valign=\"top\">2</th>\n",
       "      <th>Bob</th>\n",
       "      <td>25.0</td>\n",
       "      <td>36.5</td>\n",
       "    </tr>\n",
       "    <tr>\n",
       "      <th>Guido</th>\n",
       "      <td>38.0</td>\n",
       "      <td>36.1</td>\n",
       "    </tr>\n",
       "    <tr>\n",
       "      <th>Sue</th>\n",
       "      <td>29.0</td>\n",
       "      <td>35.8</td>\n",
       "    </tr>\n",
       "  </tbody>\n",
       "</table>\n",
       "</div>"
      ],
      "text/plain": [
       "                      HR  Temp\n",
       "year visit subject            \n",
       "2013 1     Bob      46.0  36.2\n",
       "           Guido    48.0  38.2\n",
       "           Sue      35.0  35.0\n",
       "     2     Bob      26.0  35.9\n",
       "           Guido    19.0  37.2\n",
       "           Sue      34.0  36.7\n",
       "2014 1     Bob      60.0  37.0\n",
       "           Guido    40.0  37.7\n",
       "           Sue      19.0  35.5\n",
       "     2     Bob      25.0  36.5\n",
       "           Guido    38.0  36.1\n",
       "           Sue      29.0  35.8"
      ]
     },
     "execution_count": 72,
     "metadata": {},
     "output_type": "execute_result"
    }
   ],
   "source": [
    "index = pd.MultiIndex.from_product([[2013, 2014], [1, 2], ['Bob', 'Guido', 'Sue']],\n",
    "                                   names=['year', 'visit', 'subject'])\n",
    "columns = ['HR', 'Temp']\n",
    "\n",
    "# mock some data\n",
    "data = np.round(np.random.randn(12, 2), 1)\n",
    "data[:, ::2] *= 10\n",
    "data += 37\n",
    "\n",
    "# create the DataFrame\n",
    "health_data_row = pd.DataFrame(data, index=index, columns=columns)\n",
    "health_data_row"
   ]
  },
  {
   "cell_type": "markdown",
   "metadata": {},
   "source": [
    "#### Creating a MultiIndex from a data column"
   ]
  },
  {
   "cell_type": "markdown",
   "metadata": {},
   "source": [
    "While all of the above methods work, and could be useful sometimes, the most common method of creating an index is from an existing data column. "
   ]
  },
  {
   "cell_type": "code",
   "execution_count": 73,
   "metadata": {},
   "outputs": [
    {
     "data": {
      "application/vnd.microsoft.datawrangler.viewer.v0+json": {
       "columns": [
        {
         "name": "index",
         "rawType": "int64",
         "type": "integer"
        },
        {
         "name": "location",
         "rawType": "object",
         "type": "string"
        },
        {
         "name": "day",
         "rawType": "object",
         "type": "string"
        },
        {
         "name": "temp",
         "rawType": "float64",
         "type": "float"
        },
        {
         "name": "humidity",
         "rawType": "int64",
         "type": "integer"
        }
       ],
       "conversionMethod": "pd.DataFrame",
       "ref": "9705f7f1-a3e3-4e95-8274-4afd4d5cb33a",
       "rows": [
        [
         "0",
         "AL",
         "SUN",
         "12.3",
         "31"
        ],
        [
         "1",
         "AL",
         "SUN",
         "14.1",
         "45"
        ],
        [
         "2",
         "NY",
         "TUE",
         "21.3",
         "41"
        ],
        [
         "3",
         "NY",
         "WED",
         "20.9",
         "41"
        ],
        [
         "4",
         "NY",
         "SAT",
         "18.8",
         "49"
        ],
        [
         "5",
         "VA",
         "SAT",
         "16.5",
         "52"
        ]
       ],
       "shape": {
        "columns": 4,
        "rows": 6
       }
      },
      "text/html": [
       "<div>\n",
       "<style scoped>\n",
       "    .dataframe tbody tr th:only-of-type {\n",
       "        vertical-align: middle;\n",
       "    }\n",
       "\n",
       "    .dataframe tbody tr th {\n",
       "        vertical-align: top;\n",
       "    }\n",
       "\n",
       "    .dataframe thead th {\n",
       "        text-align: right;\n",
       "    }\n",
       "</style>\n",
       "<table border=\"1\" class=\"dataframe\">\n",
       "  <thead>\n",
       "    <tr style=\"text-align: right;\">\n",
       "      <th></th>\n",
       "      <th>location</th>\n",
       "      <th>day</th>\n",
       "      <th>temp</th>\n",
       "      <th>humidity</th>\n",
       "    </tr>\n",
       "  </thead>\n",
       "  <tbody>\n",
       "    <tr>\n",
       "      <th>0</th>\n",
       "      <td>AL</td>\n",
       "      <td>SUN</td>\n",
       "      <td>12.3</td>\n",
       "      <td>31</td>\n",
       "    </tr>\n",
       "    <tr>\n",
       "      <th>1</th>\n",
       "      <td>AL</td>\n",
       "      <td>SUN</td>\n",
       "      <td>14.1</td>\n",
       "      <td>45</td>\n",
       "    </tr>\n",
       "    <tr>\n",
       "      <th>2</th>\n",
       "      <td>NY</td>\n",
       "      <td>TUE</td>\n",
       "      <td>21.3</td>\n",
       "      <td>41</td>\n",
       "    </tr>\n",
       "    <tr>\n",
       "      <th>3</th>\n",
       "      <td>NY</td>\n",
       "      <td>WED</td>\n",
       "      <td>20.9</td>\n",
       "      <td>41</td>\n",
       "    </tr>\n",
       "    <tr>\n",
       "      <th>4</th>\n",
       "      <td>NY</td>\n",
       "      <td>SAT</td>\n",
       "      <td>18.8</td>\n",
       "      <td>49</td>\n",
       "    </tr>\n",
       "    <tr>\n",
       "      <th>5</th>\n",
       "      <td>VA</td>\n",
       "      <td>SAT</td>\n",
       "      <td>16.5</td>\n",
       "      <td>52</td>\n",
       "    </tr>\n",
       "  </tbody>\n",
       "</table>\n",
       "</div>"
      ],
      "text/plain": [
       "  location  day  temp  humidity\n",
       "0       AL  SUN  12.3        31\n",
       "1       AL  SUN  14.1        45\n",
       "2       NY  TUE  21.3        41\n",
       "3       NY  WED  20.9        41\n",
       "4       NY  SAT  18.8        49\n",
       "5       VA  SAT  16.5        52"
      ]
     },
     "execution_count": 73,
     "metadata": {},
     "output_type": "execute_result"
    }
   ],
   "source": [
    "location = ['AL', 'AL', 'NY', 'NY', 'NY', 'VA']\n",
    "day = ['SUN', 'SUN', 'TUE', 'WED', 'SAT', 'SAT']\n",
    "temp = [12.3, 14.1, 21.3, 20.9, 18.8, 16.5]\n",
    "humidity = [31, 45, 41, 41, 49, 52]\n",
    "states = pd.DataFrame(dict(location=location, day=day, \n",
    "                           temp=temp, humidity=humidity))\n",
    "states"
   ]
  },
  {
   "cell_type": "code",
   "execution_count": 74,
   "metadata": {},
   "outputs": [
    {
     "data": {
      "application/vnd.microsoft.datawrangler.viewer.v0+json": {
       "columns": [
        {
         "name": "day",
         "rawType": "object",
         "type": "string"
        },
        {
         "name": "location",
         "rawType": "object",
         "type": "string"
        },
        {
         "name": "temp",
         "rawType": "float64",
         "type": "float"
        },
        {
         "name": "humidity",
         "rawType": "int64",
         "type": "integer"
        }
       ],
       "conversionMethod": "pd.DataFrame",
       "ref": "1c80f37d-780e-4ea9-a359-2010ffa8c96f",
       "rows": [
        [
         "SUN",
         "AL",
         "12.3",
         "31"
        ],
        [
         "SUN",
         "AL",
         "14.1",
         "45"
        ],
        [
         "TUE",
         "NY",
         "21.3",
         "41"
        ],
        [
         "WED",
         "NY",
         "20.9",
         "41"
        ],
        [
         "SAT",
         "NY",
         "18.8",
         "49"
        ],
        [
         "SAT",
         "VA",
         "16.5",
         "52"
        ]
       ],
       "shape": {
        "columns": 3,
        "rows": 6
       }
      },
      "text/html": [
       "<div>\n",
       "<style scoped>\n",
       "    .dataframe tbody tr th:only-of-type {\n",
       "        vertical-align: middle;\n",
       "    }\n",
       "\n",
       "    .dataframe tbody tr th {\n",
       "        vertical-align: top;\n",
       "    }\n",
       "\n",
       "    .dataframe thead th {\n",
       "        text-align: right;\n",
       "    }\n",
       "</style>\n",
       "<table border=\"1\" class=\"dataframe\">\n",
       "  <thead>\n",
       "    <tr style=\"text-align: right;\">\n",
       "      <th></th>\n",
       "      <th>location</th>\n",
       "      <th>temp</th>\n",
       "      <th>humidity</th>\n",
       "    </tr>\n",
       "    <tr>\n",
       "      <th>day</th>\n",
       "      <th></th>\n",
       "      <th></th>\n",
       "      <th></th>\n",
       "    </tr>\n",
       "  </thead>\n",
       "  <tbody>\n",
       "    <tr>\n",
       "      <th>SUN</th>\n",
       "      <td>AL</td>\n",
       "      <td>12.3</td>\n",
       "      <td>31</td>\n",
       "    </tr>\n",
       "    <tr>\n",
       "      <th>SUN</th>\n",
       "      <td>AL</td>\n",
       "      <td>14.1</td>\n",
       "      <td>45</td>\n",
       "    </tr>\n",
       "    <tr>\n",
       "      <th>TUE</th>\n",
       "      <td>NY</td>\n",
       "      <td>21.3</td>\n",
       "      <td>41</td>\n",
       "    </tr>\n",
       "    <tr>\n",
       "      <th>WED</th>\n",
       "      <td>NY</td>\n",
       "      <td>20.9</td>\n",
       "      <td>41</td>\n",
       "    </tr>\n",
       "    <tr>\n",
       "      <th>SAT</th>\n",
       "      <td>NY</td>\n",
       "      <td>18.8</td>\n",
       "      <td>49</td>\n",
       "    </tr>\n",
       "    <tr>\n",
       "      <th>SAT</th>\n",
       "      <td>VA</td>\n",
       "      <td>16.5</td>\n",
       "      <td>52</td>\n",
       "    </tr>\n",
       "  </tbody>\n",
       "</table>\n",
       "</div>"
      ],
      "text/plain": [
       "    location  temp  humidity\n",
       "day                         \n",
       "SUN       AL  12.3        31\n",
       "SUN       AL  14.1        45\n",
       "TUE       NY  21.3        41\n",
       "WED       NY  20.9        41\n",
       "SAT       NY  18.8        49\n",
       "SAT       VA  16.5        52"
      ]
     },
     "execution_count": 74,
     "metadata": {},
     "output_type": "execute_result"
    }
   ],
   "source": [
    "states.set_index(['day'])"
   ]
  },
  {
   "cell_type": "code",
   "execution_count": 75,
   "metadata": {},
   "outputs": [
    {
     "data": {
      "application/vnd.microsoft.datawrangler.viewer.v0+json": {
       "columns": [
        {
         "name": "('day', 'location')",
         "rawType": "object",
         "type": "unknown"
        },
        {
         "name": "temp",
         "rawType": "float64",
         "type": "float"
        },
        {
         "name": "humidity",
         "rawType": "int64",
         "type": "integer"
        }
       ],
       "conversionMethod": "pd.DataFrame",
       "ref": "f172dd4f-5031-484b-b415-d7db31c6341c",
       "rows": [
        [
         "('SUN', 'AL')",
         "12.3",
         "31"
        ],
        [
         "('SUN', 'AL')",
         "14.1",
         "45"
        ],
        [
         "('TUE', 'NY')",
         "21.3",
         "41"
        ],
        [
         "('WED', 'NY')",
         "20.9",
         "41"
        ],
        [
         "('SAT', 'NY')",
         "18.8",
         "49"
        ],
        [
         "('SAT', 'VA')",
         "16.5",
         "52"
        ]
       ],
       "shape": {
        "columns": 2,
        "rows": 6
       }
      },
      "text/html": [
       "<div>\n",
       "<style scoped>\n",
       "    .dataframe tbody tr th:only-of-type {\n",
       "        vertical-align: middle;\n",
       "    }\n",
       "\n",
       "    .dataframe tbody tr th {\n",
       "        vertical-align: top;\n",
       "    }\n",
       "\n",
       "    .dataframe thead th {\n",
       "        text-align: right;\n",
       "    }\n",
       "</style>\n",
       "<table border=\"1\" class=\"dataframe\">\n",
       "  <thead>\n",
       "    <tr style=\"text-align: right;\">\n",
       "      <th></th>\n",
       "      <th></th>\n",
       "      <th>temp</th>\n",
       "      <th>humidity</th>\n",
       "    </tr>\n",
       "    <tr>\n",
       "      <th>day</th>\n",
       "      <th>location</th>\n",
       "      <th></th>\n",
       "      <th></th>\n",
       "    </tr>\n",
       "  </thead>\n",
       "  <tbody>\n",
       "    <tr>\n",
       "      <th rowspan=\"2\" valign=\"top\">SUN</th>\n",
       "      <th>AL</th>\n",
       "      <td>12.3</td>\n",
       "      <td>31</td>\n",
       "    </tr>\n",
       "    <tr>\n",
       "      <th>AL</th>\n",
       "      <td>14.1</td>\n",
       "      <td>45</td>\n",
       "    </tr>\n",
       "    <tr>\n",
       "      <th>TUE</th>\n",
       "      <th>NY</th>\n",
       "      <td>21.3</td>\n",
       "      <td>41</td>\n",
       "    </tr>\n",
       "    <tr>\n",
       "      <th>WED</th>\n",
       "      <th>NY</th>\n",
       "      <td>20.9</td>\n",
       "      <td>41</td>\n",
       "    </tr>\n",
       "    <tr>\n",
       "      <th rowspan=\"2\" valign=\"top\">SAT</th>\n",
       "      <th>NY</th>\n",
       "      <td>18.8</td>\n",
       "      <td>49</td>\n",
       "    </tr>\n",
       "    <tr>\n",
       "      <th>VA</th>\n",
       "      <td>16.5</td>\n",
       "      <td>52</td>\n",
       "    </tr>\n",
       "  </tbody>\n",
       "</table>\n",
       "</div>"
      ],
      "text/plain": [
       "              temp  humidity\n",
       "day location                \n",
       "SUN AL        12.3        31\n",
       "    AL        14.1        45\n",
       "TUE NY        21.3        41\n",
       "WED NY        20.9        41\n",
       "SAT NY        18.8        49\n",
       "    VA        16.5        52"
      ]
     },
     "execution_count": 75,
     "metadata": {},
     "output_type": "execute_result"
    }
   ],
   "source": [
    "states.set_index(['day', 'location'])"
   ]
  },
  {
   "cell_type": "code",
   "execution_count": 76,
   "metadata": {},
   "outputs": [
    {
     "data": {
      "application/vnd.microsoft.datawrangler.viewer.v0+json": {
       "columns": [
        {
         "name": "(None, 'day', 'location')",
         "rawType": "object",
         "type": "unknown"
        },
        {
         "name": "temp",
         "rawType": "float64",
         "type": "float"
        },
        {
         "name": "humidity",
         "rawType": "int64",
         "type": "integer"
        }
       ],
       "conversionMethod": "pd.DataFrame",
       "ref": "b7328f03-5f1b-4296-9c60-9b9312b788b7",
       "rows": [
        [
         "(0, 'SUN', 'AL')",
         "12.3",
         "31"
        ],
        [
         "(1, 'SUN', 'AL')",
         "14.1",
         "45"
        ],
        [
         "(2, 'TUE', 'NY')",
         "21.3",
         "41"
        ],
        [
         "(3, 'WED', 'NY')",
         "20.9",
         "41"
        ],
        [
         "(4, 'SAT', 'NY')",
         "18.8",
         "49"
        ],
        [
         "(5, 'SAT', 'VA')",
         "16.5",
         "52"
        ]
       ],
       "shape": {
        "columns": 2,
        "rows": 6
       }
      },
      "text/html": [
       "<div>\n",
       "<style scoped>\n",
       "    .dataframe tbody tr th:only-of-type {\n",
       "        vertical-align: middle;\n",
       "    }\n",
       "\n",
       "    .dataframe tbody tr th {\n",
       "        vertical-align: top;\n",
       "    }\n",
       "\n",
       "    .dataframe thead th {\n",
       "        text-align: right;\n",
       "    }\n",
       "</style>\n",
       "<table border=\"1\" class=\"dataframe\">\n",
       "  <thead>\n",
       "    <tr style=\"text-align: right;\">\n",
       "      <th></th>\n",
       "      <th></th>\n",
       "      <th></th>\n",
       "      <th>temp</th>\n",
       "      <th>humidity</th>\n",
       "    </tr>\n",
       "    <tr>\n",
       "      <th></th>\n",
       "      <th>day</th>\n",
       "      <th>location</th>\n",
       "      <th></th>\n",
       "      <th></th>\n",
       "    </tr>\n",
       "  </thead>\n",
       "  <tbody>\n",
       "    <tr>\n",
       "      <th>0</th>\n",
       "      <th>SUN</th>\n",
       "      <th>AL</th>\n",
       "      <td>12.3</td>\n",
       "      <td>31</td>\n",
       "    </tr>\n",
       "    <tr>\n",
       "      <th>1</th>\n",
       "      <th>SUN</th>\n",
       "      <th>AL</th>\n",
       "      <td>14.1</td>\n",
       "      <td>45</td>\n",
       "    </tr>\n",
       "    <tr>\n",
       "      <th>2</th>\n",
       "      <th>TUE</th>\n",
       "      <th>NY</th>\n",
       "      <td>21.3</td>\n",
       "      <td>41</td>\n",
       "    </tr>\n",
       "    <tr>\n",
       "      <th>3</th>\n",
       "      <th>WED</th>\n",
       "      <th>NY</th>\n",
       "      <td>20.9</td>\n",
       "      <td>41</td>\n",
       "    </tr>\n",
       "    <tr>\n",
       "      <th>4</th>\n",
       "      <th>SAT</th>\n",
       "      <th>NY</th>\n",
       "      <td>18.8</td>\n",
       "      <td>49</td>\n",
       "    </tr>\n",
       "    <tr>\n",
       "      <th>5</th>\n",
       "      <th>SAT</th>\n",
       "      <th>VA</th>\n",
       "      <td>16.5</td>\n",
       "      <td>52</td>\n",
       "    </tr>\n",
       "  </tbody>\n",
       "</table>\n",
       "</div>"
      ],
      "text/plain": [
       "                temp  humidity\n",
       "  day location                \n",
       "0 SUN AL        12.3        31\n",
       "1 SUN AL        14.1        45\n",
       "2 TUE NY        21.3        41\n",
       "3 WED NY        20.9        41\n",
       "4 SAT NY        18.8        49\n",
       "5 SAT VA        16.5        52"
      ]
     },
     "execution_count": 76,
     "metadata": {},
     "output_type": "execute_result"
    }
   ],
   "source": [
    "states.set_index(['day', 'location'], append=True)"
   ]
  },
  {
   "cell_type": "code",
   "execution_count": 77,
   "metadata": {},
   "outputs": [
    {
     "data": {
      "application/vnd.microsoft.datawrangler.viewer.v0+json": {
       "columns": [
        {
         "name": "(None, 'day')",
         "rawType": "object",
         "type": "unknown"
        },
        {
         "name": "location",
         "rawType": "object",
         "type": "string"
        },
        {
         "name": "temp",
         "rawType": "float64",
         "type": "float"
        },
        {
         "name": "humidity",
         "rawType": "int64",
         "type": "integer"
        }
       ],
       "conversionMethod": "pd.DataFrame",
       "ref": "d3ea5588-8fad-41a5-b9e8-9f07f01497dc",
       "rows": [
        [
         "('i', 'SUN')",
         "AL",
         "12.3",
         "31"
        ],
        [
         "('ii', 'SUN')",
         "AL",
         "14.1",
         "45"
        ],
        [
         "('iii', 'TUE')",
         "NY",
         "21.3",
         "41"
        ],
        [
         "('iv', 'WED')",
         "NY",
         "20.9",
         "41"
        ],
        [
         "('v', 'SAT')",
         "NY",
         "18.8",
         "49"
        ],
        [
         "('vi', 'SAT')",
         "VA",
         "16.5",
         "52"
        ]
       ],
       "shape": {
        "columns": 3,
        "rows": 6
       }
      },
      "text/html": [
       "<div>\n",
       "<style scoped>\n",
       "    .dataframe tbody tr th:only-of-type {\n",
       "        vertical-align: middle;\n",
       "    }\n",
       "\n",
       "    .dataframe tbody tr th {\n",
       "        vertical-align: top;\n",
       "    }\n",
       "\n",
       "    .dataframe thead th {\n",
       "        text-align: right;\n",
       "    }\n",
       "</style>\n",
       "<table border=\"1\" class=\"dataframe\">\n",
       "  <thead>\n",
       "    <tr style=\"text-align: right;\">\n",
       "      <th></th>\n",
       "      <th></th>\n",
       "      <th>location</th>\n",
       "      <th>temp</th>\n",
       "      <th>humidity</th>\n",
       "    </tr>\n",
       "    <tr>\n",
       "      <th></th>\n",
       "      <th>day</th>\n",
       "      <th></th>\n",
       "      <th></th>\n",
       "      <th></th>\n",
       "    </tr>\n",
       "  </thead>\n",
       "  <tbody>\n",
       "    <tr>\n",
       "      <th>i</th>\n",
       "      <th>SUN</th>\n",
       "      <td>AL</td>\n",
       "      <td>12.3</td>\n",
       "      <td>31</td>\n",
       "    </tr>\n",
       "    <tr>\n",
       "      <th>ii</th>\n",
       "      <th>SUN</th>\n",
       "      <td>AL</td>\n",
       "      <td>14.1</td>\n",
       "      <td>45</td>\n",
       "    </tr>\n",
       "    <tr>\n",
       "      <th>iii</th>\n",
       "      <th>TUE</th>\n",
       "      <td>NY</td>\n",
       "      <td>21.3</td>\n",
       "      <td>41</td>\n",
       "    </tr>\n",
       "    <tr>\n",
       "      <th>iv</th>\n",
       "      <th>WED</th>\n",
       "      <td>NY</td>\n",
       "      <td>20.9</td>\n",
       "      <td>41</td>\n",
       "    </tr>\n",
       "    <tr>\n",
       "      <th>v</th>\n",
       "      <th>SAT</th>\n",
       "      <td>NY</td>\n",
       "      <td>18.8</td>\n",
       "      <td>49</td>\n",
       "    </tr>\n",
       "    <tr>\n",
       "      <th>vi</th>\n",
       "      <th>SAT</th>\n",
       "      <td>VA</td>\n",
       "      <td>16.5</td>\n",
       "      <td>52</td>\n",
       "    </tr>\n",
       "  </tbody>\n",
       "</table>\n",
       "</div>"
      ],
      "text/plain": [
       "        location  temp  humidity\n",
       "    day                         \n",
       "i   SUN       AL  12.3        31\n",
       "ii  SUN       AL  14.1        45\n",
       "iii TUE       NY  21.3        41\n",
       "iv  WED       NY  20.9        41\n",
       "v   SAT       NY  18.8        49\n",
       "vi  SAT       VA  16.5        52"
      ]
     },
     "execution_count": 77,
     "metadata": {},
     "output_type": "execute_result"
    }
   ],
   "source": [
    "states.set_index([['i', 'ii', 'iii', 'iv', 'v', 'vi'], 'day'])"
   ]
  },
  {
   "cell_type": "markdown",
   "metadata": {},
   "source": [
    "### Indexing and Slicing a MultiIndex"
   ]
  },
  {
   "cell_type": "markdown",
   "metadata": {},
   "source": [
    "We'll use these dataframes as an example:"
   ]
  },
  {
   "cell_type": "code",
   "execution_count": 78,
   "metadata": {},
   "outputs": [
    {
     "data": {
      "application/vnd.microsoft.datawrangler.viewer.v0+json": {
       "columns": [
        {
         "name": "('year', 'visit')",
         "rawType": "object",
         "type": "unknown"
        },
        {
         "name": "('Bob', 'HR')",
         "rawType": "float64",
         "type": "float"
        },
        {
         "name": "('Bob', 'Temp')",
         "rawType": "float64",
         "type": "float"
        },
        {
         "name": "('Guido', 'HR')",
         "rawType": "float64",
         "type": "float"
        },
        {
         "name": "('Guido', 'Temp')",
         "rawType": "float64",
         "type": "float"
        },
        {
         "name": "('Sue', 'HR')",
         "rawType": "float64",
         "type": "float"
        },
        {
         "name": "('Sue', 'Temp')",
         "rawType": "float64",
         "type": "float"
        }
       ],
       "conversionMethod": "pd.DataFrame",
       "ref": "b7e40dc6-3b0d-4b30-b22e-177caee886ba",
       "rows": [
        [
         "(np.int64(2013), np.int64(1))",
         "38.0",
         "36.2",
         "25.0",
         "36.2",
         "29.0",
         "37.4"
        ],
        [
         "(np.int64(2013), np.int64(2))",
         "28.0",
         "36.6",
         "32.0",
         "37.3",
         "40.0",
         "38.1"
        ],
        [
         "(np.int64(2014), np.int64(1))",
         "31.0",
         "38.6",
         "38.0",
         "38.3",
         "33.0",
         "36.1"
        ],
        [
         "(np.int64(2014), np.int64(2))",
         "35.0",
         "35.5",
         "37.0",
         "37.5",
         "34.0",
         "36.5"
        ]
       ],
       "shape": {
        "columns": 6,
        "rows": 4
       }
      },
      "text/html": [
       "<div>\n",
       "<style scoped>\n",
       "    .dataframe tbody tr th:only-of-type {\n",
       "        vertical-align: middle;\n",
       "    }\n",
       "\n",
       "    .dataframe tbody tr th {\n",
       "        vertical-align: top;\n",
       "    }\n",
       "\n",
       "    .dataframe thead tr th {\n",
       "        text-align: left;\n",
       "    }\n",
       "\n",
       "    .dataframe thead tr:last-of-type th {\n",
       "        text-align: right;\n",
       "    }\n",
       "</style>\n",
       "<table border=\"1\" class=\"dataframe\">\n",
       "  <thead>\n",
       "    <tr>\n",
       "      <th></th>\n",
       "      <th>subject</th>\n",
       "      <th colspan=\"2\" halign=\"left\">Bob</th>\n",
       "      <th colspan=\"2\" halign=\"left\">Guido</th>\n",
       "      <th colspan=\"2\" halign=\"left\">Sue</th>\n",
       "    </tr>\n",
       "    <tr>\n",
       "      <th></th>\n",
       "      <th>type</th>\n",
       "      <th>HR</th>\n",
       "      <th>Temp</th>\n",
       "      <th>HR</th>\n",
       "      <th>Temp</th>\n",
       "      <th>HR</th>\n",
       "      <th>Temp</th>\n",
       "    </tr>\n",
       "    <tr>\n",
       "      <th>year</th>\n",
       "      <th>visit</th>\n",
       "      <th></th>\n",
       "      <th></th>\n",
       "      <th></th>\n",
       "      <th></th>\n",
       "      <th></th>\n",
       "      <th></th>\n",
       "    </tr>\n",
       "  </thead>\n",
       "  <tbody>\n",
       "    <tr>\n",
       "      <th rowspan=\"2\" valign=\"top\">2013</th>\n",
       "      <th>1</th>\n",
       "      <td>38.0</td>\n",
       "      <td>36.2</td>\n",
       "      <td>25.0</td>\n",
       "      <td>36.2</td>\n",
       "      <td>29.0</td>\n",
       "      <td>37.4</td>\n",
       "    </tr>\n",
       "    <tr>\n",
       "      <th>2</th>\n",
       "      <td>28.0</td>\n",
       "      <td>36.6</td>\n",
       "      <td>32.0</td>\n",
       "      <td>37.3</td>\n",
       "      <td>40.0</td>\n",
       "      <td>38.1</td>\n",
       "    </tr>\n",
       "    <tr>\n",
       "      <th rowspan=\"2\" valign=\"top\">2014</th>\n",
       "      <th>1</th>\n",
       "      <td>31.0</td>\n",
       "      <td>38.6</td>\n",
       "      <td>38.0</td>\n",
       "      <td>38.3</td>\n",
       "      <td>33.0</td>\n",
       "      <td>36.1</td>\n",
       "    </tr>\n",
       "    <tr>\n",
       "      <th>2</th>\n",
       "      <td>35.0</td>\n",
       "      <td>35.5</td>\n",
       "      <td>37.0</td>\n",
       "      <td>37.5</td>\n",
       "      <td>34.0</td>\n",
       "      <td>36.5</td>\n",
       "    </tr>\n",
       "  </tbody>\n",
       "</table>\n",
       "</div>"
      ],
      "text/plain": [
       "subject      Bob       Guido         Sue      \n",
       "type          HR  Temp    HR  Temp    HR  Temp\n",
       "year visit                                    \n",
       "2013 1      38.0  36.2  25.0  36.2  29.0  37.4\n",
       "     2      28.0  36.6  32.0  37.3  40.0  38.1\n",
       "2014 1      31.0  38.6  38.0  38.3  33.0  36.1\n",
       "     2      35.0  35.5  37.0  37.5  34.0  36.5"
      ]
     },
     "execution_count": 78,
     "metadata": {},
     "output_type": "execute_result"
    }
   ],
   "source": [
    "health_data"
   ]
  },
  {
   "cell_type": "code",
   "execution_count": 79,
   "metadata": {
    "scrolled": true
   },
   "outputs": [
    {
     "data": {
      "application/vnd.microsoft.datawrangler.viewer.v0+json": {
       "columns": [
        {
         "name": "('year', 'visit', 'subject')",
         "rawType": "object",
         "type": "unknown"
        },
        {
         "name": "HR",
         "rawType": "float64",
         "type": "float"
        },
        {
         "name": "Temp",
         "rawType": "float64",
         "type": "float"
        }
       ],
       "conversionMethod": "pd.DataFrame",
       "ref": "9222424c-ce9c-4d00-baac-6677498ce74b",
       "rows": [
        [
         "(np.int64(2013), np.int64(1), 'Bob')",
         "46.0",
         "36.2"
        ],
        [
         "(np.int64(2013), np.int64(1), 'Guido')",
         "48.0",
         "38.2"
        ],
        [
         "(np.int64(2013), np.int64(1), 'Sue')",
         "35.0",
         "35.0"
        ],
        [
         "(np.int64(2013), np.int64(2), 'Bob')",
         "26.0",
         "35.9"
        ],
        [
         "(np.int64(2013), np.int64(2), 'Guido')",
         "19.0",
         "37.2"
        ],
        [
         "(np.int64(2013), np.int64(2), 'Sue')",
         "34.0",
         "36.7"
        ],
        [
         "(np.int64(2014), np.int64(1), 'Bob')",
         "60.0",
         "37.0"
        ],
        [
         "(np.int64(2014), np.int64(1), 'Guido')",
         "40.0",
         "37.7"
        ],
        [
         "(np.int64(2014), np.int64(1), 'Sue')",
         "19.0",
         "35.5"
        ],
        [
         "(np.int64(2014), np.int64(2), 'Bob')",
         "25.0",
         "36.5"
        ],
        [
         "(np.int64(2014), np.int64(2), 'Guido')",
         "38.0",
         "36.1"
        ],
        [
         "(np.int64(2014), np.int64(2), 'Sue')",
         "29.0",
         "35.8"
        ]
       ],
       "shape": {
        "columns": 2,
        "rows": 12
       }
      },
      "text/html": [
       "<div>\n",
       "<style scoped>\n",
       "    .dataframe tbody tr th:only-of-type {\n",
       "        vertical-align: middle;\n",
       "    }\n",
       "\n",
       "    .dataframe tbody tr th {\n",
       "        vertical-align: top;\n",
       "    }\n",
       "\n",
       "    .dataframe thead th {\n",
       "        text-align: right;\n",
       "    }\n",
       "</style>\n",
       "<table border=\"1\" class=\"dataframe\">\n",
       "  <thead>\n",
       "    <tr style=\"text-align: right;\">\n",
       "      <th></th>\n",
       "      <th></th>\n",
       "      <th></th>\n",
       "      <th>HR</th>\n",
       "      <th>Temp</th>\n",
       "    </tr>\n",
       "    <tr>\n",
       "      <th>year</th>\n",
       "      <th>visit</th>\n",
       "      <th>subject</th>\n",
       "      <th></th>\n",
       "      <th></th>\n",
       "    </tr>\n",
       "  </thead>\n",
       "  <tbody>\n",
       "    <tr>\n",
       "      <th rowspan=\"6\" valign=\"top\">2013</th>\n",
       "      <th rowspan=\"3\" valign=\"top\">1</th>\n",
       "      <th>Bob</th>\n",
       "      <td>46.0</td>\n",
       "      <td>36.2</td>\n",
       "    </tr>\n",
       "    <tr>\n",
       "      <th>Guido</th>\n",
       "      <td>48.0</td>\n",
       "      <td>38.2</td>\n",
       "    </tr>\n",
       "    <tr>\n",
       "      <th>Sue</th>\n",
       "      <td>35.0</td>\n",
       "      <td>35.0</td>\n",
       "    </tr>\n",
       "    <tr>\n",
       "      <th rowspan=\"3\" valign=\"top\">2</th>\n",
       "      <th>Bob</th>\n",
       "      <td>26.0</td>\n",
       "      <td>35.9</td>\n",
       "    </tr>\n",
       "    <tr>\n",
       "      <th>Guido</th>\n",
       "      <td>19.0</td>\n",
       "      <td>37.2</td>\n",
       "    </tr>\n",
       "    <tr>\n",
       "      <th>Sue</th>\n",
       "      <td>34.0</td>\n",
       "      <td>36.7</td>\n",
       "    </tr>\n",
       "    <tr>\n",
       "      <th rowspan=\"6\" valign=\"top\">2014</th>\n",
       "      <th rowspan=\"3\" valign=\"top\">1</th>\n",
       "      <th>Bob</th>\n",
       "      <td>60.0</td>\n",
       "      <td>37.0</td>\n",
       "    </tr>\n",
       "    <tr>\n",
       "      <th>Guido</th>\n",
       "      <td>40.0</td>\n",
       "      <td>37.7</td>\n",
       "    </tr>\n",
       "    <tr>\n",
       "      <th>Sue</th>\n",
       "      <td>19.0</td>\n",
       "      <td>35.5</td>\n",
       "    </tr>\n",
       "    <tr>\n",
       "      <th rowspan=\"3\" valign=\"top\">2</th>\n",
       "      <th>Bob</th>\n",
       "      <td>25.0</td>\n",
       "      <td>36.5</td>\n",
       "    </tr>\n",
       "    <tr>\n",
       "      <th>Guido</th>\n",
       "      <td>38.0</td>\n",
       "      <td>36.1</td>\n",
       "    </tr>\n",
       "    <tr>\n",
       "      <th>Sue</th>\n",
       "      <td>29.0</td>\n",
       "      <td>35.8</td>\n",
       "    </tr>\n",
       "  </tbody>\n",
       "</table>\n",
       "</div>"
      ],
      "text/plain": [
       "                      HR  Temp\n",
       "year visit subject            \n",
       "2013 1     Bob      46.0  36.2\n",
       "           Guido    48.0  38.2\n",
       "           Sue      35.0  35.0\n",
       "     2     Bob      26.0  35.9\n",
       "           Guido    19.0  37.2\n",
       "           Sue      34.0  36.7\n",
       "2014 1     Bob      60.0  37.0\n",
       "           Guido    40.0  37.7\n",
       "           Sue      19.0  35.5\n",
       "     2     Bob      25.0  36.5\n",
       "           Guido    38.0  36.1\n",
       "           Sue      29.0  35.8"
      ]
     },
     "execution_count": 79,
     "metadata": {},
     "output_type": "execute_result"
    }
   ],
   "source": [
    "health_data_row"
   ]
  },
  {
   "cell_type": "markdown",
   "metadata": {},
   "source": [
    "If all we wish to do is to examine a column, indexing is very easy. Don't forget the dataframe as dictionary analogy:"
   ]
  },
  {
   "cell_type": "code",
   "execution_count": 80,
   "metadata": {},
   "outputs": [
    {
     "data": {
      "application/vnd.microsoft.datawrangler.viewer.v0+json": {
       "columns": [
        {
         "name": "('year', 'visit')",
         "rawType": "object",
         "type": "unknown"
        },
        {
         "name": "HR",
         "rawType": "float64",
         "type": "float"
        },
        {
         "name": "Temp",
         "rawType": "float64",
         "type": "float"
        }
       ],
       "conversionMethod": "pd.DataFrame",
       "ref": "7333ac14-839c-435b-8805-d31b7785f66c",
       "rows": [
        [
         "(np.int64(2013), np.int64(1))",
         "25.0",
         "36.2"
        ],
        [
         "(np.int64(2013), np.int64(2))",
         "32.0",
         "37.3"
        ],
        [
         "(np.int64(2014), np.int64(1))",
         "38.0",
         "38.3"
        ],
        [
         "(np.int64(2014), np.int64(2))",
         "37.0",
         "37.5"
        ]
       ],
       "shape": {
        "columns": 2,
        "rows": 4
       }
      },
      "text/html": [
       "<div>\n",
       "<style scoped>\n",
       "    .dataframe tbody tr th:only-of-type {\n",
       "        vertical-align: middle;\n",
       "    }\n",
       "\n",
       "    .dataframe tbody tr th {\n",
       "        vertical-align: top;\n",
       "    }\n",
       "\n",
       "    .dataframe thead th {\n",
       "        text-align: right;\n",
       "    }\n",
       "</style>\n",
       "<table border=\"1\" class=\"dataframe\">\n",
       "  <thead>\n",
       "    <tr style=\"text-align: right;\">\n",
       "      <th></th>\n",
       "      <th>type</th>\n",
       "      <th>HR</th>\n",
       "      <th>Temp</th>\n",
       "    </tr>\n",
       "    <tr>\n",
       "      <th>year</th>\n",
       "      <th>visit</th>\n",
       "      <th></th>\n",
       "      <th></th>\n",
       "    </tr>\n",
       "  </thead>\n",
       "  <tbody>\n",
       "    <tr>\n",
       "      <th rowspan=\"2\" valign=\"top\">2013</th>\n",
       "      <th>1</th>\n",
       "      <td>25.0</td>\n",
       "      <td>36.2</td>\n",
       "    </tr>\n",
       "    <tr>\n",
       "      <th>2</th>\n",
       "      <td>32.0</td>\n",
       "      <td>37.3</td>\n",
       "    </tr>\n",
       "    <tr>\n",
       "      <th rowspan=\"2\" valign=\"top\">2014</th>\n",
       "      <th>1</th>\n",
       "      <td>38.0</td>\n",
       "      <td>38.3</td>\n",
       "    </tr>\n",
       "    <tr>\n",
       "      <th>2</th>\n",
       "      <td>37.0</td>\n",
       "      <td>37.5</td>\n",
       "    </tr>\n",
       "  </tbody>\n",
       "</table>\n",
       "</div>"
      ],
      "text/plain": [
       "type          HR  Temp\n",
       "year visit            \n",
       "2013 1      25.0  36.2\n",
       "     2      32.0  37.3\n",
       "2014 1      38.0  38.3\n",
       "     2      37.0  37.5"
      ]
     },
     "execution_count": 80,
     "metadata": {},
     "output_type": "execute_result"
    }
   ],
   "source": [
    "health_data['Guido']  # works for the column MultiIndex as expected"
   ]
  },
  {
   "cell_type": "code",
   "execution_count": 81,
   "metadata": {},
   "outputs": [
    {
     "data": {
      "text/plain": [
       "year  visit  subject\n",
       "2013  1      Bob        46.0\n",
       "             Guido      48.0\n",
       "             Sue        35.0\n",
       "      2      Bob        26.0\n",
       "             Guido      19.0\n",
       "             Sue        34.0\n",
       "2014  1      Bob        60.0\n",
       "             Guido      40.0\n",
       "             Sue        19.0\n",
       "      2      Bob        25.0\n",
       "             Guido      38.0\n",
       "             Sue        29.0\n",
       "Name: HR, dtype: float64"
      ]
     },
     "execution_count": 81,
     "metadata": {},
     "output_type": "execute_result"
    }
   ],
   "source": [
    "health_data_row['HR']  # that's a Series!"
   ]
  },
  {
   "cell_type": "markdown",
   "metadata": {},
   "source": [
    "Accessing single elements is also pretty straight-forward:"
   ]
  },
  {
   "cell_type": "code",
   "execution_count": 82,
   "metadata": {},
   "outputs": [
    {
     "data": {
      "text/plain": [
       "HR      48.0\n",
       "Temp    38.2\n",
       "Name: (2013, 1, Guido), dtype: float64"
      ]
     },
     "execution_count": 82,
     "metadata": {},
     "output_type": "execute_result"
    }
   ],
   "source": [
    "health_data_row.loc[2013, 1, 'Guido']  # index triplet"
   ]
  },
  {
   "cell_type": "markdown",
   "metadata": {},
   "source": [
    "We can even slice easily using the first `MultiIndex` (year in our case):"
   ]
  },
  {
   "cell_type": "code",
   "execution_count": 83,
   "metadata": {
    "scrolled": true
   },
   "outputs": [
    {
     "data": {
      "application/vnd.microsoft.datawrangler.viewer.v0+json": {
       "columns": [
        {
         "name": "('year', 'visit', 'subject')",
         "rawType": "object",
         "type": "unknown"
        },
        {
         "name": "HR",
         "rawType": "float64",
         "type": "float"
        },
        {
         "name": "Temp",
         "rawType": "float64",
         "type": "float"
        }
       ],
       "conversionMethod": "pd.DataFrame",
       "ref": "0f7cabe9-fe54-42f8-bf55-1a3da56b886e",
       "rows": [
        [
         "(np.int64(2013), np.int64(1), 'Bob')",
         "46.0",
         "36.2"
        ],
        [
         "(np.int64(2013), np.int64(1), 'Guido')",
         "48.0",
         "38.2"
        ],
        [
         "(np.int64(2013), np.int64(1), 'Sue')",
         "35.0",
         "35.0"
        ],
        [
         "(np.int64(2013), np.int64(2), 'Bob')",
         "26.0",
         "35.9"
        ],
        [
         "(np.int64(2013), np.int64(2), 'Guido')",
         "19.0",
         "37.2"
        ],
        [
         "(np.int64(2013), np.int64(2), 'Sue')",
         "34.0",
         "36.7"
        ],
        [
         "(np.int64(2014), np.int64(1), 'Bob')",
         "60.0",
         "37.0"
        ],
        [
         "(np.int64(2014), np.int64(1), 'Guido')",
         "40.0",
         "37.7"
        ],
        [
         "(np.int64(2014), np.int64(1), 'Sue')",
         "19.0",
         "35.5"
        ],
        [
         "(np.int64(2014), np.int64(2), 'Bob')",
         "25.0",
         "36.5"
        ],
        [
         "(np.int64(2014), np.int64(2), 'Guido')",
         "38.0",
         "36.1"
        ],
        [
         "(np.int64(2014), np.int64(2), 'Sue')",
         "29.0",
         "35.8"
        ]
       ],
       "shape": {
        "columns": 2,
        "rows": 12
       }
      },
      "text/html": [
       "<div>\n",
       "<style scoped>\n",
       "    .dataframe tbody tr th:only-of-type {\n",
       "        vertical-align: middle;\n",
       "    }\n",
       "\n",
       "    .dataframe tbody tr th {\n",
       "        vertical-align: top;\n",
       "    }\n",
       "\n",
       "    .dataframe thead th {\n",
       "        text-align: right;\n",
       "    }\n",
       "</style>\n",
       "<table border=\"1\" class=\"dataframe\">\n",
       "  <thead>\n",
       "    <tr style=\"text-align: right;\">\n",
       "      <th></th>\n",
       "      <th></th>\n",
       "      <th></th>\n",
       "      <th>HR</th>\n",
       "      <th>Temp</th>\n",
       "    </tr>\n",
       "    <tr>\n",
       "      <th>year</th>\n",
       "      <th>visit</th>\n",
       "      <th>subject</th>\n",
       "      <th></th>\n",
       "      <th></th>\n",
       "    </tr>\n",
       "  </thead>\n",
       "  <tbody>\n",
       "    <tr>\n",
       "      <th rowspan=\"6\" valign=\"top\">2013</th>\n",
       "      <th rowspan=\"3\" valign=\"top\">1</th>\n",
       "      <th>Bob</th>\n",
       "      <td>46.0</td>\n",
       "      <td>36.2</td>\n",
       "    </tr>\n",
       "    <tr>\n",
       "      <th>Guido</th>\n",
       "      <td>48.0</td>\n",
       "      <td>38.2</td>\n",
       "    </tr>\n",
       "    <tr>\n",
       "      <th>Sue</th>\n",
       "      <td>35.0</td>\n",
       "      <td>35.0</td>\n",
       "    </tr>\n",
       "    <tr>\n",
       "      <th rowspan=\"3\" valign=\"top\">2</th>\n",
       "      <th>Bob</th>\n",
       "      <td>26.0</td>\n",
       "      <td>35.9</td>\n",
       "    </tr>\n",
       "    <tr>\n",
       "      <th>Guido</th>\n",
       "      <td>19.0</td>\n",
       "      <td>37.2</td>\n",
       "    </tr>\n",
       "    <tr>\n",
       "      <th>Sue</th>\n",
       "      <td>34.0</td>\n",
       "      <td>36.7</td>\n",
       "    </tr>\n",
       "    <tr>\n",
       "      <th rowspan=\"6\" valign=\"top\">2014</th>\n",
       "      <th rowspan=\"3\" valign=\"top\">1</th>\n",
       "      <th>Bob</th>\n",
       "      <td>60.0</td>\n",
       "      <td>37.0</td>\n",
       "    </tr>\n",
       "    <tr>\n",
       "      <th>Guido</th>\n",
       "      <td>40.0</td>\n",
       "      <td>37.7</td>\n",
       "    </tr>\n",
       "    <tr>\n",
       "      <th>Sue</th>\n",
       "      <td>19.0</td>\n",
       "      <td>35.5</td>\n",
       "    </tr>\n",
       "    <tr>\n",
       "      <th rowspan=\"3\" valign=\"top\">2</th>\n",
       "      <th>Bob</th>\n",
       "      <td>25.0</td>\n",
       "      <td>36.5</td>\n",
       "    </tr>\n",
       "    <tr>\n",
       "      <th>Guido</th>\n",
       "      <td>38.0</td>\n",
       "      <td>36.1</td>\n",
       "    </tr>\n",
       "    <tr>\n",
       "      <th>Sue</th>\n",
       "      <td>29.0</td>\n",
       "      <td>35.8</td>\n",
       "    </tr>\n",
       "  </tbody>\n",
       "</table>\n",
       "</div>"
      ],
      "text/plain": [
       "                      HR  Temp\n",
       "year visit subject            \n",
       "2013 1     Bob      46.0  36.2\n",
       "           Guido    48.0  38.2\n",
       "           Sue      35.0  35.0\n",
       "     2     Bob      26.0  35.9\n",
       "           Guido    19.0  37.2\n",
       "           Sue      34.0  36.7\n",
       "2014 1     Bob      60.0  37.0\n",
       "           Guido    40.0  37.7\n",
       "           Sue      19.0  35.5\n",
       "     2     Bob      25.0  36.5\n",
       "           Guido    38.0  36.1\n",
       "           Sue      29.0  35.8"
      ]
     },
     "execution_count": 83,
     "metadata": {},
     "output_type": "execute_result"
    }
   ],
   "source": [
    "health_data_row.loc[2013:2017]  # 2017 doesn't exist, but Python's slicing rules prevent an exception here\n",
    "# health_data_row.loc[1]  # doesn't work"
   ]
  },
  {
   "cell_type": "markdown",
   "metadata": {},
   "source": [
    "Slicing is a bit more difficult when we want to take into account all available indices. This is due to the possible conflicts between the different indices and the columns.\n",
    "\n",
    "Assuming we want to look at all the years, with all the visits, only by Bob - we would want to write something like this:"
   ]
  },
  {
   "cell_type": "code",
   "execution_count": 84,
   "metadata": {
    "scrolled": true
   },
   "outputs": [
    {
     "ename": "SyntaxError",
     "evalue": "invalid syntax (514763098.py, line 1)",
     "output_type": "error",
     "traceback": [
      "  \u001b[36mCell\u001b[39m\u001b[36m \u001b[39m\u001b[32mIn[84]\u001b[39m\u001b[32m, line 1\u001b[39m\n\u001b[31m    \u001b[39m\u001b[31mhealth_data_row.loc[(:, :, 'Bob'), :]  # doesn't work\u001b[39m\n                         ^\n\u001b[31mSyntaxError\u001b[39m\u001b[31m:\u001b[39m invalid syntax\n"
     ]
    }
   ],
   "source": [
    "health_data_row.loc[(:, :, 'Bob'), :]  # doesn't work"
   ]
  },
  {
   "cell_type": "markdown",
   "metadata": {},
   "source": [
    "This pickle is solved in two possible ways:\n",
    "\n",
    "First option is the [`slice`](https://www.programiz.com/python-programming/methods/built-in/slice) object:\n"
   ]
  },
  {
   "cell_type": "code",
   "execution_count": 85,
   "metadata": {},
   "outputs": [
    {
     "data": {
      "text/plain": [
       "year  visit  subject\n",
       "2013  1      Bob        46.0\n",
       "      2      Bob        26.0\n",
       "2014  1      Bob        60.0\n",
       "      2      Bob        25.0\n",
       "Name: HR, dtype: float64"
      ]
     },
     "execution_count": 85,
     "metadata": {},
     "output_type": "execute_result"
    }
   ],
   "source": [
    "bobs_data = (slice(None), slice(None), 'Bob')  # all years, all visits, of Bob\n",
    "health_data_row.loc[bobs_data, 'HR']\n",
    "# arr[slice(None), 1] is the same as arr[:, 1]"
   ]
  },
  {
   "cell_type": "code",
   "execution_count": 86,
   "metadata": {},
   "outputs": [
    {
     "data": {
      "text/plain": [
       "year  visit  subject\n",
       "2013  1      Bob        46.0\n",
       "             Guido      48.0\n",
       "      2      Bob        26.0\n",
       "             Guido      19.0\n",
       "2014  1      Bob        60.0\n",
       "             Guido      40.0\n",
       "      2      Bob        25.0\n",
       "             Guido      38.0\n",
       "Name: HR, dtype: float64"
      ]
     },
     "execution_count": 86,
     "metadata": {},
     "output_type": "execute_result"
    }
   ],
   "source": [
    "row_idx = (slice(None), slice(None), slice('Bob', 'Guido'))  # all years, all visits, Bob + Guido\n",
    "health_data_row.loc[row_idx, 'HR']"
   ]
  },
  {
   "cell_type": "markdown",
   "metadata": {},
   "source": [
    "Another option is the [`IndexSlice`](https://pandas.pydata.org/pandas-docs/stable/reference/api/pandas.IndexSlice.html) object:"
   ]
  },
  {
   "cell_type": "code",
   "execution_count": 87,
   "metadata": {},
   "outputs": [
    {
     "data": {
      "application/vnd.microsoft.datawrangler.viewer.v0+json": {
       "columns": [
        {
         "name": "('year', 'visit', 'subject')",
         "rawType": "object",
         "type": "unknown"
        },
        {
         "name": "HR",
         "rawType": "float64",
         "type": "float"
        },
        {
         "name": "Temp",
         "rawType": "float64",
         "type": "float"
        }
       ],
       "conversionMethod": "pd.DataFrame",
       "ref": "f7ee6721-b0d4-4eb3-ae6d-c7a11d2ddac5",
       "rows": [
        [
         "(np.int64(2013), np.int64(1), 'Bob')",
         "46.0",
         "36.2"
        ],
        [
         "(np.int64(2013), np.int64(2), 'Bob')",
         "26.0",
         "35.9"
        ],
        [
         "(np.int64(2014), np.int64(1), 'Bob')",
         "60.0",
         "37.0"
        ],
        [
         "(np.int64(2014), np.int64(2), 'Bob')",
         "25.0",
         "36.5"
        ]
       ],
       "shape": {
        "columns": 2,
        "rows": 4
       }
      },
      "text/html": [
       "<div>\n",
       "<style scoped>\n",
       "    .dataframe tbody tr th:only-of-type {\n",
       "        vertical-align: middle;\n",
       "    }\n",
       "\n",
       "    .dataframe tbody tr th {\n",
       "        vertical-align: top;\n",
       "    }\n",
       "\n",
       "    .dataframe thead th {\n",
       "        text-align: right;\n",
       "    }\n",
       "</style>\n",
       "<table border=\"1\" class=\"dataframe\">\n",
       "  <thead>\n",
       "    <tr style=\"text-align: right;\">\n",
       "      <th></th>\n",
       "      <th></th>\n",
       "      <th></th>\n",
       "      <th>HR</th>\n",
       "      <th>Temp</th>\n",
       "    </tr>\n",
       "    <tr>\n",
       "      <th>year</th>\n",
       "      <th>visit</th>\n",
       "      <th>subject</th>\n",
       "      <th></th>\n",
       "      <th></th>\n",
       "    </tr>\n",
       "  </thead>\n",
       "  <tbody>\n",
       "    <tr>\n",
       "      <th rowspan=\"2\" valign=\"top\">2013</th>\n",
       "      <th>1</th>\n",
       "      <th>Bob</th>\n",
       "      <td>46.0</td>\n",
       "      <td>36.2</td>\n",
       "    </tr>\n",
       "    <tr>\n",
       "      <th>2</th>\n",
       "      <th>Bob</th>\n",
       "      <td>26.0</td>\n",
       "      <td>35.9</td>\n",
       "    </tr>\n",
       "    <tr>\n",
       "      <th rowspan=\"2\" valign=\"top\">2014</th>\n",
       "      <th>1</th>\n",
       "      <th>Bob</th>\n",
       "      <td>60.0</td>\n",
       "      <td>37.0</td>\n",
       "    </tr>\n",
       "    <tr>\n",
       "      <th>2</th>\n",
       "      <th>Bob</th>\n",
       "      <td>25.0</td>\n",
       "      <td>36.5</td>\n",
       "    </tr>\n",
       "  </tbody>\n",
       "</table>\n",
       "</div>"
      ],
      "text/plain": [
       "                      HR  Temp\n",
       "year visit subject            \n",
       "2013 1     Bob      46.0  36.2\n",
       "     2     Bob      26.0  35.9\n",
       "2014 1     Bob      60.0  37.0\n",
       "     2     Bob      25.0  36.5"
      ]
     },
     "execution_count": 87,
     "metadata": {},
     "output_type": "execute_result"
    }
   ],
   "source": [
    "\n",
    "idx = pd.IndexSlice\n",
    "health_data_row.loc[idx[:, :, 'Bob'], :]  # very close to the naive implementation"
   ]
  },
  {
   "cell_type": "code",
   "execution_count": 88,
   "metadata": {},
   "outputs": [
    {
     "data": {
      "text/plain": [
       "year  visit  subject\n",
       "2013  1      Bob        36.2\n",
       "             Guido      38.2\n",
       "2014  1      Bob        37.0\n",
       "             Guido      37.7\n",
       "Name: Temp, dtype: float64"
      ]
     },
     "execution_count": 88,
     "metadata": {},
     "output_type": "execute_result"
    }
   ],
   "source": [
    "idx2 = pd.IndexSlice\n",
    "health_data_row.loc[idx2[2013:2015, 1, 'Bob':'Guido'], 'Temp']"
   ]
  },
  {
   "cell_type": "markdown",
   "metadata": {},
   "source": [
    "Finally, there's one more way to index into a `MultiIndex` which is very straight-forward and explicit; the [cross-section](https://pandas.pydata.org/pandas-docs/stable/reference/api/pandas.DataFrame.xs.html)."
   ]
  },
  {
   "cell_type": "code",
   "execution_count": 89,
   "metadata": {},
   "outputs": [
    {
     "data": {
      "application/vnd.microsoft.datawrangler.viewer.v0+json": {
       "columns": [
        {
         "name": "subject",
         "rawType": "object",
         "type": "string"
        },
        {
         "name": "HR",
         "rawType": "float64",
         "type": "float"
        },
        {
         "name": "Temp",
         "rawType": "float64",
         "type": "float"
        }
       ],
       "conversionMethod": "pd.DataFrame",
       "ref": "56db5f13-73be-4a04-99ed-734beb175773",
       "rows": [
        [
         "Bob",
         "46.0",
         "36.2"
        ],
        [
         "Guido",
         "48.0",
         "38.2"
        ],
        [
         "Sue",
         "35.0",
         "35.0"
        ]
       ],
       "shape": {
        "columns": 2,
        "rows": 3
       }
      },
      "text/html": [
       "<div>\n",
       "<style scoped>\n",
       "    .dataframe tbody tr th:only-of-type {\n",
       "        vertical-align: middle;\n",
       "    }\n",
       "\n",
       "    .dataframe tbody tr th {\n",
       "        vertical-align: top;\n",
       "    }\n",
       "\n",
       "    .dataframe thead th {\n",
       "        text-align: right;\n",
       "    }\n",
       "</style>\n",
       "<table border=\"1\" class=\"dataframe\">\n",
       "  <thead>\n",
       "    <tr style=\"text-align: right;\">\n",
       "      <th></th>\n",
       "      <th>HR</th>\n",
       "      <th>Temp</th>\n",
       "    </tr>\n",
       "    <tr>\n",
       "      <th>subject</th>\n",
       "      <th></th>\n",
       "      <th></th>\n",
       "    </tr>\n",
       "  </thead>\n",
       "  <tbody>\n",
       "    <tr>\n",
       "      <th>Bob</th>\n",
       "      <td>46.0</td>\n",
       "      <td>36.2</td>\n",
       "    </tr>\n",
       "    <tr>\n",
       "      <th>Guido</th>\n",
       "      <td>48.0</td>\n",
       "      <td>38.2</td>\n",
       "    </tr>\n",
       "    <tr>\n",
       "      <th>Sue</th>\n",
       "      <td>35.0</td>\n",
       "      <td>35.0</td>\n",
       "    </tr>\n",
       "  </tbody>\n",
       "</table>\n",
       "</div>"
      ],
      "text/plain": [
       "           HR  Temp\n",
       "subject            \n",
       "Bob      46.0  36.2\n",
       "Guido    48.0  38.2\n",
       "Sue      35.0  35.0"
      ]
     },
     "execution_count": 89,
     "metadata": {},
     "output_type": "execute_result"
    }
   ],
   "source": [
    "health_data_row.xs(key=(2013, 1), level=('year', 'visit'))"
   ]
  },
  {
   "cell_type": "markdown",
   "metadata": {},
   "source": [
    "#### Small caveat: unsorted indices"
   ]
  },
  {
   "cell_type": "markdown",
   "metadata": {},
   "source": [
    "Having an unsorted index in your `MultiIndex` might make the interpreter pop a few exceptions at you:"
   ]
  },
  {
   "cell_type": "code",
   "execution_count": 90,
   "metadata": {},
   "outputs": [
    {
     "data": {
      "text/plain": [
       "char  int\n",
       "a     1      0.426421\n",
       "      2      0.378735\n",
       "c     1      0.370198\n",
       "      2      0.740161\n",
       "b     1      0.868685\n",
       "      2      0.990240\n",
       "dtype: float64"
      ]
     },
     "execution_count": 90,
     "metadata": {},
     "output_type": "execute_result"
    }
   ],
   "source": [
    "# char index in unsorted\n",
    "index = pd.MultiIndex.from_product([['a', 'c', 'b'], [1, 2]])\n",
    "data = pd.Series(np.random.rand(6), index=index)\n",
    "data.index.names = ['char', 'int']\n",
    "data"
   ]
  },
  {
   "cell_type": "code",
   "execution_count": 91,
   "metadata": {},
   "outputs": [
    {
     "ename": "UnsortedIndexError",
     "evalue": "'Key length (1) was greater than MultiIndex lexsort depth (0)'",
     "output_type": "error",
     "traceback": [
      "\u001b[31m---------------------------------------------------------------------------\u001b[39m",
      "\u001b[31mUnsortedIndexError\u001b[39m                        Traceback (most recent call last)",
      "\u001b[36mCell\u001b[39m\u001b[36m \u001b[39m\u001b[32mIn[91]\u001b[39m\u001b[32m, line 1\u001b[39m\n\u001b[32m----> \u001b[39m\u001b[32m1\u001b[39m \u001b[43mdata\u001b[49m\u001b[43m[\u001b[49m\u001b[33;43m'\u001b[39;49m\u001b[33;43ma\u001b[39;49m\u001b[33;43m'\u001b[39;49m\u001b[43m:\u001b[49m\u001b[33;43m'\u001b[39;49m\u001b[33;43mb\u001b[39;49m\u001b[33;43m'\u001b[39;49m\u001b[43m]\u001b[49m\n",
      "\u001b[36mFile \u001b[39m\u001b[32m~/Projects/courses/python_for_neuroscientists/textbook-public/venv/lib/python3.11/site-packages/pandas/core/series.py:1146\u001b[39m, in \u001b[36mSeries.__getitem__\u001b[39m\u001b[34m(self, key)\u001b[39m\n\u001b[32m   1142\u001b[39m             \u001b[38;5;28;01mreturn\u001b[39;00m \u001b[38;5;28mself\u001b[39m._get_values_tuple(key)\n\u001b[32m   1144\u001b[39m \u001b[38;5;28;01mif\u001b[39;00m \u001b[38;5;28misinstance\u001b[39m(key, \u001b[38;5;28mslice\u001b[39m):\n\u001b[32m   1145\u001b[39m     \u001b[38;5;66;03m# Do slice check before somewhat-costly is_bool_indexer\u001b[39;00m\n\u001b[32m-> \u001b[39m\u001b[32m1146\u001b[39m     \u001b[38;5;28;01mreturn\u001b[39;00m \u001b[38;5;28;43mself\u001b[39;49m\u001b[43m.\u001b[49m\u001b[43m_getitem_slice\u001b[49m\u001b[43m(\u001b[49m\u001b[43mkey\u001b[49m\u001b[43m)\u001b[49m\n\u001b[32m   1148\u001b[39m \u001b[38;5;28;01mif\u001b[39;00m com.is_bool_indexer(key):\n\u001b[32m   1149\u001b[39m     key = check_bool_indexer(\u001b[38;5;28mself\u001b[39m.index, key)\n",
      "\u001b[36mFile \u001b[39m\u001b[32m~/Projects/courses/python_for_neuroscientists/textbook-public/venv/lib/python3.11/site-packages/pandas/core/generic.py:4349\u001b[39m, in \u001b[36mNDFrame._getitem_slice\u001b[39m\u001b[34m(self, key)\u001b[39m\n\u001b[32m   4344\u001b[39m \u001b[38;5;250m\u001b[39m\u001b[33;03m\"\"\"\u001b[39;00m\n\u001b[32m   4345\u001b[39m \u001b[33;03m__getitem__ for the case where the key is a slice object.\u001b[39;00m\n\u001b[32m   4346\u001b[39m \u001b[33;03m\"\"\"\u001b[39;00m\n\u001b[32m   4347\u001b[39m \u001b[38;5;66;03m# _convert_slice_indexer to determine if this slice is positional\u001b[39;00m\n\u001b[32m   4348\u001b[39m \u001b[38;5;66;03m#  or label based, and if the latter, convert to positional\u001b[39;00m\n\u001b[32m-> \u001b[39m\u001b[32m4349\u001b[39m slobj = \u001b[38;5;28;43mself\u001b[39;49m\u001b[43m.\u001b[49m\u001b[43mindex\u001b[49m\u001b[43m.\u001b[49m\u001b[43m_convert_slice_indexer\u001b[49m\u001b[43m(\u001b[49m\u001b[43mkey\u001b[49m\u001b[43m,\u001b[49m\u001b[43m \u001b[49m\u001b[43mkind\u001b[49m\u001b[43m=\u001b[49m\u001b[33;43m\"\u001b[39;49m\u001b[33;43mgetitem\u001b[39;49m\u001b[33;43m\"\u001b[39;49m\u001b[43m)\u001b[49m\n\u001b[32m   4350\u001b[39m \u001b[38;5;28;01mif\u001b[39;00m \u001b[38;5;28misinstance\u001b[39m(slobj, np.ndarray):\n\u001b[32m   4351\u001b[39m     \u001b[38;5;66;03m# reachable with DatetimeIndex\u001b[39;00m\n\u001b[32m   4352\u001b[39m     indexer = lib.maybe_indices_to_slice(\n\u001b[32m   4353\u001b[39m         slobj.astype(np.intp, copy=\u001b[38;5;28;01mFalse\u001b[39;00m), \u001b[38;5;28mlen\u001b[39m(\u001b[38;5;28mself\u001b[39m)\n\u001b[32m   4354\u001b[39m     )\n",
      "\u001b[36mFile \u001b[39m\u001b[32m~/Projects/courses/python_for_neuroscientists/textbook-public/venv/lib/python3.11/site-packages/pandas/core/indexes/base.py:4281\u001b[39m, in \u001b[36mIndex._convert_slice_indexer\u001b[39m\u001b[34m(self, key, kind)\u001b[39m\n\u001b[32m   4279\u001b[39m     indexer = key\n\u001b[32m   4280\u001b[39m \u001b[38;5;28;01melse\u001b[39;00m:\n\u001b[32m-> \u001b[39m\u001b[32m4281\u001b[39m     indexer = \u001b[38;5;28;43mself\u001b[39;49m\u001b[43m.\u001b[49m\u001b[43mslice_indexer\u001b[49m\u001b[43m(\u001b[49m\u001b[43mstart\u001b[49m\u001b[43m,\u001b[49m\u001b[43m \u001b[49m\u001b[43mstop\u001b[49m\u001b[43m,\u001b[49m\u001b[43m \u001b[49m\u001b[43mstep\u001b[49m\u001b[43m)\u001b[49m\n\u001b[32m   4283\u001b[39m \u001b[38;5;28;01mreturn\u001b[39;00m indexer\n",
      "\u001b[36mFile \u001b[39m\u001b[32m~/Projects/courses/python_for_neuroscientists/textbook-public/venv/lib/python3.11/site-packages/pandas/core/indexes/base.py:6662\u001b[39m, in \u001b[36mIndex.slice_indexer\u001b[39m\u001b[34m(self, start, end, step)\u001b[39m\n\u001b[32m   6618\u001b[39m \u001b[38;5;28;01mdef\u001b[39;00m\u001b[38;5;250m \u001b[39m\u001b[34mslice_indexer\u001b[39m(\n\u001b[32m   6619\u001b[39m     \u001b[38;5;28mself\u001b[39m,\n\u001b[32m   6620\u001b[39m     start: Hashable | \u001b[38;5;28;01mNone\u001b[39;00m = \u001b[38;5;28;01mNone\u001b[39;00m,\n\u001b[32m   6621\u001b[39m     end: Hashable | \u001b[38;5;28;01mNone\u001b[39;00m = \u001b[38;5;28;01mNone\u001b[39;00m,\n\u001b[32m   6622\u001b[39m     step: \u001b[38;5;28mint\u001b[39m | \u001b[38;5;28;01mNone\u001b[39;00m = \u001b[38;5;28;01mNone\u001b[39;00m,\n\u001b[32m   6623\u001b[39m ) -> \u001b[38;5;28mslice\u001b[39m:\n\u001b[32m   6624\u001b[39m \u001b[38;5;250m    \u001b[39m\u001b[33;03m\"\"\"\u001b[39;00m\n\u001b[32m   6625\u001b[39m \u001b[33;03m    Compute the slice indexer for input labels and step.\u001b[39;00m\n\u001b[32m   6626\u001b[39m \n\u001b[32m   (...)\u001b[39m\u001b[32m   6660\u001b[39m \u001b[33;03m    slice(1, 3, None)\u001b[39;00m\n\u001b[32m   6661\u001b[39m \u001b[33;03m    \"\"\"\u001b[39;00m\n\u001b[32m-> \u001b[39m\u001b[32m6662\u001b[39m     start_slice, end_slice = \u001b[38;5;28;43mself\u001b[39;49m\u001b[43m.\u001b[49m\u001b[43mslice_locs\u001b[49m\u001b[43m(\u001b[49m\u001b[43mstart\u001b[49m\u001b[43m,\u001b[49m\u001b[43m \u001b[49m\u001b[43mend\u001b[49m\u001b[43m,\u001b[49m\u001b[43m \u001b[49m\u001b[43mstep\u001b[49m\u001b[43m=\u001b[49m\u001b[43mstep\u001b[49m\u001b[43m)\u001b[49m\n\u001b[32m   6664\u001b[39m     \u001b[38;5;66;03m# return a slice\u001b[39;00m\n\u001b[32m   6665\u001b[39m     \u001b[38;5;28;01mif\u001b[39;00m \u001b[38;5;129;01mnot\u001b[39;00m is_scalar(start_slice):\n",
      "\u001b[36mFile \u001b[39m\u001b[32m~/Projects/courses/python_for_neuroscientists/textbook-public/venv/lib/python3.11/site-packages/pandas/core/indexes/multi.py:2904\u001b[39m, in \u001b[36mMultiIndex.slice_locs\u001b[39m\u001b[34m(self, start, end, step)\u001b[39m\n\u001b[32m   2852\u001b[39m \u001b[38;5;250m\u001b[39m\u001b[33;03m\"\"\"\u001b[39;00m\n\u001b[32m   2853\u001b[39m \u001b[33;03mFor an ordered MultiIndex, compute the slice locations for input\u001b[39;00m\n\u001b[32m   2854\u001b[39m \u001b[33;03mlabels.\u001b[39;00m\n\u001b[32m   (...)\u001b[39m\u001b[32m   2900\u001b[39m \u001b[33;03m                      sequence of such.\u001b[39;00m\n\u001b[32m   2901\u001b[39m \u001b[33;03m\"\"\"\u001b[39;00m\n\u001b[32m   2902\u001b[39m \u001b[38;5;66;03m# This function adds nothing to its parent implementation (the magic\u001b[39;00m\n\u001b[32m   2903\u001b[39m \u001b[38;5;66;03m# happens in get_slice_bound method), but it adds meaningful doc.\u001b[39;00m\n\u001b[32m-> \u001b[39m\u001b[32m2904\u001b[39m \u001b[38;5;28;01mreturn\u001b[39;00m \u001b[38;5;28;43msuper\u001b[39;49m\u001b[43m(\u001b[49m\u001b[43m)\u001b[49m\u001b[43m.\u001b[49m\u001b[43mslice_locs\u001b[49m\u001b[43m(\u001b[49m\u001b[43mstart\u001b[49m\u001b[43m,\u001b[49m\u001b[43m \u001b[49m\u001b[43mend\u001b[49m\u001b[43m,\u001b[49m\u001b[43m \u001b[49m\u001b[43mstep\u001b[49m\u001b[43m)\u001b[49m\n",
      "\u001b[36mFile \u001b[39m\u001b[32m~/Projects/courses/python_for_neuroscientists/textbook-public/venv/lib/python3.11/site-packages/pandas/core/indexes/base.py:6879\u001b[39m, in \u001b[36mIndex.slice_locs\u001b[39m\u001b[34m(self, start, end, step)\u001b[39m\n\u001b[32m   6877\u001b[39m start_slice = \u001b[38;5;28;01mNone\u001b[39;00m\n\u001b[32m   6878\u001b[39m \u001b[38;5;28;01mif\u001b[39;00m start \u001b[38;5;129;01mis\u001b[39;00m \u001b[38;5;129;01mnot\u001b[39;00m \u001b[38;5;28;01mNone\u001b[39;00m:\n\u001b[32m-> \u001b[39m\u001b[32m6879\u001b[39m     start_slice = \u001b[38;5;28;43mself\u001b[39;49m\u001b[43m.\u001b[49m\u001b[43mget_slice_bound\u001b[49m\u001b[43m(\u001b[49m\u001b[43mstart\u001b[49m\u001b[43m,\u001b[49m\u001b[43m \u001b[49m\u001b[33;43m\"\u001b[39;49m\u001b[33;43mleft\u001b[39;49m\u001b[33;43m\"\u001b[39;49m\u001b[43m)\u001b[49m\n\u001b[32m   6880\u001b[39m \u001b[38;5;28;01mif\u001b[39;00m start_slice \u001b[38;5;129;01mis\u001b[39;00m \u001b[38;5;28;01mNone\u001b[39;00m:\n\u001b[32m   6881\u001b[39m     start_slice = \u001b[32m0\u001b[39m\n",
      "\u001b[36mFile \u001b[39m\u001b[32m~/Projects/courses/python_for_neuroscientists/textbook-public/venv/lib/python3.11/site-packages/pandas/core/indexes/multi.py:2848\u001b[39m, in \u001b[36mMultiIndex.get_slice_bound\u001b[39m\u001b[34m(self, label, side)\u001b[39m\n\u001b[32m   2846\u001b[39m \u001b[38;5;28;01mif\u001b[39;00m \u001b[38;5;129;01mnot\u001b[39;00m \u001b[38;5;28misinstance\u001b[39m(label, \u001b[38;5;28mtuple\u001b[39m):\n\u001b[32m   2847\u001b[39m     label = (label,)\n\u001b[32m-> \u001b[39m\u001b[32m2848\u001b[39m \u001b[38;5;28;01mreturn\u001b[39;00m \u001b[38;5;28;43mself\u001b[39;49m\u001b[43m.\u001b[49m\u001b[43m_partial_tup_index\u001b[49m\u001b[43m(\u001b[49m\u001b[43mlabel\u001b[49m\u001b[43m,\u001b[49m\u001b[43m \u001b[49m\u001b[43mside\u001b[49m\u001b[43m=\u001b[49m\u001b[43mside\u001b[49m\u001b[43m)\u001b[49m\n",
      "\u001b[36mFile \u001b[39m\u001b[32m~/Projects/courses/python_for_neuroscientists/textbook-public/venv/lib/python3.11/site-packages/pandas/core/indexes/multi.py:2908\u001b[39m, in \u001b[36mMultiIndex._partial_tup_index\u001b[39m\u001b[34m(self, tup, side)\u001b[39m\n\u001b[32m   2906\u001b[39m \u001b[38;5;28;01mdef\u001b[39;00m\u001b[38;5;250m \u001b[39m\u001b[34m_partial_tup_index\u001b[39m(\u001b[38;5;28mself\u001b[39m, tup: \u001b[38;5;28mtuple\u001b[39m, side: Literal[\u001b[33m\"\u001b[39m\u001b[33mleft\u001b[39m\u001b[33m\"\u001b[39m, \u001b[33m\"\u001b[39m\u001b[33mright\u001b[39m\u001b[33m\"\u001b[39m] = \u001b[33m\"\u001b[39m\u001b[33mleft\u001b[39m\u001b[33m\"\u001b[39m):\n\u001b[32m   2907\u001b[39m     \u001b[38;5;28;01mif\u001b[39;00m \u001b[38;5;28mlen\u001b[39m(tup) > \u001b[38;5;28mself\u001b[39m._lexsort_depth:\n\u001b[32m-> \u001b[39m\u001b[32m2908\u001b[39m         \u001b[38;5;28;01mraise\u001b[39;00m UnsortedIndexError(\n\u001b[32m   2909\u001b[39m             \u001b[33mf\u001b[39m\u001b[33m\"\u001b[39m\u001b[33mKey length (\u001b[39m\u001b[38;5;132;01m{\u001b[39;00m\u001b[38;5;28mlen\u001b[39m(tup)\u001b[38;5;132;01m}\u001b[39;00m\u001b[33m) was greater than MultiIndex lexsort depth \u001b[39m\u001b[33m\"\u001b[39m\n\u001b[32m   2910\u001b[39m             \u001b[33mf\u001b[39m\u001b[33m\"\u001b[39m\u001b[33m(\u001b[39m\u001b[38;5;132;01m{\u001b[39;00m\u001b[38;5;28mself\u001b[39m._lexsort_depth\u001b[38;5;132;01m}\u001b[39;00m\u001b[33m)\u001b[39m\u001b[33m\"\u001b[39m\n\u001b[32m   2911\u001b[39m         )\n\u001b[32m   2913\u001b[39m     n = \u001b[38;5;28mlen\u001b[39m(tup)\n\u001b[32m   2914\u001b[39m     start, end = \u001b[32m0\u001b[39m, \u001b[38;5;28mlen\u001b[39m(\u001b[38;5;28mself\u001b[39m)\n",
      "\u001b[31mUnsortedIndexError\u001b[39m: 'Key length (1) was greater than MultiIndex lexsort depth (0)'"
     ]
    }
   ],
   "source": [
    "data['a':'b']"
   ]
  },
  {
   "cell_type": "markdown",
   "metadata": {},
   "source": [
    "`lexsort` means \"lexicography-sorted\", or sorted by either number or letter. Sorting an index is done with the [`sort_index()`](https://pandas.pydata.org/pandas-docs/stable/reference/api/pandas.DataFrame.sort_index.html) method:"
   ]
  },
  {
   "cell_type": "code",
   "execution_count": 92,
   "metadata": {},
   "outputs": [
    {
     "name": "stdout",
     "output_type": "stream",
     "text": [
      "char  int\n",
      "a     1      0.426421\n",
      "      2      0.378735\n",
      "b     1      0.868685\n",
      "      2      0.990240\n",
      "c     1      0.370198\n",
      "      2      0.740161\n",
      "dtype: float64\n",
      "char  int\n",
      "a     1      0.426421\n",
      "      2      0.378735\n",
      "b     1      0.868685\n",
      "      2      0.990240\n",
      "dtype: float64\n"
     ]
    }
   ],
   "source": [
    "data.sort_index(inplace=True)\n",
    "print(data)\n",
    "print(data['a':'b'])  # now it works"
   ]
  },
  {
   "cell_type": "markdown",
   "metadata": {},
   "source": [
    "### Data Aggregation"
   ]
  },
  {
   "cell_type": "markdown",
   "metadata": {},
   "source": [
    "Data aggregation using a `MultiIndex` is super simple:"
   ]
  },
  {
   "cell_type": "code",
   "execution_count": 93,
   "metadata": {},
   "outputs": [
    {
     "data": {
      "application/vnd.microsoft.datawrangler.viewer.v0+json": {
       "columns": [
        {
         "name": "index",
         "rawType": "int64",
         "type": "integer"
        },
        {
         "name": "location",
         "rawType": "object",
         "type": "string"
        },
        {
         "name": "day",
         "rawType": "object",
         "type": "string"
        },
        {
         "name": "temp",
         "rawType": "float64",
         "type": "float"
        },
        {
         "name": "humidity",
         "rawType": "int64",
         "type": "integer"
        }
       ],
       "conversionMethod": "pd.DataFrame",
       "ref": "1d43e4ab-0f80-406d-81a5-b7a666f8f924",
       "rows": [
        [
         "0",
         "AL",
         "SUN",
         "12.3",
         "31"
        ],
        [
         "1",
         "AL",
         "SUN",
         "14.1",
         "45"
        ],
        [
         "2",
         "NY",
         "TUE",
         "21.3",
         "41"
        ],
        [
         "3",
         "NY",
         "WED",
         "20.9",
         "41"
        ],
        [
         "4",
         "NY",
         "SAT",
         "18.8",
         "49"
        ],
        [
         "5",
         "VA",
         "SAT",
         "16.5",
         "52"
        ]
       ],
       "shape": {
        "columns": 4,
        "rows": 6
       }
      },
      "text/html": [
       "<div>\n",
       "<style scoped>\n",
       "    .dataframe tbody tr th:only-of-type {\n",
       "        vertical-align: middle;\n",
       "    }\n",
       "\n",
       "    .dataframe tbody tr th {\n",
       "        vertical-align: top;\n",
       "    }\n",
       "\n",
       "    .dataframe thead th {\n",
       "        text-align: right;\n",
       "    }\n",
       "</style>\n",
       "<table border=\"1\" class=\"dataframe\">\n",
       "  <thead>\n",
       "    <tr style=\"text-align: right;\">\n",
       "      <th></th>\n",
       "      <th>location</th>\n",
       "      <th>day</th>\n",
       "      <th>temp</th>\n",
       "      <th>humidity</th>\n",
       "    </tr>\n",
       "  </thead>\n",
       "  <tbody>\n",
       "    <tr>\n",
       "      <th>0</th>\n",
       "      <td>AL</td>\n",
       "      <td>SUN</td>\n",
       "      <td>12.3</td>\n",
       "      <td>31</td>\n",
       "    </tr>\n",
       "    <tr>\n",
       "      <th>1</th>\n",
       "      <td>AL</td>\n",
       "      <td>SUN</td>\n",
       "      <td>14.1</td>\n",
       "      <td>45</td>\n",
       "    </tr>\n",
       "    <tr>\n",
       "      <th>2</th>\n",
       "      <td>NY</td>\n",
       "      <td>TUE</td>\n",
       "      <td>21.3</td>\n",
       "      <td>41</td>\n",
       "    </tr>\n",
       "    <tr>\n",
       "      <th>3</th>\n",
       "      <td>NY</td>\n",
       "      <td>WED</td>\n",
       "      <td>20.9</td>\n",
       "      <td>41</td>\n",
       "    </tr>\n",
       "    <tr>\n",
       "      <th>4</th>\n",
       "      <td>NY</td>\n",
       "      <td>SAT</td>\n",
       "      <td>18.8</td>\n",
       "      <td>49</td>\n",
       "    </tr>\n",
       "    <tr>\n",
       "      <th>5</th>\n",
       "      <td>VA</td>\n",
       "      <td>SAT</td>\n",
       "      <td>16.5</td>\n",
       "      <td>52</td>\n",
       "    </tr>\n",
       "  </tbody>\n",
       "</table>\n",
       "</div>"
      ],
      "text/plain": [
       "  location  day  temp  humidity\n",
       "0       AL  SUN  12.3        31\n",
       "1       AL  SUN  14.1        45\n",
       "2       NY  TUE  21.3        41\n",
       "3       NY  WED  20.9        41\n",
       "4       NY  SAT  18.8        49\n",
       "5       VA  SAT  16.5        52"
      ]
     },
     "execution_count": 93,
     "metadata": {},
     "output_type": "execute_result"
    }
   ],
   "source": [
    "states"
   ]
  },
  {
   "cell_type": "code",
   "execution_count": 94,
   "metadata": {},
   "outputs": [
    {
     "data": {
      "application/vnd.microsoft.datawrangler.viewer.v0+json": {
       "columns": [
        {
         "name": "('location', 'day')",
         "rawType": "object",
         "type": "unknown"
        },
        {
         "name": "temp",
         "rawType": "float64",
         "type": "float"
        },
        {
         "name": "humidity",
         "rawType": "int64",
         "type": "integer"
        }
       ],
       "conversionMethod": "pd.DataFrame",
       "ref": "1bb3a98e-0d15-4fe2-a192-db9b7a136d76",
       "rows": [
        [
         "('AL', 'SUN')",
         "12.3",
         "31"
        ],
        [
         "('AL', 'SUN')",
         "14.1",
         "45"
        ],
        [
         "('NY', 'TUE')",
         "21.3",
         "41"
        ],
        [
         "('NY', 'WED')",
         "20.9",
         "41"
        ],
        [
         "('NY', 'SAT')",
         "18.8",
         "49"
        ],
        [
         "('VA', 'SAT')",
         "16.5",
         "52"
        ]
       ],
       "shape": {
        "columns": 2,
        "rows": 6
       }
      },
      "text/html": [
       "<div>\n",
       "<style scoped>\n",
       "    .dataframe tbody tr th:only-of-type {\n",
       "        vertical-align: middle;\n",
       "    }\n",
       "\n",
       "    .dataframe tbody tr th {\n",
       "        vertical-align: top;\n",
       "    }\n",
       "\n",
       "    .dataframe thead th {\n",
       "        text-align: right;\n",
       "    }\n",
       "</style>\n",
       "<table border=\"1\" class=\"dataframe\">\n",
       "  <thead>\n",
       "    <tr style=\"text-align: right;\">\n",
       "      <th></th>\n",
       "      <th></th>\n",
       "      <th>temp</th>\n",
       "      <th>humidity</th>\n",
       "    </tr>\n",
       "    <tr>\n",
       "      <th>location</th>\n",
       "      <th>day</th>\n",
       "      <th></th>\n",
       "      <th></th>\n",
       "    </tr>\n",
       "  </thead>\n",
       "  <tbody>\n",
       "    <tr>\n",
       "      <th rowspan=\"2\" valign=\"top\">AL</th>\n",
       "      <th>SUN</th>\n",
       "      <td>12.3</td>\n",
       "      <td>31</td>\n",
       "    </tr>\n",
       "    <tr>\n",
       "      <th>SUN</th>\n",
       "      <td>14.1</td>\n",
       "      <td>45</td>\n",
       "    </tr>\n",
       "    <tr>\n",
       "      <th rowspan=\"3\" valign=\"top\">NY</th>\n",
       "      <th>TUE</th>\n",
       "      <td>21.3</td>\n",
       "      <td>41</td>\n",
       "    </tr>\n",
       "    <tr>\n",
       "      <th>WED</th>\n",
       "      <td>20.9</td>\n",
       "      <td>41</td>\n",
       "    </tr>\n",
       "    <tr>\n",
       "      <th>SAT</th>\n",
       "      <td>18.8</td>\n",
       "      <td>49</td>\n",
       "    </tr>\n",
       "    <tr>\n",
       "      <th>VA</th>\n",
       "      <th>SAT</th>\n",
       "      <td>16.5</td>\n",
       "      <td>52</td>\n",
       "    </tr>\n",
       "  </tbody>\n",
       "</table>\n",
       "</div>"
      ],
      "text/plain": [
       "              temp  humidity\n",
       "location day                \n",
       "AL       SUN  12.3        31\n",
       "         SUN  14.1        45\n",
       "NY       TUE  21.3        41\n",
       "         WED  20.9        41\n",
       "         SAT  18.8        49\n",
       "VA       SAT  16.5        52"
      ]
     },
     "execution_count": 94,
     "metadata": {},
     "output_type": "execute_result"
    }
   ],
   "source": [
    "states.set_index(['location', 'day'], inplace=True)\n",
    "states"
   ]
  },
  {
   "cell_type": "code",
   "execution_count": 95,
   "metadata": {},
   "outputs": [
    {
     "data": {
      "application/vnd.microsoft.datawrangler.viewer.v0+json": {
       "columns": [
        {
         "name": "location",
         "rawType": "object",
         "type": "string"
        },
        {
         "name": "temp",
         "rawType": "float64",
         "type": "float"
        },
        {
         "name": "humidity",
         "rawType": "float64",
         "type": "float"
        }
       ],
       "conversionMethod": "pd.DataFrame",
       "ref": "6534a538-310d-45d4-9221-3143e2fd2846",
       "rows": [
        [
         "AL",
         "13.2",
         "38.0"
        ],
        [
         "NY",
         "20.333333333333332",
         "43.666666666666664"
        ],
        [
         "VA",
         "16.5",
         "52.0"
        ]
       ],
       "shape": {
        "columns": 2,
        "rows": 3
       }
      },
      "text/html": [
       "<div>\n",
       "<style scoped>\n",
       "    .dataframe tbody tr th:only-of-type {\n",
       "        vertical-align: middle;\n",
       "    }\n",
       "\n",
       "    .dataframe tbody tr th {\n",
       "        vertical-align: top;\n",
       "    }\n",
       "\n",
       "    .dataframe thead th {\n",
       "        text-align: right;\n",
       "    }\n",
       "</style>\n",
       "<table border=\"1\" class=\"dataframe\">\n",
       "  <thead>\n",
       "    <tr style=\"text-align: right;\">\n",
       "      <th></th>\n",
       "      <th>temp</th>\n",
       "      <th>humidity</th>\n",
       "    </tr>\n",
       "    <tr>\n",
       "      <th>location</th>\n",
       "      <th></th>\n",
       "      <th></th>\n",
       "    </tr>\n",
       "  </thead>\n",
       "  <tbody>\n",
       "    <tr>\n",
       "      <th>AL</th>\n",
       "      <td>13.200000</td>\n",
       "      <td>38.000000</td>\n",
       "    </tr>\n",
       "    <tr>\n",
       "      <th>NY</th>\n",
       "      <td>20.333333</td>\n",
       "      <td>43.666667</td>\n",
       "    </tr>\n",
       "    <tr>\n",
       "      <th>VA</th>\n",
       "      <td>16.500000</td>\n",
       "      <td>52.000000</td>\n",
       "    </tr>\n",
       "  </tbody>\n",
       "</table>\n",
       "</div>"
      ],
      "text/plain": [
       "               temp   humidity\n",
       "location                      \n",
       "AL        13.200000  38.000000\n",
       "NY        20.333333  43.666667\n",
       "VA        16.500000  52.000000"
      ]
     },
     "execution_count": 95,
     "metadata": {},
     "output_type": "execute_result"
    }
   ],
   "source": [
    "# mean all days under each location\n",
    "states.groupby('location').mean()\n"
   ]
  },
  {
   "cell_type": "code",
   "execution_count": 96,
   "metadata": {
    "scrolled": true
   },
   "outputs": [
    {
     "data": {
      "application/vnd.microsoft.datawrangler.viewer.v0+json": {
       "columns": [
        {
         "name": "day",
         "rawType": "object",
         "type": "string"
        },
        {
         "name": "temp",
         "rawType": "float64",
         "type": "float"
        },
        {
         "name": "humidity",
         "rawType": "float64",
         "type": "float"
        }
       ],
       "conversionMethod": "pd.DataFrame",
       "ref": "01f223c4-127c-4ae7-8070-a873b83a6a29",
       "rows": [
        [
         "SAT",
         "17.65",
         "50.5"
        ],
        [
         "SUN",
         "13.2",
         "38.0"
        ],
        [
         "TUE",
         "21.3",
         "41.0"
        ],
        [
         "WED",
         "20.9",
         "41.0"
        ]
       ],
       "shape": {
        "columns": 2,
        "rows": 4
       }
      },
      "text/html": [
       "<div>\n",
       "<style scoped>\n",
       "    .dataframe tbody tr th:only-of-type {\n",
       "        vertical-align: middle;\n",
       "    }\n",
       "\n",
       "    .dataframe tbody tr th {\n",
       "        vertical-align: top;\n",
       "    }\n",
       "\n",
       "    .dataframe thead th {\n",
       "        text-align: right;\n",
       "    }\n",
       "</style>\n",
       "<table border=\"1\" class=\"dataframe\">\n",
       "  <thead>\n",
       "    <tr style=\"text-align: right;\">\n",
       "      <th></th>\n",
       "      <th>temp</th>\n",
       "      <th>humidity</th>\n",
       "    </tr>\n",
       "    <tr>\n",
       "      <th>day</th>\n",
       "      <th></th>\n",
       "      <th></th>\n",
       "    </tr>\n",
       "  </thead>\n",
       "  <tbody>\n",
       "    <tr>\n",
       "      <th>SAT</th>\n",
       "      <td>17.65</td>\n",
       "      <td>50.5</td>\n",
       "    </tr>\n",
       "    <tr>\n",
       "      <th>SUN</th>\n",
       "      <td>13.20</td>\n",
       "      <td>38.0</td>\n",
       "    </tr>\n",
       "    <tr>\n",
       "      <th>TUE</th>\n",
       "      <td>21.30</td>\n",
       "      <td>41.0</td>\n",
       "    </tr>\n",
       "    <tr>\n",
       "      <th>WED</th>\n",
       "      <td>20.90</td>\n",
       "      <td>41.0</td>\n",
       "    </tr>\n",
       "  </tbody>\n",
       "</table>\n",
       "</div>"
      ],
      "text/plain": [
       "      temp  humidity\n",
       "day                 \n",
       "SAT  17.65      50.5\n",
       "SUN  13.20      38.0\n",
       "TUE  21.30      41.0\n",
       "WED  20.90      41.0"
      ]
     },
     "execution_count": 96,
     "metadata": {},
     "output_type": "execute_result"
    }
   ],
   "source": [
    "# median all locations under each day\n",
    "states.groupby('day').median()"
   ]
  },
  {
   "cell_type": "markdown",
   "metadata": {},
   "source": [
    "`````{admonition} Exercise: Replacing Values\n",
    "````{hint}\n",
    "When we wish to replace values in a Series or a DataFrame, two main options come to mind:\n",
    "\n",
    "1. A boolean mask (e.g. `df[mask] = \"new value\"`).\n",
    "2. The [`replace()`](https://pandas.pydata.org/docs/reference/api/pandas.DataFrame.replace.html) method.\n",
    "\n",
    "In the following exercise try and explore the second method, which provides powerful custom replacement options.\n",
    "\n",
    "````\n",
    "* Create a (10, 2) dataframe with increasing integer values 0-9 in both columns.\n",
    "````{dropdown} Solution\n",
    "```python\n",
    "data = np.tile(np.arange(10), (2, 1)).T\n",
    "df = pd.DataFrame(data)\n",
    "```\n",
    "````\n",
    "* Use the `.replace()` method to replace the value 3 in the first column with 99.\n",
    "````{dropdown} Solution\n",
    "```python\n",
    "df.replace({0: 3}, {0: 99})\n",
    "```\n",
    "````\n",
    "* Use it to replace 3 in column 0, and 1 in column 2, with 99.\n",
    "````{dropdown} Solution\n",
    "```python\n",
    "df.replace({0: 3, 1: 1}, 99)\n",
    "```\n",
    "````\n",
    "* Use its `method` keyword to replace values in the range [3, 6) of the first column with 6.\n",
    "````{dropdown} Solution\n",
    "```python\n",
    "df[0].replace(np.arange(3, 6), method='bfill')\n",
    "```\n",
    "````\n",
    "`````"
   ]
  },
  {
   "cell_type": "markdown",
   "metadata": {},
   "source": [
    "`````{admonition} MultiIndex Construction and Indexing\n",
    "* Construct a `MultiIndex` with three levels composed from the product of the following lists:\n",
    "    - `['a', b', 'c', 'd']`\n",
    "    - `['i', 'ii', 'iii']`\n",
    "    - `['x', 'y', 'z']`\n",
    "````{dropdown} Solution\n",
    "```python\n",
    "letters = ['a', 'b', 'c', 'd']\n",
    "roman = ['i', 'ii', 'iii']\n",
    "coordinates = ['x', 'y', 'z']\n",
    "index = pd.MultiIndex.from_product((letters, roman, coordinates))\n",
    "```\n",
    "````\n",
    "* Instantiate a dataframe with the created index and populate it with random values in two columns.\n",
    "````{dropdown} Solution\n",
    "```python\n",
    "size = len(letters) * len(roman) * len(coordinates)\n",
    "data = np.random.randint(20, size=(size, 2))\n",
    "df = pd.DataFrame(data, columns=['today', 'tomorrow'], index=index)\n",
    "```\n",
    "````\n",
    "* Use two different methods to extract only the values with an index of `('a', 'ii', 'z')`.\n",
    "````{dropdown} Solution\n",
    "Option \\#1:\n",
    "```python\n",
    "df.loc['a', 'ii', 'z']\n",
    "```\n",
    "Option \\#2:\n",
    "```python\n",
    "df.xs(key=('a', 'ii', 'z'))\n",
    "```\n",
    "Option \\#3:\n",
    "```python\n",
    "idx = pd.IndexSlice\n",
    "df.loc[idx['a', 'ii', 'z'], :]\n",
    "```\n",
    "````\n",
    "* Slice in two ways the values with an index of `'x'`.\n",
    "````{dropdown} Solution\n",
    "Option \\#1:\n",
    "```python\n",
    "idx = pd.IndexSlice\n",
    "df.loc[idx[:, :, 'x'], :]\n",
    "```\n",
    "Option \\#2:\n",
    "```python\n",
    "df.xs(key='x', level=2)\n",
    "```\n",
    "Option \\#3:\n",
    "```python\n",
    "df.loc[(slice(None), slice(None), 'x'), :]\n",
    "```\n",
    "````\n",
    "`````"
   ]
  },
  {
   "cell_type": "markdown",
   "metadata": {},
   "source": [
    "## _n_-Dimensional Containers"
   ]
  },
  {
   "cell_type": "markdown",
   "metadata": {},
   "source": [
    "While technically a dataframe is a two-dimensional container, in the next lesson we'll see why it can perform quite efficiently as a pseudo n-dimensional container. \n",
    "\n",
    "If you wish to have _true_ n-dimensional DataFrame-like data structures, you should use the `xarray` package and its `xr.DataArray` and `xr.Dataset` objects, which we'll discuss in the next lessons."
   ]
  }
 ],
 "metadata": {
  "anaconda-cloud": {},
  "celltoolbar": "Tags",
  "kernelspec": {
   "display_name": "venv",
   "language": "python",
   "name": "python3"
  },
  "language_info": {
   "codemirror_mode": {
    "name": "ipython",
    "version": 3
   },
   "file_extension": ".py",
   "mimetype": "text/x-python",
   "name": "python",
   "nbconvert_exporter": "python",
   "pygments_lexer": "ipython3",
   "version": "3.11.8"
  }
 },
 "nbformat": 4,
 "nbformat_minor": 2
}
