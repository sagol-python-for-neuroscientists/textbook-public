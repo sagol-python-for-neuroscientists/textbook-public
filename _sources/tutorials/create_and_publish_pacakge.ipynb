{
 "cells": [
  {
   "cell_type": "markdown",
   "metadata": {},
   "source": [
    "# Creating and Publishing a Python Library"
   ]
  },
  {
   "cell_type": "markdown",
   "metadata": {},
   "source": [
    "Early in the course we showed how easy it is to download packages from PyPI (Python Package Index), the official repository for all Python pacakges. This class will discuss process of creating and publishing a library to the outer world, which is a bit more complicated than downloading a package, but not by much."
   ]
  },
  {
   "cell_type": "markdown",
   "metadata": {},
   "source": [
    "## Naive Solution"
   ]
  },
  {
   "cell_type": "markdown",
   "metadata": {},
   "source": [
    "The simplest way to share our code is to send a `.py` file to someone by mail. If the receiver has a Python interpreter installed, he can just run the file by writing `python new_file.py` in his command line. This has a few short-comings:\n",
    "\n",
    "1. The script was written in a specific Python version. You might have to make sure that your receiver has the same Python version.\n",
    "2. If it's more than one script, you have to bundle scripts together and make sure they remain in the same directory when run.\n",
    "3. Nearly all scripts have dependencies. There's no way to verify that the receiver truly has all the dependencies and is using the same version of dependencies that you're using.\n",
    "4. If the original script is using code not written in Python, like Cython code or other C\\C++ modules, you need to build these scripts in place - you can't rely on them working on the target computer.\n",
    "\n",
    "These issues, along with the relative ease with which one can publish Python code online, support a more robust approach to code sharing."
   ]
  },
  {
   "cell_type": "markdown",
   "metadata": {},
   "source": [
    "## Python Libraries from the Ground Up"
   ]
  },
  {
   "cell_type": "markdown",
   "metadata": {},
   "source": [
    "There are a few \"layers\" for Python projects and libraries. The basic layers one can encounter in each Python (and software) project are source-code organization and version control. This tutorial will guide you through the process of creating a full-blown project, including PyPI publishing and test-suite support. If you're aiming at something lighter you can just drop some of the components used here.\n",
    "\n",
    "Features of this project include:\n",
    "1. GitHub integration\n",
    "2. Continuous Integration via GitHub Actions\n",
    "3. Semantic versioning support\n",
    "5. Easy PyPI uploading\n",
    "6. Automatic documentation generation\n",
    "\n",
    "Many of these features can be generated using [`cookiecutter`](https://cookiecutter.readthedocs.io/en/1.7.2/index.html) but we'll avoid that for now. Once we understand what's going on under the hood we might prefer using `cookiecutter` instead of going through these manual steps. This guide is heavily based on a [famous blog post](https://hynek.me/articles/sharing-your-labor-of-love-pypi-quick-and-dirty/)."
   ]
  },
  {
   "cell_type": "markdown",
   "metadata": {},
   "source": [
    "### Scaffolding"
   ]
  },
  {
   "cell_type": "markdown",
   "metadata": {},
   "source": [
    "I'll be assuming that we're creating a new project, but these steps can easily be adapted if you wish to convert an existing project."
   ]
  },
  {
   "cell_type": "markdown",
   "metadata": {},
   "source": [
    "1. Make a new directory with the project's name. We'll use \"Parse Stuff\" as our project name here, so this directory may be called `ParseStuff`, `parseStuff`, `parse_stuff` or really any other name.\n",
    "2. Open it in VSCode using \"Open Folder...\".\n",
    "3. Generate several basic files that we'll fill in later:\n",
    "    * Create `README.md` and write inside a single line describing the project.\n",
    "    * Create an empty `CHANGELOG.md` file.\n",
    "    * Create `.gitignore` and copy-paste the content from [here](https://github.com/github/gitignore/blob/master/Python.gitignore).\n",
    "    * Create a `src` folder, and inside it create a folder with the name of your project **in snake case**. In our case, the folder is `src/parse_stuff`. Inside that folder create a `__init__.py` file.\n",
    "    * Create a file named `LICENSE` (no suffix needed) and copy the content from [here](https://choosealicense.com/licenses/mit/). This is the MIT license which gives other people permission to basically do whatever they want with your code. Make sure to replace the \"year\" and \"name\" placeholders.\n",
    "    * Create a folder named `tests` and inside it create an empty `__init__.py` file.\n",
    "    \n",
    "\n",
    "4. Now that we have a couple of basic files in our hands, create a new git repository in that folder using VSCode's \"Initial repo\" button.\n",
    "5. In the same git menu, add all files (using the \"+\" button), write a commit message (\"Initial commit\" will do) and commit by clicking the \"V\".\n",
    "6. Go to your GitHub account and create a new project with a name matching the name of the folder in your system (i.e. `ParseStuff`). You don't need a license or a .gitignore file, an empty project will do just fine.\n",
    "7. Copy the link to the repo (the one ending with `.git`) and go back to VSCode. Press Ctrl+Shift+P and write \"Git: Add Remote\". Paste the link, insert \"`origin`\" as the repo name and confirm other dialogue boxes.\n",
    "8. If everything worked then you should be able to push by clicking the \"...\" icon and choosing the \"Push\" option. Make sure your code was indeed uploaded to the repo."
   ]
  },
  {
   "cell_type": "markdown",
   "metadata": {},
   "source": [
    "### Environment and dependencies"
   ]
  },
  {
   "cell_type": "markdown",
   "metadata": {},
   "source": [
    "We have a folder but the project really isn't a project quite yet, and we also didn't do anything quite new yet. Let's do some Python-related work:\n",
    "\n",
    "1. Create a new environment and activate it: `conda create -n parsestuff python=3.8`. Once it's done write `conda activate parsestuff`.\n",
    "2. Install several key dependencies. You can add to this list any dependencies you know you'll have for the actual code: `pip install build twine black flake8 pytest`\n",
    "3. Add configuration files. These files configure the behavior of the tools we just installed, so it's OK if you don't completely understand every written word here.\n",
    "    * Generate a file called `pyproject.toml` and write inside the following:\n",
    "    ```{code-block}\n",
    "    [tool.black]\n",
    "    line-length = 88\n",
    "    target-version = ['py36', 'py37', 'py38']\n",
    "    include = '\\.pyi?$'\n",
    "    exclude = '''\n",
    "    /(\n",
    "        \\.eggs\n",
    "      | \\.git\n",
    "      | \\.hg\n",
    "      | \\.mypy_cache\n",
    "      | \\.tox\n",
    "      | \\.venv\n",
    "      | _build\n",
    "      | buck-out\n",
    "      | build\n",
    "      | dist\n",
    "    )/\n",
    "    '''\n",
    "    [build-system]\n",
    "    requires = [\"setuptools>=41.0\", \"wheel\"]\n",
    "    build-backend = \"setuptools.build_meta\"\n",
    "    ```\n",
    "    * Generate a file called `.flake8` and write inside the following:\n",
    "    ```{code-block}\n",
    "    [flake8]\n",
    "    per-file-ignores =\n",
    "        */__init__.py: F401\n",
    "    ```\n",
    "\n",
    "    * Generate a file called `MANIFEST.in` and write inside the following:\n",
    "    ```{code-block}\n",
    "        include LICENSE *.rst *.toml *.yml *.yaml\n",
    "        # Tests\n",
    "        recursive-include tests *.py\n",
    "        # Documentation\n",
    "        recursive-include docs *.png\n",
    "        recursive-include docs *.svg\n",
    "        recursive-include docs *.py\n",
    "        recursive-include docs *.rst\n",
    "        prune docs/_build\n",
    "    ```\n",
    "\n",
    "    * Generate a file called `requirements.txt` and write inside the following:\n",
    "    \n",
    "    ```{code-block}\n",
    "        --index-url https://pypi.python.org/simple/\n",
    "        -e .\n",
    "    ```\n",
    "    \n",
    "    * Generate a file called `.pypirc` in your home directory and write inside the following:\n",
    "    \n",
    "    ```{code-block}\n",
    "        [distutils]\n",
    "        index-servers=\n",
    "            pypi\n",
    "            test\n",
    "        [test]\n",
    "        repository = https://test.pypi.org/legacy/\n",
    "        username = <your test user name goes here>\n",
    "        [pypi]\n",
    "        username = __token__\n",
    "    ```\n",
    "    \n",
    "    * Write `pip install mkdocs` in your console, followed by a `mkdocs new .` This should generate an `mkdocs.yml` file and a `docs` folder with an `index.md` in it. At the end of the `mkdocs.yml` file you should add `theme: readthedocs`. We'll leave everything empty right now, and we'll come back to this later.\n",
    "    \n",
    "4. Add a `setup.cfg` file with the following content:\n",
    "\n",
    "```{code-block} ini\n",
    "    [metadata]\n",
    "    name = time_travel\n",
    "    version = 0.0.1\n",
    "    author = Zvi Baratz\n",
    "    author_email = z.baratz@gmail.com\n",
    "    description = Travel in time using Python!\n",
    "    long_description = file: README.md, CHANGELOG.md, LICENSE\n",
    "    long_description_content_type = text/markdown\n",
    "    keywords = future, timetravel, example\n",
    "    url = https://github.com/ZviBaratz/time_travel\n",
    "    project_urls =\n",
    "        Bug Tracker = https://github.com/ZviBaratz/time_travel/issues\n",
    "    classifiers =\n",
    "        Programming Language :: Python :: 3\n",
    "        License :: OSI Approved :: MIT License\n",
    "        Operating System :: OS Independent\n",
    "\n",
    "    [options]\n",
    "    package_dir =\n",
    "        = src\n",
    "    packages = find:\n",
    "    python_requires = >=3.6\n",
    "    install_requires =\n",
    "        numpy\n",
    "\n",
    "    [options.extras_require]\n",
    "    dev = black; flake8; pytest\n",
    "    dist = build; twine\n",
    "    docs = mkdocs\n",
    "\n",
    "    [options.packages.find]\n",
    "    where = src\n",
    "```"
   ]
  },
  {
   "cell_type": "markdown",
   "metadata": {},
   "source": [
    "5. Add a `setup.py` with the following content:\n",
    "\n",
    "```{code-block}\n",
    "    import setuptools\n",
    "\n",
    "    if __name__ == \"__main__\":\n",
    "        setuptools.setup()\n",
    "```"
   ]
  },
  {
   "cell_type": "markdown",
   "metadata": {},
   "source": [
    "Before we go any further let's recap our latest steps: First, we're defining configuration files for some of the tools we'll be using, like `black` and `flake8`. These are definitely not a must, but they're nice to have. Then we added an eerie-looking `MANIFEST.in` file which contains a bunch of incantations. This file define what will be packaged with our code besides the actual code, but I won't go into  any further details. Lastly we added `setup.cfg` and `setup.py` files which are basically a configuration\\metadata files that define how will our package be packaged."
   ]
  },
  {
   "cell_type": "markdown",
   "metadata": {},
   "source": [
    "### Build and publish!"
   ]
  },
  {
   "cell_type": "markdown",
   "metadata": {},
   "source": [
    "Before doing more advanced stuff, let's see if it builds. Building a package means generating a file that can be more easily shared with others, since this file (or files) contain metadata regarding our dependencies, Python version, and more. Every time we build we first have to remove the `dist` folder into which we'll build our package. Since this is the first time we're building, we don't have this folder yet, but don't forget to do it next time. To build, write in the command line (when you're at the top project directory):\n",
    "\n",
    "`python3 -m build`\n",
    "\n",
    "If everything was successful, you should see a new `dist` and two files there - a `wheel` file and a `tar.gz` file. These files can be shared and installed with `pip` on other computers, but the package can't be installed from the web yet. To do that we'll have to upload them to PyPI. Before doing that it's advised that you should make a new virtual environment and see if they can be installled."
   ]
  },
  {
   "cell_type": "markdown",
   "metadata": {},
   "source": [
    "Assuming installation was successful, we can try to upload them to PyPI. We'll first upload it to a test ('staging') server, and then to the real PyPI. To create a username in the testing server, go [here](https://test.pypi.org/) and create a new username. Fill in this username in the previously generated `.pypirc` file. Now we'll use `twine` to upload it to the staging area:\n",
    "\n",
    "`twine upload -r test dist/parse_stuff*`\n",
    "\n",
    "If the upload was reported as successful, try to `pip`-install it (again, in a new environment) with the following command:\n",
    "`pip install -i https://testpypi.python.org/pypi parse_stuff`\n",
    "\n",
    "If it can be imported, and your page online in the testing area looks fine, then we're ready to upload it to the \"real\" PyPI. Write:\n",
    "\n",
    "`twine upload -r pypi dist/parse_stuff*` \n",
    "\n",
    "and witness the wonder. Easy, right? :)"
   ]
  },
  {
   "cell_type": "markdown",
   "metadata": {},
   "source": [
    "### Documentation and ReadTheDocs"
   ]
  },
  {
   "cell_type": "markdown",
   "metadata": {},
   "source": [
    "Documenting your project is extremely important. Besides having comments in your code and helpful docstrings, you sometimes also want more high-level material regarding installation and usage of your pacakge. This info should go in the `docs` folder that was generated earlier. The idea is to build a website from markdown (`.md`) files. Please consult the [MkDocs website](https://www.mkdocs.org/) for more details.\n",
    "\n",
    "If our project is on PyPI, we also want our documentation to have a website. ReadTheDocs is a website that happily hosts the documentation for your code. It will automatically fetch whatever's in your `docs` folder and display it in a nice-looking website.\n",
    "\n",
    "1. Create an account [there](https://readthedocs.org) and log into it.\n",
    "\n",
    "2. Go to your dashboard and Import a repository from the \"My Projects\" pulldown.\n",
    "\n",
    "3. Inside GitHub, select Settings -> Webhooks and turn on the ReadTheDocs hook.\n",
    "\n",
    "Your docs will update online every time you update them and push the changes to GitHub. They're probably currently quite dull, but you should add more documents to the `docs` folder sooner rather than later."
   ]
  },
  {
   "cell_type": "markdown",
   "metadata": {},
   "source": [
    "### Continuous Integration"
   ]
  },
  {
   "cell_type": "markdown",
   "metadata": {},
   "source": [
    "CI is used to automatically test your code whenever you push something to GitHub. It works by pulling the latest commit from your GitHub into its servers. It then builds an environment identical to the one you have in your computer, installs your package and runs the tests for that package. Lastly it generates a detailed error report if one or more of your tests failed. This section is - again - based on a [famous blog post](https://hynek.me/articles/python-github-actions/).\n",
    "\n",
    "The easiest CI tool available today is GitHub actions. It's integrated inside GitHub and allows you monitor the execution easily. To set it up, go to the \"Actions\" tab in your GH repo and click \"Skip this and setup a workflow yourself\". Delete the template and paste this instead:\n",
    "\n",
    "```yaml\n",
    "---\n",
    "name: CI\n",
    "\n",
    "on:\n",
    "  push:\n",
    "    branches: [\"master\"]\n",
    "  pull_request:\n",
    "    branches: [\"master\"]\n",
    "\n",
    "jobs:\n",
    "  tests:\n",
    "    name: \"Python ${{ matrix.python-version }}\"\n",
    "    runs-on: \"ubuntu-latest\"\n",
    "    env:\n",
    "      USING_COVERAGE: '3.6,3.8'\n",
    "\n",
    "    strategy:\n",
    "      matrix:\n",
    "        python-version: [\"3.6\", \"3.7\", \"3.8\"]\n",
    "\n",
    "    steps:\n",
    "      - uses: \"actions/checkout@v2\"\n",
    "      - uses: \"actions/setup-python@v1\"\n",
    "        with:\n",
    "          python-version: \"${{ matrix.python-version }}\"\n",
    "      - name: \"Install dependencies\"\n",
    "        run: |\n",
    "          set -xe\n",
    "          python -VV\n",
    "          python -m site\n",
    "          python -m pip install --upgrade pip setuptools wheel\n",
    "          python -m pip install --upgrade pytest\n",
    "\n",
    "      - name: \"Run pytest\"\n",
    "        run: \"python -m pytest\"`\n",
    "```\n",
    "\n",
    "To conclude this part, \"...click the green “Start commit” button in the top right and make sure you select the “Create a new branch for this commit and start a pull request.” radio button. Give the branch a memorable name (e.g. github-actions) and subsequently click “Create pull request”.\"\n",
    "\n",
    "These changes are only updated in our web repo. We'll need to pull them in order to see them locally."
   ]
  }
 ],
 "metadata": {
  "anaconda-cloud": {},
  "kernelspec": {
   "display_name": "Python 3",
   "language": "python",
   "name": "python3"
  },
  "language_info": {
   "codemirror_mode": {
    "name": "ipython",
    "version": 3
   },
   "file_extension": ".py",
   "mimetype": "text/x-python",
   "name": "python",
   "nbconvert_exporter": "python",
   "pygments_lexer": "ipython3",
   "version": "3.8.5"
  }
 },
 "nbformat": 4,
 "nbformat_minor": 2
}
