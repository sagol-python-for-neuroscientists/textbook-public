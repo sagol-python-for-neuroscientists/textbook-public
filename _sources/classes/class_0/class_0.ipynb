{
 "cells": [
  {
   "cell_type": "markdown",
   "metadata": {
    "slideshow": {
     "slide_type": "slide"
    }
   },
   "source": [
    "# Class 0: Introduction and Motivation"
   ]
  },
  {
   "cell_type": "markdown",
   "metadata": {
    "slideshow": {
     "slide_type": "subslide"
    }
   },
   "source": [
    ":::{admonition,dropdown} Administration\n",
    "* Classes are composed of a frontal lecture and some personal work.\n",
    "* Final grade:\n",
    "    - 40% HW (one submission is optional)\n",
    "    - 60% final project\n",
    "* Feel free to contact: \n",
    "    - z.baratz@gmail.com\n",
    "    - hershkovitz1@mail.tau.ac.il \n",
    "* HW will usually be submitted via GitHub.\n",
    "* All course material is uploaded online.\n",
    ":::"
   ]
  },
  {
   "cell_type": "markdown",
   "metadata": {},
   "source": [
    "## Introduction to Python"
   ]
  },
  {
   "cell_type": "markdown",
   "metadata": {},
   "source": [
    "### Foreword"
   ]
  },
  {
   "cell_type": "markdown",
   "metadata": {
    "slideshow": {
     "slide_type": "slide"
    }
   },
   "source": [
    "#### What is this course all about?\n",
    "\n",
    "1. Learning to program with a fully-featured programming language.\n",
    "    * Use professional programming tools.\n",
    "    * Write high-quality software.\n",
    "    * Use software development standards.\n",
    "2. Python!\n",
    "    * All of the basics.\n",
    "    * Some more advanced stuff.\n",
    "    * Important tools and packages for (neuroscientific) research.\n",
    "    * Correct programming habits.\n",
    "3. Useful scripting.\n",
    "    * Creating reliable, robust, data analysis pipelines.\n",
    "    * Code to make your science reproducible and _correct_.\n",
    "        * You might find me insisting on seemingly unimportant points.\n",
    "    * Making you comfortable with learning other programming languages."
   ]
  },
  {
   "cell_type": "markdown",
   "metadata": {
    "slideshow": {
     "slide_type": "slide"
    }
   },
   "source": [
    "#### What's in store for this class?\n",
    "\n",
    "* What's Python?\n",
    "* Why Python?\n",
    "* Who's behind Python?\n",
    "* Syntax\n",
    "* Basic data structures"
   ]
  },
  {
   "cell_type": "markdown",
   "metadata": {
    "slideshow": {
     "slide_type": "slide"
    }
   },
   "source": [
    "#### What can you do with Python?"
   ]
  },
  {
   "cell_type": "markdown",
   "metadata": {},
   "source": [
    "![antigravity](antigravity.png)"
   ]
  },
  {
   "cell_type": "markdown",
   "metadata": {
    "slideshow": {
     "slide_type": "subslide"
    }
   },
   "source": [
    "* 99% of what MATLAB does, and often better.\n",
    "    * Linear algebra\n",
    "    * Signal and image processing\n",
    "    * Data analysis\n",
    "    * Microcontrollers\n",
    "    * Visualizations\n",
    "* Data science\n",
    "* Full-stack Web development\n",
    "* Machine learning\n",
    "* Much more..."
   ]
  },
  {
   "cell_type": "markdown",
   "metadata": {
    "slideshow": {
     "slide_type": "slide"
    }
   },
   "source": [
    "#### Why Python?\n",
    "\n",
    "* Open source software\n",
    "* Fully-featured language\n",
    "* Widely adopted - tooling, libraries, documentation - most active programming language in the past three years.\n",
    "* Easy to use but also allows for advanced programming paradigms\n",
    "* In continuous development"
   ]
  },
  {
   "cell_type": "markdown",
   "metadata": {},
   "source": [
    "```{margin}\n",
    "[![Guido van Rossum](https://upload.wikimedia.org/wikipedia/commons/thumb/e/e2/Guido-portrait-2014-drc.jpg/800px-Guido-portrait-2014-drc.jpg)](https://en.wikipedia.org/wiki/Guido_van_Rossum)\n",
    "*Guido van Rossum*\n",
    "```"
   ]
  },
  {
   "cell_type": "markdown",
   "metadata": {
    "slideshow": {
     "slide_type": "slide"
    }
   },
   "source": [
    "#### Who's behind Python?\n",
    "* Python was created in the early 90's by [Guido van Russom](https://en.wikipedia.org/wiki/Guido_van_Rossum).\n",
    "* In 2018 he left the role of [Benevolent Dictator for Life (BDFL)](https://en.wikipedia.org/wiki/Benevolent_dictator_for_life), and now Python is governed by a selected board of Core Developers.\n",
    "* Changes in the core language are the result of a standardized [Python Enhancement Proposals (PEP)](https://www.python.org/dev/peps/) process.\n",
    "* Hundreds of thousands of libraries created by 3rd party developers like us.\n",
    "* Python users are the ones developing the language - bug fixes, new features, etc."
   ]
  },
  {
   "cell_type": "markdown",
   "metadata": {
    "slideshow": {
     "slide_type": "slide"
    }
   },
   "source": [
    "#### Python 2 vs. Python 3\n",
    "\n",
    "If you've googled Python you probably read something about Python 2 and Python 3.\n",
    "\n",
    "* In short, Python 3 is a non-backwards-compatible upgrade to Python 2, and was released in the end of 2008. \n",
    "\n",
    "* The advantages of Python 3 are many-fold, and we'll be using the latest version of Python 3, namely Python 3.7 or 3.8, in our course.\n",
    "\n",
    "* ~~I strongly advise you to use Python 3 if you're not shackled to old Python codebases.~~ Python 2 is depracated and you should not rely on any code written in it. "
   ]
  },
  {
   "cell_type": "markdown",
   "metadata": {
    "slideshow": {
     "slide_type": "slide"
    }
   },
   "source": [
    "### The Basics"
   ]
  },
  {
   "cell_type": "markdown",
   "metadata": {
    "slideshow": {
     "slide_type": "subslide"
    }
   },
   "source": [
    "#### How does Python work internally?\n",
    "\n",
    "Python is an _interpreted_ language, like MATLAB. This means that you don't have to compile your code to make it run - the Python _interpreter_ does that for you.\n",
    "\n",
    "The [interpreter](https://en.wikipedia.org/wiki/Interpreter_(computing)) goes (generally) line-by-line, parsing your expressions and statements to produce __C__ code, a process known as _transpilation_. The C code is eventually compiled into machine code that is then fed into the processor."
   ]
  },
  {
   "cell_type": "markdown",
   "metadata": {
    "slideshow": {
     "slide_type": "subslide"
    }
   },
   "source": [
    "The interpreter can parse either code we write in an editor, or code that was written in a command prompt:\n",
    "\n",
    "![Python REPL vs. Editor](python_repl_editor.png)\n",
    "\n",
    "Again, this is quite similar to MATLAB:\n",
    "\n",
    "![MATLAB REPL vs. Editor](matlab_repl_editor.png)\n",
    "\n",
    "As you see, we have no direct access to the C code that the Python interpreter makes, nor do we really care about it. From the programmer's point of view writing Python is a very straight-forward process."
   ]
  },
  {
   "cell_type": "markdown",
   "metadata": {
    "slideshow": {
     "slide_type": "subslide"
    }
   },
   "source": [
    ":::{note}\n",
    "This text, and the code that accompanies it, is written in a Jupyter Notebook (similar to MATLAB's Live Editor). Writing code here is like using a REPL, i.e. the code is read and evaluated at the spot.\n",
    ":::"
   ]
  },
  {
   "cell_type": "markdown",
   "metadata": {
    "slideshow": {
     "slide_type": "subslide"
    }
   },
   "source": [
    "#### Whitespaces and Brackets\n",
    "Whitespaces in the beginning of lines are important in Python, since they symbolize the start of a new [scope](https://en.wikipedia.org/wiki/Scope_(computer_science)), or a new area in the source code (like a function or an `if` statement. Here are two lines of simple Python code:\n",
    "\n",
    "```python\n",
    ">>> a = 2 + 2\n",
    ">>>  print(a)\n",
    "```\n",
    "Sadly, this code will not compile (i.e. run) due to the single whitespace before the `print` statement. There's no reason for this statement to be in a different scope, and so Python doesn't allow it.\n",
    "\n",
    "However, this is an example of a proper use of scopes:\n",
    "```python\n",
    ">>> for i in [1, 2, 3]:\n",
    "...     print(i)\n",
    "```\n",
    "You probably noticed the indentation before the `print` statement, which is _necessary_ here for this code to run. In Python you may indent code with any number of spaces or tabs, but nearly everyone uses 4-space indentation using spaces only (no tabs). Every editor can be configured to do that for you.\n",
    "\n",
    "The colon (`:`) indicates that the following line should be indented.\n",
    "\n",
    "You may have also noticed that Python is wary of brackets and doesn't use `end` statements either. An end of a scope is simply marked by unindenting the next line of code. \n",
    "It might seem like a dramatic difference from your programming language of choice, but you'll see it becomes trivial in no time."
   ]
  },
  {
   "cell_type": "code",
   "execution_count": 3,
   "metadata": {
    "slideshow": {
     "slide_type": "subslide"
    }
   },
   "outputs": [
    {
     "name": "stdout",
     "output_type": "stream",
     "text": [
      "I'm out of Scope!\n"
     ]
    }
   ],
   "source": [
    "# This is a comment - we'll use it a lot!\n",
    "\n",
    "# Example of whitespaces and (no) brackets in Python code\n",
    "a = 1\n",
    "if a > 1:  # the colon (:) requires us to indent the next line\n",
    "    b = 2\n",
    "else:  # the 'else' statement is in the same scope as the original 'if'\n",
    "    c = 4\n",
    "print(\"I'm out of Scope!\")  # scope ended by unindenting"
   ]
  },
  {
   "cell_type": "markdown",
   "metadata": {
    "slideshow": {
     "slide_type": "slide"
    }
   },
   "source": [
    "#### General Syntax"
   ]
  },
  {
   "cell_type": "code",
   "execution_count": 2,
   "metadata": {
    "slideshow": {
     "slide_type": "subslide"
    }
   },
   "outputs": [
    {
     "data": {
      "text/plain": [
       "5"
      ]
     },
     "execution_count": 2,
     "metadata": {},
     "output_type": "execute_result"
    }
   ],
   "source": [
    "# Numbers behave as you'd expect:\n",
    "2 + 3"
   ]
  },
  {
   "cell_type": "code",
   "execution_count": 3,
   "metadata": {
    "slideshow": {
     "slide_type": "subslide"
    }
   },
   "outputs": [
    {
     "data": {
      "text/plain": [
       "1.5"
      ]
     },
     "execution_count": 3,
     "metadata": {},
     "output_type": "execute_result"
    }
   ],
   "source": [
    "3 / 2"
   ]
  },
  {
   "cell_type": "code",
   "execution_count": 4,
   "metadata": {
    "slideshow": {
     "slide_type": "subslide"
    }
   },
   "outputs": [
    {
     "data": {
      "text/plain": [
       "32"
      ]
     },
     "execution_count": 4,
     "metadata": {},
     "output_type": "execute_result"
    }
   ],
   "source": [
    "# Exponentiation (**)\n",
    "2 ** (3 + 2)"
   ]
  },
  {
   "cell_type": "code",
   "execution_count": 15,
   "metadata": {},
   "outputs": [
    {
     "data": {
      "text/plain": [
       "2"
      ]
     },
     "execution_count": 15,
     "metadata": {},
     "output_type": "execute_result"
    }
   ],
   "source": [
    "# Floor devision\n",
    "11 // 4"
   ]
  },
  {
   "cell_type": "code",
   "execution_count": 16,
   "metadata": {},
   "outputs": [
    {
     "data": {
      "text/plain": [
       "3"
      ]
     },
     "execution_count": 16,
     "metadata": {},
     "output_type": "execute_result"
    }
   ],
   "source": [
    "# Modulus operator\n",
    "11 % 4"
   ]
  },
  {
   "cell_type": "code",
   "execution_count": 5,
   "metadata": {
    "slideshow": {
     "slide_type": "subslide"
    }
   },
   "outputs": [
    {
     "name": "stdout",
     "output_type": "stream",
     "text": [
      "3\n",
      "1 5 5\n"
     ]
    }
   ],
   "source": [
    "# Print stuff to screen\n",
    "print(1 + 2)\n",
    "print(1, 5, (3+2))  # separate arguments for the print() function are printed with spaces"
   ]
  },
  {
   "cell_type": "code",
   "execution_count": 6,
   "metadata": {
    "slideshow": {
     "slide_type": "subslide"
    }
   },
   "outputs": [
    {
     "data": {
      "text/plain": [
       "True"
      ]
     },
     "execution_count": 6,
     "metadata": {},
     "output_type": "execute_result"
    }
   ],
   "source": [
    "# Boolean logic - capital letter\n",
    "True"
   ]
  },
  {
   "cell_type": "code",
   "execution_count": 7,
   "metadata": {
    "slideshow": {
     "slide_type": "subslide"
    }
   },
   "outputs": [
    {
     "data": {
      "text/plain": [
       "False"
      ]
     },
     "execution_count": 7,
     "metadata": {},
     "output_type": "execute_result"
    }
   ],
   "source": [
    "False"
   ]
  },
  {
   "cell_type": "code",
   "execution_count": 8,
   "metadata": {
    "slideshow": {
     "slide_type": "subslide"
    }
   },
   "outputs": [
    {
     "data": {
      "text/plain": [
       "False"
      ]
     },
     "execution_count": 8,
     "metadata": {},
     "output_type": "execute_result"
    }
   ],
   "source": [
    "1 == 2"
   ]
  },
  {
   "cell_type": "code",
   "execution_count": 9,
   "metadata": {
    "slideshow": {
     "slide_type": "subslide"
    }
   },
   "outputs": [
    {
     "data": {
      "text/plain": [
       "True"
      ]
     },
     "execution_count": 9,
     "metadata": {},
     "output_type": "execute_result"
    }
   ],
   "source": [
    "2 < 4"
   ]
  },
  {
   "cell_type": "code",
   "execution_count": 10,
   "metadata": {
    "slideshow": {
     "slide_type": "subslide"
    }
   },
   "outputs": [
    {
     "data": {
      "text/plain": [
       "True"
      ]
     },
     "execution_count": 10,
     "metadata": {},
     "output_type": "execute_result"
    }
   ],
   "source": [
    "2 <= 3"
   ]
  },
  {
   "cell_type": "code",
   "execution_count": 11,
   "metadata": {
    "slideshow": {
     "slide_type": "subslide"
    }
   },
   "outputs": [
    {
     "data": {
      "text/plain": [
       "True"
      ]
     },
     "execution_count": 11,
     "metadata": {},
     "output_type": "execute_result"
    }
   ],
   "source": [
    "# Here's something cool\n",
    "10 < 12 < 14"
   ]
  },
  {
   "cell_type": "code",
   "execution_count": 1,
   "metadata": {
    "slideshow": {
     "slide_type": "subslide"
    }
   },
   "outputs": [
    {
     "data": {
      "text/plain": [
       "True"
      ]
     },
     "execution_count": 1,
     "metadata": {},
     "output_type": "execute_result"
    }
   ],
   "source": [
    "5 != 2  # !=, not ~="
   ]
  },
  {
   "cell_type": "code",
   "execution_count": 13,
   "metadata": {
    "slideshow": {
     "slide_type": "subslide"
    }
   },
   "outputs": [
    {
     "data": {
      "text/plain": [
       "'This is a string'"
      ]
     },
     "execution_count": 13,
     "metadata": {},
     "output_type": "execute_result"
    }
   ],
   "source": [
    "# Strings\n",
    "'This is a string'"
   ]
  },
  {
   "cell_type": "code",
   "execution_count": 4,
   "metadata": {
    "slideshow": {
     "slide_type": "subslide"
    }
   },
   "outputs": [
    {
     "data": {
      "text/plain": [
       "\"This is a string as well - we're identical in all possible ways (but look at that apostrophe!)\""
      ]
     },
     "execution_count": 4,
     "metadata": {},
     "output_type": "execute_result"
    }
   ],
   "source": [
    "\"This is a string as well - we're identical in all possible ways (but look at that apostrophe!)\""
   ]
  },
  {
   "cell_type": "code",
   "execution_count": 15,
   "metadata": {
    "slideshow": {
     "slide_type": "subslide"
    }
   },
   "outputs": [
    {
     "data": {
      "text/plain": [
       "'A\\nmulti\\nline\\nstring\\n'"
      ]
     },
     "execution_count": 15,
     "metadata": {},
     "output_type": "execute_result"
    }
   ],
   "source": [
    "\"\"\"A\n",
    "multi\n",
    "line\n",
    "string\n",
    "\"\"\""
   ]
  },
  {
   "cell_type": "code",
   "execution_count": 16,
   "metadata": {
    "slideshow": {
     "slide_type": "subslide"
    }
   },
   "outputs": [
    {
     "data": {
      "text/plain": [
       "'\\nMulti-line strings can be used as\\nmulti-line comments\\n'"
      ]
     },
     "execution_count": 16,
     "metadata": {},
     "output_type": "execute_result"
    }
   ],
   "source": [
    "'''\n",
    "Multi-line strings can be used as\n",
    "multi-line comments\n",
    "'''"
   ]
  },
  {
   "cell_type": "markdown",
   "metadata": {
    "slideshow": {
     "slide_type": "slide"
    }
   },
   "source": [
    "#### Types\n",
    "\n",
    "Types and data structures are essential in all programming languages. The type of a given variable is the first decision you make regarding the use of the variable - and an important one at that.\n",
    "\n",
    "Python has many types that you might have not heard of if you've only used MATLAB, but once you get to know and use them you can't really understand how you lived without them. The type of a variable encodes a very basic and important piece of information on that variable."
   ]
  },
  {
   "cell_type": "code",
   "execution_count": 5,
   "metadata": {
    "slideshow": {
     "slide_type": "subslide"
    }
   },
   "outputs": [
    {
     "name": "stdout",
     "output_type": "stream",
     "text": [
      "<class 'int'>\n",
      "18446744073709551617\n"
     ]
    }
   ],
   "source": [
    "# Unlike MATLAB\n",
    "print(type(42))\n",
    "\n",
    "# Unlimited length integers\n",
    "print(2**64 + 1)"
   ]
  },
  {
   "cell_type": "code",
   "execution_count": 22,
   "metadata": {
    "slideshow": {
     "slide_type": "subslide"
    }
   },
   "outputs": [
    {
     "data": {
      "text/plain": [
       "int"
      ]
     },
     "execution_count": 22,
     "metadata": {},
     "output_type": "execute_result"
    }
   ],
   "source": [
    "type(1_000_000)  # easier to read"
   ]
  },
  {
   "cell_type": "markdown",
   "metadata": {},
   "source": [
    "````{margin}\n",
    "```{note}\n",
    "Python floats are 64 bits, or \"double\" precision. For more information, see the [Floating Point Arithmetic](https://docs.python.org/3/tutorial/floatingpoint.html#floating-point-arithmetic-issues-and-limitations) in the official Python documentation.\n",
    "```\n",
    "````"
   ]
  },
  {
   "cell_type": "code",
   "execution_count": 9,
   "metadata": {
    "slideshow": {
     "slide_type": "subslide"
    }
   },
   "outputs": [
    {
     "data": {
      "text/plain": [
       "float"
      ]
     },
     "execution_count": 9,
     "metadata": {},
     "output_type": "execute_result"
    }
   ],
   "source": [
    "type(42.0)\n",
    "type(4.2)\n",
    "type(.4)\n",
    "type(2.)\n",
    "type(4e2)"
   ]
  },
  {
   "cell_type": "code",
   "execution_count": 20,
   "metadata": {
    "slideshow": {
     "slide_type": "subslide"
    }
   },
   "outputs": [
    {
     "name": "stdout",
     "output_type": "stream",
     "text": [
      "<class 'str'>\n",
      "௸\n",
      "עברית\n",
      "జ్ఞ‌ా\n",
      "🐍\n"
     ]
    }
   ],
   "source": [
    "print(type('42.0'))\n",
    "# String are unicode characters, so this works as well:\n",
    "print('\\u0BF8')  # Tamil language\n",
    "print(\"עברית\")\n",
    "print('\\u0C1C\\u0C4D\\u0C1E\\u200C\\u0C3E')  # sequence of unicode characters that crashed iOS 10 :)\n",
    "print('🐍')  # Emojis are strings as well"
   ]
  },
  {
   "cell_type": "markdown",
   "metadata": {},
   "source": [
    "##### Type Coersion"
   ]
  },
  {
   "cell_type": "code",
   "execution_count": 10,
   "metadata": {
    "slideshow": {
     "slide_type": "subslide"
    }
   },
   "outputs": [
    {
     "data": {
      "text/plain": [
       "int"
      ]
     },
     "execution_count": 10,
     "metadata": {},
     "output_type": "execute_result"
    }
   ],
   "source": [
    "type(1 + 2)"
   ]
  },
  {
   "cell_type": "code",
   "execution_count": 11,
   "metadata": {
    "slideshow": {
     "slide_type": "subslide"
    }
   },
   "outputs": [
    {
     "data": {
      "text/plain": [
       "int"
      ]
     },
     "execution_count": 11,
     "metadata": {},
     "output_type": "execute_result"
    }
   ],
   "source": [
    "type(3 - 4)"
   ]
  },
  {
   "cell_type": "code",
   "execution_count": 12,
   "metadata": {
    "slideshow": {
     "slide_type": "subslide"
    }
   },
   "outputs": [
    {
     "data": {
      "text/plain": [
       "float"
      ]
     },
     "execution_count": 12,
     "metadata": {},
     "output_type": "execute_result"
    }
   ],
   "source": [
    "type(1 + 2.)"
   ]
  },
  {
   "cell_type": "code",
   "execution_count": 13,
   "metadata": {
    "slideshow": {
     "slide_type": "subslide"
    }
   },
   "outputs": [
    {
     "data": {
      "text/plain": [
       "float"
      ]
     },
     "execution_count": 13,
     "metadata": {},
     "output_type": "execute_result"
    }
   ],
   "source": [
    "type(4 / 2)"
   ]
  },
  {
   "cell_type": "code",
   "execution_count": 18,
   "metadata": {
    "slideshow": {
     "slide_type": "subslide"
    }
   },
   "outputs": [
    {
     "data": {
      "text/plain": [
       "int"
      ]
     },
     "execution_count": 18,
     "metadata": {},
     "output_type": "execute_result"
    }
   ],
   "source": [
    "type(5 // 2)"
   ]
  },
  {
   "cell_type": "code",
   "execution_count": 20,
   "metadata": {},
   "outputs": [
    {
     "data": {
      "text/plain": [
       "float"
      ]
     },
     "execution_count": 20,
     "metadata": {},
     "output_type": "execute_result"
    }
   ],
   "source": [
    "type(11 % 4.2)"
   ]
  },
  {
   "cell_type": "markdown",
   "metadata": {
    "slideshow": {
     "slide_type": "slide"
    }
   },
   "source": [
    "#### Variables\n",
    "\n",
    "* No need to declare the type in advance (just like MATLAB).\n",
    "* Variables can change types (\"dynamically typed\").\n",
    "* No (day-to-day) memory concerns (garbage collected).\n"
   ]
  },
  {
   "cell_type": "markdown",
   "metadata": {},
   "source": [
    "##### Naming"
   ]
  },
  {
   "cell_type": "code",
   "execution_count": 21,
   "metadata": {
    "slideshow": {
     "slide_type": "subslide"
    }
   },
   "outputs": [],
   "source": [
    "a = 42\n",
    "b4 = 4.\n",
    "# 4b = 'a'  # not allowed! variable names can contain numbers, but not start with one\n",
    "a_message = 'This variable is a string variable.'\n",
    "a_message = 9  # legal\n",
    "# class = 1  # doesn't work! Reserved keyword"
   ]
  },
  {
   "cell_type": "markdown",
   "metadata": {},
   "source": [
    ":::{note}\n",
    "For a list of Python 3 keywords see the [Keywords](https://docs.python.org/3/reference/lexical_analysis.html#keywords) section in the official Python documentation.\n",
    ":::"
   ]
  },
  {
   "cell_type": "markdown",
   "metadata": {
    "slideshow": {
     "slide_type": "subslide"
    }
   },
   "source": [
    "In Python variables are written in `snake_case`, not `PascalCase` or `camelCase`. Generally speaking, the Python core developers defined how Python code should look in [PEP8](https://www.python.org/dev/peps/pep-0008/). I strongly encourage to take a look and at least get a feel for how Python code is meant to be written. \n",
    "\n",
    "In this course we will try and develop skills and habits that will enable us to write code that is usable and maintainable both by us and by our colleagues. Writing code that conforms with the standard styling instructions reduces cognitive load and facilitates efficient communication between developers (and often between ourselves in the present and ourselves in the past). \n",
    "\n",
    "jUst Imaagin IF i sTarTed makING    up my o_wn ?????, for writING.natural.language text!\\` ~~ ReadING dis b00k  - would B,come nigHTmare\\[!\\]\n",
    "\n",
    "Poorly written Python code doesn't feel much different, only worse."
   ]
  },
  {
   "cell_type": "markdown",
   "metadata": {
    "slideshow": {
     "slide_type": "subslide"
    }
   },
   "source": [
    "#### String operations\n",
    "\n",
    "* Everything in Python is an object, which means we can do stuff like:"
   ]
  },
  {
   "cell_type": "code",
   "execution_count": 29,
   "metadata": {
    "slideshow": {
     "slide_type": "subslide"
    }
   },
   "outputs": [
    {
     "data": {
      "text/plain": [
       "'ab'"
      ]
     },
     "execution_count": 29,
     "metadata": {},
     "output_type": "execute_result"
    }
   ],
   "source": [
    "\"a\" + \"b\""
   ]
  },
  {
   "cell_type": "code",
   "execution_count": 30,
   "metadata": {
    "slideshow": {
     "slide_type": "subslide"
    }
   },
   "outputs": [
    {
     "data": {
      "text/plain": [
       "'444444444'"
      ]
     },
     "execution_count": 30,
     "metadata": {},
     "output_type": "execute_result"
    }
   ],
   "source": [
    "'444' * 3"
   ]
  },
  {
   "cell_type": "code",
   "execution_count": 31,
   "metadata": {
    "slideshow": {
     "slide_type": "subslide"
    }
   },
   "outputs": [
    {
     "name": "stdout",
     "output_type": "stream",
     "text": [
      "DuckDuckDuck\n"
     ]
    }
   ],
   "source": [
    "a = 3\n",
    "b = \"Duck\"\n",
    "print(a * b)"
   ]
  },
  {
   "cell_type": "markdown",
   "metadata": {
    "slideshow": {
     "slide_type": "subslide"
    }
   },
   "source": [
    "Division and subtraction aren't defined for strings."
   ]
  },
  {
   "cell_type": "markdown",
   "metadata": {
    "slideshow": {
     "slide_type": "slide"
    }
   },
   "source": [
    "### Functions\n",
    "* We've already seen a couple of functions:\n",
    "    - `type()`\n",
    "    - `print()`\n",
    "    \n",
    "Here are a few more built-in functions:"
   ]
  },
  {
   "cell_type": "code",
   "execution_count": 32,
   "metadata": {
    "slideshow": {
     "slide_type": "subslide"
    }
   },
   "outputs": [
    {
     "data": {
      "text/plain": [
       "3"
      ]
     },
     "execution_count": 32,
     "metadata": {},
     "output_type": "execute_result"
    }
   ],
   "source": [
    "int(3.9)"
   ]
  },
  {
   "cell_type": "code",
   "execution_count": 33,
   "metadata": {
    "slideshow": {
     "slide_type": "subslide"
    }
   },
   "outputs": [
    {
     "data": {
      "text/plain": [
       "-3.0"
      ]
     },
     "execution_count": 33,
     "metadata": {},
     "output_type": "execute_result"
    }
   ],
   "source": [
    "float('-3')"
   ]
  },
  {
   "cell_type": "code",
   "execution_count": 34,
   "metadata": {
    "slideshow": {
     "slide_type": "subslide"
    }
   },
   "outputs": [
    {
     "ename": "ValueError",
     "evalue": "could not convert string to float: 'Hello, world!'",
     "output_type": "error",
     "traceback": [
      "\u001b[0;31m---------------------------------------------------------------------------\u001b[0m",
      "\u001b[0;31mValueError\u001b[0m                                Traceback (most recent call last)",
      "\u001b[0;32m<ipython-input-34-91309789e5a5>\u001b[0m in \u001b[0;36m<module>\u001b[0;34m\u001b[0m\n\u001b[1;32m      1\u001b[0m \u001b[0;31m# But\u001b[0m\u001b[0;34m\u001b[0m\u001b[0;34m\u001b[0m\u001b[0;34m\u001b[0m\u001b[0m\n\u001b[0;32m----> 2\u001b[0;31m \u001b[0mfloat\u001b[0m\u001b[0;34m(\u001b[0m\u001b[0;34m\"Hello, world!\"\u001b[0m\u001b[0;34m)\u001b[0m\u001b[0;34m\u001b[0m\u001b[0;34m\u001b[0m\u001b[0m\n\u001b[0m\u001b[1;32m      3\u001b[0m \u001b[0;31m# Notice the \"ValueError\" exception we received, one of many exceptions we'll encounter...\u001b[0m\u001b[0;34m\u001b[0m\u001b[0;34m\u001b[0m\u001b[0;34m\u001b[0m\u001b[0m\n",
      "\u001b[0;31mValueError\u001b[0m: could not convert string to float: 'Hello, world!'"
     ]
    }
   ],
   "source": [
    "# But\n",
    "float(\"Hello, world!\")\n",
    "# Notice the \"ValueError\" exception we received, one of many exceptions we'll encounter..."
   ]
  },
  {
   "cell_type": "code",
   "execution_count": 35,
   "metadata": {
    "slideshow": {
     "slide_type": "subslide"
    }
   },
   "outputs": [
    {
     "data": {
      "text/plain": [
       "'100'"
      ]
     },
     "execution_count": 35,
     "metadata": {},
     "output_type": "execute_result"
    }
   ],
   "source": [
    "str(100)"
   ]
  },
  {
   "cell_type": "markdown",
   "metadata": {},
   "source": [
    "#### Defining Functions"
   ]
  },
  {
   "cell_type": "code",
   "execution_count": 23,
   "metadata": {
    "slideshow": {
     "slide_type": "subslide"
    }
   },
   "outputs": [],
   "source": [
    "def multiprint(statement, repetitions):\n",
    "    \"\"\" Prints the *statement* multiplied by *repetitions* \"\"\"\n",
    "    multistatement = statement * repetitions\n",
    "    print(multistatement)\n",
    "    return multistatement"
   ]
  },
  {
   "cell_type": "markdown",
   "metadata": {
    "slideshow": {
     "slide_type": "subslide"
    }
   },
   "source": [
    "##### Things to notice:\n",
    "* `def` is a reserved keyword\n",
    "* Indentation - no brackets, no `end`, just colon (`:`) followed by 4 spaces.\n",
    "* Docstring: `\"\"\"` The place to document what this function does - its inputs, its logic and its outcome\n",
    "* `snake_case` naming\n",
    "* Returning is optional - you don't have to add the `return` statement"
   ]
  },
  {
   "cell_type": "markdown",
   "metadata": {},
   "source": [
    "Functions can have also zero arguments:"
   ]
  },
  {
   "cell_type": "code",
   "execution_count": 24,
   "metadata": {
    "slideshow": {
     "slide_type": "subslide"
    }
   },
   "outputs": [],
   "source": [
    "def always_return_2():  # numbers in function names (again, not at the start)\n",
    "    return 2"
   ]
  },
  {
   "cell_type": "code",
   "execution_count": 38,
   "metadata": {
    "slideshow": {
     "slide_type": "subslide"
    }
   },
   "outputs": [
    {
     "data": {
      "text/plain": [
       "<function __main__.always_return_2()>"
      ]
     },
     "execution_count": 38,
     "metadata": {},
     "output_type": "execute_result"
    }
   ],
   "source": [
    "# Calling a function is done with parenthesis\n",
    "always_return_2"
   ]
  },
  {
   "cell_type": "code",
   "execution_count": 39,
   "metadata": {
    "scrolled": true,
    "slideshow": {
     "slide_type": "subslide"
    }
   },
   "outputs": [
    {
     "data": {
      "text/plain": [
       "2"
      ]
     },
     "execution_count": 39,
     "metadata": {},
     "output_type": "execute_result"
    }
   ],
   "source": [
    "always_return_2()"
   ]
  },
  {
   "cell_type": "markdown",
   "metadata": {},
   "source": [
    "If you want to return more than one item for a function, wrap it in a tuple. "
   ]
  },
  {
   "cell_type": "code",
   "execution_count": 25,
   "metadata": {},
   "outputs": [],
   "source": [
    "def return_two_items():\n",
    "    return (1, 2)"
   ]
  },
  {
   "cell_type": "markdown",
   "metadata": {},
   "source": [
    ":::{admonition} Nested Functions\n",
    "Try not to define functions within other functions. While it's technically possible, it's almost never the right thing to do.\n",
    ":::"
   ]
  },
  {
   "cell_type": "markdown",
   "metadata": {
    "slideshow": {
     "slide_type": "slide"
    }
   },
   "source": [
    "### Data Structures"
   ]
  },
  {
   "cell_type": "markdown",
   "metadata": {},
   "source": [
    "#### Lists, Tuples, Dictionaries and Sets\n",
    "\n",
    "Python has several built-in data containers. You should familiarize yourself with them, since each of them has its own use cases. "
   ]
  },
  {
   "cell_type": "markdown",
   "metadata": {
    "slideshow": {
     "slide_type": "slide"
    }
   },
   "source": [
    "##### Lists\n",
    "As basic as they are important:"
   ]
  },
  {
   "cell_type": "code",
   "execution_count": 40,
   "metadata": {
    "slideshow": {
     "slide_type": "subslide"
    }
   },
   "outputs": [
    {
     "name": "stdout",
     "output_type": "stream",
     "text": [
      "[1, 2, 3]\n"
     ]
    }
   ],
   "source": [
    "a_list = [1, 2, 3]  # square brackets\n",
    "print(a_list)"
   ]
  },
  {
   "cell_type": "code",
   "execution_count": 27,
   "metadata": {
    "slideshow": {
     "slide_type": "subslide"
    }
   },
   "outputs": [
    {
     "name": "stdout",
     "output_type": "stream",
     "text": [
      "[1, '2', '3', 4.0, True, <function always_return_2 at 0x7fbc28c99700>, -100]\n"
     ]
    }
   ],
   "source": [
    "another_list = [\"a\", \"b\", \"c\"]\n",
    "l = [1, \"2\", '3', 4.0, True, always_return_2]  # heterogeneous\n",
    "l.append(-100)  # mutable\n",
    "print(l)"
   ]
  },
  {
   "cell_type": "code",
   "execution_count": 28,
   "metadata": {
    "slideshow": {
     "slide_type": "subslide"
    }
   },
   "outputs": [
    {
     "data": {
      "text/plain": [
       "7"
      ]
     },
     "execution_count": 28,
     "metadata": {},
     "output_type": "execute_result"
    }
   ],
   "source": [
    "# The length of a list (and most other Python objects) is received from the len() function\n",
    "len(l)"
   ]
  },
  {
   "cell_type": "markdown",
   "metadata": {},
   "source": [
    "````{margin}\n",
    "```{note}\n",
    "Lists aren't MATLAB-like arrays. In a couple of lessons we'll talk about these.\n",
    "```\n",
    "````"
   ]
  },
  {
   "cell_type": "code",
   "execution_count": 29,
   "metadata": {
    "slideshow": {
     "slide_type": "subslide"
    }
   },
   "outputs": [],
   "source": [
    "# Lists are like arrays\n",
    "# 1D array\n",
    "oned = [1, 2, 3]\n",
    "\n",
    "# 2D array\n",
    "twod = [[1, 2, 3], [4, 5, 6], [7, 8, 9]]"
   ]
  },
  {
   "cell_type": "markdown",
   "metadata": {
    "slideshow": {
     "slide_type": "subslide"
    }
   },
   "source": [
    "##### Slicing\n",
    "Many data structures support indexing:\n",
    "\n",
    "![Slicing](slicing.png)\n",
    "\n",
    "* Starts from 0, ends at n-1.\n",
    "* Inclusive-exclusive (start-end).\n",
    "* Negative indices are valid.\n",
    "* Overall - better than 1-based indexing, but takes time getting used to."
   ]
  },
  {
   "cell_type": "code",
   "execution_count": 30,
   "metadata": {
    "slideshow": {
     "slide_type": "subslide"
    }
   },
   "outputs": [
    {
     "name": "stdout",
     "output_type": "stream",
     "text": [
      "The original list:\n",
      "[1, '2', '3', 4.0, True, <function always_return_2 at 0x7fbc28c99700>, -100]\n",
      "l[0]: 1\n",
      "l[5]: <function always_return_2 at 0x7fbc28c99700>\n",
      "l[0:2]: [1, '2']\n"
     ]
    }
   ],
   "source": [
    "# Slicing (indexing) into a list\n",
    "print(\"The original list:\")\n",
    "print(l)\n",
    "\n",
    "print(\"l[0]:\", l[0])\n",
    "\n",
    "print(\"l[5]:\", l[5])\n",
    "\n",
    "print(\"l[0:2]:\", l[0:2])"
   ]
  },
  {
   "cell_type": "code",
   "execution_count": 45,
   "metadata": {
    "slideshow": {
     "slide_type": "subslide"
    }
   },
   "outputs": [
    {
     "name": "stdout",
     "output_type": "stream",
     "text": [
      "1 ----- <function always_return_2 at 0x7f6cf0b23598>\n"
     ]
    }
   ],
   "source": [
    "# l = [1, '2', '3', 4.0, True, alwyas_return_2, -100]\n",
    "print(l[0], '-----', l[5])"
   ]
  },
  {
   "cell_type": "code",
   "execution_count": 46,
   "metadata": {
    "slideshow": {
     "slide_type": "subslide"
    }
   },
   "outputs": [
    {
     "name": "stdout",
     "output_type": "stream",
     "text": [
      "-100 True\n"
     ]
    }
   ],
   "source": [
    "# l = [1, '2', '3', 4.0, True, always_return_2, -100]\n",
    "print(l[-1], l[-3])"
   ]
  },
  {
   "cell_type": "code",
   "execution_count": 47,
   "metadata": {
    "slideshow": {
     "slide_type": "subslide"
    }
   },
   "outputs": [
    {
     "data": {
      "text/plain": [
       "['2', '3']"
      ]
     },
     "execution_count": 47,
     "metadata": {},
     "output_type": "execute_result"
    }
   ],
   "source": [
    "# l = [1, '2', '3', 4.0, True, always_return_2, -100]\n",
    "l[1:3]  # inclusive:exclusive"
   ]
  },
  {
   "cell_type": "code",
   "execution_count": 48,
   "metadata": {
    "slideshow": {
     "slide_type": "subslide"
    }
   },
   "outputs": [
    {
     "data": {
      "text/plain": [
       "['2', 4.0, <function __main__.always_return_2()>]"
      ]
     },
     "execution_count": 48,
     "metadata": {},
     "output_type": "execute_result"
    }
   ],
   "source": [
    "# l = [1, '2', '3', 4.0, True, always_return_2, -100]\n",
    "l[1:-1:2]  # start : stop : step"
   ]
  },
  {
   "cell_type": "code",
   "execution_count": 49,
   "metadata": {
    "slideshow": {
     "slide_type": "subslide"
    }
   },
   "outputs": [
    {
     "data": {
      "text/plain": [
       "[-100, True, '3']"
      ]
     },
     "execution_count": 49,
     "metadata": {},
     "output_type": "execute_result"
    }
   ],
   "source": [
    "# l = [1, '2', '3', 4.0, True, always_return_2, -100]\n",
    "l[-1:1:-2]  # stepping backwards"
   ]
  },
  {
   "cell_type": "code",
   "execution_count": 50,
   "metadata": {
    "slideshow": {
     "slide_type": "subslide"
    }
   },
   "outputs": [
    {
     "data": {
      "text/plain": [
       "['2', 4.0, <function __main__.always_return_2()>]"
      ]
     },
     "execution_count": 50,
     "metadata": {},
     "output_type": "execute_result"
    }
   ],
   "source": [
    "# l = [1, '2', '3', 4.0, True, always_return_2, -100]\n",
    "# Skipping the ending index tells Python to run till the end\n",
    "l[1::2]"
   ]
  },
  {
   "cell_type": "code",
   "execution_count": 51,
   "metadata": {
    "scrolled": true,
    "slideshow": {
     "slide_type": "subslide"
    }
   },
   "outputs": [
    {
     "name": "stdout",
     "output_type": "stream",
     "text": [
      "[-100, <function always_return_2 at 0x7f6cf0b23598>, True, 4.0, '3', '2', 1]\n"
     ]
    }
   ],
   "source": [
    "# l = [1, '2', '3', 4.0, True, always_return_2, -100]\n",
    "# beware - MIND BLOWN ALERT\n",
    "print(l[::-1])"
   ]
  },
  {
   "cell_type": "code",
   "execution_count": 52,
   "metadata": {
    "slideshow": {
     "slide_type": "subslide"
    }
   },
   "outputs": [
    {
     "name": "stdout",
     "output_type": "stream",
     "text": [
      "[1, '2', 4.0, True, <function always_return_2 at 0x7f6cf0b23598>, -100]\n"
     ]
    }
   ],
   "source": [
    "l.pop(2)\n",
    "print(l)"
   ]
  },
  {
   "cell_type": "markdown",
   "metadata": {
    "slideshow": {
     "slide_type": "subslide"
    }
   },
   "source": [
    "##### List use-cases\n",
    "* All-purpose, simple vector container for items.\n",
    "* The `.append()` method is very convienient.\n",
    "* You can also `.pop(index)` an item, and `.count(x)` the occurrences of `x` in the list."
   ]
  },
  {
   "cell_type": "markdown",
   "metadata": {
    "slideshow": {
     "slide_type": "slide"
    }
   },
   "source": [
    "#### Tuples\n",
    "Very similar to lists, but are immutable."
   ]
  },
  {
   "cell_type": "code",
   "execution_count": 53,
   "metadata": {
    "slideshow": {
     "slide_type": "subslide"
    }
   },
   "outputs": [
    {
     "data": {
      "text/plain": [
       "3"
      ]
     },
     "execution_count": 53,
     "metadata": {},
     "output_type": "execute_result"
    }
   ],
   "source": [
    "a_tuple = (1, 2, 3, \"a\")  # heterogeneous, generated using parenthesis\n",
    "a_tuple[2]"
   ]
  },
  {
   "cell_type": "code",
   "execution_count": 54,
   "metadata": {
    "slideshow": {
     "slide_type": "subslide"
    }
   },
   "outputs": [
    {
     "ename": "TypeError",
     "evalue": "'tuple' object does not support item assignment",
     "output_type": "error",
     "traceback": [
      "\u001b[0;31m---------------------------------------------------------------------------\u001b[0m",
      "\u001b[0;31mTypeError\u001b[0m                                 Traceback (most recent call last)",
      "\u001b[0;32m<ipython-input-54-621c41259553>\u001b[0m in \u001b[0;36m<module>\u001b[0;34m\u001b[0m\n\u001b[0;32m----> 1\u001b[0;31m \u001b[0ma_tuple\u001b[0m\u001b[0;34m[\u001b[0m\u001b[0;36m2\u001b[0m\u001b[0;34m]\u001b[0m \u001b[0;34m=\u001b[0m \u001b[0;36m4\u001b[0m  \u001b[0;31m# immutable!\u001b[0m\u001b[0;34m\u001b[0m\u001b[0;34m\u001b[0m\u001b[0m\n\u001b[0m\u001b[1;32m      2\u001b[0m \u001b[0;31m# So .append() doesn't work, for example. Once created they will remain constant.\u001b[0m\u001b[0;34m\u001b[0m\u001b[0;34m\u001b[0m\u001b[0;34m\u001b[0m\u001b[0m\n",
      "\u001b[0;31mTypeError\u001b[0m: 'tuple' object does not support item assignment"
     ]
    }
   ],
   "source": [
    "a_tuple[2] = 4  # immutable!\n",
    "# So .append() doesn't work, for example. Once created they will remain constant."
   ]
  },
  {
   "cell_type": "markdown",
   "metadata": {
    "slideshow": {
     "slide_type": "subslide"
    }
   },
   "source": [
    "##### Tuple use-cases\n",
    "* Immutable lists.\n",
    "* Return values from functions.\n",
    "* Assortments that have a logical connection between them, like coordinates."
   ]
  },
  {
   "cell_type": "markdown",
   "metadata": {
    "slideshow": {
     "slide_type": "slide"
    }
   },
   "source": [
    "#### Dictionaries\n",
    "Python's hash maps (`containers.Map` in MATLAB)\n",
    "* Structure is `key: value`.\n",
    "* Super useful, __O__(1) look-ups and assignments."
   ]
  },
  {
   "cell_type": "code",
   "execution_count": 55,
   "metadata": {
    "slideshow": {
     "slide_type": "subslide"
    }
   },
   "outputs": [
    {
     "data": {
      "text/plain": [
       "{'one': 2}"
      ]
     },
     "execution_count": 55,
     "metadata": {},
     "output_type": "execute_result"
    }
   ],
   "source": [
    "dictionary = dict(one=2)\n",
    "dictionary  # curly brackets\n",
    "# The key is 'one', and its corresponding value is 2"
   ]
  },
  {
   "cell_type": "code",
   "execution_count": 56,
   "metadata": {
    "slideshow": {
     "slide_type": "subslide"
    }
   },
   "outputs": [
    {
     "data": {
      "text/plain": [
       "{'one': 2, 'two': 3, 1: 4}"
      ]
     },
     "execution_count": 56,
     "metadata": {},
     "output_type": "execute_result"
    }
   ],
   "source": [
    "another = {'one': 2,\n",
    "           'two': 3,\n",
    "           1: 4}\n",
    "another"
   ]
  },
  {
   "cell_type": "code",
   "execution_count": 80,
   "metadata": {
    "slideshow": {
     "slide_type": "subslide"
    }
   },
   "outputs": [
    {
     "name": "stdout",
     "output_type": "stream",
     "text": [
      "2\n"
     ]
    },
    {
     "data": {
      "text/plain": [
       "3"
      ]
     },
     "execution_count": 80,
     "metadata": {},
     "output_type": "execute_result"
    }
   ],
   "source": [
    "print(another['one'])  \n",
    "# Lookups with brackets, like slicing (but you can't slice dictionaries, they're unordered)\n",
    "# print(another['three'])\n",
    "another['four'] = [1, 2, 3]\n",
    "another['four'][2]"
   ]
  },
  {
   "cell_type": "code",
   "execution_count": 31,
   "metadata": {
    "slideshow": {
     "slide_type": "subslide"
    }
   },
   "outputs": [
    {
     "data": {
      "text/plain": [
       "{'one': 300, 'two': 300, 'three': 100}"
      ]
     },
     "execution_count": 31,
     "metadata": {},
     "output_type": "execute_result"
    }
   ],
   "source": [
    "dict3 = {'one': 100,\n",
    "         'two': 300,\n",
    "         'one': 300,\n",
    "         'three': 100}\n",
    "dict3  # keys are unique! Values aren't"
   ]
  },
  {
   "cell_type": "code",
   "execution_count": 83,
   "metadata": {
    "slideshow": {
     "slide_type": "subslide"
    }
   },
   "outputs": [
    {
     "name": "stdout",
     "output_type": "stream",
     "text": [
      "{'one': 300, 'two': 300, 'three': 1000}\n"
     ]
    }
   ],
   "source": [
    "dict3['three'] = 1000  # mutable!\n",
    "print(dict3)"
   ]
  },
  {
   "cell_type": "code",
   "execution_count": 32,
   "metadata": {
    "slideshow": {
     "slide_type": "subslide"
    }
   },
   "outputs": [
    {
     "name": "stdout",
     "output_type": "stream",
     "text": [
      "4.4\n"
     ]
    }
   ],
   "source": [
    "# Dictionaries are great for storing nested data - here's some simulated data:\n",
    "data = {\n",
    "    'wt': {\n",
    "        '113': {'mean': 45.3, 'stdev': 3.2}, \n",
    "        '545': {'mean': 44.1, 'stdev': 1.2}\n",
    "    }, \n",
    "    'fmr': {\n",
    "        '674': {'mean': 31.3, 'stdev': 4.4}, \n",
    "        '751': {'mean': 36.0, 'stdev': 5.7}\n",
    "    }\n",
    "}\n",
    "\n",
    "print(data['fmr']['674']['stdev'])"
   ]
  },
  {
   "cell_type": "markdown",
   "metadata": {
    "slideshow": {
     "slide_type": "subslide"
    }
   },
   "source": [
    "Dictionaries have useful methods, such as `.pop()`, `.keys()` and more. We'll explore them throughout the semester."
   ]
  },
  {
   "cell_type": "markdown",
   "metadata": {
    "slideshow": {
     "slide_type": "slide"
    }
   },
   "source": [
    "#### Sets\n",
    "\n",
    "A set is an unordered mutable data container which forces its items to be immutable and unique."
   ]
  },
  {
   "cell_type": "code",
   "execution_count": 90,
   "metadata": {
    "slideshow": {
     "slide_type": "subslide"
    }
   },
   "outputs": [
    {
     "name": "stdout",
     "output_type": "stream",
     "text": [
      "{'a', 'c', 'e'}\n"
     ]
    },
    {
     "ename": "TypeError",
     "evalue": "'set' object is not subscriptable",
     "output_type": "error",
     "traceback": [
      "\u001b[0;31m---------------------------------------------------------------------------\u001b[0m",
      "\u001b[0;31mTypeError\u001b[0m                                 Traceback (most recent call last)",
      "\u001b[0;32m<ipython-input-90-9f9f230432e8>\u001b[0m in \u001b[0;36m<module>\u001b[0;34m\u001b[0m\n\u001b[1;32m      4\u001b[0m \u001b[0;34m\u001b[0m\u001b[0m\n\u001b[1;32m      5\u001b[0m \u001b[0mset2\u001b[0m \u001b[0;34m=\u001b[0m \u001b[0;34m{\u001b[0m\u001b[0;34m'b'\u001b[0m\u001b[0;34m,\u001b[0m \u001b[0;34m'd'\u001b[0m\u001b[0;34m,\u001b[0m \u001b[0;34m'f'\u001b[0m\u001b[0;34m}\u001b[0m\u001b[0;34m\u001b[0m\u001b[0;34m\u001b[0m\u001b[0m\n\u001b[0;32m----> 6\u001b[0;31m \u001b[0mprint\u001b[0m\u001b[0;34m(\u001b[0m\u001b[0mset2\u001b[0m\u001b[0;34m[\u001b[0m\u001b[0;36m0\u001b[0m\u001b[0;34m]\u001b[0m\u001b[0;34m)\u001b[0m\u001b[0;34m\u001b[0m\u001b[0;34m\u001b[0m\u001b[0m\n\u001b[0m\u001b[1;32m      7\u001b[0m \u001b[0;31m# Unordered!\u001b[0m\u001b[0;34m\u001b[0m\u001b[0;34m\u001b[0m\u001b[0;34m\u001b[0m\u001b[0m\n",
      "\u001b[0;31mTypeError\u001b[0m: 'set' object is not subscriptable"
     ]
    }
   ],
   "source": [
    "# Different constructors\n",
    "set1 = set(['a', 'c', 'e'])\n",
    "print(set1)\n",
    "\n",
    "set2 = {'b', 'd', 'f'}\n",
    "print(set2[0])\n",
    "# Unordered!"
   ]
  },
  {
   "cell_type": "markdown",
   "metadata": {},
   "source": [
    "Uniqueness is enforced:"
   ]
  },
  {
   "cell_type": "code",
   "execution_count": 37,
   "metadata": {
    "slideshow": {
     "slide_type": "subslide"
    }
   },
   "outputs": [
    {
     "name": "stdout",
     "output_type": "stream",
     "text": [
      "{1, 2, 'a'}\n"
     ]
    }
   ],
   "source": [
    "set3 = {'a', 1, 'a', 2}\n",
    "print(set3)"
   ]
  },
  {
   "cell_type": "markdown",
   "metadata": {},
   "source": [
    "Can you guess what's happening here?"
   ]
  },
  {
   "cell_type": "code",
   "execution_count": 38,
   "metadata": {},
   "outputs": [
    {
     "name": "stdout",
     "output_type": "stream",
     "text": [
      "{0, 1, 'a'}\n"
     ]
    }
   ],
   "source": [
    "set4 = {'a', 1, True, 0, False}\n",
    "print(set4)"
   ]
  },
  {
   "cell_type": "markdown",
   "metadata": {},
   "source": [
    "::::{admonition,dropdown,tip} Solution\n",
    "In Python, `True` and `False` are in fact identical to `1` and `0` (respetively).\n",
    "::::"
   ]
  },
  {
   "cell_type": "code",
   "execution_count": 39,
   "metadata": {},
   "outputs": [
    {
     "name": "stdout",
     "output_type": "stream",
     "text": [
      "{1, 2, 3}\n"
     ]
    },
    {
     "ename": "TypeError",
     "evalue": "unhashable type: 'list'",
     "output_type": "error",
     "traceback": [
      "\u001b[0;31m---------------------------------------------------------------------------\u001b[0m",
      "\u001b[0;31mTypeError\u001b[0m                                 Traceback (most recent call last)",
      "\u001b[0;32m<ipython-input-39-ceb8c312b08d>\u001b[0m in \u001b[0;36m<module>\u001b[0;34m\u001b[0m\n\u001b[1;32m      4\u001b[0m \u001b[0;34m\u001b[0m\u001b[0m\n\u001b[1;32m      5\u001b[0m \u001b[0;31m# Mutable types can't be inserted to a set\u001b[0m\u001b[0;34m\u001b[0m\u001b[0;34m\u001b[0m\u001b[0;34m\u001b[0m\u001b[0m\n\u001b[0;32m----> 6\u001b[0;31m \u001b[0mset5\u001b[0m\u001b[0;34m.\u001b[0m\u001b[0madd\u001b[0m\u001b[0;34m(\u001b[0m\u001b[0;34m[\u001b[0m\u001b[0;36m10\u001b[0m\u001b[0;34m,\u001b[0m \u001b[0;36m20\u001b[0m\u001b[0;34m]\u001b[0m\u001b[0;34m)\u001b[0m\u001b[0;34m\u001b[0m\u001b[0;34m\u001b[0m\u001b[0m\n\u001b[0m",
      "\u001b[0;31mTypeError\u001b[0m: unhashable type: 'list'"
     ]
    }
   ],
   "source": [
    "set5 = {1, 2}\n",
    "set5.add(3)\n",
    "print(set5)\n",
    "\n",
    "# Mutable types can't be inserted to a set\n",
    "set5.add([10, 20])"
   ]
  },
  {
   "cell_type": "markdown",
   "metadata": {
    "slideshow": {
     "slide_type": "subslide"
    }
   },
   "source": [
    "Sets support set operations like union, intersection and difference:\n"
   ]
  },
  {
   "cell_type": "code",
   "execution_count": 70,
   "metadata": {
    "slideshow": {
     "slide_type": "subslide"
    }
   },
   "outputs": [],
   "source": [
    "a_set = {1, 2, 3, 4}\n",
    "b_set = set([3, 4, 5, 6])"
   ]
  },
  {
   "cell_type": "code",
   "execution_count": 71,
   "metadata": {
    "slideshow": {
     "slide_type": "subslide"
    }
   },
   "outputs": [
    {
     "name": "stdout",
     "output_type": "stream",
     "text": [
      "{1, 2, 3, 4} - {3, 4, 5, 6} = {1, 2}\n"
     ]
    }
   ],
   "source": [
    "diff_set = a_set - b_set  # difference\n",
    "print(str(a_set), '-', str(b_set), '=', diff_set)"
   ]
  },
  {
   "cell_type": "code",
   "execution_count": 72,
   "metadata": {
    "slideshow": {
     "slide_type": "subslide"
    }
   },
   "outputs": [
    {
     "name": "stdout",
     "output_type": "stream",
     "text": [
      "{1, 2, 3, 4} ∪ {3, 4, 5, 6} = {1, 2, 3, 4, 5, 6}\n"
     ]
    }
   ],
   "source": [
    "union_set = a_set.union(b_set)\n",
    "print(str(a_set), '\\u222A', str(b_set), '=', union_set)"
   ]
  },
  {
   "cell_type": "markdown",
   "metadata": {
    "slideshow": {
     "slide_type": "subslide"
    }
   },
   "source": [
    "#### Set use-cases:\n",
    "\n",
    "Sets are less popular, and are mainly used to drop duplicates from lists. Set operations like intersection can also come in handy in some occasions.\n",
    "    \n",
    "    list_with_dups = [1, 2, 3, 4, 4, 5]\n",
    "    list_without_dups = list(set(list_with_dups))"
   ]
  },
  {
   "cell_type": "markdown",
   "metadata": {
    "slideshow": {
     "slide_type": "slide"
    }
   },
   "source": [
    "### Flow Control: `if` and `for`"
   ]
  },
  {
   "cell_type": "markdown",
   "metadata": {
    "slideshow": {
     "slide_type": "slide"
    }
   },
   "source": [
    "#### Exercises\n",
    "\n",
    "Below are a couple of exercises that will introduce to you Python's `if` statements and the `for` loop. Their solution is right below."
   ]
  },
  {
   "cell_type": "markdown",
   "metadata": {
    "slideshow": {
     "slide_type": "subslide"
    }
   },
   "source": [
    "To get a working Python session quickly, go to [repl.it](https://repl.it/), click on the blue \"new repl\" button on the top-left part of the screen, choose Python and click \"Create Repl\", which should direct you to a screen as seen below. You don't need to sign up!\n",
    "\n",
    "![Repl.it UI](replit_ui.png)"
   ]
  },
  {
   "cell_type": "markdown",
   "metadata": {
    "slideshow": {
     "slide_type": "subslide"
    }
   },
   "source": [
    "You can type your code directly on the right side of the screen, or write some code (with functions!) on the left side and click the green \"run\" button."
   ]
  },
  {
   "cell_type": "markdown",
   "metadata": {
    "slideshow": {
     "slide_type": "slide"
    }
   },
   "source": [
    "### Exercise 1: The Enigma\n",
    "\n",
    "The Enigma code worked by subtituting each letter with a different one. Write an encoder function which receives the letters to encode and the pairs of letters that are used for the code.\n",
    "\n",
    "Make sure to use appropriate data structures. If it helps, you can assume that all received letters are in the pairs of the code."
   ]
  },
  {
   "cell_type": "markdown",
   "metadata": {},
   "source": [
    ":::{admonition,dropdown,tip} Solution\n",
    "```\n",
    "def enigma_code(letters, table):\n",
    "    \"\"\"Encode\\decode the letters using the table. \n",
    "    \n",
    "    If a letter in letters isn't found in table,\n",
    "    None is returned.\n",
    "    \n",
    "    Parameters\n",
    "    ----------\n",
    "    letters : iterable\n",
    "        The letters to encode or decode\n",
    "    table : dictionary\n",
    "        A real \"dictionary\" which defines the translation \n",
    "        from one letter to the other.\n",
    "        \n",
    "    Returns\n",
    "    -------\n",
    "    result : list\n",
    "        A list of translated letters\n",
    "    \"\"\"\n",
    "    result = []\n",
    "    for letter in letters:\n",
    "        result.append(table.get(letter))  # the .get() method of a dictionary is great\n",
    "    return result\n",
    "```\n",
    ":::"
   ]
  },
  {
   "cell_type": "markdown",
   "metadata": {
    "slideshow": {
     "slide_type": "slide"
    }
   },
   "source": [
    "### Exercise 2: List Slicer\n",
    "\n",
    "Write a function that slices a list in two parts and returns them. If the list contains an odd number of elements the first slice of the two should contain more items."
   ]
  },
  {
   "cell_type": "markdown",
   "metadata": {},
   "source": [
    ":::{admonition,dropdown,tip} Solution\n",
    "```\n",
    "def slicer(l):\n",
    "    \"\"\"Slices the given list into two parts.\n",
    "    \n",
    "    If the number of elements is even, the first list will always\n",
    "    be longer.\n",
    "    \n",
    "    Parameters\n",
    "    ----------\n",
    "    l : list-like\n",
    "        The given list to slice\n",
    "    \n",
    "    Returns\n",
    "    -------\n",
    "    sliced : 2-tuple of lists\n",
    "        The two parts of the original lists\n",
    "    \"\"\"\n",
    "    length = len(l)\n",
    "    middle_index = length // 2  # returns a float, so we cast it to int (floor)\n",
    "    if length % 2 != 0:\n",
    "        middle_index += 1\n",
    "    return l[:middle_index], l[middle_index:]\n",
    "```\n",
    "This slicer function works with lists of all lengths, even 0. Also, notice how the return type is actually a tuple of lists, even though we didn't surround it with parenthesis.\n",
    ":::"
   ]
  }
 ],
 "metadata": {
  "anaconda-cloud": {},
  "celltoolbar": "Slideshow",
  "kernelspec": {
   "display_name": "Python 3",
   "language": "python",
   "name": "python3"
  },
  "language_info": {
   "codemirror_mode": {
    "name": "ipython",
    "version": 3
   },
   "file_extension": ".py",
   "mimetype": "text/x-python",
   "name": "python",
   "nbconvert_exporter": "python",
   "pygments_lexer": "ipython3",
   "version": "3.8.0"
  }
 },
 "nbformat": 4,
 "nbformat_minor": 2
}