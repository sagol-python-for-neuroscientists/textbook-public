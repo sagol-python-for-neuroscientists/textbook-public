{
 "cells": [
  {
   "cell_type": "markdown",
   "metadata": {
    "slideshow": {
     "slide_type": "slide"
    }
   },
   "source": [
    "# Class 1: Data Structures, Functions and Iterations\n"
   ]
  },
  {
   "cell_type": "markdown",
   "metadata": {
    "slideshow": {
     "slide_type": "subslide"
    }
   },
   "source": [
    "## Conditionals and Iteration\n",
    "\n",
    "Even though you've learned it by yourself in the first class and while doing homework, we'll go through these subjects (quickly) one more time, for the sake of completeness."
   ]
  },
  {
   "cell_type": "markdown",
   "metadata": {
    "slideshow": {
     "slide_type": "subslide"
    }
   },
   "source": [
    "### The `if` Statement"
   ]
  },
  {
   "cell_type": "markdown",
   "metadata": {},
   "source": [
    "Minimal example:"
   ]
  },
  {
   "cell_type": "code",
   "execution_count": 1,
   "metadata": {
    "slideshow": {
     "slide_type": "subslide"
    }
   },
   "outputs": [],
   "source": [
    "x = 10\n",
    "if x > 10:\n",
    "    print(\"x is bigger than 10\")"
   ]
  },
  {
   "cell_type": "markdown",
   "metadata": {},
   "source": [
    "Using `else`:"
   ]
  },
  {
   "cell_type": "code",
   "execution_count": 2,
   "metadata": {
    "slideshow": {
     "slide_type": "subslide"
    }
   },
   "outputs": [
    {
     "name": "stdout",
     "output_type": "stream",
     "text": [
      "y\n"
     ]
    }
   ],
   "source": [
    "y = 11\n",
    "if x > y:\n",
    "    print(\"x\")\n",
    "else:\n",
    "    print(\"y\")"
   ]
  },
  {
   "cell_type": "markdown",
   "metadata": {},
   "source": [
    "Multiple conditions (`elif`):"
   ]
  },
  {
   "cell_type": "code",
   "execution_count": 3,
   "metadata": {
    "slideshow": {
     "slide_type": "subslide"
    }
   },
   "outputs": [],
   "source": [
    "z = 12\n",
    "if x > y:\n",
    "    print(\"x\")\n",
    "elif x > z:\n",
    "    print(\"x > z\")\n",
    "elif z < y:\n",
    "    print(\"z is small\")\n",
    "    if z < x:\n",
    "        print(\"wow, z IS small\")"
   ]
  },
  {
   "cell_type": "markdown",
   "metadata": {
    "slideshow": {
     "slide_type": "subslide"
    }
   },
   "source": [
    "### Iteration\n",
    "\n",
    "One of Python's strongest features."
   ]
  },
  {
   "cell_type": "markdown",
   "metadata": {},
   "source": [
    "### `for` loop"
   ]
  },
  {
   "cell_type": "markdown",
   "metadata": {},
   "source": [
    "We'll compare a naive script adding up numbers in an array using MATLAB and Python:\n",
    "\n",
    "```matlab\n",
    "% Sum all items in array\n",
    "data = [10, 20, 30];\n",
    "result = 0;\n",
    "for idx = 1:size(data, 1)\n",
    "    result = result + data(idx);\n",
    "end\n",
    "```\n",
    "    "
   ]
  },
  {
   "cell_type": "markdown",
   "metadata": {},
   "source": [
    "In Python we can iterate over the values themselves using the `in` operator:"
   ]
  },
  {
   "cell_type": "code",
   "execution_count": 4,
   "metadata": {
    "slideshow": {
     "slide_type": "subslide"
    }
   },
   "outputs": [
    {
     "name": "stdout",
     "output_type": "stream",
     "text": [
      "10\n",
      "20\n",
      "30\n",
      "The result is: 60\n"
     ]
    }
   ],
   "source": [
    "data = [10, 20, 30]\n",
    "result = 0\n",
    "for value in data:\n",
    "    print(value)\n",
    "    result += value\n",
    "\n",
    "print(\"The result is:\", result)"
   ]
  },
  {
   "cell_type": "markdown",
   "metadata": {
    "slideshow": {
     "slide_type": "subslide"
    }
   },
   "source": [
    ":::{note}\n",
    "Newer versions of MATLAB technically enable iterating values, but it's still very clunky (row vs. column vectors) and doesn't work in some important use-cases (e.g. ``parfor``).\n",
    ":::"
   ]
  },
  {
   "cell_type": "markdown",
   "metadata": {},
   "source": [
    "We can iterate over nearly anything:\n"
   ]
  },
  {
   "cell_type": "code",
   "execution_count": 5,
   "metadata": {},
   "outputs": [
    {
     "name": "stdout",
     "output_type": "stream",
     "text": [
      "1\n",
      "2\n",
      "True\n",
      "3.0\n",
      "four\n"
     ]
    }
   ],
   "source": [
    "tup = (1, 2, True, 3.0, 'four')\n",
    "for item in tup:\n",
    "    print(item)"
   ]
  },
  {
   "cell_type": "code",
   "execution_count": 6,
   "metadata": {
    "slideshow": {
     "slide_type": "subslide"
    }
   },
   "outputs": [
    {
     "name": "stdout",
     "output_type": "stream",
     "text": [
      "f\n",
      "d\n",
      "b\n"
     ]
    }
   ],
   "source": [
    "string = \"abcdef\"\n",
    "for letter in string[::-2]: # Strings are also sliceable!\n",
    "    print(letter)"
   ]
  },
  {
   "cell_type": "markdown",
   "metadata": {},
   "source": [
    "To get both the index and the value of some sequence, use the `enumerate` keyword:"
   ]
  },
  {
   "cell_type": "code",
   "execution_count": 7,
   "metadata": {
    "slideshow": {
     "slide_type": "subslide"
    }
   },
   "outputs": [
    {
     "name": "stdout",
     "output_type": "stream",
     "text": [
      "0 1\n",
      "1 2\n",
      "2 True\n",
      "3 3.0\n",
      "4 four\n"
     ]
    }
   ],
   "source": [
    "my_tuple = 1, 2, True, 3.0, 'four'\n",
    "for index, item in enumerate(my_tuple):\n",
    "    print(index, item)\n",
    "    "
   ]
  },
  {
   "cell_type": "markdown",
   "metadata": {},
   "source": [
    "By default, iterating a dictionary returns it's keys:"
   ]
  },
  {
   "cell_type": "code",
   "execution_count": 8,
   "metadata": {
    "slideshow": {
     "slide_type": "subslide"
    }
   },
   "outputs": [
    {
     "name": "stdout",
     "output_type": "stream",
     "text": [
      "Key iteration:\n",
      "a\n",
      "b\n",
      "c\n"
     ]
    }
   ],
   "source": [
    "print('Key iteration:')\n",
    "dict1 = {'a': 1, 'b': 2, 'c': 3}\n",
    "for key in dict1:\n",
    "    print(key)"
   ]
  },
  {
   "cell_type": "markdown",
   "metadata": {},
   "source": [
    "However, iterating a dictionary's values or items (key and value pairs represented as tuples) is just as easy:"
   ]
  },
  {
   "cell_type": "code",
   "execution_count": 9,
   "metadata": {},
   "outputs": [
    {
     "name": "stdout",
     "output_type": "stream",
     "text": [
      "Value iteration:\n",
      "1\n",
      "2\n",
      "3\n",
      "Pairs iteration:\n",
      "a 1\n",
      "b 2\n",
      "c 3\n"
     ]
    }
   ],
   "source": [
    "print('Value iteration:')\n",
    "for val in dict1.values():\n",
    "    print(val)\n",
    "\n",
    "print('Pairs iteration:')\n",
    "for key, val in dict1.items():\n",
    "    print(key, val)"
   ]
  },
  {
   "cell_type": "markdown",
   "metadata": {
    "slideshow": {
     "slide_type": "subslide"
    }
   },
   "source": [
    "### `while` Loop"
   ]
  },
  {
   "cell_type": "code",
   "execution_count": 10,
   "metadata": {
    "slideshow": {
     "slide_type": "subslide"
    }
   },
   "outputs": [],
   "source": [
    "def countdown(n):\n",
    "    \"\"\" Explodes a bomb when n is zero. \"\"\"\n",
    "    while n > 0:\n",
    "        print(\"{}...\".format(n))\n",
    "        n = n - 1\n",
    "    print(\"BOOM!\")\n",
    "    return True"
   ]
  },
  {
   "cell_type": "code",
   "execution_count": 11,
   "metadata": {
    "slideshow": {
     "slide_type": "subslide"
    }
   },
   "outputs": [
    {
     "name": "stdout",
     "output_type": "stream",
     "text": [
      "10...\n",
      "9...\n",
      "8...\n",
      "7...\n",
      "6...\n",
      "5...\n",
      "4...\n",
      "3...\n",
      "2...\n",
      "1...\n",
      "BOOM!\n",
      "True\n"
     ]
    }
   ],
   "source": [
    "n = 10\n",
    "val = countdown(n)\n",
    "\n",
    "print(val)"
   ]
  },
  {
   "cell_type": "markdown",
   "metadata": {},
   "source": [
    ":::{note}\n",
    "Generally speaking, the usage of `while` loops in Python is discouraged. Whenver you're tempted to use one, consider the possibility of replacing it with a `for` loop. If at all possible, this solution is probably preferable.\n",
    ":::"
   ]
  },
  {
   "cell_type": "markdown",
   "metadata": {},
   "source": [
    "### `break` and `continue`"
   ]
  },
  {
   "cell_type": "markdown",
   "metadata": {},
   "source": [
    "Stopping a loop is done with `break`, and in order to continue execution from the start of the loop we use `continue`:"
   ]
  },
  {
   "cell_type": "code",
   "execution_count": 12,
   "metadata": {
    "slideshow": {
     "slide_type": "subslide"
    }
   },
   "outputs": [
    {
     "name": "stdout",
     "output_type": "stream",
     "text": [
      "Still 1...\n",
      "Still 1...\n",
      "Still 1...\n",
      "4.0\n"
     ]
    }
   ],
   "source": [
    "data = [1., 2., 1., 1., 4., 1.]\n",
    "for datum in data:\n",
    "    if datum == 2.:\n",
    "        continue\n",
    "    if datum != 1.:\n",
    "        print(datum)\n",
    "        break\n",
    "    print(\"Still 1...\")"
   ]
  },
  {
   "cell_type": "markdown",
   "metadata": {
    "slideshow": {
     "slide_type": "slide"
    }
   },
   "source": [
    "## Formatting\n",
    "\n",
    "We can print together variables and text in several different manners:"
   ]
  },
  {
   "cell_type": "code",
   "execution_count": 13,
   "metadata": {
    "slideshow": {
     "slide_type": "subslide"
    }
   },
   "outputs": [
    {
     "name": "stdout",
     "output_type": "stream",
     "text": [
      "The value of a is 42\n"
     ]
    }
   ],
   "source": [
    "# Not recommended as it doesn't allow for customizations\n",
    "a = 42\n",
    "print(\"The value of a is\", a)"
   ]
  },
  {
   "cell_type": "code",
   "execution_count": 14,
   "metadata": {
    "slideshow": {
     "slide_type": "subslide"
    }
   },
   "outputs": [
    {
     "name": "stdout",
     "output_type": "stream",
     "text": [
      "The value of a is 42, while the value of b is 32\n"
     ]
    }
   ],
   "source": [
    "# Older version, similar to other languages\n",
    "a = 42\n",
    "b = 32\n",
    "print(\"The value of a is %d, while the value of b is %d\" % (a, b))"
   ]
  },
  {
   "cell_type": "code",
   "execution_count": 15,
   "metadata": {
    "slideshow": {
     "slide_type": "subslide"
    }
   },
   "outputs": [
    {
     "name": "stdout",
     "output_type": "stream",
     "text": [
      "The value of a is 42, while the value of b is 32\n"
     ]
    }
   ],
   "source": [
    "# A decent option\n",
    "a = 42\n",
    "b = 32\n",
    "print(\"The value of a is {}, while the value of b is {}\".format(a, b))"
   ]
  },
  {
   "cell_type": "code",
   "execution_count": 16,
   "metadata": {},
   "outputs": [
    {
     "name": "stdout",
     "output_type": "stream",
     "text": [
      "The value of a is 42, while the value of b is 32\n"
     ]
    }
   ],
   "source": [
    "# Only for Python 3.6+ - but it's pretty cool. It's called f-strings\n",
    "a = 42\n",
    "b = 32\n",
    "print(f\"The value of a is {a}, while the value of b is {b}\")"
   ]
  },
  {
   "cell_type": "code",
   "execution_count": 17,
   "metadata": {
    "slideshow": {
     "slide_type": "subslide"
    }
   },
   "outputs": [
    {
     "name": "stdout",
     "output_type": "stream",
     "text": [
      "The value of a is 42.00, while the value of b is not 33.\n"
     ]
    }
   ],
   "source": [
    "# Another example\n",
    "a = 42\n",
    "b = 32\n",
    "print(f\"The value of a is {a:.2f}, while the value of b is not {b + 1}.\")\n",
    "# You can write any expression you'd like inside the curly brackets."
   ]
  },
  {
   "cell_type": "markdown",
   "metadata": {
    "slideshow": {
     "slide_type": "subslide"
    }
   },
   "source": [
    "Throughout the course you'll see me using mostly the f-string option, which is the most readable assuming you only work on Python 3.6+."
   ]
  },
  {
   "cell_type": "markdown",
   "metadata": {
    "slideshow": {
     "slide_type": "slide"
    }
   },
   "source": [
    "## Comprehensions\n",
    "\n",
    "Comprehensions are a set of fast and delightfully readable methods for creating different types of iterables. \n",
    "\n",
    "Assume we wish to create a list with the squared values of the numbers in the range \\[0, 10). Instead of the old:"
   ]
  },
  {
   "cell_type": "code",
   "execution_count": 18,
   "metadata": {
    "slideshow": {
     "slide_type": "subslide"
    }
   },
   "outputs": [
    {
     "name": "stdout",
     "output_type": "stream",
     "text": [
      "[0, 1, 4, 9, 16, 25, 36, 49, 64, 81]\n"
     ]
    }
   ],
   "source": [
    "squares = []\n",
    "for item in range(10):\n",
    "    squares.append(item ** 2)\n",
    "    \n",
    "print(squares)"
   ]
  },
  {
   "cell_type": "markdown",
   "metadata": {},
   "source": [
    "we could use a list comprehension:"
   ]
  },
  {
   "cell_type": "code",
   "execution_count": 19,
   "metadata": {
    "slideshow": {
     "slide_type": "subslide"
    }
   },
   "outputs": [
    {
     "name": "stdout",
     "output_type": "stream",
     "text": [
      "[0, 1, 4, 9, 16, 25, 36, 49, 64, 81]\n"
     ]
    }
   ],
   "source": [
    "squares = [x ** 2 for x in range(10)]\n",
    "\n",
    "print(squares)"
   ]
  },
  {
   "cell_type": "markdown",
   "metadata": {
    "slideshow": {
     "slide_type": "subslide"
    }
   },
   "source": [
    "This amazing piece of software iterates of the range with the variable `x`, and places its square inside a list, which is then allocated to the `squares` variable.\n",
    "\n",
    "What other goodies do comprehensions allow? Filtering."
   ]
  },
  {
   "cell_type": "code",
   "execution_count": 20,
   "metadata": {
    "slideshow": {
     "slide_type": "subslide"
    }
   },
   "outputs": [
    {
     "name": "stdout",
     "output_type": "stream",
     "text": [
      "[0, 1, 4, 9, 16, 25, 36, 49, 81]\n"
     ]
    }
   ],
   "source": [
    "squares = [\n",
    "    x ** 2 \n",
    "    for x in range(10) \n",
    "    if x != 8\n",
    "]\n",
    "\n",
    "print(squares)"
   ]
  },
  {
   "cell_type": "markdown",
   "metadata": {
    "slideshow": {
     "slide_type": "subslide"
    }
   },
   "source": [
    "The `if` statement is evaluated on each iteration of `x`. Notice how similar to English this expression is?\n",
    "\n",
    "Funnily enough, performance isn't hindered:"
   ]
  },
  {
   "cell_type": "code",
   "execution_count": 21,
   "metadata": {
    "slideshow": {
     "slide_type": "subslide"
    }
   },
   "outputs": [
    {
     "name": "stdout",
     "output_type": "stream",
     "text": [
      "22.8 µs ± 278 ns per loop (mean ± std. dev. of 7 runs, 10000 loops each)\n"
     ]
    }
   ],
   "source": [
    "%timeit squares = [x ** 2 for x in range(100) if x != 8]"
   ]
  },
  {
   "cell_type": "code",
   "execution_count": 22,
   "metadata": {
    "slideshow": {
     "slide_type": "subslide"
    }
   },
   "outputs": [
    {
     "name": "stdout",
     "output_type": "stream",
     "text": [
      "25.6 µs ± 324 ns per loop (mean ± std. dev. of 7 runs, 10000 loops each)\n"
     ]
    }
   ],
   "source": [
    "%%timeit\n",
    "squares = []\n",
    "for item in range(100):\n",
    "    if item != 8:\n",
    "        squares.append(item ** 2)"
   ]
  },
  {
   "cell_type": "markdown",
   "metadata": {},
   "source": [
    "Another example:"
   ]
  },
  {
   "cell_type": "code",
   "execution_count": 23,
   "metadata": {
    "slideshow": {
     "slide_type": "subslide"
    }
   },
   "outputs": [
    {
     "name": "stdout",
     "output_type": "stream",
     "text": [
      "['B', 'C', 'D', 'F', 'G', 'H', 'J']\n"
     ]
    }
   ],
   "source": [
    "strings = [cons.upper()\n",
    "           for cons in 'abcdefghij' \n",
    "           if cons not in 'aeiou']\n",
    "\n",
    "print(strings)"
   ]
  },
  {
   "cell_type": "markdown",
   "metadata": {
    "slideshow": {
     "slide_type": "subslide"
    }
   },
   "source": [
    "Comprehensions aren't limited to lists! You can also comprehend dictionaries, tuples and sets. To demonstrate a `dict` comprehension easily we will usethe built-in `zip` function:"
   ]
  },
  {
   "cell_type": "code",
   "execution_count": 24,
   "metadata": {
    "slideshow": {
     "slide_type": "subslide"
    }
   },
   "outputs": [
    {
     "name": "stdout",
     "output_type": "stream",
     "text": [
      "a 1 True\n",
      "b 2 True\n",
      "c 3 False\n"
     ]
    }
   ],
   "source": [
    "keys = 'abcde'\n",
    "vals = [1, 2, 3, 4, 5]\n",
    "bools = [True, True, False]\n",
    "\n",
    "# Zip bundles up these iterables together, allowing iteration\n",
    "for a, b, c in zip(keys, vals, bools):\n",
    "    print(a, b, c)"
   ]
  },
  {
   "cell_type": "markdown",
   "metadata": {},
   "source": [
    "With `zip` we can comfortably bundle up the key-value pairs:"
   ]
  },
  {
   "cell_type": "code",
   "execution_count": 25,
   "metadata": {
    "slideshow": {
     "slide_type": "subslide"
    }
   },
   "outputs": [
    {
     "name": "stdout",
     "output_type": "stream",
     "text": [
      "{'a': 1, 'b': 2, 'd': 4, 'e': 5}\n"
     ]
    }
   ],
   "source": [
    "keys = 'abcde'\n",
    "values = [1, 2, 3, 4, 5]\n",
    "d = {key: value \n",
    "     for key, value in zip(keys, values) \n",
    "     if key != 'c'}\n",
    "\n",
    "print(d)"
   ]
  },
  {
   "cell_type": "markdown",
   "metadata": {},
   "source": [
    "If we don't need the \"if\" part of the comprehension we can even:    "
   ]
  },
  {
   "cell_type": "code",
   "execution_count": 26,
   "metadata": {},
   "outputs": [
    {
     "name": "stdout",
     "output_type": "stream",
     "text": [
      "{'a': 1, 'b': 2, 'c': 3, 'd': 4, 'e': 5}\n"
     ]
    }
   ],
   "source": [
    "d = dict(zip(keys, values))\n",
    "print(d)"
   ]
  },
  {
   "cell_type": "markdown",
   "metadata": {},
   "source": [
    "The same principle applies for set comprehensions:"
   ]
  },
  {
   "cell_type": "code",
   "execution_count": 27,
   "metadata": {
    "slideshow": {
     "slide_type": "subslide"
    }
   },
   "outputs": [
    {
     "name": "stdout",
     "output_type": "stream",
     "text": [
      "{0, 1, 2, 3, 4, 5, 6}\n"
     ]
    }
   ],
   "source": [
    "se = {number % 7 for number in range(100)}\n",
    "\n",
    "print(se)"
   ]
  },
  {
   "cell_type": "markdown",
   "metadata": {
    "slideshow": {
     "slide_type": "subslide"
    }
   },
   "source": [
    "Lastly, list comprehensions can iterate over more than one iterable:"
   ]
  },
  {
   "cell_type": "code",
   "execution_count": 28,
   "metadata": {
    "slideshow": {
     "slide_type": "subslide"
    }
   },
   "outputs": [],
   "source": [
    "summed_list = [outer + inner \n",
    "               for outer in range(10) \n",
    "               for inner in range(10, 20)]"
   ]
  },
  {
   "cell_type": "markdown",
   "metadata": {},
   "source": [
    "This is identical to:"
   ]
  },
  {
   "cell_type": "code",
   "execution_count": 29,
   "metadata": {},
   "outputs": [],
   "source": [
    "summed_list = []\n",
    "for outer in range(10):\n",
    "    for inner in range(10, 20):\n",
    "        summed_list.append(outer + inner)"
   ]
  },
  {
   "cell_type": "markdown",
   "metadata": {
    "slideshow": {
     "slide_type": "subslide"
    }
   },
   "source": [
    "Once you get used to comprehensions, they quickly become the most \"natural\" way to iterate. Their brevity on the one hand, and readability on the other, are their most important features. That's why comprehension are very encouraged when writing true \"Pythonic\" code."
   ]
  },
  {
   "cell_type": "markdown",
   "metadata": {
    "slideshow": {
     "slide_type": "slide"
    }
   },
   "source": [
    "## Function Default Arguments and Types\n",
    "\n",
    "One thing we didn't show in our introduction to functions was the default argument feature of function definitions, as well as the optional typing syntax. We'll start with showing what are default arguments.\n",
    "\n",
    "Say you have a function which calculates the `n`th-power of any number its given. It obviously has to be given two inputs - the number and the power by which it will be multiplied. For example:"
   ]
  },
  {
   "cell_type": "code",
   "execution_count": 30,
   "metadata": {
    "slideshow": {
     "slide_type": "subslide"
    }
   },
   "outputs": [],
   "source": [
    "def calculate_power(x, power):\n",
    "    \"\"\" Raises *x* to the power of *power* \"\"\"\n",
    "    return x ** power"
   ]
  },
  {
   "cell_type": "markdown",
   "metadata": {
    "slideshow": {
     "slide_type": "subslide"
    }
   },
   "source": [
    "This function works wonderfully, but we're assuming that most of the times users will raise `x` to the power of two. If we want to save the hassle for the caller, we can use default arguments when defining the function:"
   ]
  },
  {
   "cell_type": "code",
   "execution_count": 31,
   "metadata": {
    "slideshow": {
     "slide_type": "subslide"
    }
   },
   "outputs": [],
   "source": [
    "def calculate_power(x, power=2):\n",
    "    \"\"\" Raises *x* to the power of *power* \"\"\"\n",
    "    return x ** power"
   ]
  },
  {
   "cell_type": "markdown",
   "metadata": {
    "slideshow": {
     "slide_type": "subslide"
    }
   },
   "source": [
    "We can now call this function either with the power argument or without it, which will default it to 2:"
   ]
  },
  {
   "cell_type": "code",
   "execution_count": 32,
   "metadata": {
    "slideshow": {
     "slide_type": "subslide"
    }
   },
   "outputs": [
    {
     "name": "stdout",
     "output_type": "stream",
     "text": [
      "100\n",
      "1000\n"
     ]
    }
   ],
   "source": [
    "print(calculate_power(10))\n",
    "print(calculate_power(10, 3))"
   ]
  },
  {
   "cell_type": "markdown",
   "metadata": {},
   "source": [
    "### Type hinting"
   ]
  },
  {
   "cell_type": "markdown",
   "metadata": {},
   "source": [
    "Another interesting feature of Python (3.6+) is its optional typing capabilities. These allow us coders to 'hint' at the wanted types of certain variables. We say 'hint' since these annotations have no effect during runtime, i.e. a variable can be marked as a string but later receive an integer value without the Python interpreter caring. For functions, Python added a special \"arrow\" -> sign that marks the output type of it. Let's see how it works:"
   ]
  },
  {
   "cell_type": "code",
   "execution_count": 33,
   "metadata": {},
   "outputs": [],
   "source": [
    "def typed_add(a: int, b: int = 0) -> int:  # combination of type hinting and default arguments\n",
    "    \"\"\"Adds the two inputs together\"\"\"\n",
    "    return a + b"
   ]
  },
  {
   "cell_type": "code",
   "execution_count": 34,
   "metadata": {},
   "outputs": [],
   "source": [
    "a: float = 0.25\n",
    "b: str = 'a'\n",
    "\n",
    "a = True  # Python doesn't care that we've overriden the type hint"
   ]
  },
  {
   "cell_type": "markdown",
   "metadata": {},
   "source": [
    "Type hinting is used for documentation purposes mostly. Later in the course we'll discuss its more advanced features by utilizing the `mypy` package."
   ]
  },
  {
   "cell_type": "markdown",
   "metadata": {
    "slideshow": {
     "slide_type": "slide"
    }
   },
   "source": [
    "## File Input/Output"
   ]
  },
  {
   "cell_type": "markdown",
   "metadata": {
    "slideshow": {
     "slide_type": "subslide"
    }
   },
   "source": [
    "Yet another error-prone area in applications is their I/O (input-output) module. Interfacing with objects outside the scope of your own project should always be handled carefully. You never know what's really out there."
   ]
  },
  {
   "cell_type": "markdown",
   "metadata": {
    "slideshow": {
     "slide_type": "subslide"
    }
   },
   "source": [
    "Assume we wish to write some data to a file - a list filled with counts of some sort, for example.\n",
    "\n",
    "To write (and read) from a file, you have to do several operations:\n",
    "1. Define the file path and name.\n",
    "2. Open the file with the appropriate mode - read, write, etc.\n",
    "3. Flush out the data.\n",
    "4. Close the file.\n",
    "\n",
    "Here's a mediocre example of how it's done:"
   ]
  },
  {
   "cell_type": "code",
   "execution_count": 35,
   "metadata": {
    "slideshow": {
     "slide_type": "subslide"
    }
   },
   "outputs": [],
   "source": [
    "data_to_write = 'A B C D E F'\n",
    "filename = 'data.txt'\n",
    "file = open(filename, 'w')  # w is write, 'open' is a built-in function\n",
    "file.write(data_to_write)\n",
    "file.close()"
   ]
  },
  {
   "cell_type": "markdown",
   "metadata": {
    "slideshow": {
     "slide_type": "subslide"
    }
   },
   "source": [
    "The variable `file` is a file object, and it has many useful methods, such as:\n",
    "* `.read()` - reads the entire file.\n",
    "* `.readline()` - reads a single line.\n",
    "* `.readlines()` - read the entire file as strings into a list.\n",
    "* `.seek(offset)` - go the `offset` position in the file.\n",
    "\n",
    "File objects in Python can be opened as string files (the default) or as binary files (`open(filename, 'b')`), in which case their content will be interpreted as bytes rather than text."
   ]
  },
  {
   "cell_type": "markdown",
   "metadata": {
    "slideshow": {
     "slide_type": "subslide"
    }
   },
   "source": [
    "When dealing with files, we generally first `open()` them, `read()` \\ `write()` something, and `close()` them. The real issue stems from the fact that these steps are very error prone. For example, you can open a file to write something to it, but while the file is opened someone else (or some other Python process) can close and even delete the file.\n",
    "\n",
    "Another example - some connection error might occur after you've flushed the data into the file, but before you managed to close it, leading to a file that can't be accessed by the operating system."
   ]
  },
  {
   "cell_type": "markdown",
   "metadata": {
    "slideshow": {
     "slide_type": "subslide"
    }
   },
   "source": [
    "Gladly, Python is here to help, and its main method of doing so is context managers, called upon with the `with` keyword. Context managers are awesome, and I'll only briefly describe their capabilities. That being said, they shine the most when doing I/O, like in the following example:"
   ]
  },
  {
   "cell_type": "code",
   "execution_count": 36,
   "metadata": {
    "slideshow": {
     "slide_type": "subslide"
    }
   },
   "outputs": [],
   "source": [
    "data_to_write = 'A B C D E F'\n",
    "filename = 'data.txt'\n",
    "with open(filename, 'w') as file:\n",
    "    file.write(data_to_write)\n",
    "    file.write('abc')"
   ]
  },
  {
   "cell_type": "markdown",
   "metadata": {
    "slideshow": {
     "slide_type": "subslide"
    }
   },
   "source": [
    "The unique thing here is that once we've opened the file, the `with` block guarantees that the file will be closed, regardless of what code is executed. \n",
    "\n",
    "Even if an error occurs while the file is open - the context manager will ensure proper handling of the file and prevent our data from disappearing into the void of the file system."
   ]
  },
  {
   "cell_type": "markdown",
   "metadata": {
    "slideshow": {
     "slide_type": "slide"
    }
   },
   "source": [
    "## The Python Stack"
   ]
  },
  {
   "cell_type": "markdown",
   "metadata": {
    "slideshow": {
     "slide_type": "slide"
    }
   },
   "source": [
    "### How to Run Python?"
   ]
  },
  {
   "cell_type": "markdown",
   "metadata": {
    "slideshow": {
     "slide_type": "subslide"
    }
   },
   "source": [
    "#### How does Matlab do it?\n",
    "\n",
    "MATLAB has its excellent application GUI which essentially everyone uses all the time.\n",
    "\n",
    "But all interpreted programming languages, including Python and MATLAB, can be run from the command line. \n",
    "\n",
    "In the case of MATLAB, though, rarely do you see people running it from the command line:\n",
    "\n",
    "![MATLAB from the CL](matlab_cl.png)"
   ]
  },
  {
   "cell_type": "markdown",
   "metadata": {
    "slideshow": {
     "slide_type": "subslide"
    }
   },
   "source": [
    "It's obviously possible, but less comfortable than the standard GUI we all know. If all you wish to do is run a MATLAB `.m` file, you can also do it from the command line by simply writing `matlab -r myfile.m`. \n",
    "\n",
    "The MATLAB application we're familiar with combines a few sub-applications:\n",
    "1. Text editor\n",
    "2. Debugger and variable explorer\n",
    "3. Command prompt (REPL, a place to write and immediately evaluate MATLAB expressions)\n",
    "4. MATLAB's engine or interpreter  (the program that actually does the job of reading the source files and 'computing' them)"
   ]
  },
  {
   "cell_type": "markdown",
   "metadata": {
    "slideshow": {
     "slide_type": "subslide"
    }
   },
   "source": [
    "Python is very similar. Just like MATLAB, the quickest option to run Python is from the command line, by simply writing `python`:\n",
    "\n",
    "![Python CL](python_cl.png)\n",
    "\n",
    "Running Python scripts, like `myfile.py`, is as easy as `python myfile.py`."
   ]
  },
  {
   "cell_type": "markdown",
   "metadata": {
    "slideshow": {
     "slide_type": "subslide"
    }
   },
   "source": [
    "### Integrated Development Environment (IDE)\n",
    "\n",
    "\n",
    "More often than not, we wish to both write a script, experiment with it a little, and then run it, just as some of us are used to do from the MATLAB environment. Python, being non-propietary, has several such solutions. Generally speaking, software of this type are referred to as [Integrated Development Enviornments (IDEs)](https://en.wikipedia.org/wiki/Integrated_development_environment), and are a basic tool every programmer uses, with choice varying greatly depending on the languages used as well personal preference.\n",
    "\n",
    "Some popular options for Python are:"
   ]
  },
  {
   "cell_type": "markdown",
   "metadata": {
    "slideshow": {
     "slide_type": "subslide"
    }
   },
   "source": [
    "#### Spyder\n",
    "\n",
    "Spyder is an open-source, science-oriented IDE, that was designed with MATLAB's GUI in mind. It contains many similar functions and might look very similar in a quick glance:\n",
    "\n",
    "![Spyder IDE](spyder.png)\n",
    "\n",
    "Unfortunately, Spyder's main financial support was cut off in November 2017. It's still in active development, but on a much slower pace, and its future is unclear at the moment."
   ]
  },
  {
   "cell_type": "markdown",
   "metadata": {
    "slideshow": {
     "slide_type": "subslide"
    }
   },
   "source": [
    "#### PyCharm\n",
    "PyCharm is a full-blown IDE which contains many advanced features that any modern IDE has, like refactoring capabilities, testing suites and more. It has a free community edition, and a paid proffessional edition - which is actually free for poor students like us:\n",
    "\n",
    "![PyCharm IDE](pycharm.jpg)"
   ]
  },
  {
   "cell_type": "markdown",
   "metadata": {
    "slideshow": {
     "slide_type": "subslide"
    }
   },
   "source": [
    "#### Visual Studio Code\n",
    "VSCode is a free, open-source editor for nearly all existing programming languages. It's relatively lightweight, and relies mostly on its community-driven extensions marketplace. There's an extension for just about anything you might want to do with a code editor, and both the editor itself and its popular extensions are well maintained and in active development.\n",
    "\n",
    "![VS Code](vs_code.gif)"
   ]
  },
  {
   "cell_type": "markdown",
   "metadata": {
    "slideshow": {
     "slide_type": "subslide"
    }
   },
   "source": [
    "### Jupyter Notebook\n",
    "While not technically an IDE, Jupyter is designed with data exploration in mind. It's less suited for writing long, complex application, but great when it comes for a quick \"plot-n-go\" on some data you recently acquired."
   ]
  },
  {
   "cell_type": "markdown",
   "metadata": {
    "slideshow": {
     "slide_type": "slide"
    }
   },
   "source": [
    "## Version Control"
   ]
  },
  {
   "cell_type": "markdown",
   "metadata": {
    "slideshow": {
     "slide_type": "slide"
    }
   },
   "source": [
    "### Introduction"
   ]
  },
  {
   "cell_type": "markdown",
   "metadata": {
    "slideshow": {
     "slide_type": "subslide"
    }
   },
   "source": [
    "Version control is the active management of the history of your source code. It is an essential part of every developers' work cycle, for both small and large projects.\n",
    "\n",
    "With version control, in any point in time during the work on your code you can decide to \"commit\" the change. Committing your code means that the system will remember the current state of your work (all files in a folder), and will allow you to return to this exact state of your codebase whenever you wish."
   ]
  },
  {
   "cell_type": "markdown",
   "metadata": {},
   "source": [
    "![Final.doc, from PhD Comics](vcs_final.png)"
   ]
  },
  {
   "cell_type": "markdown",
   "metadata": {
    "slideshow": {
     "slide_type": "subslide"
    }
   },
   "source": [
    "Using version control is orthogonal to the traditional save operation. Saving records the current state of your codebase, but usually doesn't allow you to \"go back in time\" to previous versions.\n",
    "\n",
    "This property is useful in many occasions. For example, if you have a working version of some function, but you wish to make it better - add a feature, or change its internal structure (refactoring). Version control allows you to record this point in time - when you have a good, functioning function - and change the working copy of the function however you'd like. If you fail to refactor the function you can simply jump back to the latest working version.\n",
    "\n",
    "Another important version control use case is collaborative work. Version control systems (VCS) can help you communicate changes in code base between developers, without having to somehow transfer updated versions of files from one person to the other."
   ]
  },
  {
   "cell_type": "markdown",
   "metadata": {},
   "source": [
    "```{margin}\n",
    "[![Linus Trovalds](https://upload.wikimedia.org/wikipedia/commons/thumb/0/01/LinuxCon_Europe_Linus_Torvalds_03_%28cropped%29.jpg/220px-LinuxCon_Europe_Linus_Torvalds_03_%28cropped%29.jpg)](https://en.wikipedia.org/wiki/Linus_Torvalds)\n",
    "```"
   ]
  },
  {
   "cell_type": "markdown",
   "metadata": {
    "slideshow": {
     "slide_type": "subslide"
    }
   },
   "source": [
    "There are many version control applications, but the most popular one is Git, developed by [Linus Torvald](https://en.wikipedia.org/wiki/Linus_Torvalds)\n",
    "(the Linux guy) in the early 2000's. In this course we'll be using Git with GitHub.com - an online backup site for your code.\n",
    "\n",
    "There are numerous great Git and GitHub tutorials ([here's one](https://github.com/pluralsight/git-internals-pdf)), but for our course we'll be using only the most basic features of Git and GitHub, so going through all features and intricacies of the software is unnecessary. {ref}`general-setup` and {ref}`create-git-repo` contain instructions on how to setup Git and GitHub, which should be enough for homework submission."
   ]
  },
  {
   "cell_type": "markdown",
   "metadata": {
    "slideshow": {
     "slide_type": "slide"
    }
   },
   "source": [
    "### Git Fundamentals (Using VSCode and GitHub)"
   ]
  },
  {
   "cell_type": "markdown",
   "metadata": {
    "slideshow": {
     "slide_type": "subslide"
    }
   },
   "source": [
    "For the purposes of this walkthrough we'll assume we have some code inside a *my_project* directory, looking something like:\n",
    "- my_project/\n",
    "    - \\_\\_init\\_\\_.py\n",
    "    - code.py\n",
    "    - requirements.txt\n",
    "    - README.md\n",
    "\n",
    "Git can be run from the command line, but in this quick tutorial we'll be using the built-in Git interface in VSCode, which should be good enough for 99% of your Git needs. \n",
    "\n",
    "To start a new Git repository and host it on GitHub:\n",
    "\n",
    "1. **Open the project**: Open VSCode, click *File --> Open Folder...* (or Ctrl+K Ctrl+O) and select the *my_project* directory. ![VSC My Project](vsc_my_project.png) <br />\n",
    "2. **Initialize Git**: Click the <img src=\"vsc_vcs.png\" alt=\"VSC Version Control\" width=\"30\" style=\"display:inline\"></img> icon (or Ctrl+Shift+G G), and then \"Initialize Repository\".<br />![VSC Git init](vsc_git_init.png)<br />\n",
    "4. **Stage**: Next, we need to tell Git which files to track, which is called \"staging\" the files. Currently, we see our files and folders under the \"Changes\" headline, which means that these files are new to Git (since its previous snapshot of our repository is really a \"clean slate\" without any files).<br />![VSC VCS Changes](vsc_git_changes.png)<br />There's a <span style=\"color:green\">**U**</span> next to each file signifying that it's \"<span style=\"color:green\">**U**</span>ntracked\", i.e. Git has no prior records of this file. To start tracking the files, we can click the \"+\" button appearing next to the <span style=\"color:green\">**U**</span> when we hover over the file. ![VSC Git Stage](vsc_git_stage.png)<br />Alternatively, if we just want to add all files to the Git archive, we can click the \"+\" on the \"Changes\" line (again, visible when we hover with the mouse on it). Go ahead and stage all files. You should see them under a new headline: \"Staged Changes\", and showing an <span style=\"color:green\">**A**</span> for \"<span style=\"color:green\">**A**</span>dded\". ![VSC Git Staged](vsc_git_staged.png) Now Git knows what's inside the `my_project` folder, all files are tracked, but it hasn't captured a snapshot of the repository status quite yet. To do that, we'll need to \"commit\" the current state of the repository (repo). <br /><br />\n",
    "5. **Commit**: Committing essentially means creating a snapshot of our codebase which we can name, label, describe, and go back to. We always commit changes along with a concise message. The message goes in the line above \"Staged Changes\" - write \"Initial commit\" (it's good enough for the purposes of the tutorial). ![VSC Initial Commit](vsc_first_commit.png) Now we can commit by clicking the ✓ checkmark in the line above (or Ctrl+Enter while in the commit message textbox). So far, we merely created a local repo in our computer. If the whole folder is erased, our backups and commit history go away with it as well. <br /><br />\n",
    "6. **Push**: To make an online backup of a repository, we need to first set a \"remote\" (i.e. a remote location containing a copy of the repository). If you don't already have a [GitHub](https://www.github.com) account, create one, and then create a new repository: ![GitHub New Repo](github_new_repo.png) Give the repo a descriptive name create it. Now that you have a remote location to use (should be: https:\\/\\/github.com\\/\\<your-user-name\\>/\\<repo-name\\>), head back to VSCode and in the \"Source Control\" options select \"Add remote\": ![VSC Add Remote](vsc_add_remote.png) and finally we are ready to \"push\" our changes: ![VSC Git Push](vsc_git_push.png)\n",
    "\n",
    "Congratulations! You've published your first code repository! Whether you find it trivial or confusing, you've made a huge step towards creating software that will not only work better for you, but also for others."
   ]
  },
  {
   "cell_type": "markdown",
   "metadata": {
    "slideshow": {
     "slide_type": "slide"
    }
   },
   "source": [
    "## The Module System"
   ]
  },
  {
   "cell_type": "markdown",
   "metadata": {
    "slideshow": {
     "slide_type": "slide"
    }
   },
   "source": [
    "### Namespaces"
   ]
  },
  {
   "cell_type": "markdown",
   "metadata": {
    "slideshow": {
     "slide_type": "subslide"
    }
   },
   "source": [
    "One of the largest differences between Python and MATLAB is the concept of namespaces. \n",
    "\n",
    "Namespaces provide a system to avoid ambiguity. We have many Hagai's, but much less Hagai Har-Gil's. In computers, we can have many files with the name `test1.py` saved in _different folders_ of our harddrive. In contrast - we can only have one `test1.py` per folder, since the file system dislikes these collisions. \n",
    "\n",
    "Similarly, In Python we have to declare which namespace does our function belong to. Usually functions aren't included in the scope of the program until we `import` them. After importing we can use the function with its \"pathname\", i.e. the module it belongs to. This way, the same identifier (function name, class name, etc.) can be used multiple times in different modules.\n",
    "\n",
    "You might have realised that you're already familiar with this topic from your previous usage of functions. The following example should be clear:"
   ]
  },
  {
   "cell_type": "code",
   "execution_count": 37,
   "metadata": {
    "slideshow": {
     "slide_type": "subslide"
    }
   },
   "outputs": [
    {
     "name": "stdout",
     "output_type": "stream",
     "text": [
      "Inside the function, a=2\n",
      "But outside of it, a=1\n"
     ]
    }
   ],
   "source": [
    "a = 1\n",
    "def f(a):\n",
    "    \"\"\" Scopes and namespaces exemplified \"\"\"\n",
    "    a = 2\n",
    "    print(f\"Inside the function, a={a}\")\n",
    "f(a)\n",
    "print(f\"But outside of it, a={a}\")"
   ]
  },
  {
   "cell_type": "markdown",
   "metadata": {
    "slideshow": {
     "slide_type": "subslide"
    }
   },
   "source": [
    "Namespaces for modules are the same. Python modules are an object with variables, classes and functions in it. A module can be a single class, a file or a folder containing files and other sub-folders. A module is brought into scope (into our namespace) with the import statement:"
   ]
  },
  {
   "cell_type": "code",
   "execution_count": 38,
   "metadata": {
    "slideshow": {
     "slide_type": "subslide"
    }
   },
   "outputs": [
    {
     "data": {
      "text/plain": [
       "3.141592653589793"
      ]
     },
     "execution_count": 38,
     "metadata": {},
     "output_type": "execute_result"
    }
   ],
   "source": [
    "# The objects \"math\" or \"pi\" do not exist here yet.\n",
    "import math\n",
    "math.pi"
   ]
  },
  {
   "cell_type": "markdown",
   "metadata": {
    "slideshow": {
     "slide_type": "subslide"
    }
   },
   "source": [
    "`pi` is only defined in the context of the `math` module. Without the import statement there's no special meaning attached to neither `math` nor `pi`, and they can be used as normal variables."
   ]
  },
  {
   "cell_type": "code",
   "execution_count": 39,
   "metadata": {
    "slideshow": {
     "slide_type": "subslide"
    }
   },
   "outputs": [
    {
     "data": {
      "text/plain": [
       "'/'"
      ]
     },
     "execution_count": 39,
     "metadata": {},
     "output_type": "execute_result"
    }
   ],
   "source": [
    "import os\n",
    "os.sep"
   ]
  },
  {
   "cell_type": "markdown",
   "metadata": {
    "slideshow": {
     "slide_type": "subslide"
    }
   },
   "source": [
    "When we try to use a function, class or constant from a package (module) we didn't import, we'll receive a `NameError`. That's also the exception raised when we try to use a variable that didn't exist beforehand. This is one of the reasons we always keep our imports at the top of the file."
   ]
  },
  {
   "cell_type": "code",
   "execution_count": 40,
   "metadata": {
    "slideshow": {
     "slide_type": "subslide"
    }
   },
   "outputs": [
    {
     "ename": "NameError",
     "evalue": "name 'cos' is not defined",
     "output_type": "error",
     "traceback": [
      "\u001b[0;31m---------------------------------------------------------------------------\u001b[0m",
      "\u001b[0;31mNameError\u001b[0m                                 Traceback (most recent call last)",
      "\u001b[0;32m<ipython-input-40-38d50565a0ec>\u001b[0m in \u001b[0;36m<module>\u001b[0;34m\u001b[0m\n\u001b[0;32m----> 1\u001b[0;31m \u001b[0mcos\u001b[0m  \u001b[0;31m# we probably want math.cos, but we didn't import it, so we got a NameError\u001b[0m\u001b[0;34m\u001b[0m\u001b[0;34m\u001b[0m\u001b[0m\n\u001b[0m",
      "\u001b[0;31mNameError\u001b[0m: name 'cos' is not defined"
     ]
    }
   ],
   "source": [
    "cos  # we probably want math.cos, but we didn't import it, so we got a NameError"
   ]
  },
  {
   "cell_type": "markdown",
   "metadata": {
    "slideshow": {
     "slide_type": "slide"
    }
   },
   "source": [
    "### The Default Python Namespace"
   ]
  },
  {
   "cell_type": "markdown",
   "metadata": {
    "slideshow": {
     "slide_type": "subslide"
    }
   },
   "source": [
    "Python comes with a number of built-in functions and reserved keywords:\n",
    "\n",
    "![Python Built-in Functions](python_builtin.png)\n",
    "<p style=\"text-align: center; font-style: italic;\">\n",
    "    <a href=\"https://docs.python.org/3/library/functions.html\">\n",
    "        Built-in functions\n",
    "    </a>\n",
    "    in Python.\n",
    "</p>\n",
    "\n",
    "![Python Keywords](python_keyword.png)\n",
    "<p style=\"text-align: center; font-style: italic;\">\n",
    "    <a href=\"https://docs.python.org/3.8/reference/lexical_analysis.html#keywords\">\n",
    "        Reserved keywords\n",
    "    </a>\n",
    "    in Python.\n",
    "</p>\n",
    "\n",
    "The number of functions and reserved keywords inside the default Python namespace is extremely limited on purpose, definitely in comparison to MATLAB's vast array of default functions - the true power of Python comes from its ecosystem. Its one of the largest and most comprehensive around, certainly for a scripting language, and allows you to do basically whatever you want with minimum effort.\n",
    "\n",
    "The standard library of Python includes the packages that come with every installation of Python. I didn't have to do anything special to import the `math` module - it was just there, \"waiting\" for me to import it. \n",
    "\n",
    "Most of the functions you'd expect a programming language to have are indeed included in the standard library, available automatically to everyone who downloaded Python. Other modules, including many popular ones, are available online. We'll discuss later how to import them."
   ]
  },
  {
   "cell_type": "markdown",
   "metadata": {
    "slideshow": {
     "slide_type": "subslide"
    }
   },
   "source": [
    "I'll let you discover by yourself what is included in the standard library, but some of the highlights include:"
   ]
  },
  {
   "cell_type": "code",
   "execution_count": 41,
   "metadata": {
    "scrolled": true,
    "slideshow": {
     "slide_type": "subslide"
    }
   },
   "outputs": [
    {
     "name": "stdout",
     "output_type": "stream",
     "text": [
      "/home/flavus/Projects/textbook/textbook/source/classes/class_1\n"
     ]
    }
   ],
   "source": [
    "import pathlib\n",
    "p = pathlib.Path(\".\")\n",
    "print(p.absolute())"
   ]
  },
  {
   "cell_type": "code",
   "execution_count": 42,
   "metadata": {
    "slideshow": {
     "slide_type": "subslide"
    }
   },
   "outputs": [
    {
     "name": "stdout",
     "output_type": "stream",
     "text": [
      "b'<!doctype html><html dir=\"rtl\" itemscope=\"\" itemtype=\"http://schema.org/WebPage\" lang=\"iw\"><head><meta content=\"text/html; charset=UTF-8\" http-equiv=\"Content-Type\"><meta content=\"/images/branding/googleg/1x/googleg_standard_color_128dp.png\" itemprop=\"image\"><title>Google</title><script nonce=\"1J3IfI3TTy5W6uow6NxL2A==\">(function(){window.google={kEI:\\'6yFiX7HhBoiYlwTYlojoDg\\',kEXPI:\\'0,202162,1151585,5662,730,224,756,4348,207,3204,10,1226,364,1499,612,91,114,383,246,5,1354,648,652,2800,133,5,134,42,3,66,308,677,131,130,22,865,113,47,407,409,212,652,252,240,1118818,1197697,569,329001,13677,4855,32692,16114,17444,11240,9188,8384,4858,1362,9290,3022,4740,6,6,11027,1808,4998,4090,3841,5297,2054,920,873,4200,6422,7432,7095,4518,1396,1381,919,2277,8,2796,1593,1279,2212,530,149,1103,840,517,1466,56,4258,312,1137,2,2063,606,2023,1777,520,1947,2229,93,328,1284,16,2927,2247,1812,504,1283,3227,2845,7,5599,469,6286,4454,642,6134,1743,4928,108,3409,906,2,940,716,1899,2397,1386,6084,1704,1571,3,346,230,970,865,4624,149,189,890,2423,2490,2218,32,4103,1630,4,1528,2304,224,1012,271,562,312,405,1860,96,394,1903,89,1421,281,52,2377,464,459,1555,632,1932,1503,1035,1316,3,1592,516,175,997,1426,69,1320,783,312,200,2070,455,286,932,821,690,1968,1750,1285,1020,187,519,912,564,464,225,119,312,30,1173,130,2690,3094,928,62,52,535,1127,111,1012,245,255,1244,970,668,182,80,368,1,1006,6,632,146,519,1,828,61,69,360,115,2,92,475,389,683,455,1402,6,72,235,560,78,6,526,1748,611,5,498,298,68,1129,804,863,1,25,793,115,210,652,25,407,464,17,212,371,64,413,11,191,6,449,222,25,311,192,121,221,1619,1146,4,6,5760346,3523,8798393,549,333,444,1,2,80,1,900,896,1,9,2,2551,1,748,141,59,736,563,1,4265,1,1,2,1017,9,305,3299,248,595,1,422,4,2,4,1,21,27,7,4,2,1,1,2,4,7,1,2,25,23959723,54,2700387,3,15694\\',kBL:\\'cktB\\'};google.sn=\\'webhp\\';google.kHL=\\'iw\\';})();(function(){google.lc=[];google.li=0;google.getEI=function(a){for(var c;a&&(!a.getAttribute||!(c=a.getAttribute(\"eid\")));)a=a.parentNode;return c||google.kEI};google.getLEI=function(a){for(var c=null;a&&(!a.getAttribute||!(c=a.getAttribute(\"leid\")));)a=a.parentNode;return c};google.ml=function(){return null};google.time=function(){return Date.now()};google.log=function(a,c,b,d,g){if(b=google.logUrl(a,c,b,d,g)){a=new Image;var e=google.lc,f=google.li;e[f]=a;a.onerror=a.onload=a.onabort=function(){delete e[f]};google.vel&&google.vel.lu&&google.vel.lu(b);a.src=b;google.li=f+1}};google.logUrl=function(a,c,b,d,g){var e=\"\",f=google.ls||\"\";b||-1!=c.search(\"&ei=\")||(e=\"&ei=\"+google.getEI(d),-1==c.search(\"&lei=\")&&(d=google.getLEI(d))&&(e+=\"&lei=\"+d));d=\"\";!b&&google.cshid&&-1==c.search(\"&cshid=\")&&\"slh\"!=a&&(d=\"&cshid=\"+google.cshid);b=b||\"/\"+(g||\"gen_204\")+\"?atyp=i&ct=\"+a+\"&cad=\"+c+e+f+\"&zx=\"+google.time()+d;/^http:/i.test(b)&&\"https:\"==window.location.protocol&&(google.ml(Error(\"a\"),!1,{src:b,glmm:1}),b=\"\");return b};}).call(this);(function(){google.y={};google.x=function(a,b){if(a)var c=a.id;else{do c=Math.random();while(google.y[c])}google.y[c]=[a,b];return!1};google.lm=[];google.plm=function(a){google.lm.push.apply(google.lm,a)};google.lq=[];google.load=function(a,b,c){google.lq.push([[a],b,c])};google.loadAll=function(a,b){google.lq.push([a,b])};}).call(this);google.f={};(function(){\\ndocument.documentElement.addEventListener(\"submit\",function(b){var a;if(a=b.target){var c=a.getAttribute(\"data-submitfalse\");a=\"1\"==c||\"q\"==c&&!a.elements.q.value?!0:!1}else a=!1;a&&(b.preventDefault(),b.stopPropagation())},!0);document.documentElement.addEventListener(\"click\",function(b){var a;a:{for(a=b.target;a&&a!=document.documentElement;a=a.parentElement)if(\"A\"==a.tagName){a=\"1\"==a.getAttribute(\"data-nohref\");break a}a=!1}a&&b.preventDefault()},!0);}).call(this);\\nvar a=window.location,b=a.href.indexOf(\"#\");if(0<=b){var c=a.href.substring(b+1);/(^|&)q=/.test(c)&&-1==c.indexOf(\"#\")&&a.replace(\"/search?\"+c.replace(/(^|&)fp=[^&]*/g,\"\")+\"&cad=h\")};</script><style>#gbar,#guser{font-size:13px;padding-top:1px !important;}#gbar{height:22px}#guser{padding-bottom:7px !important;text-align:left}.gbh,.gbd{border-top:1px solid #c9d7f1;font-size:1px}.gbh{height:0;position:absolute;top:24px;width:100%}@media all{.gb1{height:22px;margin-left:.5em;vertical-align:top}#gbar{float:right}}a.gb1,a.gb4{text-decoration:underline !important}a.gb1,a.gb4{color:#00c !important}.gbi .gb4{color:#dd8e27 !important}.gbf .gb4{color:#900 !important}\\n</style><style>body,td,a,p,.h{font-family:arial,sans-serif}body{margin:0;overflow-y:scroll}#gog{padding:3px 8px 0}td{line-height:.8em}.gac_m td{line-height:17px}form{margin-bottom:20px}.h{color:#36c}.q{color:#00c}em{font-weight:bold;font-style:normal}.lst{height:25px;width:496px}.gsfi,.lst{font:18px arial,sans-serif}.gsfs{font:17px arial,sans-serif}.ds{display:inline-box;display:inline-block;margin:3px 0 4px;margin-right:4px}input{font-family:inherit}body{background:#fff;color:#000}a{color:#11c;text-decoration:none}a:hover,a:active{text-decoration:underline}.fl a{color:#36c}a:visited{color:#551a8b}.sblc{padding-top:5px}.sblc a{display:block;margin:2px 0;margin-right:13px;font-size:11px}.lsbb{background:#eee;border:solid 1px;border-color:#ccc #ccc #999 #999;height:30px}.lsbb{display:block}#WqQANb a{display:inline-block;margin:0 12px}.lsb{background:url(/images/nav_logo229.png) 0 -261px repeat-x;border:none;color:#000;cursor:pointer;height:30px;margin:0;outline:0;font:15px arial,sans-serif;vertical-align:top}.lsb:active{background:#ccc}.lst:focus{outline:none}.tiah{width:458px}</style><script nonce=\"1J3IfI3TTy5W6uow6NxL2A==\"></script></head><body bgcolor=\"#fff\"><script nonce=\"1J3IfI3TTy5W6uow6NxL2A==\">(function(){var src=\\'/images/nav_logo229.png\\';var iesg=false;document.body.onload = function(){window.n && window.n();if (document.images){new Image().src=src;}\\nif (!iesg){document.f&&document.f.q.focus();document.gbqf&&document.gbqf.q.focus();}\\n}\\n})();</script><div id=\"mngb\"><div id=gbar><nobr><b class=gb1>&#1495;&#1497;&#1508;&#1493;&#1513;</b> <a class=gb1 href=\"https://www.google.co.il/imghp?hl=iw&tab=wi\">&#1495;&#1497;&#1508;&#1493;&#1513; &#1514;&#1502;&#1493;&#1504;&#1493;&#1514;</a> <a class=gb1 href=\"https://maps.google.co.il/maps?hl=iw&tab=wl\">&#1502;&#1508;&#1493;&#1514;</a> <a class=gb1 href=\"https://www.youtube.com/?gl=IL&tab=w1\">YouTube</a> <a class=gb1 href=\"https://news.google.com/?tab=wn\">&#1495;&#1491;&#1513;&#1493;&#1514;</a> <a class=gb1 href=\"https://mail.google.com/mail/?tab=wm\">Gmail</a> <a class=gb1 href=\"https://drive.google.com/?tab=wo\">Drive</a> <a class=gb1 href=\"https://www.google.com/calendar?tab=wc\">&#1497;&#1493;&#1502;&#1503;</a> <a class=gb1 style=\"text-decoration:none\" href=\"https://www.google.co.il/intl/iw/about/products?tab=wh\"><u>&#1506;&#1493;&#1491;</u> &raquo;</a></nobr></div><div id=guser width=100%><nobr><span id=gbn class=gbi></span><span id=gbf class=gbf></span><span id=gbe></span><a href=\"http://www.google.co.il/history/optout?hl=iw\" class=gb4>&#1492;&#1497;&#1505;&#1496;&#1493;&#1512;&#1497;&#1497;&#1514; &#1488;&#1514;&#1512;&#1497;&#1501;</a> | <a  href=\"/preferences?hl=iw\" class=gb4>&#1492;&#1490;&#1491;&#1512;&#1493;&#1514;</a> | <a target=_top id=gb_70 href=\"https://accounts.google.com/ServiceLogin?hl=iw&passive=true&continue=https://www.google.com/&ec=GAZAAQ\" class=gb4>&#1499;&#1504;&#1497;&#1505;&#1492;</a></nobr></div><div class=gbh style=left:0></div><div class=gbh style=right:0></div></div><center><br clear=\"all\" id=\"lgpd\"><div id=\"lga\"><img alt=\"Google\" height=\"92\" src=\"/images/branding/googlelogo/1x/googlelogo_white_background_color_272x92dp.png\" style=\"padding:28px 0 14px\" width=\"272\" id=\"hplogo\"><br><br></div><form action=\"/search\" name=\"f\"><table cellpadding=\"0\" cellspacing=\"0\"><tr valign=\"top\"><td width=\"25%\">&nbsp;</td><td align=\"center\" nowrap=\"\"><input name=\"ie\" value=\"ISO-8859-1\" type=\"hidden\"><input value=\"iw\" name=\"hl\" type=\"hidden\"><input name=\"source\" type=\"hidden\" value=\"hp\"><input name=\"biw\" type=\"hidden\"><input name=\"bih\" type=\"hidden\"><div class=\"ds\" style=\"height:32px;margin:4px 0\"><div style=\"position:relative;zoom:1\"><input class=\"lst tiah\" style=\"margin:0;padding:5px 6px 0 8px;vertical-align:top;color:#000;padding-left:38px\" autocomplete=\"off\" value=\"\" title=\"&#1495;&#1497;&#1508;&#1493;&#1513; &#1489;-Google\" maxlength=\"2048\" name=\"q\" size=\"57\"><img src=\"/textinputassistant/tia.png\" style=\"position:absolute;cursor:pointer;left:5px;top:4px;z-index:300\" data-script-url=\"/textinputassistant/11/iw_tia.js\" id=\"tsuid1\" alt=\"\" height=\"23\" width=\"27\"><script nonce=\"1J3IfI3TTy5W6uow6NxL2A==\">(function(){var id=\\'tsuid1\\';document.getElementById(id).onclick = function(){var s = document.createElement(\\'script\\');s.src = this.getAttribute(\\'data-script-url\\');(document.getElementById(\\'xjsc\\')||document.body).appendChild(s);};})();</script></div></div><br style=\"line-height:0\"><span class=\"ds\"><span class=\"lsbb\"><input class=\"lsb\" value=\"&#1495;&#1497;&#1508;&#1493;&#1513; &#1489;-Google\" name=\"btnG\" type=\"submit\"></span></span><span class=\"ds\"><span class=\"lsbb\"><input class=\"lsb\" id=\"tsuid2\" value=\"&#1497;&#1493;&#1514;&#1512; &#1502;&#1494;&#1500; &#1502;&#1513;&#1499;&#1500;\" name=\"btnI\" type=\"submit\"><script nonce=\"1J3IfI3TTy5W6uow6NxL2A==\">(function(){var id=\\'tsuid2\\';document.getElementById(id).onclick = function(){if (this.form.q.value){this.checked = 1;if (this.form.iflsig)this.form.iflsig.disabled = false;}\\nelse top.location=\\'/doodles/\\';};})();</script><input value=\"AINFCbYAAAAAX2Iv-46DeyDh3bfp1zuTM0dulw5Al5sY\" name=\"iflsig\" type=\"hidden\"></span></span></td><td class=\"fl sblc\" align=\"right\" nowrap=\"\" width=\"25%\"><a href=\"/advanced_search?hl=iw&amp;authuser=0\">&#1495;&#1497;&#1508;&#1493;&#1513; &#1502;&#1514;&#1511;&#1491;&#1501;</a></td></tr></table><input id=\"gbv\" name=\"gbv\" type=\"hidden\" value=\"1\"><script nonce=\"1J3IfI3TTy5W6uow6NxL2A==\">(function(){var a,b=\"1\";if(document&&document.getElementById)if(\"undefined\"!=typeof XMLHttpRequest)b=\"2\";else if(\"undefined\"!=typeof ActiveXObject){var c,d,e=[\"MSXML2.XMLHTTP.6.0\",\"MSXML2.XMLHTTP.3.0\",\"MSXML2.XMLHTTP\",\"Microsoft.XMLHTTP\"];for(c=0;d=e[c++];)try{new ActiveXObject(d),b=\"2\"}catch(h){}}a=b;if(\"2\"==a&&-1==location.search.indexOf(\"&gbv=2\")){var f=google.gbvu,g=document.getElementById(\"gbv\");g&&(g.value=a);f&&window.setTimeout(function(){location.href=f},0)};}).call(this);</script></form><div id=\"gac_scont\"></div><div style=\"font-size:83%;min-height:3.5em\"><br><div id=\"gws-output-pages-elements-homepage_additional_languages__als\"><style>#gws-output-pages-elements-homepage_additional_languages__als{font-size:small;margin-bottom:24px}#SIvCob{display:inline-block;line-height:28px;}#SIvCob a{padding:0 3px;}.H6sW5{display:inline-block;margin:0 2px;white-space:nowrap}.z4hgWe{display:inline-block;margin:0 2px}</style><div id=\"SIvCob\">Google &#1494;&#1502;&#1497;&#1504;&#1492; &#1489;:  <a href=\"https://www.google.com/setprefs?sig=0_mtgeNyQMNGqUJevNgIySPrpojgY%3D&amp;hl=ar&amp;source=homepage&amp;sa=X&amp;ved=0ahUKEwjxgreQ8u3rAhUIzIUKHVgLAu0Q2ZgBCAU\">&#1575;&#1604;&#1593;&#1585;&#1576;&#1610;&#1577;</a>    <a dir=\"ltr\" href=\"https://www.google.com/setprefs?sig=0_mtgeNyQMNGqUJevNgIySPrpojgY%3D&amp;hl=en&amp;source=homepage&amp;sa=X&amp;ved=0ahUKEwjxgreQ8u3rAhUIzIUKHVgLAu0Q2ZgBCAY\">English</a>  </div></div></div><span id=\"footer\"><div style=\"font-size:10pt\"><div style=\"margin:19px auto;text-align:center\" id=\"WqQANb\"><a href=\"/intl/iw/ads/\"> &#1508;&#1512;&#1505;&#1493;&#1501; &#1489;-Google</a><a href=\"http://www.google.co.il/intl/iw/services/\">&#1508;&#1514;&#1512;&#1493;&#1504;&#1493;&#1514; &#1506;&#1505;&#1511;&#1497;&#1497;&#1501;</a><a href=\"/intl/iw/about.html\">&#1492;&#1499;&#1493;&#1500; &#1506;&#1500; Google</a><a dir=\"ltr\" href=\"https://www.google.com/setprefdomain?prefdom=IL&amp;prev=https://www.google.co.il/&amp;sig=K_cJeBUCTHL-YZiyqqIBjGuYC8GyU%3D\">Google.co.il</a></div></div><p style=\"font-size:8pt;color:#767676\">&copy; 2020 - <a href=\"/intl/iw/policies/privacy/\">&#1508;&#1512;&#1496;&#1497;&#1493;&#1514;</a> - <a href=\"/intl/iw/policies/terms/\">&#1514;&#1504;&#1488;&#1497;&#1501;</a></p></span></center><script nonce=\"1J3IfI3TTy5W6uow6NxL2A==\">(function(){window.google.cdo={height:0,width:0};(function(){var a=window.innerWidth,b=window.innerHeight;if(!a||!b){var c=window.document,d=\"CSS1Compat\"==c.compatMode?c.documentElement:c.body;a=d.clientWidth;b=d.clientHeight}a&&b&&(a!=google.cdo.width||b!=google.cdo.height)&&google.log(\"\",\"\",\"/client_204?&atyp=i&biw=\"+a+\"&bih=\"+b+\"&ei=\"+google.kEI);}).call(this);})();(function(){var u=\\'/xjs/_/js/k\\\\x3dxjs.hp.en.lcgq6nIXGYY.O/m\\\\x3dsb_he,d/am\\\\x3dAJ5gcw/d\\\\x3d1/rs\\\\x3dACT90oGGSfa-LBAel11ctwhwquu64lh_EQ\\';\\nsetTimeout(function(){var b=document;var a=\"SCRIPT\";\"application/xhtml+xml\"===b.contentType&&(a=a.toLowerCase());a=b.createElement(a);a.src=u;google.timers&&google.timers.load&&google.tick&&google.tick(\"load\",\"xjsls\");document.body.appendChild(a)},0);})();(function(){window.google.xjsu=\\'/xjs/_/js/k\\\\x3dxjs.hp.en.lcgq6nIXGYY.O/m\\\\x3dsb_he,d/am\\\\x3dAJ5gcw/d\\\\x3d1/rs\\\\x3dACT90oGGSfa-LBAel11ctwhwquu64lh_EQ\\';})();function _DumpException(e){throw e;}\\nfunction _F_installCss(c){}\\n(function(){google.jl={dw:false,em:[],emw:false,lls:\\'default\\',pdt:0,snet:true,uwp:true};})();(function(){var pmc=\\'{\\\\x22d\\\\x22:{},\\\\x22sb_he\\\\x22:{\\\\x22agen\\\\x22:true,\\\\x22cgen\\\\x22:true,\\\\x22client\\\\x22:\\\\x22heirloom-hp\\\\x22,\\\\x22dh\\\\x22:true,\\\\x22dhqt\\\\x22:true,\\\\x22ds\\\\x22:\\\\x22\\\\x22,\\\\x22ffql\\\\x22:\\\\x22en\\\\x22,\\\\x22fl\\\\x22:true,\\\\x22host\\\\x22:\\\\x22google.com\\\\x22,\\\\x22isbh\\\\x22:28,\\\\x22jsonp\\\\x22:true,\\\\x22msgs\\\\x22:{\\\\x22cibl\\\\x22:\\\\x22&#1504;&#1497;&#1511;&#1493;&#1497; &#1492;&#1495;&#1497;&#1508;&#1493;&#1513;\\\\x22,\\\\x22dym\\\\x22:\\\\x22&#1492;&#1488;&#1501; &#1492;&#1514;&#1499;&#1493;&#1493;&#1504;&#1514; &#1500;:\\\\x22,\\\\x22lcky\\\\x22:\\\\x22&#1497;&#1493;&#1514;&#1512; &#1502;&#1494;&#1500; &#1502;&#1513;&#1499;&#1500;\\\\x22,\\\\x22lml\\\\x22:\\\\x22&#1500;&#1502;&#1497;&#1491;&#1506; &#1504;&#1493;&#1505;&#1507;\\\\x22,\\\\x22oskt\\\\x22:\\\\x22&#1499;&#1500;&#1497; &#1492;&#1494;&#1504;&#1492;\\\\x22,\\\\x22psrc\\\\x22:\\\\x22&#1495;&#1497;&#1508;&#1493;&#1513; &#1494;&#1492; &#1492;&#1493;&#1505;&#1512; &#1502;\\\\\\\\u003Ca href\\\\x3d\\\\\\\\\\\\x22/history\\\\\\\\\\\\x22\\\\\\\\u003E&#1492;&#1497;&#1505;&#1496;&#1493;&#1512;&#1497;&#1497;&#1514; &#1492;&#1488;&#1497;&#1504;&#1496;&#1512;&#1504;&#1496;\\\\\\\\u003C/a\\\\\\\\u003E &#1513;&#1500;&#1498;\\\\x22,\\\\x22psrl\\\\x22:\\\\x22&#1492;&#1505;&#1512;&#1492;\\\\x22,\\\\x22sbit\\\\x22:\\\\x22&#1495;&#1497;&#1508;&#1493;&#1513; &#1500;&#1508;&#1497; &#1514;&#1502;&#1493;&#1504;&#1492;\\\\x22,\\\\x22srch\\\\x22:\\\\x22&#1495;&#1497;&#1508;&#1493;&#1513; &#1489;-Google\\\\x22},\\\\x22ovr\\\\x22:{},\\\\x22pq\\\\x22:\\\\x22\\\\x22,\\\\x22refpd\\\\x22:true,\\\\x22rfs\\\\x22:[],\\\\x22sbpl\\\\x22:16,\\\\x22sbpr\\\\x22:16,\\\\x22scd\\\\x22:10,\\\\x22stok\\\\x22:\\\\x22HKCoPO9wxkBb2PCc_wtHfuW8ozg\\\\x22,\\\\x22uhde\\\\x22:false}}\\';google.pmc=JSON.parse(pmc);})();</script>        </body></html>'\n"
     ]
    }
   ],
   "source": [
    "import urllib.request\n",
    "url = urllib.request.urlopen(\"https://www.google.com\")\n",
    "print(url.read())"
   ]
  },
  {
   "cell_type": "markdown",
   "metadata": {
    "slideshow": {
     "slide_type": "subslide"
    }
   },
   "source": [
    "It can be quite irritating to write the full namespace address of all functions. To this end we have the `from` and `as` keywords:"
   ]
  },
  {
   "cell_type": "code",
   "execution_count": 43,
   "metadata": {
    "slideshow": {
     "slide_type": "subslide"
    }
   },
   "outputs": [
    {
     "data": {
      "text/plain": [
       "0.5403023058681398"
      ]
     },
     "execution_count": 43,
     "metadata": {},
     "output_type": "execute_result"
    }
   ],
   "source": [
    "from math import cos as cosine\n",
    "cosine(1.)"
   ]
  },
  {
   "cell_type": "markdown",
   "metadata": {},
   "source": [
    "Enumerations are great, use this opportunity to familiarize youself with them:"
   ]
  },
  {
   "cell_type": "code",
   "execution_count": 45,
   "metadata": {
    "slideshow": {
     "slide_type": "subslide"
    }
   },
   "outputs": [
    {
     "name": "stdout",
     "output_type": "stream",
     "text": [
      "Day.MONDAY\n",
      "<Day.MONDAY: 2>\n"
     ]
    }
   ],
   "source": [
    "from enum import Enum\n",
    "from pprint import pprint\n",
    "\n",
    "class Day(Enum):\n",
    "    SUNDAY = 1\n",
    "    MONDAY = 2\n",
    "    TUESDAY = 3\n",
    "    WEDNESDAY = 4\n",
    "    THURSDAY = 5\n",
    "    FRIDAY = 6\n",
    "    SATURDAY = 7\n",
    "\n",
    "d = Day.MONDAY\n",
    "\n",
    "print(d)\n",
    "pprint(d)"
   ]
  },
  {
   "cell_type": "code",
   "execution_count": null,
   "metadata": {
    "slideshow": {
     "slide_type": "subslide"
    }
   },
   "outputs": [],
   "source": [
    "from random import randint, randrange"
   ]
  },
  {
   "cell_type": "code",
   "execution_count": null,
   "metadata": {
    "slideshow": {
     "slide_type": "subslide"
    }
   },
   "outputs": [],
   "source": [
    "# Instead (or on top) of from:\n",
    "import multiprocessing.pool as mpool"
   ]
  },
  {
   "cell_type": "code",
   "execution_count": null,
   "metadata": {
    "slideshow": {
     "slide_type": "subslide"
    }
   },
   "outputs": [],
   "source": [
    "# A non-recommended version of importing is the star import\n",
    "from math import *\n",
    "print(pi)\n",
    "print(e)\n",
    "print(cos(pi))"
   ]
  },
  {
   "cell_type": "markdown",
   "metadata": {
    "slideshow": {
     "slide_type": "subslide"
    }
   },
   "source": [
    "The list of all standard library modules in Python 3 is [here](https://docs.python.org/3/library/index.html). However, it's just a drop in the ocean that is the Python ecosystem. "
   ]
  },
  {
   "cell_type": "markdown",
   "metadata": {
    "slideshow": {
     "slide_type": "slide"
    }
   },
   "source": [
    "## `pip` and External Modules"
   ]
  },
  {
   "cell_type": "markdown",
   "metadata": {
    "slideshow": {
     "slide_type": "subslide"
    }
   },
   "source": [
    "As noted before, Python's gigantic ecosystem is one of its biggest strengths. And the fact that you can easily install many of these package with a simple command-line instruction is even more important. The standard tool to do that is `pip`, a recursive acronym that stands for \"`pip` installs Python\".\n",
    "\n",
    "`pip` itself is a Python program, __but its not run from inside the Python interpreter.__ Instead its run from a shell - the Windows command line (or PowerShell), for example, or the Mac's terminal - making it an external application to Python. Happily enough, basically all Python distributions come with `pip` pre-installed, so you don't have to install it yourself.\n",
    "\n",
    "To install a library with pip, open a command line (in VSCode you can simply press Ctrl + ~) and type `pip install package_name`. \n",
    "\n",
    "`pip`, like any package manager, has two main jobs. The first is to provide a convenient API to a package repository. In essence, it's a download manager for a single site - the [Python Package Index](https://pypi.python.org/pypi) (PyPI, pronounced **pai-pee-eye**), the official Python repository for packages.\n",
    "\n",
    "PyPI holds installation files for the packages hosted in it, alongside with some metadata, like version number and dependencies. `pip` (and other tools we'll discuss soon) downloads the wanted package from PyPI, together with its dependencies, and installs them in a pre-defined location in our personal computer.\n",
    "\n",
    "`pip`'s second important job is handling dependencies. Many packages rely on other packages, which in turn rely on other, more basic packages, finally leading to the basic Python interpreter. `pip` has to make sure to install all dependencies of the package you're currently after, and to avoid any collisions with other installed packages. For example, a common problem in the Python world is the Python 2-3 schism, which means that packages written for Python 2 can't run on a Python 3 interpreter, and vice versa. The package manger's job is to grant you the right version of the package you're looking for."
   ]
  },
  {
   "cell_type": "markdown",
   "metadata": {},
   "source": [
    "### Comparison with MATLAB's approach\n",
    "\n",
    "We should take a minute here to contrast Python's approach with that of MATLAB. In MATLAB, once we added a directory to the path using `pathtool`, each file in that file is now directly in the MATLAB namespace. This means that we don't have to `import` anything - adding something to `pathtool` is essentially `import`ing the entire folder into the general namespace, which is the only namespace in MATLAB world. This is a pretty straight-forward approach, but it's also one that no other programming language, especially a modern one, uses. This is because cluttering the one and only namespace is a bad idea, since you can quite easily overwrite names of functions from files with names of variables you use, and you won't even know it. Moreover, you don't need **all** functions around **all** the time. Each file and project will usually need a few different functions from a couple of toolboxes, and that's it. \n",
    "\n",
    "In Python we have another layer between our code and the `import`-able functions. Inside our code we can only use built-in functions (`list()`, `int()`, `print()`, etc.) and functions that we explicitly imported, which will vary between files and project. In addition, we can only call `import` on files and packages which are in our Python's path. We'll discuss Python's equivilant of `pathtool` in the next class, but for now you should see the separation Python forces on us between the specific file's namespace and the general Python namespace (what packages can we even import)."
   ]
  },
  {
   "cell_type": "markdown",
   "metadata": {
    "slideshow": {
     "slide_type": "slide"
    }
   },
   "source": [
    "## File Structure"
   ]
  },
  {
   "cell_type": "markdown",
   "metadata": {
    "slideshow": {
     "slide_type": "subslide"
    }
   },
   "source": [
    "`import` statements are useful for more than just importing code - they're also our way of arranging our project's files. Here's the standard arrangement of files I'd like you to use throughout the course:"
   ]
  },
  {
   "cell_type": "raw",
   "metadata": {
    "slideshow": {
     "slide_type": "subslide"
    }
   },
   "source": [
    "- /home/\n",
    "    - my_project/\n",
    "        - my_project/\n",
    "            - `__init__.py`\n",
    "            - `class1.py\n",
    "            - `class2.py`\n",
    "        - setup.py\n",
    "        - README.md\n",
    "        - config.cfg\n",
    "        - data/\n",
    "            - data.tif\n",
    "            - recordings.csv\n",
    "        - .git\n",
    "        \n",
    "    - other_proj/\n",
    "    - yet_another/"
   ]
  },
  {
   "cell_type": "markdown",
   "metadata": {
    "slideshow": {
     "slide_type": "subslide"
    }
   },
   "source": [
    "The base folder can contain many other files, including sample data, for example. The point here is that your actual code in confined to the `project_name` folder, which has an empty `__init__.py`. This file allows Python to import user-defined objects from that folder.\n",
    "\n",
    "Thus, if you wish to use a function you defined in `class_1.py` in `class_2.py`, you should write inside `class_2.py` the following statement: `from class_1.py import my_func`."
   ]
  },
  {
   "cell_type": "markdown",
   "metadata": {
    "slideshow": {
     "slide_type": "slide"
    }
   },
   "source": [
    "## Scripts and Functions \n",
    "*Code examples in `import_demonstration` folder*"
   ]
  },
  {
   "cell_type": "markdown",
   "metadata": {
    "slideshow": {
     "slide_type": "subslide"
    }
   },
   "source": [
    "If you're familiar with MATLAB there's a good chance that you've written a script before. A script is a file which is run sequentially, while using other functions and definitions. Python supports scripts as well, as can be seen in `main.py`.\n",
    "\n",
    "However, in the Python world people usually prefer to stay away from scripts. This is due to a number of reasons, the most important one being that running a `main()` function as it is easy as running a `main.py` script. You can see examples of a procedural and script-like approach in the `main.py` file, but keep in mind the the script version is discouraged.\n",
    "\n",
    "If you wish to run a file full with functions from the command line or from your IDE, you should include the following lines:\n",
    "```python\n",
    "if __name__ == '__main__':\n",
    "    run_main()\n",
    "```\n",
    "\n",
    "Every Python file which is being run has a caller. If this file was run directly from the Python interpreter its `__name__` will be `'__main__'`. This `if` statement basically tells the Python interpreter \"Start from here\", and is the conventional way to run Python procedures.\n",
    "\n",
    "In this course you're highly encouraged to divide your code into many small functions and methods in well-defined compact classes. Each method should have a single purpose, documented in its docstring. Each class should have a logical structure that envelopes its methods and attributes in a sensible way.\n",
    "\n",
    "Beware of God classes, or God scripts and functions. These are monolithic objects that encompass the entirety of your application, and are very hard to reason about. Simply create more files, each with a descriptive name and a bunch of related functions, and import this file into the other folders and main file.\n",
    "\n",
    "Another important reason to partition our code into many small bits is *unit testing* which we'll cover later on in the course.\n",
    "\n",
    "Importing code from one file to the other isn't as easy as you'd like it to be, especially since each language deals with this issue in a different way. It's completely expected that you won't be able to 'nail' the first couple of import statements you write. Keep trying, verify that your code is in the right directory structure, and don't be afraid to ask friends, Google or me."
   ]
  }
 ],
 "metadata": {
  "anaconda-cloud": {},
  "celltoolbar": "Slideshow",
  "kernelspec": {
   "display_name": "Python 3",
   "language": "python",
   "name": "python3"
  },
  "language_info": {
   "codemirror_mode": {
    "name": "ipython",
    "version": 3
   },
   "file_extension": ".py",
   "mimetype": "text/x-python",
   "name": "python",
   "nbconvert_exporter": "python",
   "pygments_lexer": "ipython3",
   "version": "3.8.0"
  }
 },
 "nbformat": 4,
 "nbformat_minor": 2
}