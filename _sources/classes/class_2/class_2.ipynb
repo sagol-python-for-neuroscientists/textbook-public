{
 "cells": [
  {
   "cell_type": "markdown",
   "metadata": {
    "slideshow": {
     "slide_type": "slide"
    }
   },
   "source": [
    "# Class 2: Object-oriented Programming"
   ]
  },
  {
   "cell_type": "markdown",
   "metadata": {
    "slideshow": {
     "slide_type": "slide"
    }
   },
   "source": [
    "## Virtual Environments"
   ]
  },
  {
   "cell_type": "markdown",
   "metadata": {
    "slideshow": {
     "slide_type": "subslide"
    }
   },
   "source": [
    "The basic idea is that **every Python project you have should be contained within an isolated environment**, which includes the interpreter and any libraries (i.e. external Python packages) that are needed for that specific project."
   ]
  },
  {
   "cell_type": "markdown",
   "metadata": {},
   "source": [
    "### Why do we need virtual environments?"
   ]
  },
  {
   "cell_type": "markdown",
   "metadata": {},
   "source": [
    "Once a project accumulates a number of dependencies (external Python packages used in your code), asserting compatibility between all components become tricky (see [**\"dependency hell\"**](https://en.wikipedia.org/wiki/Dependency_hell)). Python libraries are updated regularly, and each released version may introduce new bug fixes and features, or remove functionality that was flagged as depracated. Code that was written using one version of some external package will not necessarily run successfully using a different version. Virtual environments allow us to create as many isolated environments as we'd like, each containing only the libraries we need, and in the exact versions that guarantee compatibility."
   ]
  },
  {
   "cell_type": "markdown",
   "metadata": {
    "slideshow": {
     "slide_type": "subslide"
    }
   },
   "source": [
    "![Summary of environments and namespaces](envs.png)"
   ]
  },
  {
   "cell_type": "markdown",
   "metadata": {},
   "source": [
    "If this concept feels a little vague, don't be too worried. Once you've created a couple of virtual environments you'll get it in no time."
   ]
  },
  {
   "cell_type": "markdown",
   "metadata": {},
   "source": [
    "(create)=\n",
    "### Creating a Virtual Environment"
   ]
  },
  {
   "cell_type": "markdown",
   "metadata": {},
   "source": [
    "```{margin}\n",
    "To learn more about other available virtual environment management tools, see the {ref}`resources-venv` section under {ref}`resources <resources>`.\n",
    "```"
   ]
  },
  {
   "cell_type": "markdown",
   "metadata": {
    "slideshow": {
     "slide_type": "subslide"
    }
   },
   "source": [
    "There are numerous tools for creating and managing virtual environments with Python. In this course we will use [`venv`](https://docs.python.org/3/library/venv.html#module-venv), which is one of Python's built-in packages and is therefore a simple option that will always be available to you. "
   ]
  },
  {
   "cell_type": "markdown",
   "metadata": {},
   "source": [
    "Creating a new virtual environment with `venv` is as easy as running:\n",
    "\n",
    "````{tabbed} Linux/macOS\n",
    "\n",
    "```console\n",
    "$ python3 -m venv /path/to/new/virtual/environment/\n",
    "```\n",
    "\n",
    "````\n",
    "\n",
    "````{tabbed} Windows\n",
    "\n",
    "```doscon\n",
    "C:\\> C:\\Python38\\python -m venv C:\\path\\to\\new\\virtual\\environment\\\n",
    "```\n",
    "\n",
    "````\n",
    "\n",
    "We are calling `<python binary> -m` to execute the `venv` module as a script and pass it the path in which it should create the new virtual environment. "
   ]
  },
  {
   "cell_type": "markdown",
   "metadata": {},
   "source": [
    "### The Virtual Environment Directory"
   ]
  },
  {
   "cell_type": "markdown",
   "metadata": {},
   "source": [
    "Looking at the newly created virtual environment's directory tree, please note the following files and folders:\n",
    "\n",
    "```\n",
    "venv\n",
    "├── bin/\n",
    "│   ├── python\n",
    "│   ├── pip\n",
    "│   ├── activate\n",
    "│   ├── <Other binaries and CLI tools>\n",
    "├── lib/\n",
    "│   ├── python3.8/\n",
    "│   │   ├── site-packages/\n",
    "│   │   │   ├── <pip-installed packages>\n",
    "├── <...>\n",
    "```\n",
    "\n",
    "* `venv/bin/python`: The copy of the Python interpreter used when the virtual environment is activated.\n",
    "* `venv/bin/pip`: The copy of the `pip` CLI used when the virtual environment is activated.\n",
    "* `venv/bin/activate`: A script we will use to activate the virtual environment (making the prior two files the default `python` and `pip` executables).\n",
    "* `lib/python3.8/site-packages/`: This directory will contain all external packages installed with `pip install <package-name>` when our virtual environment is activated."
   ]
  },
  {
   "cell_type": "markdown",
   "metadata": {},
   "source": [
    "### Activating the Virtual Environment"
   ]
  },
  {
   "cell_type": "markdown",
   "metadata": {},
   "source": [
    "Activating a virtual environment means modifying your working environment to use a particular, isolated installation of Python (created in {ref}`create`). This will normally also \"override\" some other related CLI tools with those installed within the virtual environment's `bin` directory (such as `pip`), and sometimes also change some OS-related environment variables."
   ]
  },
  {
   "cell_type": "markdown",
   "metadata": {},
   "source": [
    "To activate the virtual environment and use the newly created isolated Python environment, simply run:\n",
    "\n",
    "````{tabbed} Linux/MacOS\n",
    "\n",
    "```console\n",
    "$ source <venv>/bin/activate\n",
    "```\n",
    "*\\* Replace `<venv>` with your virtual environment's directory path.*\n",
    "\n",
    "````\n",
    "\n",
    "````{tabbed} Windows\n",
    "\n",
    "```doscon\n",
    "C:\\> <venv>\\Scripts\\activate\n",
    "```\n",
    "*\\* Replace `<venv>` with your virtual environment's directory path.*\n",
    "\n",
    "````\n",
    "\n",
    "You should now see your virtual environment's directory name used as a prefix (`(venv)`) in your terminal window.\n",
    "\n",
    "To validate the activation, run:\n",
    "\n",
    "````{tabbed} Linux/MacOS\n",
    "\n",
    "```console\n",
    "(venv) $ which python\n",
    "<venv>/bin/python\n",
    "```\n",
    "\n",
    "````\n",
    "\n",
    "````{tabbed} Windows\n",
    "\n",
    "```doscon\n",
    "(venv) C:\\> where python\n",
    "<venv>\\Scripts\\python\n",
    "```\n",
    "\n",
    "````\n",
    "\n",
    "The returned path should be the path of the Python interpreter within the virtual environment's directory.\n",
    "\n",
    "For the purposes of this course one virtual environment will probably be enough. Always remember to activate it before starting work, and be sure to create a new virtual environment for any new project you begin in the future."
   ]
  },
  {
   "cell_type": "markdown",
   "metadata": {},
   "source": [
    "### Exercise"
   ]
  },
  {
   "cell_type": "markdown",
   "metadata": {},
   "source": [
    "1. Create a new `my_project` directory on your computer.\n",
    "2. Start VSCode and open your new project's directory.\n",
    "3. Initialize Git to add version control to your project.\n",
    "4. Create a virtual environment for your project and activate it (this will also let VSCode know what Python executable is used in this project).\n",
    "5. Create a `.py` file with a function that simply prints your name. \n",
    "6. Create another `.py` file that `import`s your function and runs it.\n",
    "7. Install the `numpy` package using `pip` and make sure you're able to `import` it.\n",
    "8. Add an MIT license to the repo, as well as a basic `README.md`.\n",
    "9. If the virtual environment's directory is found under the project's directory, create a `.gitignore` file and add its relative path to it. This will tell Git to ignore this directory (and not archive everything in it as part of our code repository, which would be an absolute mess). \n",
    "10. Publish this project to your GitHub account."
   ]
  },
  {
   "cell_type": "markdown",
   "metadata": {
    "slideshow": {
     "slide_type": "slide"
    }
   },
   "source": [
    "## Object-Oriented Programming: Part 1"
   ]
  },
  {
   "cell_type": "markdown",
   "metadata": {
    "slideshow": {
     "slide_type": "slide"
    }
   },
   "source": [
    "### Introduction"
   ]
  },
  {
   "cell_type": "markdown",
   "metadata": {
    "slideshow": {
     "slide_type": "subslide"
    }
   },
   "source": [
    "There are three main programming paradigms in use in mainstream programming languages:\n",
    "* Procedural\n",
    "* Functional\n",
    "* Object-oriented\n",
    "\n",
    "While the _functional_ paradigm is very interesting, we will not be discussing it in this course. You can read about Haskell, OCaml, F# and other functional programming languages wherever you get your information from."
   ]
  },
  {
   "cell_type": "markdown",
   "metadata": {},
   "source": [
    "### Procedural Programming"
   ]
  },
  {
   "cell_type": "markdown",
   "metadata": {},
   "source": [
    "[![Procedural Programming PB&J](http://img.youtube.com/vi/Ct-lOOUqmyY/0.jpg)](https://www.youtube.com/watch?v=Ct-lOOUqmyY \"Video Title\")"
   ]
  },
  {
   "cell_type": "markdown",
   "metadata": {},
   "source": [
    "The _procedural_ paradigm is the most widely used paradigm... in the academia. And it's probably the one you're most familiar with from your work with MATLAB. "
   ]
  },
  {
   "cell_type": "markdown",
   "metadata": {},
   "source": [
    "For example, if we wanted to write a naive script that multiplies the elements in two lists, we could write something like:"
   ]
  },
  {
   "cell_type": "code",
   "execution_count": 1,
   "metadata": {
    "slideshow": {
     "slide_type": "subslide"
    }
   },
   "outputs": [
    {
     "data": {
      "text/plain": [
       "[4, 10, 18]"
      ]
     },
     "execution_count": 1,
     "metadata": {},
     "output_type": "execute_result"
    }
   ],
   "source": [
    "l1 = [1, 2, 3]\n",
    "l2 = [4, 5, 6]\n",
    "result = []\n",
    "for item1, item2 in zip(l1, l2):\n",
    "    result.append(item1 * item2)\n",
    "result"
   ]
  },
  {
   "cell_type": "markdown",
   "metadata": {},
   "source": [
    "If we later run into more lists we need to multiply, we'll again write:"
   ]
  },
  {
   "cell_type": "code",
   "execution_count": 2,
   "metadata": {
    "slideshow": {
     "slide_type": "subslide"
    }
   },
   "outputs": [
    {
     "data": {
      "text/plain": [
       "[400, 1000, 1800]"
      ]
     },
     "execution_count": 2,
     "metadata": {},
     "output_type": "execute_result"
    }
   ],
   "source": [
    "l3 = [10, 20, 30]\n",
    "l4 = [40, 50, 60]\n",
    "result2 = []\n",
    "for item3, item4 in zip(l3, l4):\n",
    "    result2.append(item3 * item4)\n",
    "result2"
   ]
  },
  {
   "cell_type": "markdown",
   "metadata": {
    "slideshow": {
     "slide_type": "subslide"
    }
   },
   "source": [
    "At this point we'll recognize a pattern and immediately be rememinded of the DRY (\"Don't Repeat Yourself\") principle, leading us to define a function and replace these two parts:"
   ]
  },
  {
   "cell_type": "code",
   "execution_count": 3,
   "metadata": {
    "slideshow": {
     "slide_type": "subslide"
    }
   },
   "outputs": [],
   "source": [
    "def list_multiplier(l1, l2):\n",
    "    \"\"\"\n",
    "    Multiply two lists element-wise.\n",
    "    \n",
    "    Parameters\n",
    "    ----------\n",
    "    l1 : list\n",
    "        First list\n",
    "    l2 : list\n",
    "        Second list    \n",
    "    \n",
    "    Returns\n",
    "    -------\n",
    "    list\n",
    "        Element-wise multiplication result\n",
    "    \"\"\"\n",
    "    result = []\n",
    "    for item1, item2 in zip(l1, l2):\n",
    "        result.append(item1 * item2)\n",
    "    \n",
    "    return result"
   ]
  },
  {
   "cell_type": "markdown",
   "metadata": {
    "slideshow": {
     "slide_type": "subslide"
    }
   },
   "source": [
    "This new procedure does one thing, and one thing only. This is what's so powerful about it.\n",
    "\n",
    "Procedural programming allows us to group and order our code base into small units, called functions or **procedures**, that have a specific, defined task.\n",
    "\n",
    "It usually contains a \"wrapper\" script that defines the order of running for these functions:\n",
    "```python\n",
    " :caption: my_wrapper_script.py\n",
    "def run_pipeline(foldername):\n",
    "    \"\"\" Main data pipeline script \"\"\"\n",
    "    data = get_user_input(foldername)\n",
    "    data_without_fieldnames = extract_fieldnames(data)\n",
    "    columnar_data = generate_columns(data_without_fieldnames, num_of_columns)\n",
    "    # ...\n",
    "    # At the end of the file it will contain:\n",
    "\n",
    "if __name__ == '__main__':\n",
    "    foldername = r'/path/to/folder'  # raw string\n",
    "    result = run_pipeline(foldername)\n",
    "    print(result)\n",
    "```"
   ]
  },
  {
   "cell_type": "markdown",
   "metadata": {
    "slideshow": {
     "slide_type": "subslide"
    }
   },
   "source": [
    "You should decisively eliminate any repeating code. It's perhaps the most common source for errors in scientific computing, and it may bite you any of these ways:\n",
    "\n",
    "* Encapsulation\n",
    "    ```python\n",
    "    # String concatenation\n",
    "    first_string = 'abcd'\n",
    "    second_string = 'efgh'\n",
    "    concat = first_string + second_string[:-1] + 'zzz'  # you suddenly remember that you wish to exclude \n",
    "    # the last character in \"second_string\" and add the 'zzz' sequence at the end.\n",
    "    # Program continues...\n",
    "    # ...\n",
    "    third_string = 'poiu'\n",
    "    fourth_string = 'qwer'\n",
    "    concat2 = third_string + fourth_string + 'zzz' # you wish to achieve the same goal in this \n",
    "    # concatenation - but you forgot that you excluded the last character of the second string.\n",
    "    ```\n",
    "    The moment you realized that you have a recurring operation on strings - you have to encapsulate it in a function. Be _ruthless!_  \n",
    "<br/>\n",
    "* Parametrization\n",
    "    Instead of writing:\n",
    "\n",
    "    ```python\n",
    "    def process_data(data):\n",
    "        scaled_data = data * 0.3  #  what is 0.3 exactly? Parametrize it.\n",
    "    ```\n",
    "    \n",
    "    We might do:\n",
    "    \n",
    "    ```python\n",
    "    def process_data(data, na_concentration=0.3):\n",
    "        \"\"\"Multiplies data by the Na concentration\"\"\"\n",
    "        scaled_data = data * na_concentration\n",
    "    ```\n",
    "    But this is usually not enough. When calling the `process_data` parameterize the `na_concentration` variable as well. This will help you avoid a situation such as:\n",
    "\n",
    "    ```python\n",
    "    data = b * c - 1 + a\n",
    "    process_data(data, 0.4)\n",
    "    # Script continues...\n",
    "    process_data(data2, 0.5)  # Perhaps you really did wish to call \"process_data\" with two different\n",
    "    # parameters, but it's more likely that you decided that 0.5 was too high, so you changed it to 0.4\n",
    "    # in the first call, but forgot that you had a second call. This parameter should appear somewhere at\n",
    "    # the top of your script.\n",
    "    ```\n",
    "\n",
    "While procedural programming works great for most simple tasks, it might be considered inferior when writing code that is meant to scale and be collaborated on. "
   ]
  },
  {
   "cell_type": "markdown",
   "metadata": {
    "slideshow": {
     "slide_type": "slide"
    }
   },
   "source": [
    "### Classes and Objects"
   ]
  },
  {
   "cell_type": "markdown",
   "metadata": {
    "slideshow": {
     "slide_type": "subslide"
    }
   },
   "source": [
    "Classes are user-defined types. Just like `str`, `dict`, `tuple` and the rest of the standard types, Python allows us to create our own types.\n",
    "\n",
    "Objects are _instances_ of classes, they're an instance of a type we made. Actually, all instances of all types are objects in Python. It means that every variable and function in Python are, by themselves, an instance of a type. A function you make is an instance of the `function` type, for example. We'll get to this during later stages of the course.\n",
    "\n",
    "Classes are a type of abstraction we create with our code. A variable is the most simple type of abstraction - it's a _thing_ that is closely tied to a \"real value\" in a very simple relationship: My variable $x$ represents the value $y$. \n",
    "\n",
    "Classes are more abstract - they don't relate to a specific value directly, but rather they try to convey an idea of an object."
   ]
  },
  {
   "cell_type": "markdown",
   "metadata": {
    "slideshow": {
     "slide_type": "slide"
    }
   },
   "source": [
    "#### Example I: The `Point` Class"
   ]
  },
  {
   "cell_type": "markdown",
   "metadata": {
    "slideshow": {
     "slide_type": "subslide"
    }
   },
   "source": [
    "To show what we mean by \"our own type\", we'll define the `Point` type.\n",
    "\n",
    "So, what is a point? \n",
    "* In a 2D space it's a pair of values, $(x, y)$, specifying a location on a grid.\n",
    "* $x$ and $y$ are the coordinates of the point.\n",
    "* Points have special relations to other points and to the space they reside in.\n",
    "\n",
    "From these three simple observations, we expect our `Point` type to include both data about its coordinates, and functions, or **methods**, used to interact with the grid and\\or other points. \n",
    "\n",
    "An object usually bundles together data (attributes) and methods we wish to express as some abstract template in our code. It might seem like a lot to write at first, but it pays off tremendously in no time."
   ]
  },
  {
   "cell_type": "code",
   "execution_count": 54,
   "metadata": {
    "slideshow": {
     "slide_type": "subslide"
    }
   },
   "outputs": [
    {
     "data": {
      "text/plain": [
       "__main__.Point"
      ]
     },
     "execution_count": 54,
     "metadata": {},
     "output_type": "execute_result"
    }
   ],
   "source": [
    "# Introducing the class keyword:\n",
    "class Point:\n",
    "    \"\"\"Represents a point in a 2D space\"\"\"\n",
    "    pass\n",
    "\n",
    "Point\n",
    "# A new type is born in __main__"
   ]
  },
  {
   "cell_type": "markdown",
   "metadata": {},
   "source": [
    "The name `Point` is now a factory to create new `Point` instances. To make one, we have to call it like we do with a function:"
   ]
  },
  {
   "cell_type": "code",
   "execution_count": 6,
   "metadata": {
    "slideshow": {
     "slide_type": "subslide"
    }
   },
   "outputs": [
    {
     "data": {
      "text/plain": [
       "<__main__.Point at 0x7fcdbc085160>"
      ]
     },
     "execution_count": 6,
     "metadata": {},
     "output_type": "execute_result"
    }
   ],
   "source": [
    "blank = Point()\n",
    "blank"
   ]
  },
  {
   "cell_type": "markdown",
   "metadata": {},
   "source": [
    "We call this *instantiation* (and `blank` is now an *instance* of `Point`)."
   ]
  },
  {
   "cell_type": "code",
   "execution_count": 55,
   "metadata": {
    "slideshow": {
     "slide_type": "subslide"
    }
   },
   "outputs": [
    {
     "data": {
      "text/plain": [
       "1.0"
      ]
     },
     "execution_count": 55,
     "metadata": {},
     "output_type": "execute_result"
    }
   ],
   "source": [
    "# Assign the point's data in the form of coordinates\n",
    "blank.x = 1.0\n",
    "blank.y = 0.0\n",
    "\n",
    "# x and y are now attributes of our class:\n",
    "blank.x"
   ]
  },
  {
   "cell_type": "markdown",
   "metadata": {
    "slideshow": {
     "slide_type": "subslide"
    }
   },
   "source": [
    "The `.` means `x` is an attribute or method (callable) of `blank` (and of course there's no conflict between a variable named `x` and `blank.x`)."
   ]
  },
  {
   "cell_type": "code",
   "execution_count": 9,
   "metadata": {
    "slideshow": {
     "slide_type": "subslide"
    }
   },
   "outputs": [
    {
     "name": "stdout",
     "output_type": "stream",
     "text": [
      "2.0\n"
     ]
    }
   ],
   "source": [
    "print(1 + blank.x)"
   ]
  },
  {
   "cell_type": "code",
   "execution_count": 11,
   "metadata": {
    "slideshow": {
     "slide_type": "subslide"
    }
   },
   "outputs": [
    {
     "data": {
      "text/plain": [
       "'A case of a pointy Point at (1.0, 0.0)'"
      ]
     },
     "execution_count": 11,
     "metadata": {},
     "output_type": "execute_result"
    }
   ],
   "source": [
    "f\"A case of a pointy Point at {(blank.x, blank.y)}\""
   ]
  },
  {
   "cell_type": "code",
   "execution_count": 56,
   "metadata": {
    "slideshow": {
     "slide_type": "subslide"
    }
   },
   "outputs": [
    {
     "name": "stdout",
     "output_type": "stream",
     "text": [
      "(1.0, 0.0)\n"
     ]
    }
   ],
   "source": [
    "def print_point(p):\n",
    "    \"\"\"Print a Point object.\n",
    "    \n",
    "    Parameters\n",
    "    ----------\n",
    "    p : Point\n",
    "        The point instance to print\n",
    "    \"\"\"\n",
    "    print(f\"{p.x, p.y}\")\n",
    "\n",
    "print_point(blank)"
   ]
  },
  {
   "cell_type": "markdown",
   "metadata": {},
   "source": [
    "#### Exercise I: `calculate_distance()`"
   ]
  },
  {
   "cell_type": "markdown",
   "metadata": {
    "slideshow": {
     "slide_type": "subslide"
    }
   },
   "source": [
    "Write the `calculate_distance()` function that takes two points (`p1` and `p2`) and returns the Cartesian distance between them."
   ]
  },
  {
   "cell_type": "markdown",
   "metadata": {
    "scrolled": true,
    "slideshow": {
     "slide_type": "subslide"
    }
   },
   "source": [
    ":::{admonition,dropdown} Solution\n",
    "```\n",
    "import math\n",
    "\n",
    "\n",
    "def calculate_distance(p1, p2):\n",
    "    \"\"\" Returns the Cartesian distance between two points. \"\"\"\n",
    "    return math.sqrt(\n",
    "        (p1.x - p2.x) ** 2 + \n",
    "        (p1.y - p2.y) ** 2\n",
    "    )\n",
    "```\n",
    ":::"
   ]
  },
  {
   "cell_type": "markdown",
   "metadata": {},
   "source": [
    "#### Example II: Rectangles"
   ]
  },
  {
   "cell_type": "markdown",
   "metadata": {
    "slideshow": {
     "slide_type": "subslide"
    }
   },
   "source": [
    "Take a minute to think how you would implement a `Rectangle` class. \n",
    "\n",
    "Here are a couple of options:\n",
    "\n",
    "* We can decide to define it with a point (corner or center) and two sides.\n",
    "* We can also use two opposing points.\n",
    "\n",
    "We'll go with the first option, with the point being the corner."
   ]
  },
  {
   "cell_type": "code",
   "execution_count": 58,
   "metadata": {
    "slideshow": {
     "slide_type": "subslide"
    }
   },
   "outputs": [
    {
     "data": {
      "text/plain": [
       "<__main__.Rectangle at 0x7fcdad40c040>"
      ]
     },
     "execution_count": 58,
     "metadata": {},
     "output_type": "execute_result"
    }
   ],
   "source": [
    "class Rectangle:\n",
    "    \"\"\"Rectangle model.\n",
    "    \n",
    "    Attributes\n",
    "    ----------\n",
    "    corner : Point\n",
    "        Bottom left corner\n",
    "    height : float\n",
    "        Length of vertical side\n",
    "    width : float\n",
    "        Length of horizontal size\n",
    "    \"\"\"\n",
    "    pass\n",
    "\n",
    "rect = Rectangle()\n",
    "rect.width = 100.0\n",
    "rect.height = 200.0\n",
    "corner = Point()\n",
    "corner.x = 0.0\n",
    "corner.y = 0.0\n",
    "rect.corner = corner\n",
    "\n",
    "rect"
   ]
  },
  {
   "cell_type": "markdown",
   "metadata": {},
   "source": [
    "We can return instances of classes (just like we do with instances of dictionaries):"
   ]
  },
  {
   "cell_type": "code",
   "execution_count": 62,
   "metadata": {
    "slideshow": {
     "slide_type": "subslide"
    }
   },
   "outputs": [
    {
     "name": "stdout",
     "output_type": "stream",
     "text": [
      "(50.0, 100.0)\n"
     ]
    }
   ],
   "source": [
    "def find_center(rect):\n",
    "    \"\"\" \n",
    "    Return a Point instance with coordinates pointing to the center of the Rectangle.\n",
    "    \"\"\"\n",
    "    p = Point()\n",
    "    p.x = rect.corner.x + rect.width / 2\n",
    "    p.y = rect.corner.y + rect.height / 2\n",
    "    return p\n",
    "\n",
    "center = find_center(rect)\n",
    "print_point(center)"
   ]
  },
  {
   "cell_type": "markdown",
   "metadata": {},
   "source": [
    "Also, objects are mutable:"
   ]
  },
  {
   "cell_type": "code",
   "execution_count": 63,
   "metadata": {
    "slideshow": {
     "slide_type": "subslide"
    }
   },
   "outputs": [
    {
     "name": "stdout",
     "output_type": "stream",
     "text": [
      "100.0 200.0\n",
      "200.0 300.0\n"
     ]
    }
   ],
   "source": [
    "def grow_rectangle(rect, dwidth, dheight):\n",
    "    \"\"\" Take a Rectangle instance and grow it by (dwidth, dheight) \"\"\"\n",
    "    rect.width += dwidth\n",
    "    rect.height += dheight\n",
    "    # No need to return the instance\n",
    "    \n",
    "print(rect.width, rect.height)\n",
    "grow_rectangle(rect, 100, 100)\n",
    "print(rect.width, rect.height)"
   ]
  },
  {
   "cell_type": "markdown",
   "metadata": {},
   "source": [
    "#### Methods"
   ]
  },
  {
   "cell_type": "markdown",
   "metadata": {
    "slideshow": {
     "slide_type": "slide"
    }
   },
   "source": [
    "We really haven't done object-oriented programming yet. Our objects currently contain only data (as attributes), and we wrote independent functions to manipulate them as required. *Methods* are functions bound to objects, describing actions they can do, or that can be done to them. \n",
    "\n",
    "For example, a real-world car can drive. So a `Car` object should have a `drive()` method. It should also have a `park()` method, and a couple of attributes, like `number_of_wheels`, `manufacturer` and `model`.\n",
    "\n",
    "As we'll see in a second, the only difference between methods and functions is that methods are a part of an object, and they only make sense the context of that object or an instance of it. A `park()` method has no meaning when we try to run it on a `Rectangle`.\n",
    "\n",
    "We've already met many methods and used them successfully. For example, we used the `append()` method of a list instance. In this case it's clear why a method is always bound to a specific class - it's irrelevant to \"append\" an item to an object which is not a list.\n",
    "\n",
    "Let's add a method to our Point object:"
   ]
  },
  {
   "cell_type": "code",
   "execution_count": 66,
   "metadata": {},
   "outputs": [
    {
     "name": "stdout",
     "output_type": "stream",
     "text": [
      "transpose is now of type: <class 'method'>\n",
      "Before:\tp.x: 10, p.y: 20\n",
      "After:\tp.x: 20, p.y: 10\n"
     ]
    }
   ],
   "source": [
    "class Point:\n",
    "    \"\"\"A 2D point.\"\"\"\n",
    "    \n",
    "    def transpose(self): # The first argument to a method is always the calling instance itself (self)\n",
    "        \"\"\"Trasnposes by flipping x and y\"\"\"\n",
    "        self.x, self.y = self.y, self.x\n",
    "\n",
    "p = Point()\n",
    "p.x, p.y = 10, 20\n",
    "\n",
    "print(f\"transpose is now of type: {type(p.transpose)}\")\n",
    "print(f\"Before:\\tp.x: {p.x}, p.y: {p.y}\")\n",
    "p.transpose()\n",
    "print(f\"After:\\tp.x: {p.x}, p.y: {p.y}\")"
   ]
  },
  {
   "cell_type": "markdown",
   "metadata": {},
   "source": [
    "The conceptual change here is the following: The active agents here are the *objects*, not the functions. Instead of `transpose(point)` we have the point transpose itself with `p.transpose()`.\n",
    "\n",
    "In general, most functions that take an instance of some object as one of their parameters should be a candidate for becoming a method, bound to that object, since you might need it later on for other instances as well.\n",
    "\n",
    ":::{note} \n",
    "Even though methods have `self` as their first argument, when we call them we don't need to pass that first parameter. `self` acts as a reference to the instance, or object, that we're currently handling. This is what makes methods \"special\" - they work with the data \"inside\" the object they're a part of, and can modify this data if needed. All methods must be defined with the `self` parameter as their first parameter (`self` isn't actually a special keyword, rather it's just the convention for the first argument in the method definition).\n",
    ":::"
   ]
  },
  {
   "cell_type": "code",
   "execution_count": 24,
   "metadata": {},
   "outputs": [
    {
     "ename": "NameError",
     "evalue": "name 'p' is not defined",
     "output_type": "error",
     "traceback": [
      "\u001b[0;31m---------------------------------------------------------------------------\u001b[0m",
      "\u001b[0;31mNameError\u001b[0m                                 Traceback (most recent call last)",
      "\u001b[0;32m<ipython-input-24-07dc2a9995d9>\u001b[0m in \u001b[0;36m<module>\u001b[0;34m\u001b[0m\n\u001b[1;32m      1\u001b[0m \u001b[0;31m# This doesn't work, look at the number of arguments:\u001b[0m\u001b[0;34m\u001b[0m\u001b[0;34m\u001b[0m\u001b[0;34m\u001b[0m\u001b[0m\n\u001b[0;32m----> 2\u001b[0;31m \u001b[0mp\u001b[0m\u001b[0;34m.\u001b[0m\u001b[0mtranspose\u001b[0m\u001b[0;34m(\u001b[0m\u001b[0mp\u001b[0m\u001b[0;34m)\u001b[0m\u001b[0;34m\u001b[0m\u001b[0;34m\u001b[0m\u001b[0m\n\u001b[0m\u001b[1;32m      3\u001b[0m \u001b[0;31m# Two arguments were given? We gave only one. The second was the self argument that is implicitly passed.\u001b[0m\u001b[0;34m\u001b[0m\u001b[0;34m\u001b[0m\u001b[0;34m\u001b[0m\u001b[0m\n",
      "\u001b[0;31mNameError\u001b[0m: name 'p' is not defined"
     ]
    }
   ],
   "source": [
    "# This doesn't work, look at the number of arguments:\n",
    "p.transpose(p)"
   ]
  },
  {
   "cell_type": "markdown",
   "metadata": {},
   "source": [
    "Two arguments were given? We gave only one. The second was the `self` argument that is implicitly passed."
   ]
  },
  {
   "cell_type": "markdown",
   "metadata": {},
   "source": [
    "One thing is still missing though, each time we create the point we have a three step process:\n",
    "1. Create the instance: `p = Point()`\n",
    "2. Add the `x` attribute: `p.x = 2`\n",
    "3. Add the `y` attribute: `p.y = 3`\n",
    "\n",
    "First, it would be nice if we could make this process shorter. Second, the Point instance is really unusable unless it has both attributes `(x, y)` set, so we want to make sure that we don't have a Point without both `x` and `y`. This is accomplished by the `__init__` method. "
   ]
  },
  {
   "cell_type": "markdown",
   "metadata": {},
   "source": [
    "#### The `__init__` Method"
   ]
  },
  {
   "cell_type": "markdown",
   "metadata": {},
   "source": [
    "```{margin}\n",
    "`__init__()` is one example of a *dunder* method. *dunder* is short for *double underscore* and generally implies an internal (structural) part of the class itself.\n",
    "```"
   ]
  },
  {
   "cell_type": "markdown",
   "metadata": {
    "slideshow": {
     "slide_type": "slide"
    }
   },
   "source": [
    "Classes have several special methods attached to them. While most are out this course's scope, the `__init__()` method is regularly used and we should definitely familiarize ourselves with it. \n",
    "\n",
    "The `__init__()` methods allows us to define our class' attributes inside the class definition:"
   ]
  },
  {
   "cell_type": "code",
   "execution_count": 26,
   "metadata": {},
   "outputs": [],
   "source": [
    "class Point:\n",
    "    \"\"\"A 2D point.\"\"\"\n",
    "    \n",
    "    def __init__(self, x, y):\n",
    "        \"\"\"Initialize a new Point instance\"\"\"\n",
    "        self.x = x\n",
    "        self.y = y\n",
    "\n",
    "    def transpose(self):\n",
    "        \"\"\"Trasnposes by flipping x and y\"\"\"\n",
    "        self.x, self.y = self.y, self.x"
   ]
  },
  {
   "cell_type": "markdown",
   "metadata": {},
   "source": [
    "Now, in order to create a `Point` instance, we have to pass in the two arguments that the `__init__()` method requires:"
   ]
  },
  {
   "cell_type": "code",
   "execution_count": 27,
   "metadata": {},
   "outputs": [
    {
     "name": "stdout",
     "output_type": "stream",
     "text": [
      "p.x: 10, p.y: 20\n",
      "p.x: 20, p.y: 10\n"
     ]
    }
   ],
   "source": [
    "p = Point(10, 20)\n",
    "print(f\"p.x: {p.x}, p.y: {p.y}\")\n",
    "p.transpose()\n",
    "print(f\"p.x: {p.x}, p.y: {p.y}\")"
   ]
  },
  {
   "cell_type": "code",
   "execution_count": 27,
   "metadata": {},
   "outputs": [
    {
     "ename": "TypeError",
     "evalue": "__init__() missing 2 required positional arguments: 'x' and 'y'",
     "output_type": "error",
     "traceback": [
      "\u001b[0;31m---------------------------------------------------------------------------\u001b[0m",
      "\u001b[0;31mTypeError\u001b[0m                                 Traceback (most recent call last)",
      "\u001b[0;32m<ipython-input-27-13fd077f7b13>\u001b[0m in \u001b[0;36m<module>\u001b[0;34m\u001b[0m\n\u001b[0;32m----> 1\u001b[0;31m \u001b[0mp2\u001b[0m \u001b[0;34m=\u001b[0m \u001b[0mPoint\u001b[0m\u001b[0;34m(\u001b[0m\u001b[0;34m)\u001b[0m\u001b[0;34m\u001b[0m\u001b[0;34m\u001b[0m\u001b[0m\n\u001b[0m",
      "\u001b[0;31mTypeError\u001b[0m: __init__() missing 2 required positional arguments: 'x' and 'y'"
     ]
    }
   ],
   "source": [
    "p2 = Point()"
   ]
  },
  {
   "cell_type": "markdown",
   "metadata": {},
   "source": [
    "As we said, this is better because we enforce our `Point` user to initialize all attributes, which eases the use of the other methods the `Point` has. Most chances are that the first method you'll write for a newly defined class is the `__init__()` method. \n",
    "\n",
    "Let's look at a broader example using the Rectange we defined earlier and the two other functions we also had."
   ]
  },
  {
   "cell_type": "code",
   "execution_count": 30,
   "metadata": {},
   "outputs": [],
   "source": [
    "class Rectangle:    \n",
    "    \"\"\"\n",
    "    Representation of a rectangle in Cartesian space based on the\n",
    "    bottom left corner and the sizes of its sides.\n",
    "    \"\"\"\n",
    "    \n",
    "    def __init__(self, corner, height=10, width=10):\n",
    "        \"\"\"Initialize a Rectangle instance.\n",
    "        \n",
    "        Parameters\n",
    "        ----------\n",
    "        corner : Point\n",
    "            Bottom left corner\n",
    "        height : float\n",
    "            Length of vertical side\n",
    "        width : float\n",
    "            Length of horizontal side\n",
    "        \n",
    "        \"\"\"        \n",
    "        self.corner = corner\n",
    "        self.height = height\n",
    "        self.width = width\n",
    "        \n",
    "    def find_center(self):\n",
    "        \"\"\"Return a Point to the center of the Rectangle box.\"\"\"\n",
    "        x = self.corner.x + self.width / 2\n",
    "        y = self.corner.y + self.height / 2\n",
    "        return Point(x, y)\n",
    "\n",
    "    def grow(self, dwidth, dheight):\n",
    "        \"\"\"Change this instance's size by (dwidth, dheight).\n",
    "        \n",
    "        Parameters\n",
    "        ----------\n",
    "        dwidth, dheight : float\n",
    "            Change the first and second axes by +dwidth\\dheight\n",
    "        \"\"\"\n",
    "        self.width += dwidth\n",
    "        self.height += dheight\n",
    "\n",
    "    def move_to_origin(self):\n",
    "        \"\"\"Moves the center of the rectangle to (0, 0)\"\"\"\n",
    "        center = self.find_center()\n",
    "        centered = center.x == 0 and center.y == 0\n",
    "        if not centered:\n",
    "            self.corner = Point(-self.width / 2, -self.height / 2)        "
   ]
  },
  {
   "cell_type": "markdown",
   "metadata": {},
   "source": [
    ":::{note}\n",
    "* The Class name is CamelCase.\n",
    "* The docstring of the entire class describes its general purpose.\n",
    "* The `__init__` method takes in three arguments, but two of them are optional.\n",
    "* We added the two functions we defined earlier to the class as methods, since they only operate on rectangles in the first place.\n",
    ":::"
   ]
  },
  {
   "cell_type": "code",
   "execution_count": 29,
   "metadata": {
    "slideshow": {
     "slide_type": "subslide"
    }
   },
   "outputs": [
    {
     "ename": "NameError",
     "evalue": "name 'p' is not defined",
     "output_type": "error",
     "traceback": [
      "\u001b[0;31m---------------------------------------------------------------------------\u001b[0m",
      "\u001b[0;31mNameError\u001b[0m                                 Traceback (most recent call last)",
      "\u001b[0;32m<ipython-input-29-7c5e5a75d899>\u001b[0m in \u001b[0;36m<module>\u001b[0;34m\u001b[0m\n\u001b[0;32m----> 1\u001b[0;31m \u001b[0mrect\u001b[0m \u001b[0;34m=\u001b[0m \u001b[0mRectangle\u001b[0m\u001b[0;34m(\u001b[0m\u001b[0mp\u001b[0m\u001b[0;34m)\u001b[0m\u001b[0;34m\u001b[0m\u001b[0;34m\u001b[0m\u001b[0m\n\u001b[0m\u001b[1;32m      2\u001b[0m \u001b[0mprint\u001b[0m\u001b[0;34m(\u001b[0m\u001b[0;34mf\"rect.width: {rect.width}, rect.height: {rect.height}\"\u001b[0m\u001b[0;34m)\u001b[0m\u001b[0;34m\u001b[0m\u001b[0;34m\u001b[0m\u001b[0m\n",
      "\u001b[0;31mNameError\u001b[0m: name 'p' is not defined"
     ]
    }
   ],
   "source": [
    "rect = Rectangle(p)\n",
    "print(f\"rect.width: {rect.width}, rect.height: {rect.height}\")"
   ]
  },
  {
   "cell_type": "markdown",
   "metadata": {},
   "source": [
    "If we now wish to create a new `Rectangle` instance and find its center, we can:"
   ]
  },
  {
   "cell_type": "code",
   "execution_count": 31,
   "metadata": {
    "scrolled": true,
    "slideshow": {
     "slide_type": "subslide"
    }
   },
   "outputs": [
    {
     "name": "stdout",
     "output_type": "stream",
     "text": [
      "The center of the rectange is (12.0, 12.0)\n",
      "The center of the moved rectange is (0.0, 0.0)\n"
     ]
    }
   ],
   "source": [
    "corner = Point(10, 10)\n",
    "rect = Rectangle(corner, 4, 4)\n",
    "center = rect.find_center()\n",
    "print(f\"The center of the rectange is {(center.x, center.y)}\")"
   ]
  },
  {
   "cell_type": "markdown",
   "metadata": {},
   "source": [
    "Move it to origin:"
   ]
  },
  {
   "cell_type": "code",
   "execution_count": null,
   "metadata": {},
   "outputs": [],
   "source": [
    "rect.move_to_origin()\n",
    "new_center = rect.find_center()\n",
    "print(f\"The center of the moved rectange is {(new_center.x, new_center.y)}\")"
   ]
  },
  {
   "cell_type": "markdown",
   "metadata": {},
   "source": [
    "Note how the object modifies itself and acts upon itself using its methods. We're not modifying the internal parts of the instance ourselves, we let the methods do it for us."
   ]
  },
  {
   "cell_type": "markdown",
   "metadata": {},
   "source": [
    "#### The `__str__` Method"
   ]
  },
  {
   "cell_type": "markdown",
   "metadata": {
    "slideshow": {
     "slide_type": "subslide"
    }
   },
   "source": [
    "Another interesting _dunder_ method is the `__str__()` method, which defines what an instance of the class will show when invoked with the `print(class_instance)` command. For example:"
   ]
  },
  {
   "cell_type": "code",
   "execution_count": 43,
   "metadata": {
    "slideshow": {
     "slide_type": "subslide"
    }
   },
   "outputs": [],
   "source": [
    "class ShoppingList:\n",
    "    def __init__(self, vegetables=10, fruit=5, bread=1):\n",
    "        self.vegetables = vegetables\n",
    "        self.fruit = fruit\n",
    "        self.bread = bread\n",
    "    \n",
    "    def __str__(self):\n",
    "        n_items = self.vegetables + self.fruit + self.bread\n",
    "        return f\"\"\"\n",
    "        Shopping List:\n",
    "            Vegetabels: {self.vegetables}\n",
    "            Fruits: {self.fruit}\n",
    "            Bread: {self.bread}\n",
    "            Total items: {n_items}\n",
    "        \"\"\""
   ]
  },
  {
   "cell_type": "code",
   "execution_count": 38,
   "metadata": {},
   "outputs": [
    {
     "name": "stdout",
     "output_type": "stream",
     "text": [
      "\n",
      "        Shopping List:\n",
      "            Vegetabels: 10\n",
      "            Fruits: 5\n",
      "            Bread: 1\n",
      "            Total items: 16\n",
      "        \n"
     ]
    }
   ],
   "source": [
    "shopping_list = ShoppingList()\n",
    "print(shopping_list)"
   ]
  },
  {
   "cell_type": "markdown",
   "metadata": {},
   "source": [
    ":::{note}\n",
    "We can change the order of parameters when using keyword arguments, e.g.:\n",
    "\n",
    "```python\n",
    "shopping_list_2 = ShoppingList(fruit=5, bread=1, vegetables=3)\n",
    "```\n",
    ":::"
   ]
  },
  {
   "cell_type": "markdown",
   "metadata": {},
   "source": [
    "#### Exercise II: The `__str__()` method"
   ]
  },
  {
   "cell_type": "markdown",
   "metadata": {},
   "source": [
    "Implement a `__str__()` method for the `Point` class from earlier."
   ]
  },
  {
   "cell_type": "markdown",
   "metadata": {},
   "source": [
    ":::{admonition,dropdown} Solution\n",
    "```python\n",
    "class Point:\n",
    "    \"\"\"A 2D point.\"\"\"\n",
    "    \n",
    "    def __init__(self, x, y):\n",
    "        \"\"\"Initialize a new Point instance\"\"\"\n",
    "        self.x = x\n",
    "        self.y = y\n",
    "       \n",
    "    def __str__(self):\n",
    "        \"\"\"Return a string representation of this instance.\"\"\"\n",
    "        return f\"({self.x}, {self.y})\"\n",
    "\n",
    "    def transpose(self):\n",
    "        \"\"\"Trasnposes by flipping x and y\"\"\"\n",
    "        self.x, self.y = self.y, self.x\n",
    "```\n",
    ":::"
   ]
  },
  {
   "cell_type": "markdown",
   "metadata": {
    "slideshow": {
     "slide_type": "slide"
    }
   },
   "source": [
    "#### Operator Overloading"
   ]
  },
  {
   "cell_type": "markdown",
   "metadata": {
    "slideshow": {
     "slide_type": "subslide"
    }
   },
   "source": [
    "One of the most interesting properties of Python (although it's not unique to it) is [operator overloading](https://en.wikipedia.org/wiki/Operator_overloading). It means that we can force our self-declared types (i.e. classes) to behave in a certain way with the standard mathematical operations.\n",
    "\n",
    "We'll use the ShoppingList class as an example. Say we want to __add__ two different shopping lists. Naively, we might just try the following:"
   ]
  },
  {
   "cell_type": "code",
   "execution_count": 41,
   "metadata": {
    "slideshow": {
     "slide_type": "subslide"
    }
   },
   "outputs": [
    {
     "ename": "TypeError",
     "evalue": "unsupported operand type(s) for +: 'ShoppingList' and 'ShoppingList'",
     "output_type": "error",
     "traceback": [
      "\u001b[0;31m---------------------------------------------------------------------------\u001b[0m",
      "\u001b[0;31mTypeError\u001b[0m                                 Traceback (most recent call last)",
      "\u001b[0;32m<ipython-input-41-0334a09f9174>\u001b[0m in \u001b[0;36m<module>\u001b[0;34m\u001b[0m\n\u001b[1;32m      1\u001b[0m \u001b[0mshopping_list_a\u001b[0m \u001b[0;34m=\u001b[0m \u001b[0mShoppingList\u001b[0m\u001b[0;34m(\u001b[0m\u001b[0;34m)\u001b[0m\u001b[0;34m\u001b[0m\u001b[0;34m\u001b[0m\u001b[0m\n\u001b[1;32m      2\u001b[0m \u001b[0mshopping_list_b\u001b[0m \u001b[0;34m=\u001b[0m \u001b[0mShoppingList\u001b[0m\u001b[0;34m(\u001b[0m\u001b[0;34m)\u001b[0m\u001b[0;34m\u001b[0m\u001b[0;34m\u001b[0m\u001b[0m\n\u001b[0;32m----> 3\u001b[0;31m \u001b[0mprint\u001b[0m\u001b[0;34m(\u001b[0m\u001b[0mshopping_list_a\u001b[0m \u001b[0;34m+\u001b[0m \u001b[0mshopping_list_b\u001b[0m\u001b[0;34m)\u001b[0m\u001b[0;34m\u001b[0m\u001b[0;34m\u001b[0m\u001b[0m\n\u001b[0m",
      "\u001b[0;31mTypeError\u001b[0m: unsupported operand type(s) for +: 'ShoppingList' and 'ShoppingList'"
     ]
    }
   ],
   "source": [
    "shopping_list_a = ShoppingList()\n",
    "shopping_list_b = ShoppingList()\n",
    "print(shopping_list_a + shopping_list_b)"
   ]
  },
  {
   "cell_type": "markdown",
   "metadata": {
    "slideshow": {
     "slide_type": "subslide"
    }
   },
   "source": [
    "To us, this expression seems completely fine - adding two shopping lists should just concatenate the items one after the other. The fact that it's a very readable line of code makes it a _good_ line of code, since you have to remember that we write code for humans to read, not computers.\n",
    "\n",
    "Unfortunately, Python can't add two shopping lists because it was never taught how to do that. Luckily, we can override the behavior of the addition operator, by defining the `__add__()` method in the class definition:"
   ]
  },
  {
   "cell_type": "code",
   "execution_count": 48,
   "metadata": {
    "slideshow": {
     "slide_type": "subslide"
    }
   },
   "outputs": [],
   "source": [
    "class ShoppingList:\n",
    "    '''Represents a shopping list'''\n",
    "    \n",
    "    def __init__(self, vegetables=10, fruit=5, bread=1):\n",
    "        \"\"\"Initialize a ShoppingList instance.\n",
    "        \n",
    "        Parameters\n",
    "        ----------\n",
    "        vegetables : int\n",
    "            Number of vegetable items\n",
    "        fruit : int\n",
    "            Number of fruit items\n",
    "        bread : int\n",
    "            Number of bread items\n",
    "        \"\"\"\n",
    "        self.vegetables = vegetables\n",
    "        self.fruit = fruit\n",
    "        self.bread = bread\n",
    "    \n",
    "    def __str__(self):\n",
    "        \"\"\"Return a string representation of this instance.\"\"\"\n",
    "        n_items = self.vegetables + self.fruit + self.bread\n",
    "        return f\"\"\"\n",
    "        Shopping List:\n",
    "            Vegetabels: {self.vegetables}\n",
    "            Fruits: {self.fruit}\n",
    "            Bread: {self.bread}\n",
    "            Total items: {n_items}\n",
    "        \"\"\"\n",
    "    \n",
    "    # ----- New method below: ------\n",
    "    def __add__(self, other):\n",
    "        \"\"\"Add together two shopping lists.\n",
    "        \n",
    "        Notes\n",
    "        -----\n",
    "        This method returns a new shopping list, meaning it doesn't modify\n",
    "        any of the existing lists it was given.\n",
    "        \n",
    "        Parameters\n",
    "        ----------\n",
    "        other : ShoppingList\n",
    "            Another shopping list\n",
    "        \n",
    "        Returns\n",
    "        -------\n",
    "        ShoppingList\n",
    "            Combined shopping list\n",
    "        \"\"\"\n",
    "        new_list = ShoppingList(\n",
    "            vegetables=self.vegetables + other.vegetables,\n",
    "            fruit=self.fruit + other.fruit,\n",
    "            bread=self.bread + other.bread\n",
    "        )\n",
    "        return new_list"
   ]
  },
  {
   "cell_type": "markdown",
   "metadata": {},
   "source": [
    "Now we can safely add two `ShoppingList` instances together:"
   ]
  },
  {
   "cell_type": "code",
   "execution_count": 49,
   "metadata": {
    "scrolled": true,
    "slideshow": {
     "slide_type": "subslide"
    }
   },
   "outputs": [
    {
     "name": "stdout",
     "output_type": "stream",
     "text": [
      "\n",
      "        Shopping List:\n",
      "            Vegetabels: 20\n",
      "            Fruits: 10\n",
      "            Bread: 2\n",
      "            Total items: 32\n",
      "        \n"
     ]
    }
   ],
   "source": [
    "shopping_list_a = ShoppingList()\n",
    "shopping_list_b = ShoppingList()\n",
    "shopping_list_c = shopping_list_a + shopping_list_b\n",
    "print(shopping_list_c)"
   ]
  },
  {
   "cell_type": "markdown",
   "metadata": {},
   "source": [
    "Addition of something other than a `ShoppingList` instance will result in an `AttributeError`."
   ]
  },
  {
   "cell_type": "code",
   "execution_count": 51,
   "metadata": {
    "slideshow": {
     "slide_type": "subslide"
    }
   },
   "outputs": [
    {
     "ename": "AttributeError",
     "evalue": "'int' object has no attribute 'vegetables'",
     "output_type": "error",
     "traceback": [
      "\u001b[0;31m---------------------------------------------------------------------------\u001b[0m",
      "\u001b[0;31mAttributeError\u001b[0m                            Traceback (most recent call last)",
      "\u001b[0;32m<ipython-input-51-e48709e66585>\u001b[0m in \u001b[0;36m<module>\u001b[0;34m\u001b[0m\n\u001b[0;32m----> 1\u001b[0;31m \u001b[0mshopping_list_a\u001b[0m \u001b[0;34m+\u001b[0m \u001b[0;36m1\u001b[0m\u001b[0;34m\u001b[0m\u001b[0;34m\u001b[0m\u001b[0m\n\u001b[0m",
      "\u001b[0;32m<ipython-input-48-f48d1b2ecc36>\u001b[0m in \u001b[0;36m__add__\u001b[0;34m(self, other)\u001b[0m\n\u001b[1;32m     48\u001b[0m         \"\"\"\n\u001b[1;32m     49\u001b[0m         new_list = ShoppingList(\n\u001b[0;32m---> 50\u001b[0;31m             \u001b[0mvegetables\u001b[0m\u001b[0;34m=\u001b[0m\u001b[0mself\u001b[0m\u001b[0;34m.\u001b[0m\u001b[0mvegetables\u001b[0m \u001b[0;34m+\u001b[0m \u001b[0mother\u001b[0m\u001b[0;34m.\u001b[0m\u001b[0mvegetables\u001b[0m\u001b[0;34m,\u001b[0m\u001b[0;34m\u001b[0m\u001b[0;34m\u001b[0m\u001b[0m\n\u001b[0m\u001b[1;32m     51\u001b[0m             \u001b[0mfruit\u001b[0m\u001b[0;34m=\u001b[0m\u001b[0mself\u001b[0m\u001b[0;34m.\u001b[0m\u001b[0mfruit\u001b[0m \u001b[0;34m+\u001b[0m \u001b[0mother\u001b[0m\u001b[0;34m.\u001b[0m\u001b[0mfruit\u001b[0m\u001b[0;34m,\u001b[0m\u001b[0;34m\u001b[0m\u001b[0;34m\u001b[0m\u001b[0m\n\u001b[1;32m     52\u001b[0m             \u001b[0mbread\u001b[0m\u001b[0;34m=\u001b[0m\u001b[0mself\u001b[0m\u001b[0;34m.\u001b[0m\u001b[0mbread\u001b[0m \u001b[0;34m+\u001b[0m \u001b[0mother\u001b[0m\u001b[0;34m.\u001b[0m\u001b[0mbread\u001b[0m\u001b[0;34m\u001b[0m\u001b[0;34m\u001b[0m\u001b[0m\n",
      "\u001b[0;31mAttributeError\u001b[0m: 'int' object has no attribute 'vegetables'"
     ]
    }
   ],
   "source": [
    "shopping_list_a + 1"
   ]
  },
  {
   "cell_type": "markdown",
   "metadata": {},
   "source": [
    "#### Exercise III: \"Dunder\" Methods"
   ]
  },
  {
   "cell_type": "markdown",
   "metadata": {},
   "source": [
    "Modify the `__add__()` method so that if *other* is an integer, it will simply add that number to all items in the shopping list."
   ]
  },
  {
   "cell_type": "markdown",
   "metadata": {},
   "source": [
    ":::{admonition,dropdown} Solution\n",
    "```python\n",
    "class ShoppingList:\n",
    "    \n",
    "    ...\n",
    "    \n",
    "    def __add__(self, other):\n",
    "        \"\"\"Add together two shopping lists.\n",
    "        \n",
    "        Notes\n",
    "        -----\n",
    "        This method returns a new shopping list, meaning it doesn't modify\n",
    "        any of the existing lists it was given.\n",
    "        \n",
    "        Parameters\n",
    "        ----------\n",
    "        other : ShoppingList\n",
    "            Another shopping list\n",
    "        \n",
    "        Returns\n",
    "        -------\n",
    "        ShoppingList\n",
    "            Combined shopping list\n",
    "        \"\"\"\n",
    "        if isinstance(other, ShoppingList):\n",
    "            return ShoppingList(\n",
    "                vegetables=self.vegetables + other.vegetables,\n",
    "                fruit=self.fruit + other.fruit,\n",
    "                bread=self.bread + other.bread\n",
    "            )\n",
    "        elif isinstance(other, int):\n",
    "            return ShoppingList(\n",
    "                vegetables=self.vegetables + other,\n",
    "                fruit=self.fruit + other,\n",
    "                bread=self.bread + other                \n",
    "            )\n",
    "        else:\n",
    "            raise TypeError(\n",
    "                f\"other must by either a ShoppingList instance or an integer, got: {type(other)}\"\n",
    "            )\n",
    "```\n",
    ":::"
   ]
  },
  {
   "cell_type": "markdown",
   "metadata": {},
   "source": [
    ":::{note}\n",
    "To learn more about other Python operators, see [this overview](https://www.python-course.eu/python3_magic_methods.php).\n",
    ":::"
   ]
  },
  {
   "cell_type": "markdown",
   "metadata": {
    "slideshow": {
     "slide_type": "subslide"
    }
   },
   "source": [
    "### Summary\n",
    "\n",
    "OOP is the most important programming paradigm for you to master on your Python journey. Some problems fit this paradigm hand in glove, however, it's not the \"ultimate\" answer to any design difficulty you have. Some problems _can_ be solved by using intricate objects and multiple inheritance, but in reality they're much simpler when solved using a procedural design. Remember to write code that humans, and especially your future self, can read and understand.\n",
    "\n",
    "With that being said, throughout this course I prefer you write too many objects over writing too few. Whether you'll be writing new objects every day or not, you will certainly be using them any time you write Python code, and creating classes will nurture your confidence when doing so."
   ]
  },
  {
   "cell_type": "markdown",
   "metadata": {},
   "source": [
    "#### Exercise IV: The `Vector` Class"
   ]
  },
  {
   "cell_type": "markdown",
   "metadata": {
    "slideshow": {
     "slide_type": "subslide"
    }
   },
   "source": [
    "1. Create a `Vector` class that simulates a _1D_ vector array. Assume the inputs to the class are valid. The `Vector` instance should be initialized with at least two attributes.\n",
    "2. Override some dunder method(s) so that you're able to add either an integer or a different vector to a vector.\n",
    "3. Override some dunder method(s) so that you're able to check which of the two vectors is bigger, element-wise. The output is another vector with the corresponding `True` and `False` values."
   ]
  },
  {
   "cell_type": "markdown",
   "metadata": {
    "slideshow": {
     "slide_type": "subslide"
    }
   },
   "source": [
    ":::{admonition,dropdown} Solution\n",
    "```python\n",
    "class Vector:\n",
    "    \"\"\"Models a 1D vector array, assuming the inputs are valid.\n",
    "    \n",
    "    Notes\n",
    "    -------\n",
    "    Integers and other vectors can be added. Element-wise comparison with other vectors\n",
    "    is also supported.\n",
    "    \"\"\"\n",
    "    \n",
    "    def __init__(self, data):\n",
    "        \"\"\"\n",
    "        Initialize a new `Vector` instance.\n",
    "        \n",
    "        Attributes\n",
    "        ----------\n",
    "        data : list-like\n",
    "            The actual data in a list\n",
    "        length : int\n",
    "            Number of elements\n",
    "        \"\"\"        \n",
    "        self.data = list(data)\n",
    "        self.length = len(self.data)\n",
    "        \n",
    "    def __len__(self):\n",
    "        \"\"\"Allows us to call len() on the vector.\"\"\"\n",
    "        return self.length\n",
    "    \n",
    "    def __str__(self):\n",
    "        \"\"\"Returns a string representation of the instance.\"\"\"\n",
    "        return f\"{self.data} with {self.length} elements\"\n",
    "    \n",
    "    def __add__(self, other):\n",
    "        \"\"\"Left-add a Vector to an integer or another vector. \n",
    "        \n",
    "        Raises\n",
    "        ------\n",
    "        AssertionError\n",
    "            If length of the supplied vectors doesn't match\n",
    "        TypeError\n",
    "            If other isn't a vector or an integer\n",
    "        \"\"\"\n",
    "        if isinstance(other, int):\n",
    "            self.data = [datum + other for datum in self.data]\n",
    "            return self\n",
    "        elif isinstance(other, Vector):\n",
    "            assert len(self) == len(other)\n",
    "            new_vec = [elem0 + elem1 for elem0, elem1 in zip(self.data, other.data)]\n",
    "            return Vector(new_vec)\n",
    "        else:\n",
    "            raise TypeError(f\"Other object was {type(other)}, expected int or Vector.\")\n",
    "    \n",
    "    def __gt__(self, other):\n",
    "        \"\"\"Left > between two vectors.\n",
    "        \n",
    "        Raises\n",
    "        ------\n",
    "        AssertionError\n",
    "            If other has a different length\n",
    "        TypeError\n",
    "            If other isn't a vector\n",
    "        \"\"\"\n",
    "        if not isinstance(other, Vector):\n",
    "            raise TypeError(f\"Other object was {type(other)}, expected Vector.\")\n",
    "        assert len(self) == len(other)\n",
    "        ans = [\n",
    "            elem0 > elem1 for elem0, elem1 in zip(self.data, other.data)\n",
    "        ]\n",
    "        # Same as:\n",
    "        # ans = []\n",
    "        # for elem0, elem1 in zip(self.data, other.data):\n",
    "        #     ans.append(elem0 > elem1)\n",
    "        # but better :)\n",
    "        return Vector(ans)\n",
    "```\n",
    ":::"
   ]
  },
  {
   "cell_type": "markdown",
   "metadata": {
    "slideshow": {
     "slide_type": "subslide"
    }
   },
   "source": [
    "#### Exercise V: The `Path` Class"
   ]
  },
  {
   "cell_type": "markdown",
   "metadata": {
    "slideshow": {
     "slide_type": "subslide"
    }
   },
   "source": [
    "Create a `Path` class, representing a file or directory in the filesystem. The class should have at least one attribute named `location`, containing the full \"route\" to that item, and three methods, not including the `__init__()` method:\n",
    "- `get_parent()` - returns the path of the parent directory.\n",
    "- `get_size()` - returns the size in KB of the of the file or directory.\n",
    "- `exists()` - checks whether the path indeed exists in the filesystem.\n",
    "\n",
    "In addition, overload the true division operator (`/`, triggering the dunder method `__truediv__()`) to concatenate `Path` instances with some string, e.g.:\n",
    "\n",
    "```python\n",
    ">> Path(\"/home\") / \"usr\"\n",
    "Path(\"/home/usr\")\n",
    "```\n",
    "\n",
    ":::{hint}\n",
    "Use the `os.path` module to inspect file-system objects.\n",
    ":::"
   ]
  },
  {
   "cell_type": "markdown",
   "metadata": {
    "slideshow": {
     "slide_type": "subslide"
    }
   },
   "source": [
    ":::{admonition,dropdown} Solution\n",
    "```python\n",
    "import os\n",
    "\n",
    "\n",
    "class Path:\n",
    "    \"\"\"Representation of a file-system node (file or directory).\"\"\"\n",
    "    \n",
    "    def __init__(self, location=\"/\"):\n",
    "        \"\"\"Initialize a `Path` instance.\n",
    "        \n",
    "        Attributes\n",
    "        ----------\n",
    "        location : str\n",
    "            Route to file-system node\n",
    "        \"\"\"\n",
    "        self.location = location\n",
    "    \n",
    "    def get_parent(self):\n",
    "        \"\"\"Returns the path of the parent directory.\"\"\"\n",
    "        return os.path.dirname(self.location)\n",
    "            \n",
    "    def get_size(self):\n",
    "        \"\"\"Returns the size in KB of the file or directory.\"\"\"\n",
    "        return os.path.getsize(self.location)\n",
    "    \n",
    "    def check_existence(self):\n",
    "        \"\"\" Changes current path to new_path \"\"\"\n",
    "        return os.path.exists(self.location)\n",
    "    \n",
    "    def __truediv__(self, other):\n",
    "        \"\"\" \n",
    "        Create new `Path` instance using the `/` sign.\n",
    "        \"\"\"\n",
    "        if isinstance(other, str):\n",
    "            has_sep = self.location.endswith(os.sep) or other.startswith(os.sep)\n",
    "            if not has_sep:\n",
    "                other = os.sep + other\n",
    "            return Path(self.location + other)\n",
    "        else:\n",
    "            raise TypeError(f\"Expected str, got: {type(other)}\")\n",
    "```\n",
    ":::"
   ]
  },
  {
   "cell_type": "markdown",
   "metadata": {},
   "source": [
    ":::{note}\n",
    "Fortunately, Python already has an awesome implementation of a `Path` class included in its standard library. For more information, see the [`pathlib` module's documentation](https://docs.python.org/3/library/pathlib.html).\n",
    ":::"
   ]
  }
 ],
 "metadata": {
  "anaconda-cloud": {},
  "celltoolbar": "Slideshow",
  "kernelspec": {
   "display_name": "Python 3",
   "language": "python",
   "name": "python3"
  },
  "language_info": {
   "codemirror_mode": {
    "name": "ipython",
    "version": 3
   },
   "file_extension": ".py",
   "mimetype": "text/x-python",
   "name": "python",
   "nbconvert_exporter": "python",
   "pygments_lexer": "ipython3",
   "version": "3.8.0"
  }
 },
 "nbformat": 4,
 "nbformat_minor": 2
}