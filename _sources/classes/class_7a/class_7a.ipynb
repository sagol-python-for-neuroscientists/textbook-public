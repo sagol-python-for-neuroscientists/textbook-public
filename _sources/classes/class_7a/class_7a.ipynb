{
 "cells": [
  {
   "cell_type": "markdown",
   "metadata": {},
   "source": [
    "# Class 7: More `pandas`, Visualizations, `xarray` and Modeling"
   ]
  },
  {
   "cell_type": "markdown",
   "metadata": {},
   "source": [
    "## More pandas!"
   ]
  },
  {
   "cell_type": "markdown",
   "metadata": {},
   "source": [
    "### Working with String DataFrames"
   ]
  },
  {
   "cell_type": "markdown",
   "metadata": {},
   "source": [
    "Pandas' `Series` instances with a *dtype* of `object` or `string` expose a `str` attribute that enables vectorized string operations. These can come in tremendously handy, particularly when cleaning the data and performing aggregations on manually submitted fields."
   ]
  },
  {
   "cell_type": "markdown",
   "metadata": {},
   "source": [
    "```{margin}\n",
    "For an in depth introduction to working with text data in `pandas`, see [the relevant section in the documentation site](https://pandas.pydata.org/pandas-docs/stable/user_guide/text.html).\n",
    "```"
   ]
  },
  {
   "cell_type": "markdown",
   "metadata": {},
   "source": [
    "Let's imagine having the misfortune of reading some CSV data and finding the following headers:"
   ]
  },
  {
   "cell_type": "code",
   "execution_count": 2,
   "metadata": {},
   "outputs": [
    {
     "data": {
      "text/plain": [
       "0                       Id___name\n",
       "1                             AGE\n",
       "2                        DomHand \n",
       "3                            <NA>\n",
       "4                   qid    score1\n",
       "5                          score2\n",
       "6                               3\n",
       "7            COLOR_ SHAPe   _size\n",
       "8    origin_residence immigration\n",
       "Name: Messy Strings, dtype: string"
      ]
     },
     "execution_count": 2,
     "metadata": {},
     "output_type": "execute_result"
    }
   ],
   "source": [
    "import pandas as pd\n",
    "import numpy as np\n",
    "import matplotlib.pyplot as plt\n",
    "\n",
    "messy_strings = [\n",
    "    'Id___name', 'AGE', ' DomHand ', np.nan, 'qid    score1', 'score2', 3,\n",
    "    ' COLOR_ SHAPe   _size', 'origin_residence immigration'\n",
    "]\n",
    "s = pd.Series(messy_strings, dtype=\"string\", name=\"Messy Strings\")\n",
    "s"
   ]
  },
  {
   "cell_type": "markdown",
   "metadata": {},
   "source": [
    "To try and parse something more reasonable, we might first want to remove all unnecessary whitespace and underscores. One way to achieve that would be:"
   ]
  },
  {
   "cell_type": "code",
   "execution_count": 3,
   "metadata": {},
   "outputs": [
    {
     "data": {
      "text/plain": [
       "0                         id name\n",
       "1                             age\n",
       "2                         domhand\n",
       "3                            <NA>\n",
       "4                      qid score1\n",
       "5                          score2\n",
       "6                               3\n",
       "7                color shape size\n",
       "8    origin residence immigration\n",
       "Name: Messy Strings, dtype: string"
      ]
     },
     "execution_count": 3,
     "metadata": {},
     "output_type": "execute_result"
    }
   ],
   "source": [
    "s_1 = s.str.strip().str.replace(\"[_\\s]+\", \" \", regex=True).str.lower()\n",
    "s_1"
   ]
  },
  {
   "cell_type": "markdown",
   "metadata": {},
   "source": [
    "Let's break this down:\n",
    "* `strip()` removed all whitespace from the beginning and end of the string.\n",
    "* We used a [regular expression](https://en.wikipedia.org/wiki/Regular_expression) to replace all one or more (`+`) occurrences of whitespace (`\\s`) and underscores with single spaces.\n",
    "* We converted all characters to lowercase."
   ]
  },
  {
   "cell_type": "markdown",
   "metadata": {},
   "source": [
    "Next, we'll `split()` strings separated by whitespace and extract an array of the values:"
   ]
  },
  {
   "cell_type": "code",
   "execution_count": 4,
   "metadata": {},
   "outputs": [
    {
     "name": "stdout",
     "output_type": "stream",
     "text": [
      "DataFrame:\n",
      "         0          1            2\n",
      "0       id       name         <NA>\n",
      "1      age       <NA>         <NA>\n",
      "2  domhand       <NA>         <NA>\n",
      "3     <NA>       <NA>         <NA>\n",
      "4      qid     score1         <NA>\n",
      "5   score2       <NA>         <NA>\n",
      "6        3       <NA>         <NA>\n",
      "7    color      shape         size\n",
      "8   origin  residence  immigration\n",
      "\n",
      "Array:\n",
      "['id' 'name' <NA> 'age' <NA> <NA> 'domhand' <NA> <NA> <NA> <NA> <NA> 'qid'\n",
      " 'score1' <NA> 'score2' <NA> <NA> '3' <NA> <NA> 'color' 'shape' 'size'\n",
      " 'origin' 'residence' 'immigration']\n"
     ]
    }
   ],
   "source": [
    "s_2 = s_1.str.split(expand=True)\n",
    "print(f\"DataFrame:\\n{s_2}\")\n",
    "\n",
    "s_3 = s_2.to_numpy().flatten()\n",
    "print(f\"\\nArray:\\n{s_3}\")"
   ]
  },
  {
   "cell_type": "markdown",
   "metadata": {},
   "source": [
    "Finally, we can get rid of the \\<NA\\> values:"
   ]
  },
  {
   "cell_type": "code",
   "execution_count": 5,
   "metadata": {},
   "outputs": [
    {
     "data": {
      "text/plain": [
       "array(['id', 'name', 'age', 'domhand', 'qid', 'score1', 'score2', '3',\n",
       "       'color', 'shape', 'size', 'origin', 'residence', 'immigration'],\n",
       "      dtype=object)"
      ]
     },
     "execution_count": 5,
     "metadata": {},
     "output_type": "execute_result"
    }
   ],
   "source": [
    "column_names = s_3[~pd.isnull(s_3)]\n",
    "column_names"
   ]
  },
  {
   "cell_type": "markdown",
   "metadata": {},
   "source": [
    "`````{admonition} DataFrame String Operations Exercise\n",
    "* Generate a 1000x1 shaped`pd.DataFrame` filled with 3-letter strings. Use the `string` module's `ascii_lowercase` attribute and numpy's `random` module.\n",
    "\n",
    "````{dropdown} Solution\n",
    "```python\n",
    "import string\n",
    "import numpy as np\n",
    "import pandas as pd\n",
    "\n",
    "letters = list(string.ascii_lowercase)\n",
    "n_strings = 1000\n",
    "string_length = 3 \n",
    "string_generator = (\"\".join(np.random.choice(letters, string_length))\n",
    "                    for _ in range(n_strings))\n",
    "df = pd.DataFrame(string_generator, columns=[\"Letters\"])\n",
    "```\n",
    "````\n",
    "\n",
    "* Add a column indicating if the string in this row has a `z` in its 2nd character.\n",
    "\n",
    "````{dropdown} Solution\n",
    "```python\n",
    "target_char = \"z\"\n",
    "target_index = 1\n",
    "df[\"z!\"] = df[\"Letters\"].str.find(target_char) == target_index\n",
    "```\n",
    "````\n",
    "\n",
    "* Add a third column containing the capitalized and reversed versions of the original strings.\n",
    "\n",
    "````{dropdown} Solution\n",
    "```python\n",
    "df[\"REVERSED\"] = df[\"Letters\"].str.upper().apply(lambda s: s[::-1])\n",
    "```\n",
    "````\n",
    "`````"
   ]
  },
  {
   "cell_type": "markdown",
   "metadata": {},
   "source": [
    "\n",
    "### Concatenation and Merging"
   ]
  },
  {
   "cell_type": "markdown",
   "metadata": {},
   "source": [
    "Similarly to NumPy arrays, `Series` and `DataFrame` objects can be concatenated as well. However, having indices can often make this operation somewhat less trivial. "
   ]
  },
  {
   "cell_type": "markdown",
   "metadata": {},
   "source": [
    "```{margin}\n",
    "For an in depth introduction to merging, joining, concatentation, and comparison in `pandas`, see [the relevant section in the documentation site](https://pandas.pydata.org/pandas-docs/stable/merging.html).\n",
    "```"
   ]
  },
  {
   "cell_type": "code",
   "execution_count": 6,
   "metadata": {},
   "outputs": [
    {
     "data": {
      "text/plain": [
       "1    a\n",
       "2    b\n",
       "3    c\n",
       "4    d\n",
       "5    e\n",
       "6    f\n",
       "dtype: object"
      ]
     },
     "execution_count": 6,
     "metadata": {},
     "output_type": "execute_result"
    }
   ],
   "source": [
    "ser1 = pd.Series(['a', 'b', 'c'], index=[1, 2, 3])\n",
    "ser2 = pd.Series(['d', 'e', 'f'], index=[4, 5, 6])\n",
    "pd.concat([ser1, ser2])  # row-wise (axis=0) by default"
   ]
  },
  {
   "cell_type": "markdown",
   "metadata": {},
   "source": [
    "Let's do the same with dataframes:"
   ]
  },
  {
   "cell_type": "code",
   "execution_count": 7,
   "metadata": {},
   "outputs": [
    {
     "data": {
      "application/vnd.microsoft.datawrangler.viewer.v0+json": {
       "columns": [
        {
         "name": "index",
         "rawType": "int64",
         "type": "integer"
        },
        {
         "name": "let",
         "rawType": "object",
         "type": "string"
        },
        {
         "name": "LET",
         "rawType": "object",
         "type": "string"
        }
       ],
       "conversionMethod": "pd.DataFrame",
       "ref": "7058300f-943b-4022-9f50-7eb6bff10c30",
       "rows": [
        [
         "0",
         "a",
         "A"
        ],
        [
         "1",
         "b",
         "B"
        ],
        [
         "2",
         "c",
         "C"
        ],
        [
         "3",
         "d",
         "D"
        ]
       ],
       "shape": {
        "columns": 2,
        "rows": 4
       }
      },
      "text/html": [
       "<div>\n",
       "<style scoped>\n",
       "    .dataframe tbody tr th:only-of-type {\n",
       "        vertical-align: middle;\n",
       "    }\n",
       "\n",
       "    .dataframe tbody tr th {\n",
       "        vertical-align: top;\n",
       "    }\n",
       "\n",
       "    .dataframe thead th {\n",
       "        text-align: right;\n",
       "    }\n",
       "</style>\n",
       "<table border=\"1\" class=\"dataframe\">\n",
       "  <thead>\n",
       "    <tr style=\"text-align: right;\">\n",
       "      <th></th>\n",
       "      <th>let</th>\n",
       "      <th>LET</th>\n",
       "    </tr>\n",
       "  </thead>\n",
       "  <tbody>\n",
       "    <tr>\n",
       "      <th>0</th>\n",
       "      <td>a</td>\n",
       "      <td>A</td>\n",
       "    </tr>\n",
       "    <tr>\n",
       "      <th>1</th>\n",
       "      <td>b</td>\n",
       "      <td>B</td>\n",
       "    </tr>\n",
       "    <tr>\n",
       "      <th>2</th>\n",
       "      <td>c</td>\n",
       "      <td>C</td>\n",
       "    </tr>\n",
       "    <tr>\n",
       "      <th>3</th>\n",
       "      <td>d</td>\n",
       "      <td>D</td>\n",
       "    </tr>\n",
       "  </tbody>\n",
       "</table>\n",
       "</div>"
      ],
      "text/plain": [
       "  let LET\n",
       "0   a   A\n",
       "1   b   B\n",
       "2   c   C\n",
       "3   d   D"
      ]
     },
     "execution_count": 7,
     "metadata": {},
     "output_type": "execute_result"
    }
   ],
   "source": [
    "df1 = pd.DataFrame([['a', 'A'], ['b', 'B']], columns=['let', 'LET'], index=[0, 1])\n",
    "df2 = pd.DataFrame([['c', 'C'], ['d', 'D']], columns=['let', 'LET'], index=[2, 3])\n",
    "pd.concat([df1, df2])  # again, along the first axis"
   ]
  },
  {
   "cell_type": "markdown",
   "metadata": {},
   "source": [
    "This time, let's complicate things a bit, and introduce different column names:"
   ]
  },
  {
   "cell_type": "code",
   "execution_count": 8,
   "metadata": {},
   "outputs": [
    {
     "data": {
      "application/vnd.microsoft.datawrangler.viewer.v0+json": {
       "columns": [
        {
         "name": "index",
         "rawType": "int64",
         "type": "integer"
        },
        {
         "name": "let1",
         "rawType": "object",
         "type": "unknown"
        },
        {
         "name": "LET1",
         "rawType": "object",
         "type": "unknown"
        },
        {
         "name": "let2",
         "rawType": "object",
         "type": "unknown"
        },
        {
         "name": "LET2",
         "rawType": "object",
         "type": "unknown"
        }
       ],
       "conversionMethod": "pd.DataFrame",
       "ref": "28af876b-1e0b-466d-9a2a-09f581c95439",
       "rows": [
        [
         "0",
         "a",
         "A",
         null,
         null
        ],
        [
         "1",
         "b",
         "B",
         null,
         null
        ],
        [
         "2",
         null,
         null,
         "c",
         "C"
        ],
        [
         "3",
         null,
         null,
         "d",
         "D"
        ]
       ],
       "shape": {
        "columns": 4,
        "rows": 4
       }
      },
      "text/html": [
       "<div>\n",
       "<style scoped>\n",
       "    .dataframe tbody tr th:only-of-type {\n",
       "        vertical-align: middle;\n",
       "    }\n",
       "\n",
       "    .dataframe tbody tr th {\n",
       "        vertical-align: top;\n",
       "    }\n",
       "\n",
       "    .dataframe thead th {\n",
       "        text-align: right;\n",
       "    }\n",
       "</style>\n",
       "<table border=\"1\" class=\"dataframe\">\n",
       "  <thead>\n",
       "    <tr style=\"text-align: right;\">\n",
       "      <th></th>\n",
       "      <th>let1</th>\n",
       "      <th>LET1</th>\n",
       "      <th>let2</th>\n",
       "      <th>LET2</th>\n",
       "    </tr>\n",
       "  </thead>\n",
       "  <tbody>\n",
       "    <tr>\n",
       "      <th>0</th>\n",
       "      <td>a</td>\n",
       "      <td>A</td>\n",
       "      <td>NaN</td>\n",
       "      <td>NaN</td>\n",
       "    </tr>\n",
       "    <tr>\n",
       "      <th>1</th>\n",
       "      <td>b</td>\n",
       "      <td>B</td>\n",
       "      <td>NaN</td>\n",
       "      <td>NaN</td>\n",
       "    </tr>\n",
       "    <tr>\n",
       "      <th>2</th>\n",
       "      <td>NaN</td>\n",
       "      <td>NaN</td>\n",
       "      <td>c</td>\n",
       "      <td>C</td>\n",
       "    </tr>\n",
       "    <tr>\n",
       "      <th>3</th>\n",
       "      <td>NaN</td>\n",
       "      <td>NaN</td>\n",
       "      <td>d</td>\n",
       "      <td>D</td>\n",
       "    </tr>\n",
       "  </tbody>\n",
       "</table>\n",
       "</div>"
      ],
      "text/plain": [
       "  let1 LET1 let2 LET2\n",
       "0    a    A  NaN  NaN\n",
       "1    b    B  NaN  NaN\n",
       "2  NaN  NaN    c    C\n",
       "3  NaN  NaN    d    D"
      ]
     },
     "execution_count": 8,
     "metadata": {},
     "output_type": "execute_result"
    }
   ],
   "source": [
    "df1 = pd.DataFrame([['a', 'A'], ['b', 'B']], columns=['let1', 'LET1'], index=[0, 1])\n",
    "df2 = pd.DataFrame([['c', 'C'], ['d', 'D']], columns=['let2', 'LET2'], index=[2, 3])\n",
    "pd.concat([df1, df2])  # pandas can't make the column index compatible, so it resorts to columnar concat"
   ]
  },
  {
   "cell_type": "markdown",
   "metadata": {},
   "source": [
    "The same result would be achieved by:"
   ]
  },
  {
   "cell_type": "code",
   "execution_count": 9,
   "metadata": {},
   "outputs": [
    {
     "data": {
      "application/vnd.microsoft.datawrangler.viewer.v0+json": {
       "columns": [
        {
         "name": "index",
         "rawType": "int64",
         "type": "integer"
        },
        {
         "name": "let1",
         "rawType": "object",
         "type": "unknown"
        },
        {
         "name": "LET1",
         "rawType": "object",
         "type": "unknown"
        },
        {
         "name": "let2",
         "rawType": "object",
         "type": "unknown"
        },
        {
         "name": "LET2",
         "rawType": "object",
         "type": "unknown"
        }
       ],
       "conversionMethod": "pd.DataFrame",
       "ref": "57ce77e6-5612-4760-8ee9-f482b663e642",
       "rows": [
        [
         "0",
         "a",
         "A",
         null,
         null
        ],
        [
         "1",
         "b",
         "B",
         null,
         null
        ],
        [
         "2",
         null,
         null,
         "c",
         "C"
        ],
        [
         "3",
         null,
         null,
         "d",
         "D"
        ]
       ],
       "shape": {
        "columns": 4,
        "rows": 4
       }
      },
      "text/html": [
       "<div>\n",
       "<style scoped>\n",
       "    .dataframe tbody tr th:only-of-type {\n",
       "        vertical-align: middle;\n",
       "    }\n",
       "\n",
       "    .dataframe tbody tr th {\n",
       "        vertical-align: top;\n",
       "    }\n",
       "\n",
       "    .dataframe thead th {\n",
       "        text-align: right;\n",
       "    }\n",
       "</style>\n",
       "<table border=\"1\" class=\"dataframe\">\n",
       "  <thead>\n",
       "    <tr style=\"text-align: right;\">\n",
       "      <th></th>\n",
       "      <th>let1</th>\n",
       "      <th>LET1</th>\n",
       "      <th>let2</th>\n",
       "      <th>LET2</th>\n",
       "    </tr>\n",
       "  </thead>\n",
       "  <tbody>\n",
       "    <tr>\n",
       "      <th>0</th>\n",
       "      <td>a</td>\n",
       "      <td>A</td>\n",
       "      <td>NaN</td>\n",
       "      <td>NaN</td>\n",
       "    </tr>\n",
       "    <tr>\n",
       "      <th>1</th>\n",
       "      <td>b</td>\n",
       "      <td>B</td>\n",
       "      <td>NaN</td>\n",
       "      <td>NaN</td>\n",
       "    </tr>\n",
       "    <tr>\n",
       "      <th>2</th>\n",
       "      <td>NaN</td>\n",
       "      <td>NaN</td>\n",
       "      <td>c</td>\n",
       "      <td>C</td>\n",
       "    </tr>\n",
       "    <tr>\n",
       "      <th>3</th>\n",
       "      <td>NaN</td>\n",
       "      <td>NaN</td>\n",
       "      <td>d</td>\n",
       "      <td>D</td>\n",
       "    </tr>\n",
       "  </tbody>\n",
       "</table>\n",
       "</div>"
      ],
      "text/plain": [
       "  let1 LET1 let2 LET2\n",
       "0    a    A  NaN  NaN\n",
       "1    b    B  NaN  NaN\n",
       "2  NaN  NaN    c    C\n",
       "3  NaN  NaN    d    D"
      ]
     },
     "execution_count": 9,
     "metadata": {},
     "output_type": "execute_result"
    }
   ],
   "source": [
    "pd.concat([df1, df2], axis=1)"
   ]
  },
  {
   "cell_type": "markdown",
   "metadata": {},
   "source": [
    "But what happens if introduce overlapping indices?"
   ]
  },
  {
   "cell_type": "code",
   "execution_count": 10,
   "metadata": {},
   "outputs": [
    {
     "data": {
      "application/vnd.microsoft.datawrangler.viewer.v0+json": {
       "columns": [
        {
         "name": "index",
         "rawType": "int64",
         "type": "integer"
        },
        {
         "name": "let",
         "rawType": "object",
         "type": "string"
        },
        {
         "name": "LET",
         "rawType": "object",
         "type": "string"
        }
       ],
       "conversionMethod": "pd.DataFrame",
       "ref": "ad5d6e7a-ac13-414d-bfb6-3a51781509be",
       "rows": [
        [
         "0",
         "a",
         "A"
        ],
        [
         "1",
         "b",
         "B"
        ],
        [
         "0",
         "c",
         "C"
        ],
        [
         "2",
         "d",
         "D"
        ]
       ],
       "shape": {
        "columns": 2,
        "rows": 4
       }
      },
      "text/html": [
       "<div>\n",
       "<style scoped>\n",
       "    .dataframe tbody tr th:only-of-type {\n",
       "        vertical-align: middle;\n",
       "    }\n",
       "\n",
       "    .dataframe tbody tr th {\n",
       "        vertical-align: top;\n",
       "    }\n",
       "\n",
       "    .dataframe thead th {\n",
       "        text-align: right;\n",
       "    }\n",
       "</style>\n",
       "<table border=\"1\" class=\"dataframe\">\n",
       "  <thead>\n",
       "    <tr style=\"text-align: right;\">\n",
       "      <th></th>\n",
       "      <th>let</th>\n",
       "      <th>LET</th>\n",
       "    </tr>\n",
       "  </thead>\n",
       "  <tbody>\n",
       "    <tr>\n",
       "      <th>0</th>\n",
       "      <td>a</td>\n",
       "      <td>A</td>\n",
       "    </tr>\n",
       "    <tr>\n",
       "      <th>1</th>\n",
       "      <td>b</td>\n",
       "      <td>B</td>\n",
       "    </tr>\n",
       "    <tr>\n",
       "      <th>0</th>\n",
       "      <td>c</td>\n",
       "      <td>C</td>\n",
       "    </tr>\n",
       "    <tr>\n",
       "      <th>2</th>\n",
       "      <td>d</td>\n",
       "      <td>D</td>\n",
       "    </tr>\n",
       "  </tbody>\n",
       "</table>\n",
       "</div>"
      ],
      "text/plain": [
       "  let LET\n",
       "0   a   A\n",
       "1   b   B\n",
       "0   c   C\n",
       "2   d   D"
      ]
     },
     "execution_count": 10,
     "metadata": {},
     "output_type": "execute_result"
    }
   ],
   "source": [
    "df1 = pd.DataFrame([['a', 'A'], ['b', 'B']], columns=['let', 'LET'], index=[0, 1])\n",
    "df2 = pd.DataFrame([['c', 'C'], ['d', 'D']], columns=['let', 'LET'], index=[0, 2])\n",
    "pd.concat([df1, df2])"
   ]
  },
  {
   "cell_type": "markdown",
   "metadata": {},
   "source": [
    "Nothing, really! While not recommended in practice, pandas won't judge you. "
   ]
  },
  {
   "cell_type": "markdown",
   "metadata": {},
   "source": [
    "If, however, we wish to keep the integrity of the indices, we can use the `verify_integrity` keyword:"
   ]
  },
  {
   "cell_type": "code",
   "execution_count": 11,
   "metadata": {},
   "outputs": [
    {
     "ename": "ValueError",
     "evalue": "Indexes have overlapping values: Index([0], dtype='int64')",
     "output_type": "error",
     "traceback": [
      "\u001b[31m---------------------------------------------------------------------------\u001b[39m",
      "\u001b[31mValueError\u001b[39m                                Traceback (most recent call last)",
      "\u001b[36mCell\u001b[39m\u001b[36m \u001b[39m\u001b[32mIn[11]\u001b[39m\u001b[32m, line 3\u001b[39m\n\u001b[32m      1\u001b[39m df1 = pd.DataFrame([[\u001b[33m'\u001b[39m\u001b[33ma\u001b[39m\u001b[33m'\u001b[39m, \u001b[33m'\u001b[39m\u001b[33mA\u001b[39m\u001b[33m'\u001b[39m], [\u001b[33m'\u001b[39m\u001b[33mb\u001b[39m\u001b[33m'\u001b[39m, \u001b[33m'\u001b[39m\u001b[33mB\u001b[39m\u001b[33m'\u001b[39m]], columns=[\u001b[33m'\u001b[39m\u001b[33mlet\u001b[39m\u001b[33m'\u001b[39m, \u001b[33m'\u001b[39m\u001b[33mLET\u001b[39m\u001b[33m'\u001b[39m], index=[\u001b[32m0\u001b[39m, \u001b[32m1\u001b[39m])\n\u001b[32m      2\u001b[39m df2 = pd.DataFrame([[\u001b[33m'\u001b[39m\u001b[33mc\u001b[39m\u001b[33m'\u001b[39m, \u001b[33m'\u001b[39m\u001b[33mC\u001b[39m\u001b[33m'\u001b[39m], [\u001b[33m'\u001b[39m\u001b[33md\u001b[39m\u001b[33m'\u001b[39m, \u001b[33m'\u001b[39m\u001b[33mD\u001b[39m\u001b[33m'\u001b[39m]], columns=[\u001b[33m'\u001b[39m\u001b[33mlet\u001b[39m\u001b[33m'\u001b[39m, \u001b[33m'\u001b[39m\u001b[33mLET\u001b[39m\u001b[33m'\u001b[39m], index=[\u001b[32m0\u001b[39m, \u001b[32m2\u001b[39m])\n\u001b[32m----> \u001b[39m\u001b[32m3\u001b[39m \u001b[43mpd\u001b[49m\u001b[43m.\u001b[49m\u001b[43mconcat\u001b[49m\u001b[43m(\u001b[49m\u001b[43m[\u001b[49m\u001b[43mdf1\u001b[49m\u001b[43m,\u001b[49m\u001b[43m \u001b[49m\u001b[43mdf2\u001b[49m\u001b[43m]\u001b[49m\u001b[43m,\u001b[49m\u001b[43m \u001b[49m\u001b[43mverify_integrity\u001b[49m\u001b[43m=\u001b[49m\u001b[38;5;28;43;01mTrue\u001b[39;49;00m\u001b[43m)\u001b[49m\n",
      "\u001b[36mFile \u001b[39m\u001b[32m~/Projects/courses/python_for_neuroscientists/textbook-public/venv/lib/python3.11/site-packages/pandas/core/reshape/concat.py:395\u001b[39m, in \u001b[36mconcat\u001b[39m\u001b[34m(objs, axis, join, ignore_index, keys, levels, names, verify_integrity, sort, copy)\u001b[39m\n\u001b[32m    380\u001b[39m     copy = \u001b[38;5;28;01mFalse\u001b[39;00m\n\u001b[32m    382\u001b[39m op = _Concatenator(\n\u001b[32m    383\u001b[39m     objs,\n\u001b[32m    384\u001b[39m     axis=axis,\n\u001b[32m   (...)\u001b[39m\u001b[32m    392\u001b[39m     sort=sort,\n\u001b[32m    393\u001b[39m )\n\u001b[32m--> \u001b[39m\u001b[32m395\u001b[39m \u001b[38;5;28;01mreturn\u001b[39;00m \u001b[43mop\u001b[49m\u001b[43m.\u001b[49m\u001b[43mget_result\u001b[49m\u001b[43m(\u001b[49m\u001b[43m)\u001b[49m\n",
      "\u001b[36mFile \u001b[39m\u001b[32m~/Projects/courses/python_for_neuroscientists/textbook-public/venv/lib/python3.11/site-packages/pandas/core/reshape/concat.py:671\u001b[39m, in \u001b[36m_Concatenator.get_result\u001b[39m\u001b[34m(self)\u001b[39m\n\u001b[32m    669\u001b[39m \u001b[38;5;28;01mfor\u001b[39;00m obj \u001b[38;5;129;01min\u001b[39;00m \u001b[38;5;28mself\u001b[39m.objs:\n\u001b[32m    670\u001b[39m     indexers = {}\n\u001b[32m--> \u001b[39m\u001b[32m671\u001b[39m     \u001b[38;5;28;01mfor\u001b[39;00m ax, new_labels \u001b[38;5;129;01min\u001b[39;00m \u001b[38;5;28menumerate\u001b[39m(\u001b[38;5;28;43mself\u001b[39;49m\u001b[43m.\u001b[49m\u001b[43mnew_axes\u001b[49m):\n\u001b[32m    672\u001b[39m         \u001b[38;5;66;03m# ::-1 to convert BlockManager ax to DataFrame ax\u001b[39;00m\n\u001b[32m    673\u001b[39m         \u001b[38;5;28;01mif\u001b[39;00m ax == \u001b[38;5;28mself\u001b[39m.bm_axis:\n\u001b[32m    674\u001b[39m             \u001b[38;5;66;03m# Suppress reindexing on concat axis\u001b[39;00m\n\u001b[32m    675\u001b[39m             \u001b[38;5;28;01mcontinue\u001b[39;00m\n",
      "\u001b[36mFile \u001b[39m\u001b[32mproperties.pyx:36\u001b[39m, in \u001b[36mpandas._libs.properties.CachedProperty.__get__\u001b[39m\u001b[34m()\u001b[39m\n",
      "\u001b[36mFile \u001b[39m\u001b[32m~/Projects/courses/python_for_neuroscientists/textbook-public/venv/lib/python3.11/site-packages/pandas/core/reshape/concat.py:702\u001b[39m, in \u001b[36m_Concatenator.new_axes\u001b[39m\u001b[34m(self)\u001b[39m\n\u001b[32m    699\u001b[39m \u001b[38;5;129m@cache_readonly\u001b[39m\n\u001b[32m    700\u001b[39m \u001b[38;5;28;01mdef\u001b[39;00m\u001b[38;5;250m \u001b[39m\u001b[34mnew_axes\u001b[39m(\u001b[38;5;28mself\u001b[39m) -> \u001b[38;5;28mlist\u001b[39m[Index]:\n\u001b[32m    701\u001b[39m     ndim = \u001b[38;5;28mself\u001b[39m._get_result_dim()\n\u001b[32m--> \u001b[39m\u001b[32m702\u001b[39m     \u001b[38;5;28;01mreturn\u001b[39;00m \u001b[43m[\u001b[49m\n\u001b[32m    703\u001b[39m \u001b[43m        \u001b[49m\u001b[38;5;28;43mself\u001b[39;49m\u001b[43m.\u001b[49m\u001b[43m_get_concat_axis\u001b[49m\u001b[43m \u001b[49m\u001b[38;5;28;43;01mif\u001b[39;49;00m\u001b[43m \u001b[49m\u001b[43mi\u001b[49m\u001b[43m \u001b[49m\u001b[43m==\u001b[49m\u001b[43m \u001b[49m\u001b[38;5;28;43mself\u001b[39;49m\u001b[43m.\u001b[49m\u001b[43mbm_axis\u001b[49m\u001b[43m \u001b[49m\u001b[38;5;28;43;01melse\u001b[39;49;00m\u001b[43m \u001b[49m\u001b[38;5;28;43mself\u001b[39;49m\u001b[43m.\u001b[49m\u001b[43m_get_comb_axis\u001b[49m\u001b[43m(\u001b[49m\u001b[43mi\u001b[49m\u001b[43m)\u001b[49m\n\u001b[32m    704\u001b[39m \u001b[43m        \u001b[49m\u001b[38;5;28;43;01mfor\u001b[39;49;00m\u001b[43m \u001b[49m\u001b[43mi\u001b[49m\u001b[43m \u001b[49m\u001b[38;5;129;43;01min\u001b[39;49;00m\u001b[43m \u001b[49m\u001b[38;5;28;43mrange\u001b[39;49m\u001b[43m(\u001b[49m\u001b[43mndim\u001b[49m\u001b[43m)\u001b[49m\n\u001b[32m    705\u001b[39m \u001b[43m    \u001b[49m\u001b[43m]\u001b[49m\n",
      "\u001b[36mFile \u001b[39m\u001b[32m~/Projects/courses/python_for_neuroscientists/textbook-public/venv/lib/python3.11/site-packages/pandas/core/reshape/concat.py:703\u001b[39m, in \u001b[36m<listcomp>\u001b[39m\u001b[34m(.0)\u001b[39m\n\u001b[32m    699\u001b[39m \u001b[38;5;129m@cache_readonly\u001b[39m\n\u001b[32m    700\u001b[39m \u001b[38;5;28;01mdef\u001b[39;00m\u001b[38;5;250m \u001b[39m\u001b[34mnew_axes\u001b[39m(\u001b[38;5;28mself\u001b[39m) -> \u001b[38;5;28mlist\u001b[39m[Index]:\n\u001b[32m    701\u001b[39m     ndim = \u001b[38;5;28mself\u001b[39m._get_result_dim()\n\u001b[32m    702\u001b[39m     \u001b[38;5;28;01mreturn\u001b[39;00m [\n\u001b[32m--> \u001b[39m\u001b[32m703\u001b[39m         \u001b[38;5;28;43mself\u001b[39;49m\u001b[43m.\u001b[49m\u001b[43m_get_concat_axis\u001b[49m \u001b[38;5;28;01mif\u001b[39;00m i == \u001b[38;5;28mself\u001b[39m.bm_axis \u001b[38;5;28;01melse\u001b[39;00m \u001b[38;5;28mself\u001b[39m._get_comb_axis(i)\n\u001b[32m    704\u001b[39m         \u001b[38;5;28;01mfor\u001b[39;00m i \u001b[38;5;129;01min\u001b[39;00m \u001b[38;5;28mrange\u001b[39m(ndim)\n\u001b[32m    705\u001b[39m     ]\n",
      "\u001b[36mFile \u001b[39m\u001b[32mproperties.pyx:36\u001b[39m, in \u001b[36mpandas._libs.properties.CachedProperty.__get__\u001b[39m\u001b[34m()\u001b[39m\n",
      "\u001b[36mFile \u001b[39m\u001b[32m~/Projects/courses/python_for_neuroscientists/textbook-public/venv/lib/python3.11/site-packages/pandas/core/reshape/concat.py:766\u001b[39m, in \u001b[36m_Concatenator._get_concat_axis\u001b[39m\u001b[34m(self)\u001b[39m\n\u001b[32m    761\u001b[39m \u001b[38;5;28;01melse\u001b[39;00m:\n\u001b[32m    762\u001b[39m     concat_axis = _make_concat_multiindex(\n\u001b[32m    763\u001b[39m         indexes, \u001b[38;5;28mself\u001b[39m.keys, \u001b[38;5;28mself\u001b[39m.levels, \u001b[38;5;28mself\u001b[39m.names\n\u001b[32m    764\u001b[39m     )\n\u001b[32m--> \u001b[39m\u001b[32m766\u001b[39m \u001b[38;5;28;43mself\u001b[39;49m\u001b[43m.\u001b[49m\u001b[43m_maybe_check_integrity\u001b[49m\u001b[43m(\u001b[49m\u001b[43mconcat_axis\u001b[49m\u001b[43m)\u001b[49m\n\u001b[32m    768\u001b[39m \u001b[38;5;28;01mreturn\u001b[39;00m concat_axis\n",
      "\u001b[36mFile \u001b[39m\u001b[32m~/Projects/courses/python_for_neuroscientists/textbook-public/venv/lib/python3.11/site-packages/pandas/core/reshape/concat.py:774\u001b[39m, in \u001b[36m_Concatenator._maybe_check_integrity\u001b[39m\u001b[34m(self, concat_index)\u001b[39m\n\u001b[32m    772\u001b[39m \u001b[38;5;28;01mif\u001b[39;00m \u001b[38;5;129;01mnot\u001b[39;00m concat_index.is_unique:\n\u001b[32m    773\u001b[39m     overlap = concat_index[concat_index.duplicated()].unique()\n\u001b[32m--> \u001b[39m\u001b[32m774\u001b[39m     \u001b[38;5;28;01mraise\u001b[39;00m \u001b[38;5;167;01mValueError\u001b[39;00m(\u001b[33mf\u001b[39m\u001b[33m\"\u001b[39m\u001b[33mIndexes have overlapping values: \u001b[39m\u001b[38;5;132;01m{\u001b[39;00moverlap\u001b[38;5;132;01m}\u001b[39;00m\u001b[33m\"\u001b[39m)\n",
      "\u001b[31mValueError\u001b[39m: Indexes have overlapping values: Index([0], dtype='int64')"
     ]
    }
   ],
   "source": [
    "df1 = pd.DataFrame([['a', 'A'], ['b', 'B']], columns=['let', 'LET'], index=[0, 1])\n",
    "df2 = pd.DataFrame([['c', 'C'], ['d', 'D']], columns=['let', 'LET'], index=[0, 2])\n",
    "pd.concat([df1, df2], verify_integrity=True)"
   ]
  },
  {
   "cell_type": "markdown",
   "metadata": {},
   "source": [
    "If we don't care about the indices, we can just ignore them:"
   ]
  },
  {
   "cell_type": "code",
   "execution_count": 12,
   "metadata": {},
   "outputs": [
    {
     "data": {
      "application/vnd.microsoft.datawrangler.viewer.v0+json": {
       "columns": [
        {
         "name": "index",
         "rawType": "int64",
         "type": "integer"
        },
        {
         "name": "let",
         "rawType": "object",
         "type": "string"
        },
        {
         "name": "LET",
         "rawType": "object",
         "type": "string"
        }
       ],
       "conversionMethod": "pd.DataFrame",
       "ref": "1c8ae9d1-b5cb-43ce-a411-82968ea9c775",
       "rows": [
        [
         "0",
         "a",
         "A"
        ],
        [
         "1",
         "b",
         "B"
        ],
        [
         "2",
         "c",
         "C"
        ],
        [
         "3",
         "d",
         "D"
        ]
       ],
       "shape": {
        "columns": 2,
        "rows": 4
       }
      },
      "text/html": [
       "<div>\n",
       "<style scoped>\n",
       "    .dataframe tbody tr th:only-of-type {\n",
       "        vertical-align: middle;\n",
       "    }\n",
       "\n",
       "    .dataframe tbody tr th {\n",
       "        vertical-align: top;\n",
       "    }\n",
       "\n",
       "    .dataframe thead th {\n",
       "        text-align: right;\n",
       "    }\n",
       "</style>\n",
       "<table border=\"1\" class=\"dataframe\">\n",
       "  <thead>\n",
       "    <tr style=\"text-align: right;\">\n",
       "      <th></th>\n",
       "      <th>let</th>\n",
       "      <th>LET</th>\n",
       "    </tr>\n",
       "  </thead>\n",
       "  <tbody>\n",
       "    <tr>\n",
       "      <th>0</th>\n",
       "      <td>a</td>\n",
       "      <td>A</td>\n",
       "    </tr>\n",
       "    <tr>\n",
       "      <th>1</th>\n",
       "      <td>b</td>\n",
       "      <td>B</td>\n",
       "    </tr>\n",
       "    <tr>\n",
       "      <th>2</th>\n",
       "      <td>c</td>\n",
       "      <td>C</td>\n",
       "    </tr>\n",
       "    <tr>\n",
       "      <th>3</th>\n",
       "      <td>d</td>\n",
       "      <td>D</td>\n",
       "    </tr>\n",
       "  </tbody>\n",
       "</table>\n",
       "</div>"
      ],
      "text/plain": [
       "  let LET\n",
       "0   a   A\n",
       "1   b   B\n",
       "2   c   C\n",
       "3   d   D"
      ]
     },
     "execution_count": 12,
     "metadata": {},
     "output_type": "execute_result"
    }
   ],
   "source": [
    "pd.concat([df1, df2], ignore_index=True)  # resets the index"
   ]
  },
  {
   "cell_type": "markdown",
   "metadata": {},
   "source": [
    "We can also create a new `MultiIndex` if that happens to makes more sense:"
   ]
  },
  {
   "cell_type": "code",
   "execution_count": 13,
   "metadata": {},
   "outputs": [
    {
     "data": {
      "application/vnd.microsoft.datawrangler.viewer.v0+json": {
       "columns": [
        {
         "name": "(None, None)",
         "rawType": "object",
         "type": "unknown"
        },
        {
         "name": "let",
         "rawType": "object",
         "type": "string"
        },
        {
         "name": "LET",
         "rawType": "object",
         "type": "string"
        }
       ],
       "conversionMethod": "pd.DataFrame",
       "ref": "25068772-15b4-4e3c-a3f8-50882949aa33",
       "rows": [
        [
         "('df1', np.int64(0))",
         "a",
         "A"
        ],
        [
         "('df1', np.int64(1))",
         "b",
         "B"
        ],
        [
         "('df2', np.int64(0))",
         "c",
         "C"
        ],
        [
         "('df2', np.int64(2))",
         "d",
         "D"
        ]
       ],
       "shape": {
        "columns": 2,
        "rows": 4
       }
      },
      "text/html": [
       "<div>\n",
       "<style scoped>\n",
       "    .dataframe tbody tr th:only-of-type {\n",
       "        vertical-align: middle;\n",
       "    }\n",
       "\n",
       "    .dataframe tbody tr th {\n",
       "        vertical-align: top;\n",
       "    }\n",
       "\n",
       "    .dataframe thead th {\n",
       "        text-align: right;\n",
       "    }\n",
       "</style>\n",
       "<table border=\"1\" class=\"dataframe\">\n",
       "  <thead>\n",
       "    <tr style=\"text-align: right;\">\n",
       "      <th></th>\n",
       "      <th></th>\n",
       "      <th>let</th>\n",
       "      <th>LET</th>\n",
       "    </tr>\n",
       "  </thead>\n",
       "  <tbody>\n",
       "    <tr>\n",
       "      <th rowspan=\"2\" valign=\"top\">df1</th>\n",
       "      <th>0</th>\n",
       "      <td>a</td>\n",
       "      <td>A</td>\n",
       "    </tr>\n",
       "    <tr>\n",
       "      <th>1</th>\n",
       "      <td>b</td>\n",
       "      <td>B</td>\n",
       "    </tr>\n",
       "    <tr>\n",
       "      <th rowspan=\"2\" valign=\"top\">df2</th>\n",
       "      <th>0</th>\n",
       "      <td>c</td>\n",
       "      <td>C</td>\n",
       "    </tr>\n",
       "    <tr>\n",
       "      <th>2</th>\n",
       "      <td>d</td>\n",
       "      <td>D</td>\n",
       "    </tr>\n",
       "  </tbody>\n",
       "</table>\n",
       "</div>"
      ],
      "text/plain": [
       "      let LET\n",
       "df1 0   a   A\n",
       "    1   b   B\n",
       "df2 0   c   C\n",
       "    2   d   D"
      ]
     },
     "execution_count": 13,
     "metadata": {},
     "output_type": "execute_result"
    }
   ],
   "source": [
    "pd.concat([df1, df2], keys=['df1', 'df2'])  # \"remembers\" the origin of the data, super useful!"
   ]
  },
  {
   "cell_type": "markdown",
   "metadata": {},
   "source": [
    "A common real world example of concatenation happens when joining two datasets sampled at different times. For example, if we conducted in day 1 measurements at times 8:00, 10:00, 14:00 and 16:00, but during day 2 we were a bit dizzy, and conducted the measurements at 8:00, 10:00, 13:00 and 16:30. On top of that, we recorded another parameter that we forget to measure at day 1.\n",
    "\n",
    "The default concatenation behavior of pandas keeps all the data. In database terms (SQL people rejoice!) it's called an \"outer join\":"
   ]
  },
  {
   "cell_type": "code",
   "execution_count": 14,
   "metadata": {},
   "outputs": [
    {
     "data": {
      "application/vnd.microsoft.datawrangler.viewer.v0+json": {
       "columns": [
        {
         "name": "index",
         "rawType": "object",
         "type": "unknown"
        },
        {
         "name": "temperature",
         "rawType": "float64",
         "type": "float"
        },
        {
         "name": "humidity",
         "rawType": "float64",
         "type": "float"
        }
       ],
       "conversionMethod": "pd.DataFrame",
       "ref": "c803fc4a-6c49-41b4-b1af-a4ef15fde899",
       "rows": [
        [
         "08:00:00",
         "36.6",
         "30.0"
        ],
        [
         "10:00:00",
         "36.7",
         "31.0"
        ],
        [
         "14:00:00",
         "37.0",
         "30.4"
        ],
        [
         "16:00:00",
         "36.8",
         "30.4"
        ]
       ],
       "shape": {
        "columns": 2,
        "rows": 4
       }
      },
      "text/html": [
       "<div>\n",
       "<style scoped>\n",
       "    .dataframe tbody tr th:only-of-type {\n",
       "        vertical-align: middle;\n",
       "    }\n",
       "\n",
       "    .dataframe tbody tr th {\n",
       "        vertical-align: top;\n",
       "    }\n",
       "\n",
       "    .dataframe thead th {\n",
       "        text-align: right;\n",
       "    }\n",
       "</style>\n",
       "<table border=\"1\" class=\"dataframe\">\n",
       "  <thead>\n",
       "    <tr style=\"text-align: right;\">\n",
       "      <th></th>\n",
       "      <th>temperature</th>\n",
       "      <th>humidity</th>\n",
       "    </tr>\n",
       "  </thead>\n",
       "  <tbody>\n",
       "    <tr>\n",
       "      <th>08:00:00</th>\n",
       "      <td>36.6</td>\n",
       "      <td>30.0</td>\n",
       "    </tr>\n",
       "    <tr>\n",
       "      <th>10:00:00</th>\n",
       "      <td>36.7</td>\n",
       "      <td>31.0</td>\n",
       "    </tr>\n",
       "    <tr>\n",
       "      <th>14:00:00</th>\n",
       "      <td>37.0</td>\n",
       "      <td>30.4</td>\n",
       "    </tr>\n",
       "    <tr>\n",
       "      <th>16:00:00</th>\n",
       "      <td>36.8</td>\n",
       "      <td>30.4</td>\n",
       "    </tr>\n",
       "  </tbody>\n",
       "</table>\n",
       "</div>"
      ],
      "text/plain": [
       "          temperature  humidity\n",
       "08:00:00         36.6      30.0\n",
       "10:00:00         36.7      31.0\n",
       "14:00:00         37.0      30.4\n",
       "16:00:00         36.8      30.4"
      ]
     },
     "execution_count": 14,
     "metadata": {},
     "output_type": "execute_result"
    }
   ],
   "source": [
    "# Prepare mock data\n",
    "day_1_times = pd.to_datetime(['08:00', '10:00', '14:00', '16:00'],\n",
    "                             format='%H:%M').time\n",
    "day_2_times = pd.to_datetime(['08:00', '10:00', '13:00', '16:30'],\n",
    "                             format='%H:%M').time\n",
    "\n",
    "day_1_data = {\n",
    "    \"temperature\": [36.6, 36.7, 37.0, 36.8],\n",
    "    \"humidity\": [30., 31., 30.4, 30.4]\n",
    "}\n",
    "day_2_data = {\n",
    "    \"temperature\": [35.9, 36.1, 36.5, 36.2],\n",
    "    \"humidity\": [32.2, 34.2, 30.9, 32.6],\n",
    "    \"light\": [200, 130, 240, 210]\n",
    "}\n",
    "\n",
    "df_1 = pd.DataFrame(day_1_data, index=day_1_times)\n",
    "df_2 = pd.DataFrame(day_2_data, index=day_2_times)\n",
    "\n",
    "df_1"
   ]
  },
  {
   "cell_type": "markdown",
   "metadata": {},
   "source": [
    "```{note}\n",
    "Note how [`pd.to_datetime()`](https://pandas.pydata.org/docs/reference/api/pandas.to_datetime.html) returns a [`DatetimeIndex`](https://pandas.pydata.org/docs/reference/api/pandas.DatetimeIndex.html) object which exposes a `time` property, allowing us to easily remove the \"date\" part of the returned \"datetime\", considering it is not represented in our mock data.\n",
    "```"
   ]
  },
  {
   "cell_type": "code",
   "execution_count": 15,
   "metadata": {},
   "outputs": [
    {
     "data": {
      "application/vnd.microsoft.datawrangler.viewer.v0+json": {
       "columns": [
        {
         "name": "index",
         "rawType": "object",
         "type": "unknown"
        },
        {
         "name": "temperature",
         "rawType": "float64",
         "type": "float"
        },
        {
         "name": "humidity",
         "rawType": "float64",
         "type": "float"
        },
        {
         "name": "light",
         "rawType": "int64",
         "type": "integer"
        }
       ],
       "conversionMethod": "pd.DataFrame",
       "ref": "98aa181b-2be8-4bdf-93f3-deb90b5a2efe",
       "rows": [
        [
         "08:00:00",
         "35.9",
         "32.2",
         "200"
        ],
        [
         "10:00:00",
         "36.1",
         "34.2",
         "130"
        ],
        [
         "13:00:00",
         "36.5",
         "30.9",
         "240"
        ],
        [
         "16:30:00",
         "36.2",
         "32.6",
         "210"
        ]
       ],
       "shape": {
        "columns": 3,
        "rows": 4
       }
      },
      "text/html": [
       "<div>\n",
       "<style scoped>\n",
       "    .dataframe tbody tr th:only-of-type {\n",
       "        vertical-align: middle;\n",
       "    }\n",
       "\n",
       "    .dataframe tbody tr th {\n",
       "        vertical-align: top;\n",
       "    }\n",
       "\n",
       "    .dataframe thead th {\n",
       "        text-align: right;\n",
       "    }\n",
       "</style>\n",
       "<table border=\"1\" class=\"dataframe\">\n",
       "  <thead>\n",
       "    <tr style=\"text-align: right;\">\n",
       "      <th></th>\n",
       "      <th>temperature</th>\n",
       "      <th>humidity</th>\n",
       "      <th>light</th>\n",
       "    </tr>\n",
       "  </thead>\n",
       "  <tbody>\n",
       "    <tr>\n",
       "      <th>08:00:00</th>\n",
       "      <td>35.9</td>\n",
       "      <td>32.2</td>\n",
       "      <td>200</td>\n",
       "    </tr>\n",
       "    <tr>\n",
       "      <th>10:00:00</th>\n",
       "      <td>36.1</td>\n",
       "      <td>34.2</td>\n",
       "      <td>130</td>\n",
       "    </tr>\n",
       "    <tr>\n",
       "      <th>13:00:00</th>\n",
       "      <td>36.5</td>\n",
       "      <td>30.9</td>\n",
       "      <td>240</td>\n",
       "    </tr>\n",
       "    <tr>\n",
       "      <th>16:30:00</th>\n",
       "      <td>36.2</td>\n",
       "      <td>32.6</td>\n",
       "      <td>210</td>\n",
       "    </tr>\n",
       "  </tbody>\n",
       "</table>\n",
       "</div>"
      ],
      "text/plain": [
       "          temperature  humidity  light\n",
       "08:00:00         35.9      32.2    200\n",
       "10:00:00         36.1      34.2    130\n",
       "13:00:00         36.5      30.9    240\n",
       "16:30:00         36.2      32.6    210"
      ]
     },
     "execution_count": 15,
     "metadata": {},
     "output_type": "execute_result"
    }
   ],
   "source": [
    "df_2"
   ]
  },
  {
   "cell_type": "code",
   "execution_count": 16,
   "metadata": {},
   "outputs": [
    {
     "data": {
      "application/vnd.microsoft.datawrangler.viewer.v0+json": {
       "columns": [
        {
         "name": "index",
         "rawType": "object",
         "type": "unknown"
        },
        {
         "name": "temperature",
         "rawType": "float64",
         "type": "float"
        },
        {
         "name": "humidity",
         "rawType": "float64",
         "type": "float"
        },
        {
         "name": "light",
         "rawType": "float64",
         "type": "float"
        }
       ],
       "conversionMethod": "pd.DataFrame",
       "ref": "cf1e8bd5-92a8-404c-b124-dcf94e15f245",
       "rows": [
        [
         "08:00:00",
         "36.6",
         "30.0",
         null
        ],
        [
         "10:00:00",
         "36.7",
         "31.0",
         null
        ],
        [
         "14:00:00",
         "37.0",
         "30.4",
         null
        ],
        [
         "16:00:00",
         "36.8",
         "30.4",
         null
        ],
        [
         "08:00:00",
         "35.9",
         "32.2",
         "200.0"
        ],
        [
         "10:00:00",
         "36.1",
         "34.2",
         "130.0"
        ],
        [
         "13:00:00",
         "36.5",
         "30.9",
         "240.0"
        ],
        [
         "16:30:00",
         "36.2",
         "32.6",
         "210.0"
        ]
       ],
       "shape": {
        "columns": 3,
        "rows": 8
       }
      },
      "text/html": [
       "<div>\n",
       "<style scoped>\n",
       "    .dataframe tbody tr th:only-of-type {\n",
       "        vertical-align: middle;\n",
       "    }\n",
       "\n",
       "    .dataframe tbody tr th {\n",
       "        vertical-align: top;\n",
       "    }\n",
       "\n",
       "    .dataframe thead th {\n",
       "        text-align: right;\n",
       "    }\n",
       "</style>\n",
       "<table border=\"1\" class=\"dataframe\">\n",
       "  <thead>\n",
       "    <tr style=\"text-align: right;\">\n",
       "      <th></th>\n",
       "      <th>temperature</th>\n",
       "      <th>humidity</th>\n",
       "      <th>light</th>\n",
       "    </tr>\n",
       "  </thead>\n",
       "  <tbody>\n",
       "    <tr>\n",
       "      <th>08:00:00</th>\n",
       "      <td>36.6</td>\n",
       "      <td>30.0</td>\n",
       "      <td>NaN</td>\n",
       "    </tr>\n",
       "    <tr>\n",
       "      <th>10:00:00</th>\n",
       "      <td>36.7</td>\n",
       "      <td>31.0</td>\n",
       "      <td>NaN</td>\n",
       "    </tr>\n",
       "    <tr>\n",
       "      <th>14:00:00</th>\n",
       "      <td>37.0</td>\n",
       "      <td>30.4</td>\n",
       "      <td>NaN</td>\n",
       "    </tr>\n",
       "    <tr>\n",
       "      <th>16:00:00</th>\n",
       "      <td>36.8</td>\n",
       "      <td>30.4</td>\n",
       "      <td>NaN</td>\n",
       "    </tr>\n",
       "    <tr>\n",
       "      <th>08:00:00</th>\n",
       "      <td>35.9</td>\n",
       "      <td>32.2</td>\n",
       "      <td>200.0</td>\n",
       "    </tr>\n",
       "    <tr>\n",
       "      <th>10:00:00</th>\n",
       "      <td>36.1</td>\n",
       "      <td>34.2</td>\n",
       "      <td>130.0</td>\n",
       "    </tr>\n",
       "    <tr>\n",
       "      <th>13:00:00</th>\n",
       "      <td>36.5</td>\n",
       "      <td>30.9</td>\n",
       "      <td>240.0</td>\n",
       "    </tr>\n",
       "    <tr>\n",
       "      <th>16:30:00</th>\n",
       "      <td>36.2</td>\n",
       "      <td>32.6</td>\n",
       "      <td>210.0</td>\n",
       "    </tr>\n",
       "  </tbody>\n",
       "</table>\n",
       "</div>"
      ],
      "text/plain": [
       "          temperature  humidity  light\n",
       "08:00:00         36.6      30.0    NaN\n",
       "10:00:00         36.7      31.0    NaN\n",
       "14:00:00         37.0      30.4    NaN\n",
       "16:00:00         36.8      30.4    NaN\n",
       "08:00:00         35.9      32.2  200.0\n",
       "10:00:00         36.1      34.2  130.0\n",
       "13:00:00         36.5      30.9  240.0\n",
       "16:30:00         36.2      32.6  210.0"
      ]
     },
     "execution_count": 16,
     "metadata": {},
     "output_type": "execute_result"
    }
   ],
   "source": [
    "# Outer join\n",
    "pd.concat([df_1, df_2], join='outer')  # outer join is the default behavior  "
   ]
  },
  {
   "cell_type": "markdown",
   "metadata": {},
   "source": [
    "To take the intersection of the columns we have to use inner join. The intersection is all the columns that are common in all datasets."
   ]
  },
  {
   "cell_type": "code",
   "execution_count": 17,
   "metadata": {},
   "outputs": [
    {
     "data": {
      "application/vnd.microsoft.datawrangler.viewer.v0+json": {
       "columns": [
        {
         "name": "index",
         "rawType": "object",
         "type": "unknown"
        },
        {
         "name": "temperature",
         "rawType": "float64",
         "type": "float"
        },
        {
         "name": "humidity",
         "rawType": "float64",
         "type": "float"
        }
       ],
       "conversionMethod": "pd.DataFrame",
       "ref": "45354ff1-e108-4b7c-9ed7-0c957cdf8bc9",
       "rows": [
        [
         "08:00:00",
         "36.6",
         "30.0"
        ],
        [
         "10:00:00",
         "36.7",
         "31.0"
        ],
        [
         "14:00:00",
         "37.0",
         "30.4"
        ],
        [
         "16:00:00",
         "36.8",
         "30.4"
        ],
        [
         "08:00:00",
         "35.9",
         "32.2"
        ],
        [
         "10:00:00",
         "36.1",
         "34.2"
        ],
        [
         "13:00:00",
         "36.5",
         "30.9"
        ],
        [
         "16:30:00",
         "36.2",
         "32.6"
        ]
       ],
       "shape": {
        "columns": 2,
        "rows": 8
       }
      },
      "text/html": [
       "<div>\n",
       "<style scoped>\n",
       "    .dataframe tbody tr th:only-of-type {\n",
       "        vertical-align: middle;\n",
       "    }\n",
       "\n",
       "    .dataframe tbody tr th {\n",
       "        vertical-align: top;\n",
       "    }\n",
       "\n",
       "    .dataframe thead th {\n",
       "        text-align: right;\n",
       "    }\n",
       "</style>\n",
       "<table border=\"1\" class=\"dataframe\">\n",
       "  <thead>\n",
       "    <tr style=\"text-align: right;\">\n",
       "      <th></th>\n",
       "      <th>temperature</th>\n",
       "      <th>humidity</th>\n",
       "    </tr>\n",
       "  </thead>\n",
       "  <tbody>\n",
       "    <tr>\n",
       "      <th>08:00:00</th>\n",
       "      <td>36.6</td>\n",
       "      <td>30.0</td>\n",
       "    </tr>\n",
       "    <tr>\n",
       "      <th>10:00:00</th>\n",
       "      <td>36.7</td>\n",
       "      <td>31.0</td>\n",
       "    </tr>\n",
       "    <tr>\n",
       "      <th>14:00:00</th>\n",
       "      <td>37.0</td>\n",
       "      <td>30.4</td>\n",
       "    </tr>\n",
       "    <tr>\n",
       "      <th>16:00:00</th>\n",
       "      <td>36.8</td>\n",
       "      <td>30.4</td>\n",
       "    </tr>\n",
       "    <tr>\n",
       "      <th>08:00:00</th>\n",
       "      <td>35.9</td>\n",
       "      <td>32.2</td>\n",
       "    </tr>\n",
       "    <tr>\n",
       "      <th>10:00:00</th>\n",
       "      <td>36.1</td>\n",
       "      <td>34.2</td>\n",
       "    </tr>\n",
       "    <tr>\n",
       "      <th>13:00:00</th>\n",
       "      <td>36.5</td>\n",
       "      <td>30.9</td>\n",
       "    </tr>\n",
       "    <tr>\n",
       "      <th>16:30:00</th>\n",
       "      <td>36.2</td>\n",
       "      <td>32.6</td>\n",
       "    </tr>\n",
       "  </tbody>\n",
       "</table>\n",
       "</div>"
      ],
      "text/plain": [
       "          temperature  humidity\n",
       "08:00:00         36.6      30.0\n",
       "10:00:00         36.7      31.0\n",
       "14:00:00         37.0      30.4\n",
       "16:00:00         36.8      30.4\n",
       "08:00:00         35.9      32.2\n",
       "10:00:00         36.1      34.2\n",
       "13:00:00         36.5      30.9\n",
       "16:30:00         36.2      32.6"
      ]
     },
     "execution_count": 17,
     "metadata": {},
     "output_type": "execute_result"
    }
   ],
   "source": [
    "# Inner join - the excess data column was dropped (index is still not unique)\n",
    "pd.concat([df_1, df_2], join='inner')"
   ]
  },
  {
   "cell_type": "markdown",
   "metadata": {},
   "source": [
    "One can also specify the exact columns that should be the result of the join operation using the `columns` keyword. All in all, this basic functionality is easy to understand and allows for high flexibility."
   ]
  },
  {
   "cell_type": "markdown",
   "metadata": {},
   "source": [
    "Finally, joining on the columns will require the indices to be unique:"
   ]
  },
  {
   "cell_type": "code",
   "execution_count": 18,
   "metadata": {},
   "outputs": [
    {
     "data": {
      "application/vnd.microsoft.datawrangler.viewer.v0+json": {
       "columns": [
        {
         "name": "index",
         "rawType": "object",
         "type": "unknown"
        },
        {
         "name": "temperature",
         "rawType": "float64",
         "type": "float"
        },
        {
         "name": "humidity",
         "rawType": "float64",
         "type": "float"
        },
        {
         "name": "temperature",
         "rawType": "float64",
         "type": "float"
        },
        {
         "name": "humidity",
         "rawType": "float64",
         "type": "float"
        },
        {
         "name": "light",
         "rawType": "int64",
         "type": "integer"
        }
       ],
       "conversionMethod": "pd.DataFrame",
       "ref": "6481534d-a5dc-404a-8f25-41d6c08452b4",
       "rows": [
        [
         "08:00:00",
         "36.6",
         "30.0",
         "35.9",
         "32.2",
         "200"
        ],
        [
         "10:00:00",
         "36.7",
         "31.0",
         "36.1",
         "34.2",
         "130"
        ]
       ],
       "shape": {
        "columns": 5,
        "rows": 2
       }
      },
      "text/html": [
       "<div>\n",
       "<style scoped>\n",
       "    .dataframe tbody tr th:only-of-type {\n",
       "        vertical-align: middle;\n",
       "    }\n",
       "\n",
       "    .dataframe tbody tr th {\n",
       "        vertical-align: top;\n",
       "    }\n",
       "\n",
       "    .dataframe thead th {\n",
       "        text-align: right;\n",
       "    }\n",
       "</style>\n",
       "<table border=\"1\" class=\"dataframe\">\n",
       "  <thead>\n",
       "    <tr style=\"text-align: right;\">\n",
       "      <th></th>\n",
       "      <th>temperature</th>\n",
       "      <th>humidity</th>\n",
       "      <th>temperature</th>\n",
       "      <th>humidity</th>\n",
       "      <th>light</th>\n",
       "    </tr>\n",
       "  </thead>\n",
       "  <tbody>\n",
       "    <tr>\n",
       "      <th>08:00:00</th>\n",
       "      <td>36.6</td>\n",
       "      <td>30.0</td>\n",
       "      <td>35.9</td>\n",
       "      <td>32.2</td>\n",
       "      <td>200</td>\n",
       "    </tr>\n",
       "    <tr>\n",
       "      <th>10:00:00</th>\n",
       "      <td>36.7</td>\n",
       "      <td>31.0</td>\n",
       "      <td>36.1</td>\n",
       "      <td>34.2</td>\n",
       "      <td>130</td>\n",
       "    </tr>\n",
       "  </tbody>\n",
       "</table>\n",
       "</div>"
      ],
      "text/plain": [
       "          temperature  humidity  temperature  humidity  light\n",
       "08:00:00         36.6      30.0         35.9      32.2    200\n",
       "10:00:00         36.7      31.0         36.1      34.2    130"
      ]
     },
     "execution_count": 18,
     "metadata": {},
     "output_type": "execute_result"
    }
   ],
   "source": [
    "pd.concat([df_1, df_2], join='inner', axis='columns')"
   ]
  },
  {
   "cell_type": "markdown",
   "metadata": {},
   "source": [
    "This doesn't look so good. The columns are a mess and we're barely left with any data.\n",
    "\n",
    "Our best option using `pd.concat()` might be something like:"
   ]
  },
  {
   "cell_type": "code",
   "execution_count": 19,
   "metadata": {},
   "outputs": [
    {
     "data": {
      "application/vnd.microsoft.datawrangler.viewer.v0+json": {
       "columns": [
        {
         "name": "(None, None)",
         "rawType": "object",
         "type": "unknown"
        },
        {
         "name": "temperature",
         "rawType": "float64",
         "type": "float"
        },
        {
         "name": "humidity",
         "rawType": "float64",
         "type": "float"
        },
        {
         "name": "light",
         "rawType": "float64",
         "type": "float"
        }
       ],
       "conversionMethod": "pd.DataFrame",
       "ref": "cdc59f2c-ee4a-46d1-aa2b-90a876fb2811",
       "rows": [
        [
         "('Day 1', datetime.time(8, 0))",
         "36.6",
         "30.0",
         null
        ],
        [
         "('Day 1', datetime.time(10, 0))",
         "36.7",
         "31.0",
         null
        ],
        [
         "('Day 1', datetime.time(14, 0))",
         "37.0",
         "30.4",
         null
        ],
        [
         "('Day 1', datetime.time(16, 0))",
         "36.8",
         "30.4",
         null
        ],
        [
         "('Day 2', datetime.time(8, 0))",
         "35.9",
         "32.2",
         "200.0"
        ],
        [
         "('Day 2', datetime.time(10, 0))",
         "36.1",
         "34.2",
         "130.0"
        ],
        [
         "('Day 2', datetime.time(13, 0))",
         "36.5",
         "30.9",
         "240.0"
        ],
        [
         "('Day 2', datetime.time(16, 30))",
         "36.2",
         "32.6",
         "210.0"
        ]
       ],
       "shape": {
        "columns": 3,
        "rows": 8
       }
      },
      "text/html": [
       "<div>\n",
       "<style scoped>\n",
       "    .dataframe tbody tr th:only-of-type {\n",
       "        vertical-align: middle;\n",
       "    }\n",
       "\n",
       "    .dataframe tbody tr th {\n",
       "        vertical-align: top;\n",
       "    }\n",
       "\n",
       "    .dataframe thead th {\n",
       "        text-align: right;\n",
       "    }\n",
       "</style>\n",
       "<table border=\"1\" class=\"dataframe\">\n",
       "  <thead>\n",
       "    <tr style=\"text-align: right;\">\n",
       "      <th></th>\n",
       "      <th></th>\n",
       "      <th>temperature</th>\n",
       "      <th>humidity</th>\n",
       "      <th>light</th>\n",
       "    </tr>\n",
       "  </thead>\n",
       "  <tbody>\n",
       "    <tr>\n",
       "      <th rowspan=\"4\" valign=\"top\">Day 1</th>\n",
       "      <th>08:00:00</th>\n",
       "      <td>36.6</td>\n",
       "      <td>30.0</td>\n",
       "      <td>NaN</td>\n",
       "    </tr>\n",
       "    <tr>\n",
       "      <th>10:00:00</th>\n",
       "      <td>36.7</td>\n",
       "      <td>31.0</td>\n",
       "      <td>NaN</td>\n",
       "    </tr>\n",
       "    <tr>\n",
       "      <th>14:00:00</th>\n",
       "      <td>37.0</td>\n",
       "      <td>30.4</td>\n",
       "      <td>NaN</td>\n",
       "    </tr>\n",
       "    <tr>\n",
       "      <th>16:00:00</th>\n",
       "      <td>36.8</td>\n",
       "      <td>30.4</td>\n",
       "      <td>NaN</td>\n",
       "    </tr>\n",
       "    <tr>\n",
       "      <th rowspan=\"4\" valign=\"top\">Day 2</th>\n",
       "      <th>08:00:00</th>\n",
       "      <td>35.9</td>\n",
       "      <td>32.2</td>\n",
       "      <td>200.0</td>\n",
       "    </tr>\n",
       "    <tr>\n",
       "      <th>10:00:00</th>\n",
       "      <td>36.1</td>\n",
       "      <td>34.2</td>\n",
       "      <td>130.0</td>\n",
       "    </tr>\n",
       "    <tr>\n",
       "      <th>13:00:00</th>\n",
       "      <td>36.5</td>\n",
       "      <td>30.9</td>\n",
       "      <td>240.0</td>\n",
       "    </tr>\n",
       "    <tr>\n",
       "      <th>16:30:00</th>\n",
       "      <td>36.2</td>\n",
       "      <td>32.6</td>\n",
       "      <td>210.0</td>\n",
       "    </tr>\n",
       "  </tbody>\n",
       "</table>\n",
       "</div>"
      ],
      "text/plain": [
       "                temperature  humidity  light\n",
       "Day 1 08:00:00         36.6      30.0    NaN\n",
       "      10:00:00         36.7      31.0    NaN\n",
       "      14:00:00         37.0      30.4    NaN\n",
       "      16:00:00         36.8      30.4    NaN\n",
       "Day 2 08:00:00         35.9      32.2  200.0\n",
       "      10:00:00         36.1      34.2  130.0\n",
       "      13:00:00         36.5      30.9  240.0\n",
       "      16:30:00         36.2      32.6  210.0"
      ]
     },
     "execution_count": 19,
     "metadata": {},
     "output_type": "execute_result"
    }
   ],
   "source": [
    "df_concat = pd.concat([df_1, df_2], keys=[\"Day 1\", \"Day 2\"])\n",
    "df_concat"
   ]
  },
  {
   "cell_type": "markdown",
   "metadata": {},
   "source": [
    "Or maybe an unstacked version:"
   ]
  },
  {
   "cell_type": "code",
   "execution_count": 20,
   "metadata": {},
   "outputs": [
    {
     "data": {
      "application/vnd.microsoft.datawrangler.viewer.v0+json": {
       "columns": [
        {
         "name": "index",
         "rawType": "object",
         "type": "unknown"
        },
        {
         "name": "('temperature', 'Day 1')",
         "rawType": "float64",
         "type": "float"
        },
        {
         "name": "('temperature', 'Day 2')",
         "rawType": "float64",
         "type": "float"
        },
        {
         "name": "('humidity', 'Day 1')",
         "rawType": "float64",
         "type": "float"
        },
        {
         "name": "('humidity', 'Day 2')",
         "rawType": "float64",
         "type": "float"
        },
        {
         "name": "('light', 'Day 1')",
         "rawType": "float64",
         "type": "float"
        },
        {
         "name": "('light', 'Day 2')",
         "rawType": "float64",
         "type": "float"
        }
       ],
       "conversionMethod": "pd.DataFrame",
       "ref": "8472a08d-9acd-4db8-9e5d-a34532368501",
       "rows": [
        [
         "08:00:00",
         "36.6",
         "35.9",
         "30.0",
         "32.2",
         null,
         "200.0"
        ],
        [
         "10:00:00",
         "36.7",
         "36.1",
         "31.0",
         "34.2",
         null,
         "130.0"
        ],
        [
         "13:00:00",
         null,
         "36.5",
         null,
         "30.9",
         null,
         "240.0"
        ],
        [
         "14:00:00",
         "37.0",
         null,
         "30.4",
         null,
         null,
         null
        ],
        [
         "16:00:00",
         "36.8",
         null,
         "30.4",
         null,
         null,
         null
        ],
        [
         "16:30:00",
         null,
         "36.2",
         null,
         "32.6",
         null,
         "210.0"
        ]
       ],
       "shape": {
        "columns": 6,
        "rows": 6
       }
      },
      "text/html": [
       "<div>\n",
       "<style scoped>\n",
       "    .dataframe tbody tr th:only-of-type {\n",
       "        vertical-align: middle;\n",
       "    }\n",
       "\n",
       "    .dataframe tbody tr th {\n",
       "        vertical-align: top;\n",
       "    }\n",
       "\n",
       "    .dataframe thead tr th {\n",
       "        text-align: left;\n",
       "    }\n",
       "</style>\n",
       "<table border=\"1\" class=\"dataframe\">\n",
       "  <thead>\n",
       "    <tr>\n",
       "      <th></th>\n",
       "      <th colspan=\"2\" halign=\"left\">temperature</th>\n",
       "      <th colspan=\"2\" halign=\"left\">humidity</th>\n",
       "      <th colspan=\"2\" halign=\"left\">light</th>\n",
       "    </tr>\n",
       "    <tr>\n",
       "      <th></th>\n",
       "      <th>Day 1</th>\n",
       "      <th>Day 2</th>\n",
       "      <th>Day 1</th>\n",
       "      <th>Day 2</th>\n",
       "      <th>Day 1</th>\n",
       "      <th>Day 2</th>\n",
       "    </tr>\n",
       "  </thead>\n",
       "  <tbody>\n",
       "    <tr>\n",
       "      <th>08:00:00</th>\n",
       "      <td>36.6</td>\n",
       "      <td>35.9</td>\n",
       "      <td>30.0</td>\n",
       "      <td>32.2</td>\n",
       "      <td>NaN</td>\n",
       "      <td>200.0</td>\n",
       "    </tr>\n",
       "    <tr>\n",
       "      <th>10:00:00</th>\n",
       "      <td>36.7</td>\n",
       "      <td>36.1</td>\n",
       "      <td>31.0</td>\n",
       "      <td>34.2</td>\n",
       "      <td>NaN</td>\n",
       "      <td>130.0</td>\n",
       "    </tr>\n",
       "    <tr>\n",
       "      <th>13:00:00</th>\n",
       "      <td>NaN</td>\n",
       "      <td>36.5</td>\n",
       "      <td>NaN</td>\n",
       "      <td>30.9</td>\n",
       "      <td>NaN</td>\n",
       "      <td>240.0</td>\n",
       "    </tr>\n",
       "    <tr>\n",
       "      <th>14:00:00</th>\n",
       "      <td>37.0</td>\n",
       "      <td>NaN</td>\n",
       "      <td>30.4</td>\n",
       "      <td>NaN</td>\n",
       "      <td>NaN</td>\n",
       "      <td>NaN</td>\n",
       "    </tr>\n",
       "    <tr>\n",
       "      <th>16:00:00</th>\n",
       "      <td>36.8</td>\n",
       "      <td>NaN</td>\n",
       "      <td>30.4</td>\n",
       "      <td>NaN</td>\n",
       "      <td>NaN</td>\n",
       "      <td>NaN</td>\n",
       "    </tr>\n",
       "    <tr>\n",
       "      <th>16:30:00</th>\n",
       "      <td>NaN</td>\n",
       "      <td>36.2</td>\n",
       "      <td>NaN</td>\n",
       "      <td>32.6</td>\n",
       "      <td>NaN</td>\n",
       "      <td>210.0</td>\n",
       "    </tr>\n",
       "  </tbody>\n",
       "</table>\n",
       "</div>"
      ],
      "text/plain": [
       "         temperature       humidity       light       \n",
       "               Day 1 Day 2    Day 1 Day 2 Day 1  Day 2\n",
       "08:00:00        36.6  35.9     30.0  32.2   NaN  200.0\n",
       "10:00:00        36.7  36.1     31.0  34.2   NaN  130.0\n",
       "13:00:00         NaN  36.5      NaN  30.9   NaN  240.0\n",
       "14:00:00        37.0   NaN     30.4   NaN   NaN    NaN\n",
       "16:00:00        36.8   NaN     30.4   NaN   NaN    NaN\n",
       "16:30:00         NaN  36.2      NaN  32.6   NaN  210.0"
      ]
     },
     "execution_count": 20,
     "metadata": {},
     "output_type": "execute_result"
    }
   ],
   "source": [
    "df_concat.unstack(0)"
   ]
  },
  {
   "cell_type": "markdown",
   "metadata": {},
   "source": [
    "We could also use [`pd.merge()`](https://pandas.pydata.org/pandas-docs/version/0.23/generated/pandas.merge.html):"
   ]
  },
  {
   "cell_type": "code",
   "execution_count": 21,
   "metadata": {},
   "outputs": [
    {
     "data": {
      "application/vnd.microsoft.datawrangler.viewer.v0+json": {
       "columns": [
        {
         "name": "index",
         "rawType": "object",
         "type": "unknown"
        },
        {
         "name": "temperature_1",
         "rawType": "float64",
         "type": "float"
        },
        {
         "name": "humidity_1",
         "rawType": "float64",
         "type": "float"
        },
        {
         "name": "temperature_2",
         "rawType": "float64",
         "type": "float"
        },
        {
         "name": "humidity_2",
         "rawType": "float64",
         "type": "float"
        },
        {
         "name": "light",
         "rawType": "float64",
         "type": "float"
        }
       ],
       "conversionMethod": "pd.DataFrame",
       "ref": "76cda181-f6a6-4506-b41e-caf4d53b6ad0",
       "rows": [
        [
         "08:00:00",
         "36.6",
         "30.0",
         "35.9",
         "32.2",
         "200.0"
        ],
        [
         "10:00:00",
         "36.7",
         "31.0",
         "36.1",
         "34.2",
         "130.0"
        ],
        [
         "13:00:00",
         null,
         null,
         "36.5",
         "30.9",
         "240.0"
        ],
        [
         "14:00:00",
         "37.0",
         "30.4",
         null,
         null,
         null
        ],
        [
         "16:00:00",
         "36.8",
         "30.4",
         null,
         null,
         null
        ],
        [
         "16:30:00",
         null,
         null,
         "36.2",
         "32.6",
         "210.0"
        ]
       ],
       "shape": {
        "columns": 5,
        "rows": 6
       }
      },
      "text/html": [
       "<div>\n",
       "<style scoped>\n",
       "    .dataframe tbody tr th:only-of-type {\n",
       "        vertical-align: middle;\n",
       "    }\n",
       "\n",
       "    .dataframe tbody tr th {\n",
       "        vertical-align: top;\n",
       "    }\n",
       "\n",
       "    .dataframe thead th {\n",
       "        text-align: right;\n",
       "    }\n",
       "</style>\n",
       "<table border=\"1\" class=\"dataframe\">\n",
       "  <thead>\n",
       "    <tr style=\"text-align: right;\">\n",
       "      <th></th>\n",
       "      <th>temperature_1</th>\n",
       "      <th>humidity_1</th>\n",
       "      <th>temperature_2</th>\n",
       "      <th>humidity_2</th>\n",
       "      <th>light</th>\n",
       "    </tr>\n",
       "  </thead>\n",
       "  <tbody>\n",
       "    <tr>\n",
       "      <th>08:00:00</th>\n",
       "      <td>36.6</td>\n",
       "      <td>30.0</td>\n",
       "      <td>35.9</td>\n",
       "      <td>32.2</td>\n",
       "      <td>200.0</td>\n",
       "    </tr>\n",
       "    <tr>\n",
       "      <th>10:00:00</th>\n",
       "      <td>36.7</td>\n",
       "      <td>31.0</td>\n",
       "      <td>36.1</td>\n",
       "      <td>34.2</td>\n",
       "      <td>130.0</td>\n",
       "    </tr>\n",
       "    <tr>\n",
       "      <th>13:00:00</th>\n",
       "      <td>NaN</td>\n",
       "      <td>NaN</td>\n",
       "      <td>36.5</td>\n",
       "      <td>30.9</td>\n",
       "      <td>240.0</td>\n",
       "    </tr>\n",
       "    <tr>\n",
       "      <th>14:00:00</th>\n",
       "      <td>37.0</td>\n",
       "      <td>30.4</td>\n",
       "      <td>NaN</td>\n",
       "      <td>NaN</td>\n",
       "      <td>NaN</td>\n",
       "    </tr>\n",
       "    <tr>\n",
       "      <th>16:00:00</th>\n",
       "      <td>36.8</td>\n",
       "      <td>30.4</td>\n",
       "      <td>NaN</td>\n",
       "      <td>NaN</td>\n",
       "      <td>NaN</td>\n",
       "    </tr>\n",
       "    <tr>\n",
       "      <th>16:30:00</th>\n",
       "      <td>NaN</td>\n",
       "      <td>NaN</td>\n",
       "      <td>36.2</td>\n",
       "      <td>32.6</td>\n",
       "      <td>210.0</td>\n",
       "    </tr>\n",
       "  </tbody>\n",
       "</table>\n",
       "</div>"
      ],
      "text/plain": [
       "          temperature_1  humidity_1  temperature_2  humidity_2  light\n",
       "08:00:00           36.6        30.0           35.9        32.2  200.0\n",
       "10:00:00           36.7        31.0           36.1        34.2  130.0\n",
       "13:00:00            NaN         NaN           36.5        30.9  240.0\n",
       "14:00:00           37.0        30.4            NaN         NaN    NaN\n",
       "16:00:00           36.8        30.4            NaN         NaN    NaN\n",
       "16:30:00            NaN         NaN           36.2        32.6  210.0"
      ]
     },
     "execution_count": 21,
     "metadata": {},
     "output_type": "execute_result"
    }
   ],
   "source": [
    "pd.merge(df_1,\n",
    "         df_2,\n",
    "         how=\"outer\",           # Keep all indices (rather than just the intersection)\n",
    "         left_index=True,       # Use left index\n",
    "         right_index=True,      # Use right index\n",
    "         suffixes=(\"_1\", \"_2\")) # Suffixes to use for overlapping columns"
   ]
  },
  {
   "cell_type": "markdown",
   "metadata": {},
   "source": [
    "The dataframe's [`merge()`](https://pandas.pydata.org/docs/reference/api/pandas.DataFrame.merge.html) method also enables easily combining columns from a different (but similarly indexed) dataframe:"
   ]
  },
  {
   "cell_type": "code",
   "execution_count": 22,
   "metadata": {},
   "outputs": [
    {
     "data": {
      "application/vnd.microsoft.datawrangler.viewer.v0+json": {
       "columns": [
        {
         "name": "index",
         "rawType": "int64",
         "type": "integer"
        },
        {
         "name": "ID",
         "rawType": "int64",
         "type": "integer"
        },
        {
         "name": "Blood Volume",
         "rawType": "int64",
         "type": "integer"
        }
       ],
       "conversionMethod": "pd.DataFrame",
       "ref": "3913a1d3-6bce-405b-a239-c4188d65401c",
       "rows": [
        [
         "0",
         "500",
         "100"
        ],
        [
         "1",
         "501",
         "102"
        ],
        [
         "2",
         "502",
         "99"
        ],
        [
         "3",
         "503",
         "101"
        ]
       ],
       "shape": {
        "columns": 2,
        "rows": 4
       }
      },
      "text/html": [
       "<div>\n",
       "<style scoped>\n",
       "    .dataframe tbody tr th:only-of-type {\n",
       "        vertical-align: middle;\n",
       "    }\n",
       "\n",
       "    .dataframe tbody tr th {\n",
       "        vertical-align: top;\n",
       "    }\n",
       "\n",
       "    .dataframe thead th {\n",
       "        text-align: right;\n",
       "    }\n",
       "</style>\n",
       "<table border=\"1\" class=\"dataframe\">\n",
       "  <thead>\n",
       "    <tr style=\"text-align: right;\">\n",
       "      <th></th>\n",
       "      <th>ID</th>\n",
       "      <th>Blood Volume</th>\n",
       "    </tr>\n",
       "  </thead>\n",
       "  <tbody>\n",
       "    <tr>\n",
       "      <th>0</th>\n",
       "      <td>500</td>\n",
       "      <td>100</td>\n",
       "    </tr>\n",
       "    <tr>\n",
       "      <th>1</th>\n",
       "      <td>501</td>\n",
       "      <td>102</td>\n",
       "    </tr>\n",
       "    <tr>\n",
       "      <th>2</th>\n",
       "      <td>502</td>\n",
       "      <td>99</td>\n",
       "    </tr>\n",
       "    <tr>\n",
       "      <th>3</th>\n",
       "      <td>503</td>\n",
       "      <td>101</td>\n",
       "    </tr>\n",
       "  </tbody>\n",
       "</table>\n",
       "</div>"
      ],
      "text/plain": [
       "    ID  Blood Volume\n",
       "0  500           100\n",
       "1  501           102\n",
       "2  502            99\n",
       "3  503           101"
      ]
     },
     "execution_count": 22,
     "metadata": {},
     "output_type": "execute_result"
    }
   ],
   "source": [
    "mouse_id = [511, 512, 513, 514]\n",
    "meas1 = [67, 66, 89, 92]\n",
    "meas2 = [45, 45, 65, 61]\n",
    "\n",
    "data_1 = {\"ID\": [500, 501, 502, 503], \"Blood Volume\": [100, 102, 99, 101]}\n",
    "data_2 = {\"ID\": [500, 501, 502, 503], \"Monocytes\": [20, 19, 25, 21]}\n",
    "\n",
    "df_1 = pd.DataFrame(data_1)\n",
    "df_2 = pd.DataFrame(data_2)\n",
    "df_1"
   ]
  },
  {
   "cell_type": "code",
   "execution_count": 23,
   "metadata": {},
   "outputs": [
    {
     "data": {
      "application/vnd.microsoft.datawrangler.viewer.v0+json": {
       "columns": [
        {
         "name": "index",
         "rawType": "int64",
         "type": "integer"
        },
        {
         "name": "ID",
         "rawType": "int64",
         "type": "integer"
        },
        {
         "name": "Blood Volume",
         "rawType": "int64",
         "type": "integer"
        },
        {
         "name": "Monocytes",
         "rawType": "int64",
         "type": "integer"
        }
       ],
       "conversionMethod": "pd.DataFrame",
       "ref": "6ac7b8e8-a626-43d2-9f7b-a6969fec2723",
       "rows": [
        [
         "0",
         "500",
         "100",
         "20"
        ],
        [
         "1",
         "501",
         "102",
         "19"
        ],
        [
         "2",
         "502",
         "99",
         "25"
        ],
        [
         "3",
         "503",
         "101",
         "21"
        ]
       ],
       "shape": {
        "columns": 3,
        "rows": 4
       }
      },
      "text/html": [
       "<div>\n",
       "<style scoped>\n",
       "    .dataframe tbody tr th:only-of-type {\n",
       "        vertical-align: middle;\n",
       "    }\n",
       "\n",
       "    .dataframe tbody tr th {\n",
       "        vertical-align: top;\n",
       "    }\n",
       "\n",
       "    .dataframe thead th {\n",
       "        text-align: right;\n",
       "    }\n",
       "</style>\n",
       "<table border=\"1\" class=\"dataframe\">\n",
       "  <thead>\n",
       "    <tr style=\"text-align: right;\">\n",
       "      <th></th>\n",
       "      <th>ID</th>\n",
       "      <th>Blood Volume</th>\n",
       "      <th>Monocytes</th>\n",
       "    </tr>\n",
       "  </thead>\n",
       "  <tbody>\n",
       "    <tr>\n",
       "      <th>0</th>\n",
       "      <td>500</td>\n",
       "      <td>100</td>\n",
       "      <td>20</td>\n",
       "    </tr>\n",
       "    <tr>\n",
       "      <th>1</th>\n",
       "      <td>501</td>\n",
       "      <td>102</td>\n",
       "      <td>19</td>\n",
       "    </tr>\n",
       "    <tr>\n",
       "      <th>2</th>\n",
       "      <td>502</td>\n",
       "      <td>99</td>\n",
       "      <td>25</td>\n",
       "    </tr>\n",
       "    <tr>\n",
       "      <th>3</th>\n",
       "      <td>503</td>\n",
       "      <td>101</td>\n",
       "      <td>21</td>\n",
       "    </tr>\n",
       "  </tbody>\n",
       "</table>\n",
       "</div>"
      ],
      "text/plain": [
       "    ID  Blood Volume  Monocytes\n",
       "0  500           100         20\n",
       "1  501           102         19\n",
       "2  502            99         25\n",
       "3  503           101         21"
      ]
     },
     "execution_count": 23,
     "metadata": {},
     "output_type": "execute_result"
    }
   ],
   "source": [
    "df_1.merge(df_2)  # merge identified that the only \"key\" connecting the two tables was the 'id' key"
   ]
  },
  {
   "cell_type": "markdown",
   "metadata": {},
   "source": [
    "Database-like operations are a very broad topic with advanced implementations in pandas."
   ]
  },
  {
   "cell_type": "markdown",
   "metadata": {},
   "source": [
    "`````{admonition} Concatenation and Merging Exercise\n",
    "* Create three dataframes with random values and shapes of (10, 2), (10, 1), (15, 3). Their index should be simple ordinal integers, and their column names should be different.\n",
    "\n",
    "````{dropdown} Solution\n",
    "```python\n",
    "df_1 = pd.DataFrame(np.random.random((10, 2)), columns=['a', 'b'])\n",
    "df_2 = pd.DataFrame(np.random.random((10, 1)), columns=['c'])\n",
    "df_3 = pd.DataFrame(np.random.random((15, 3)), columns=['d', 'e', 'f'])\n",
    "```\n",
    "````\n",
    "\n",
    "* Concatenate these dataframes over the second axis using `pd.concat()`.\n",
    "\n",
    "````{dropdown} Solution\n",
    "```python\n",
    "pd.concat([df_1, df_2, df_3], axis=1)\n",
    "```\n",
    "````\n",
    "\n",
    "* Concatenate these dataframes over the second axis using `pd.merge()`.\n",
    "\n",
    "````{dropdown} Solution\n",
    "```python\n",
    "merge_kwargs = {\"how\": \"outer\", \"left_index\": True, \"right_index\": True}\n",
    "pd.merge(pd.merge(df_1, df_2, **merge_kwargs), df_3, **merge_kwargs)\n",
    "```\n",
    "````\n",
    "`````"
   ]
  },
  {
   "cell_type": "markdown",
   "metadata": {},
   "source": [
    "### Grouping"
   ]
  },
  {
   "cell_type": "markdown",
   "metadata": {},
   "source": [
    "Yet another SQL-like feature that pandas posses is the group-by operation, sometimes known as \"split-apply-combine\"."
   ]
  },
  {
   "cell_type": "code",
   "execution_count": 24,
   "metadata": {},
   "outputs": [
    {
     "data": {
      "application/vnd.microsoft.datawrangler.viewer.v0+json": {
       "columns": [
        {
         "name": "Subject ID",
         "rawType": "int64",
         "type": "integer"
        },
        {
         "name": "Alive",
         "rawType": "bool",
         "type": "boolean"
        },
        {
         "name": "Placebo",
         "rawType": "bool",
         "type": "boolean"
        },
        {
         "name": "Measurement 1",
         "rawType": "float64",
         "type": "float"
        },
        {
         "name": "Measurement 2",
         "rawType": "float64",
         "type": "float"
        }
       ],
       "conversionMethod": "pd.DataFrame",
       "ref": "81a341ab-81ce-4e55-851b-0c7a0ea65a66",
       "rows": [
        [
         "100",
         "False",
         "True",
         "0.6935775190667726",
         "0.10921536255115072"
        ],
        [
         "101",
         "True",
         "True",
         "0.5363965460973326",
         "0.6629250689614454"
        ],
        [
         "102",
         "False",
         "False",
         "0.22419156341979463",
         "0.007914920877061027"
        ],
        [
         "103",
         "True",
         "False",
         "0.5410268537469561",
         "0.9735934652067512"
        ],
        [
         "104",
         "False",
         "False",
         "0.49738401571572854",
         "0.2682095401742487"
        ],
        [
         "105",
         "False",
         "False",
         "0.5505038437992185",
         "0.5445361270613536"
        ],
        [
         "106",
         "True",
         "True",
         "0.07202459100268599",
         "0.7433314955353425"
        ],
        [
         "107",
         "False",
         "False",
         "0.5206887505690106",
         "0.15185939590315423"
        ],
        [
         "108",
         "True",
         "False",
         "0.9822957752053167",
         "0.9696096014691836"
        ],
        [
         "109",
         "False",
         "True",
         "0.35296449319208534",
         "0.7428332103587424"
        ],
        [
         "110",
         "False",
         "False",
         "0.39670506724184706",
         "0.19958440620184836"
        ],
        [
         "111",
         "False",
         "False",
         "0.1541776062781578",
         "0.8519252196428939"
        ],
        [
         "112",
         "False",
         "False",
         "0.49282936719009285",
         "0.9889032599172298"
        ],
        [
         "113",
         "False",
         "True",
         "0.9383800393516734",
         "0.338933739532557"
        ],
        [
         "114",
         "False",
         "False",
         "0.620196383583361",
         "0.44367941221323326"
        ],
        [
         "115",
         "False",
         "True",
         "0.41688531064351364",
         "0.7140170585949214"
        ],
        [
         "116",
         "False",
         "True",
         "0.7963451312618999",
         "0.08960137131928225"
        ],
        [
         "117",
         "True",
         "False",
         "0.6417041618577696",
         "0.4758928291605319"
        ],
        [
         "118",
         "True",
         "True",
         "0.25313861329627974",
         "0.3225121939610591"
        ],
        [
         "119",
         "False",
         "False",
         "0.7417990051421088",
         "0.4023890716795314"
        ],
        [
         "120",
         "True",
         "True",
         "0.051512801353920334",
         "0.4488818151303524"
        ],
        [
         "121",
         "True",
         "True",
         "0.47366559017374943",
         "0.1706565504083858"
        ],
        [
         "122",
         "True",
         "True",
         "0.0491288495478287",
         "0.40197142164837274"
        ],
        [
         "123",
         "False",
         "True",
         "0.8270180327348224",
         "0.1703031217158799"
        ],
        [
         "124",
         "False",
         "True",
         "0.6642586225097638",
         "0.8679452749040723"
        ],
        [
         "125",
         "False",
         "True",
         "0.8055954983666215",
         "0.9468071890791193"
        ],
        [
         "126",
         "False",
         "False",
         "0.5833926733979223",
         "0.08043312005228886"
        ],
        [
         "127",
         "True",
         "False",
         "0.8961022644698317",
         "0.021186661281228814"
        ],
        [
         "128",
         "True",
         "True",
         "0.9674763689348742",
         "0.7055450080146198"
        ],
        [
         "129",
         "True",
         "True",
         "0.4104482030899377",
         "0.8153834209765451"
        ],
        [
         "130",
         "False",
         "False",
         "0.15099722240935387",
         "0.17631722433192776"
        ],
        [
         "131",
         "False",
         "False",
         "0.5560568947507764",
         "0.5790731235715351"
        ],
        [
         "132",
         "True",
         "True",
         "0.5600035157130914",
         "0.9953851758269318"
        ],
        [
         "133",
         "True",
         "False",
         "0.6437133568378031",
         "0.8781269005141733"
        ],
        [
         "134",
         "True",
         "False",
         "0.6728002803026402",
         "0.2916421281558017"
        ],
        [
         "135",
         "False",
         "False",
         "0.8510570925830697",
         "0.9990502155143397"
        ],
        [
         "136",
         "True",
         "True",
         "0.45633349331963735",
         "0.6288997020366615"
        ],
        [
         "137",
         "True",
         "False",
         "0.4035283025754347",
         "0.08097450985226795"
        ],
        [
         "138",
         "True",
         "True",
         "0.6447284353435465",
         "0.1269016132344244"
        ],
        [
         "139",
         "False",
         "False",
         "0.6515013724022295",
         "0.5520025620361982"
        ],
        [
         "140",
         "True",
         "False",
         "0.0717907329580777",
         "0.8498837522370735"
        ],
        [
         "141",
         "False",
         "True",
         "0.9315872202213001",
         "0.08110281335523828"
        ],
        [
         "142",
         "False",
         "True",
         "0.021940399887209527",
         "0.995820832903731"
        ],
        [
         "143",
         "False",
         "False",
         "0.7274696527862542",
         "0.19284815784154863"
        ],
        [
         "144",
         "False",
         "True",
         "0.15933015800148298",
         "0.20187583622899685"
        ],
        [
         "145",
         "True",
         "True",
         "0.4609113960936019",
         "0.5597350853805979"
        ],
        [
         "146",
         "False",
         "False",
         "0.22576158605620866",
         "0.15039695765233196"
        ],
        [
         "147",
         "True",
         "False",
         "0.6743000424970481",
         "0.9945511031579954"
        ],
        [
         "148",
         "True",
         "True",
         "0.3346075469196168",
         "0.1596790712887659"
        ],
        [
         "149",
         "True",
         "False",
         "0.6483348518384937",
         "0.3477299291062551"
        ]
       ],
       "shape": {
        "columns": 4,
        "rows": 100
       }
      },
      "text/html": [
       "<div>\n",
       "<style scoped>\n",
       "    .dataframe tbody tr th:only-of-type {\n",
       "        vertical-align: middle;\n",
       "    }\n",
       "\n",
       "    .dataframe tbody tr th {\n",
       "        vertical-align: top;\n",
       "    }\n",
       "\n",
       "    .dataframe thead th {\n",
       "        text-align: right;\n",
       "    }\n",
       "</style>\n",
       "<table border=\"1\" class=\"dataframe\">\n",
       "  <thead>\n",
       "    <tr style=\"text-align: right;\">\n",
       "      <th></th>\n",
       "      <th>Alive</th>\n",
       "      <th>Placebo</th>\n",
       "      <th>Measurement 1</th>\n",
       "      <th>Measurement 2</th>\n",
       "    </tr>\n",
       "    <tr>\n",
       "      <th>Subject ID</th>\n",
       "      <th></th>\n",
       "      <th></th>\n",
       "      <th></th>\n",
       "      <th></th>\n",
       "    </tr>\n",
       "  </thead>\n",
       "  <tbody>\n",
       "    <tr>\n",
       "      <th>100</th>\n",
       "      <td>False</td>\n",
       "      <td>True</td>\n",
       "      <td>0.693578</td>\n",
       "      <td>0.109215</td>\n",
       "    </tr>\n",
       "    <tr>\n",
       "      <th>101</th>\n",
       "      <td>True</td>\n",
       "      <td>True</td>\n",
       "      <td>0.536397</td>\n",
       "      <td>0.662925</td>\n",
       "    </tr>\n",
       "    <tr>\n",
       "      <th>102</th>\n",
       "      <td>False</td>\n",
       "      <td>False</td>\n",
       "      <td>0.224192</td>\n",
       "      <td>0.007915</td>\n",
       "    </tr>\n",
       "    <tr>\n",
       "      <th>103</th>\n",
       "      <td>True</td>\n",
       "      <td>False</td>\n",
       "      <td>0.541027</td>\n",
       "      <td>0.973593</td>\n",
       "    </tr>\n",
       "    <tr>\n",
       "      <th>104</th>\n",
       "      <td>False</td>\n",
       "      <td>False</td>\n",
       "      <td>0.497384</td>\n",
       "      <td>0.268210</td>\n",
       "    </tr>\n",
       "    <tr>\n",
       "      <th>...</th>\n",
       "      <td>...</td>\n",
       "      <td>...</td>\n",
       "      <td>...</td>\n",
       "      <td>...</td>\n",
       "    </tr>\n",
       "    <tr>\n",
       "      <th>195</th>\n",
       "      <td>True</td>\n",
       "      <td>True</td>\n",
       "      <td>0.001750</td>\n",
       "      <td>0.103425</td>\n",
       "    </tr>\n",
       "    <tr>\n",
       "      <th>196</th>\n",
       "      <td>True</td>\n",
       "      <td>False</td>\n",
       "      <td>0.339509</td>\n",
       "      <td>0.312900</td>\n",
       "    </tr>\n",
       "    <tr>\n",
       "      <th>197</th>\n",
       "      <td>False</td>\n",
       "      <td>False</td>\n",
       "      <td>0.825436</td>\n",
       "      <td>0.575736</td>\n",
       "    </tr>\n",
       "    <tr>\n",
       "      <th>198</th>\n",
       "      <td>False</td>\n",
       "      <td>False</td>\n",
       "      <td>0.340220</td>\n",
       "      <td>0.550900</td>\n",
       "    </tr>\n",
       "    <tr>\n",
       "      <th>199</th>\n",
       "      <td>True</td>\n",
       "      <td>True</td>\n",
       "      <td>0.202218</td>\n",
       "      <td>0.730814</td>\n",
       "    </tr>\n",
       "  </tbody>\n",
       "</table>\n",
       "<p>100 rows × 4 columns</p>\n",
       "</div>"
      ],
      "text/plain": [
       "            Alive  Placebo  Measurement 1  Measurement 2\n",
       "Subject ID                                              \n",
       "100         False     True       0.693578       0.109215\n",
       "101          True     True       0.536397       0.662925\n",
       "102         False    False       0.224192       0.007915\n",
       "103          True    False       0.541027       0.973593\n",
       "104         False    False       0.497384       0.268210\n",
       "...           ...      ...            ...            ...\n",
       "195          True     True       0.001750       0.103425\n",
       "196          True    False       0.339509       0.312900\n",
       "197         False    False       0.825436       0.575736\n",
       "198         False    False       0.340220       0.550900\n",
       "199          True     True       0.202218       0.730814\n",
       "\n",
       "[100 rows x 4 columns]"
      ]
     },
     "execution_count": 24,
     "metadata": {},
     "output_type": "execute_result"
    }
   ],
   "source": [
    "# Mock data\n",
    "subject = range(100, 200)\n",
    "alive = np.random.choice([True, False], 100)\n",
    "placebo = np.random.choice([True, False], 100)\n",
    "measurement_1 = np.random.random(100)\n",
    "measurement_2 = np.random.random(100)\n",
    "data = {\n",
    "    \"Subject ID\": subject,\n",
    "    \"Alive\": alive,\n",
    "    \"Placebo\": placebo,\n",
    "    \"Measurement 1\": measurement_1,\n",
    "    \"Measurement 2\": measurement_2\n",
    "}\n",
    "df = pd.DataFrame(data).set_index(\"Subject ID\")\n",
    "df"
   ]
  },
  {
   "cell_type": "markdown",
   "metadata": {},
   "source": [
    "The most sensible thing to do is to group by either the \"Alive\" or the \"Placebo\" columns (or both). This is the \"split\" part."
   ]
  },
  {
   "cell_type": "code",
   "execution_count": 25,
   "metadata": {},
   "outputs": [
    {
     "data": {
      "text/plain": [
       "<pandas.core.groupby.generic.DataFrameGroupBy object at 0x78ae0be4b110>"
      ]
     },
     "execution_count": 25,
     "metadata": {},
     "output_type": "execute_result"
    }
   ],
   "source": [
    "grouped = df.groupby('Alive')\n",
    "grouped  # DataFrameGroupBy object - intermediate object ready to be evaluated"
   ]
  },
  {
   "cell_type": "markdown",
   "metadata": {},
   "source": [
    "This intermediate object is an internal pandas representation which should allow it to run very fast computation the moment we want to actually _know_ something about these groups. Assuming we want the mean of `Measurement 1`, as long as we won't specifically write `grouped.mean()` pandas will do very little in terms of actual computation. It's called \"lazy evaluation\".\n",
    "\n",
    "The intermediate object has some useful attributes:"
   ]
  },
  {
   "cell_type": "code",
   "execution_count": 26,
   "metadata": {},
   "outputs": [
    {
     "data": {
      "text/plain": [
       "{False: [100, 102, 104, 105, 107, 109, 110, 111, 112, 113, 114, 115, 116, 119, 123, 124, 125, 126, 130, 131, 135, 139, 141, 142, 143, 144, 146, 151, 152, 153, 155, 156, 157, 158, 165, 166, 168, 169, 170, 171, 173, 174, 179, 184, 187, 191, 192, 193, 197, 198], True: [101, 103, 106, 108, 117, 118, 120, 121, 122, 127, 128, 129, 132, 133, 134, 136, 137, 138, 140, 145, 147, 148, 149, 150, 154, 159, 160, 161, 162, 163, 164, 167, 172, 175, 176, 177, 178, 180, 181, 182, 183, 185, 186, 188, 189, 190, 194, 195, 196, 199]}"
      ]
     },
     "execution_count": 26,
     "metadata": {},
     "output_type": "execute_result"
    }
   ],
   "source": [
    "grouped.groups"
   ]
  },
  {
   "cell_type": "code",
   "execution_count": 27,
   "metadata": {},
   "outputs": [
    {
     "data": {
      "text/plain": [
       "2"
      ]
     },
     "execution_count": 27,
     "metadata": {},
     "output_type": "execute_result"
    }
   ],
   "source": [
    "len(grouped)  # True and False"
   ]
  },
  {
   "cell_type": "markdown",
   "metadata": {},
   "source": [
    "If we wish to run some actual processing, we have to use an aggregation function:"
   ]
  },
  {
   "cell_type": "code",
   "execution_count": 28,
   "metadata": {},
   "outputs": [
    {
     "data": {
      "application/vnd.microsoft.datawrangler.viewer.v0+json": {
       "columns": [
        {
         "name": "Alive",
         "rawType": "bool",
         "type": "boolean"
        },
        {
         "name": "Placebo",
         "rawType": "int64",
         "type": "integer"
        },
        {
         "name": "Measurement 1",
         "rawType": "float64",
         "type": "float"
        },
        {
         "name": "Measurement 2",
         "rawType": "float64",
         "type": "float"
        }
       ],
       "conversionMethod": "pd.DataFrame",
       "ref": "d730084c-47f3-4218-9136-4cbfa027540b",
       "rows": [
        [
         "False",
         "19",
         "26.355716873415414",
         "24.21152302210394"
        ],
        [
         "True",
         "29",
         "23.786082305587883",
         "28.60754652561909"
        ]
       ],
       "shape": {
        "columns": 3,
        "rows": 2
       }
      },
      "text/html": [
       "<div>\n",
       "<style scoped>\n",
       "    .dataframe tbody tr th:only-of-type {\n",
       "        vertical-align: middle;\n",
       "    }\n",
       "\n",
       "    .dataframe tbody tr th {\n",
       "        vertical-align: top;\n",
       "    }\n",
       "\n",
       "    .dataframe thead th {\n",
       "        text-align: right;\n",
       "    }\n",
       "</style>\n",
       "<table border=\"1\" class=\"dataframe\">\n",
       "  <thead>\n",
       "    <tr style=\"text-align: right;\">\n",
       "      <th></th>\n",
       "      <th>Placebo</th>\n",
       "      <th>Measurement 1</th>\n",
       "      <th>Measurement 2</th>\n",
       "    </tr>\n",
       "    <tr>\n",
       "      <th>Alive</th>\n",
       "      <th></th>\n",
       "      <th></th>\n",
       "      <th></th>\n",
       "    </tr>\n",
       "  </thead>\n",
       "  <tbody>\n",
       "    <tr>\n",
       "      <th>False</th>\n",
       "      <td>19</td>\n",
       "      <td>26.355717</td>\n",
       "      <td>24.211523</td>\n",
       "    </tr>\n",
       "    <tr>\n",
       "      <th>True</th>\n",
       "      <td>29</td>\n",
       "      <td>23.786082</td>\n",
       "      <td>28.607547</td>\n",
       "    </tr>\n",
       "  </tbody>\n",
       "</table>\n",
       "</div>"
      ],
      "text/plain": [
       "       Placebo  Measurement 1  Measurement 2\n",
       "Alive                                       \n",
       "False       19      26.355717      24.211523\n",
       "True        29      23.786082      28.607547"
      ]
     },
     "execution_count": 28,
     "metadata": {},
     "output_type": "execute_result"
    }
   ],
   "source": [
    "grouped.sum()"
   ]
  },
  {
   "cell_type": "code",
   "execution_count": 29,
   "metadata": {
    "scrolled": true
   },
   "outputs": [
    {
     "data": {
      "application/vnd.microsoft.datawrangler.viewer.v0+json": {
       "columns": [
        {
         "name": "Alive",
         "rawType": "bool",
         "type": "boolean"
        },
        {
         "name": "Placebo",
         "rawType": "float64",
         "type": "float"
        },
        {
         "name": "Measurement 1",
         "rawType": "float64",
         "type": "float"
        },
        {
         "name": "Measurement 2",
         "rawType": "float64",
         "type": "float"
        }
       ],
       "conversionMethod": "pd.DataFrame",
       "ref": "d80111d1-eabd-482c-bbcc-4d4a077b864d",
       "rows": [
        [
         "False",
         "0.38",
         "0.5271143374683083",
         "0.4842304604420788"
        ],
        [
         "True",
         "0.58",
         "0.47572164611175766",
         "0.5721509305123818"
        ]
       ],
       "shape": {
        "columns": 3,
        "rows": 2
       }
      },
      "text/html": [
       "<div>\n",
       "<style scoped>\n",
       "    .dataframe tbody tr th:only-of-type {\n",
       "        vertical-align: middle;\n",
       "    }\n",
       "\n",
       "    .dataframe tbody tr th {\n",
       "        vertical-align: top;\n",
       "    }\n",
       "\n",
       "    .dataframe thead th {\n",
       "        text-align: right;\n",
       "    }\n",
       "</style>\n",
       "<table border=\"1\" class=\"dataframe\">\n",
       "  <thead>\n",
       "    <tr style=\"text-align: right;\">\n",
       "      <th></th>\n",
       "      <th>Placebo</th>\n",
       "      <th>Measurement 1</th>\n",
       "      <th>Measurement 2</th>\n",
       "    </tr>\n",
       "    <tr>\n",
       "      <th>Alive</th>\n",
       "      <th></th>\n",
       "      <th></th>\n",
       "      <th></th>\n",
       "    </tr>\n",
       "  </thead>\n",
       "  <tbody>\n",
       "    <tr>\n",
       "      <th>False</th>\n",
       "      <td>0.38</td>\n",
       "      <td>0.527114</td>\n",
       "      <td>0.484230</td>\n",
       "    </tr>\n",
       "    <tr>\n",
       "      <th>True</th>\n",
       "      <td>0.58</td>\n",
       "      <td>0.475722</td>\n",
       "      <td>0.572151</td>\n",
       "    </tr>\n",
       "  </tbody>\n",
       "</table>\n",
       "</div>"
      ],
      "text/plain": [
       "       Placebo  Measurement 1  Measurement 2\n",
       "Alive                                       \n",
       "False     0.38       0.527114       0.484230\n",
       "True      0.58       0.475722       0.572151"
      ]
     },
     "execution_count": 29,
     "metadata": {},
     "output_type": "execute_result"
    }
   ],
   "source": [
    "grouped.mean()"
   ]
  },
  {
   "cell_type": "code",
   "execution_count": 30,
   "metadata": {},
   "outputs": [
    {
     "data": {
      "text/plain": [
       "Alive\n",
       "False    50\n",
       "True     50\n",
       "dtype: int64"
      ]
     },
     "execution_count": 30,
     "metadata": {},
     "output_type": "execute_result"
    }
   ],
   "source": [
    "grouped.size()"
   ]
  },
  {
   "cell_type": "markdown",
   "metadata": {},
   "source": [
    "If we just wish to see one of the groups, we can use `get_group()`:"
   ]
  },
  {
   "cell_type": "code",
   "execution_count": 31,
   "metadata": {},
   "outputs": [
    {
     "data": {
      "application/vnd.microsoft.datawrangler.viewer.v0+json": {
       "columns": [
        {
         "name": "Subject ID",
         "rawType": "int64",
         "type": "integer"
        },
        {
         "name": "Alive",
         "rawType": "bool",
         "type": "boolean"
        },
        {
         "name": "Placebo",
         "rawType": "bool",
         "type": "boolean"
        },
        {
         "name": "Measurement 1",
         "rawType": "float64",
         "type": "float"
        },
        {
         "name": "Measurement 2",
         "rawType": "float64",
         "type": "float"
        }
       ],
       "conversionMethod": "pd.DataFrame",
       "ref": "ced203dc-9bdc-4778-914b-d08c2c83c27f",
       "rows": [
        [
         "101",
         "True",
         "True",
         "0.5363965460973326",
         "0.6629250689614454"
        ],
        [
         "103",
         "True",
         "False",
         "0.5410268537469561",
         "0.9735934652067512"
        ],
        [
         "106",
         "True",
         "True",
         "0.07202459100268599",
         "0.7433314955353425"
        ],
        [
         "108",
         "True",
         "False",
         "0.9822957752053167",
         "0.9696096014691836"
        ],
        [
         "117",
         "True",
         "False",
         "0.6417041618577696",
         "0.4758928291605319"
        ]
       ],
       "shape": {
        "columns": 4,
        "rows": 5
       }
      },
      "text/html": [
       "<div>\n",
       "<style scoped>\n",
       "    .dataframe tbody tr th:only-of-type {\n",
       "        vertical-align: middle;\n",
       "    }\n",
       "\n",
       "    .dataframe tbody tr th {\n",
       "        vertical-align: top;\n",
       "    }\n",
       "\n",
       "    .dataframe thead th {\n",
       "        text-align: right;\n",
       "    }\n",
       "</style>\n",
       "<table border=\"1\" class=\"dataframe\">\n",
       "  <thead>\n",
       "    <tr style=\"text-align: right;\">\n",
       "      <th></th>\n",
       "      <th>Alive</th>\n",
       "      <th>Placebo</th>\n",
       "      <th>Measurement 1</th>\n",
       "      <th>Measurement 2</th>\n",
       "    </tr>\n",
       "    <tr>\n",
       "      <th>Subject ID</th>\n",
       "      <th></th>\n",
       "      <th></th>\n",
       "      <th></th>\n",
       "      <th></th>\n",
       "    </tr>\n",
       "  </thead>\n",
       "  <tbody>\n",
       "    <tr>\n",
       "      <th>101</th>\n",
       "      <td>True</td>\n",
       "      <td>True</td>\n",
       "      <td>0.536397</td>\n",
       "      <td>0.662925</td>\n",
       "    </tr>\n",
       "    <tr>\n",
       "      <th>103</th>\n",
       "      <td>True</td>\n",
       "      <td>False</td>\n",
       "      <td>0.541027</td>\n",
       "      <td>0.973593</td>\n",
       "    </tr>\n",
       "    <tr>\n",
       "      <th>106</th>\n",
       "      <td>True</td>\n",
       "      <td>True</td>\n",
       "      <td>0.072025</td>\n",
       "      <td>0.743331</td>\n",
       "    </tr>\n",
       "    <tr>\n",
       "      <th>108</th>\n",
       "      <td>True</td>\n",
       "      <td>False</td>\n",
       "      <td>0.982296</td>\n",
       "      <td>0.969610</td>\n",
       "    </tr>\n",
       "    <tr>\n",
       "      <th>117</th>\n",
       "      <td>True</td>\n",
       "      <td>False</td>\n",
       "      <td>0.641704</td>\n",
       "      <td>0.475893</td>\n",
       "    </tr>\n",
       "  </tbody>\n",
       "</table>\n",
       "</div>"
      ],
      "text/plain": [
       "            Alive  Placebo  Measurement 1  Measurement 2\n",
       "Subject ID                                              \n",
       "101          True     True       0.536397       0.662925\n",
       "103          True    False       0.541027       0.973593\n",
       "106          True     True       0.072025       0.743331\n",
       "108          True    False       0.982296       0.969610\n",
       "117          True    False       0.641704       0.475893"
      ]
     },
     "execution_count": 31,
     "metadata": {},
     "output_type": "execute_result"
    }
   ],
   "source": [
    "grouped.get_group(True).head()"
   ]
  },
  {
   "cell_type": "markdown",
   "metadata": {},
   "source": [
    "We can also call several functions at once using the `.agg` attribute:"
   ]
  },
  {
   "cell_type": "code",
   "execution_count": 32,
   "metadata": {},
   "outputs": [
    {
     "name": "stderr",
     "output_type": "stream",
     "text": [
      "/tmp/ipykernel_234405/773109026.py:1: FutureWarning: The provided callable <function mean at 0x78ae7c5f6840> is currently using SeriesGroupBy.mean. In a future version of pandas, the provided callable will be used directly. To keep current behavior pass the string \"mean\" instead.\n",
      "  grouped.agg([np.mean, np.std]).drop(\"Placebo\", axis=1)\n",
      "/tmp/ipykernel_234405/773109026.py:1: FutureWarning: The provided callable <function std at 0x78ae7c5f6980> is currently using SeriesGroupBy.std. In a future version of pandas, the provided callable will be used directly. To keep current behavior pass the string \"std\" instead.\n",
      "  grouped.agg([np.mean, np.std]).drop(\"Placebo\", axis=1)\n"
     ]
    },
    {
     "data": {
      "application/vnd.microsoft.datawrangler.viewer.v0+json": {
       "columns": [
        {
         "name": "Alive",
         "rawType": "bool",
         "type": "boolean"
        },
        {
         "name": "('Measurement 1', 'mean')",
         "rawType": "float64",
         "type": "float"
        },
        {
         "name": "('Measurement 1', 'std')",
         "rawType": "float64",
         "type": "float"
        },
        {
         "name": "('Measurement 2', 'mean')",
         "rawType": "float64",
         "type": "float"
        },
        {
         "name": "('Measurement 2', 'std')",
         "rawType": "float64",
         "type": "float"
        }
       ],
       "conversionMethod": "pd.DataFrame",
       "ref": "6f0f0364-da30-4651-b50f-689ad22c4b41",
       "rows": [
        [
         "False",
         "0.5271143374683083",
         "0.26359150266069875",
         "0.4842304604420788",
         "0.32347517306793816"
        ],
        [
         "True",
         "0.47572164611175766",
         "0.2794442193324738",
         "0.5721509305123818",
         "0.3019038715678899"
        ]
       ],
       "shape": {
        "columns": 4,
        "rows": 2
       }
      },
      "text/html": [
       "<div>\n",
       "<style scoped>\n",
       "    .dataframe tbody tr th:only-of-type {\n",
       "        vertical-align: middle;\n",
       "    }\n",
       "\n",
       "    .dataframe tbody tr th {\n",
       "        vertical-align: top;\n",
       "    }\n",
       "\n",
       "    .dataframe thead tr th {\n",
       "        text-align: left;\n",
       "    }\n",
       "\n",
       "    .dataframe thead tr:last-of-type th {\n",
       "        text-align: right;\n",
       "    }\n",
       "</style>\n",
       "<table border=\"1\" class=\"dataframe\">\n",
       "  <thead>\n",
       "    <tr>\n",
       "      <th></th>\n",
       "      <th colspan=\"2\" halign=\"left\">Measurement 1</th>\n",
       "      <th colspan=\"2\" halign=\"left\">Measurement 2</th>\n",
       "    </tr>\n",
       "    <tr>\n",
       "      <th></th>\n",
       "      <th>mean</th>\n",
       "      <th>std</th>\n",
       "      <th>mean</th>\n",
       "      <th>std</th>\n",
       "    </tr>\n",
       "    <tr>\n",
       "      <th>Alive</th>\n",
       "      <th></th>\n",
       "      <th></th>\n",
       "      <th></th>\n",
       "      <th></th>\n",
       "    </tr>\n",
       "  </thead>\n",
       "  <tbody>\n",
       "    <tr>\n",
       "      <th>False</th>\n",
       "      <td>0.527114</td>\n",
       "      <td>0.263592</td>\n",
       "      <td>0.484230</td>\n",
       "      <td>0.323475</td>\n",
       "    </tr>\n",
       "    <tr>\n",
       "      <th>True</th>\n",
       "      <td>0.475722</td>\n",
       "      <td>0.279444</td>\n",
       "      <td>0.572151</td>\n",
       "      <td>0.301904</td>\n",
       "    </tr>\n",
       "  </tbody>\n",
       "</table>\n",
       "</div>"
      ],
      "text/plain": [
       "      Measurement 1           Measurement 2          \n",
       "               mean       std          mean       std\n",
       "Alive                                                \n",
       "False      0.527114  0.263592      0.484230  0.323475\n",
       "True       0.475722  0.279444      0.572151  0.301904"
      ]
     },
     "execution_count": 32,
     "metadata": {},
     "output_type": "execute_result"
    }
   ],
   "source": [
    "grouped.agg([np.mean, np.std]).drop(\"Placebo\", axis=1)"
   ]
  },
  {
   "cell_type": "markdown",
   "metadata": {},
   "source": [
    "Grouping by multiple columns:"
   ]
  },
  {
   "cell_type": "code",
   "execution_count": 33,
   "metadata": {},
   "outputs": [
    {
     "data": {
      "text/plain": [
       "<pandas.core.groupby.generic.DataFrameGroupBy object at 0x78ae0b608410>"
      ]
     },
     "execution_count": 33,
     "metadata": {},
     "output_type": "execute_result"
    }
   ],
   "source": [
    "grouped2 = df.groupby(['Alive', 'Placebo'])\n",
    "grouped2"
   ]
  },
  {
   "cell_type": "code",
   "execution_count": 34,
   "metadata": {},
   "outputs": [
    {
     "name": "stderr",
     "output_type": "stream",
     "text": [
      "/tmp/ipykernel_234405/557621468.py:1: FutureWarning: The provided callable <function sum at 0x78ae7c5f5440> is currently using SeriesGroupBy.sum. In a future version of pandas, the provided callable will be used directly. To keep current behavior pass the string \"sum\" instead.\n",
      "  grouped2.agg([np.sum, np.var])\n",
      "/tmp/ipykernel_234405/557621468.py:1: FutureWarning: The provided callable <function var at 0x78ae7c5f6ac0> is currently using SeriesGroupBy.var. In a future version of pandas, the provided callable will be used directly. To keep current behavior pass the string \"var\" instead.\n",
      "  grouped2.agg([np.sum, np.var])\n"
     ]
    },
    {
     "data": {
      "application/vnd.microsoft.datawrangler.viewer.v0+json": {
       "columns": [
        {
         "name": "('Alive', 'Placebo')",
         "rawType": "object",
         "type": "unknown"
        },
        {
         "name": "('Measurement 1', 'sum')",
         "rawType": "float64",
         "type": "float"
        },
        {
         "name": "('Measurement 1', 'var')",
         "rawType": "float64",
         "type": "float"
        },
        {
         "name": "('Measurement 2', 'sum')",
         "rawType": "float64",
         "type": "float"
        },
        {
         "name": "('Measurement 2', 'var')",
         "rawType": "float64",
         "type": "float"
        }
       ],
       "conversionMethod": "pd.DataFrame",
       "ref": "02674679-b19e-4da6-b6c9-4136b1274bec",
       "rows": [
        [
         "(np.False_, np.False_)",
         "14.460489981082905",
         "0.0633276257700143",
         "15.173510110028245",
         "0.09622415377618784"
        ],
        [
         "(np.False_, np.True_)",
         "11.89522689233251",
         "0.06692574527337684",
         "9.038012912075697",
         "0.12434503674853357"
        ],
        [
         "(np.True_, np.False_)",
         "10.230053380810036",
         "0.07938679622180603",
         "12.305694968465605",
         "0.1136902204453282"
        ],
        [
         "(np.True_, np.True_)",
         "13.556028924777847",
         "0.07978226830601673",
         "16.301851557153483",
         "0.07805061506685404"
        ]
       ],
       "shape": {
        "columns": 4,
        "rows": 4
       }
      },
      "text/html": [
       "<div>\n",
       "<style scoped>\n",
       "    .dataframe tbody tr th:only-of-type {\n",
       "        vertical-align: middle;\n",
       "    }\n",
       "\n",
       "    .dataframe tbody tr th {\n",
       "        vertical-align: top;\n",
       "    }\n",
       "\n",
       "    .dataframe thead tr th {\n",
       "        text-align: left;\n",
       "    }\n",
       "\n",
       "    .dataframe thead tr:last-of-type th {\n",
       "        text-align: right;\n",
       "    }\n",
       "</style>\n",
       "<table border=\"1\" class=\"dataframe\">\n",
       "  <thead>\n",
       "    <tr>\n",
       "      <th></th>\n",
       "      <th></th>\n",
       "      <th colspan=\"2\" halign=\"left\">Measurement 1</th>\n",
       "      <th colspan=\"2\" halign=\"left\">Measurement 2</th>\n",
       "    </tr>\n",
       "    <tr>\n",
       "      <th></th>\n",
       "      <th></th>\n",
       "      <th>sum</th>\n",
       "      <th>var</th>\n",
       "      <th>sum</th>\n",
       "      <th>var</th>\n",
       "    </tr>\n",
       "    <tr>\n",
       "      <th>Alive</th>\n",
       "      <th>Placebo</th>\n",
       "      <th></th>\n",
       "      <th></th>\n",
       "      <th></th>\n",
       "      <th></th>\n",
       "    </tr>\n",
       "  </thead>\n",
       "  <tbody>\n",
       "    <tr>\n",
       "      <th rowspan=\"2\" valign=\"top\">False</th>\n",
       "      <th>False</th>\n",
       "      <td>14.460490</td>\n",
       "      <td>0.063328</td>\n",
       "      <td>15.173510</td>\n",
       "      <td>0.096224</td>\n",
       "    </tr>\n",
       "    <tr>\n",
       "      <th>True</th>\n",
       "      <td>11.895227</td>\n",
       "      <td>0.066926</td>\n",
       "      <td>9.038013</td>\n",
       "      <td>0.124345</td>\n",
       "    </tr>\n",
       "    <tr>\n",
       "      <th rowspan=\"2\" valign=\"top\">True</th>\n",
       "      <th>False</th>\n",
       "      <td>10.230053</td>\n",
       "      <td>0.079387</td>\n",
       "      <td>12.305695</td>\n",
       "      <td>0.113690</td>\n",
       "    </tr>\n",
       "    <tr>\n",
       "      <th>True</th>\n",
       "      <td>13.556029</td>\n",
       "      <td>0.079782</td>\n",
       "      <td>16.301852</td>\n",
       "      <td>0.078051</td>\n",
       "    </tr>\n",
       "  </tbody>\n",
       "</table>\n",
       "</div>"
      ],
      "text/plain": [
       "              Measurement 1           Measurement 2          \n",
       "                        sum       var           sum       var\n",
       "Alive Placebo                                                \n",
       "False False       14.460490  0.063328     15.173510  0.096224\n",
       "      True        11.895227  0.066926      9.038013  0.124345\n",
       "True  False       10.230053  0.079387     12.305695  0.113690\n",
       "      True        13.556029  0.079782     16.301852  0.078051"
      ]
     },
     "execution_count": 34,
     "metadata": {},
     "output_type": "execute_result"
    }
   ],
   "source": [
    "grouped2.agg([np.sum, np.var])"
   ]
  },
  {
   "cell_type": "markdown",
   "metadata": {},
   "source": [
    "`groupby()` offers many more features, available [here](http://pandas.pydata.org/pandas-docs/stable/groupby.html)."
   ]
  },
  {
   "cell_type": "code",
   "execution_count": 35,
   "metadata": {
    "tags": [
     "remove-input",
     "remove-output"
    ]
   },
   "outputs": [
    {
     "data": {
      "application/papermill.record/image/png": "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",
      "application/papermill.record/text/plain": "<Figure size 1500x1000 with 1 Axes>"
     },
     "metadata": {
      "scrapbook": {
       "mime_prefix": "application/papermill.record/",
       "name": "grouped_plot"
      }
     },
     "output_type": "display_data"
    },
    {
     "data": {
      "application/papermill.record/image/png": "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",
      "application/papermill.record/text/plain": "<Figure size 1500x1000 with 1 Axes>"
     },
     "metadata": {
      "scrapbook": {
       "mime_prefix": "application/papermill.record/",
       "name": "final_plot"
      }
     },
     "output_type": "display_data"
    },
    {
     "data": {
      "image/png": "[encoded data removed]",
      "text/plain": [
       "<Figure size 1500x1000 with 1 Axes>"
      ]
     },
     "metadata": {},
     "output_type": "display_data"
    }
   ],
   "source": [
    "import matplotlib.pyplot as plt\n",
    "from myst_nb import glue\n",
    "\n",
    "fig, ax = plt.subplots(figsize=(15, 10))\n",
    "\n",
    "boolean_groups = np.array([False, True])\n",
    "n_subjects = 100\n",
    "stop = 20 * np.pi\n",
    "group_choice = np.random.choice(boolean_groups, n_subjects)\n",
    "values = np.sin(np.linspace(start=0, stop=stop, num=n_subjects))\n",
    "df = pd.DataFrame({'group': group_choice, 'value': values})\n",
    "grouped = df.groupby(\"group\")\n",
    "grouped_plot = grouped.value.plot(ax=ax)\n",
    "\n",
    "glue(\"grouped_plot\", fig, display=False)\n",
    "\n",
    "window_size = 5\n",
    "rolling_mean = df.value.rolling(window=window_size).mean()\n",
    "final_plot = rolling_mean.plot(ax=ax, label=\"Rolling Mean\", linewidth=5)\n",
    "ax.legend(loc=\"upper left\")\n",
    "\n",
    "glue(\"final_plot\", fig, display=False)"
   ]
  },
  {
   "cell_type": "markdown",
   "metadata": {},
   "source": [
    "`````{admonition} Grouping Exercise\n",
    "* Create a dataframe with two columns, 10,000 entries in length. The first should be a random boolean column, and the second should be a sine wave from 0 to 20$\\pi$. This simulates measuring a parameter from two distinct groups.\n",
    "\n",
    "````{dropdown} Solution\n",
    "```python\n",
    "boolean_groups = np.array([False, True])\n",
    "n_subjects = 100\n",
    "stop = 20 * np.pi\n",
    "group_choice = np.random.choice(boolean_groups, n_subjects)\n",
    "values = np.sin(np.linspace(start=0, stop=stop, num=n_subjects))\n",
    "df = pd.DataFrame({'group': group_choice, 'value': values})\n",
    "```\n",
    "````\n",
    "\n",
    "* Group the dataframe by your boolean column, creating a `GroupBy` object.\n",
    "\n",
    "````{dropdown} Solution\n",
    "```python\n",
    "grouped = df.groupby(\"group\")\n",
    "```\n",
    "````\n",
    "\n",
    "* Plot the values of the grouped dataframe.\n",
    "\n",
    "````{dropdown} Solution\n",
    "```python\n",
    "import matplotlib.pyplot as plt\n",
    "\n",
    "fig, ax = plt.subplots(figsize=(15, 10))\n",
    "grouped_plot = grouped.value.plot(ax=ax)\n",
    "```\n",
    "```{glue:figure} grouped_plot\n",
    "    :figwidth: 500px\n",
    "```\n",
    "````\n",
    "\n",
    "* Use the [`rolling()`](https://pandas.pydata.org/docs/reference/api/pandas.DataFrame.rolling.html) method to create a rolling average window of length 5 and overlay the result.\n",
    "\n",
    "````{dropdown} Solution\n",
    "```python\n",
    "window_size = 5\n",
    "rolling_mean = df.value.rolling(window=window_size).mean()\n",
    "rolling_mean.plot(ax=ax, label=\"Rolling Mean\", linewidth=5)\n",
    "ax.legend(loc=\"upper left\")\n",
    "```\n",
    "```{glue:figure} final_plot\n",
    "    :figwidth: 500px\n",
    "```\n",
    "````\n",
    "`````"
   ]
  },
  {
   "cell_type": "markdown",
   "metadata": {},
   "source": [
    "### Other Pandas Features"
   ]
  },
  {
   "cell_type": "markdown",
   "metadata": {},
   "source": [
    "Pandas has a __TON__ of features and small implementation details that are there to make your life simpler. Features like `IntervalIndex` to index the data between two numbers instead of having a single label, for example, are very nice and ergonomic if you need them. Sparse DataFrames are also included, as well as many other computational tools, serialization capabilities, and more. If you need it - there's a good chance it already exists as a method in the pandas jungle."
   ]
  }
 ],
 "metadata": {
  "anaconda-cloud": {},
  "celltoolbar": "Tags",
  "kernelspec": {
   "display_name": "venv",
   "language": "python",
   "name": "python3"
  },
  "language_info": {
   "codemirror_mode": {
    "name": "ipython",
    "version": 3
   },
   "file_extension": ".py",
   "mimetype": "text/x-python",
   "name": "python",
   "nbconvert_exporter": "python",
   "pygments_lexer": "ipython3",
   "version": "3.11.8"
  }
 },
 "nbformat": 4,
 "nbformat_minor": 2
}
